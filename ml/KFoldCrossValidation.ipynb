{
  "cells": [
    {
      "cell_type": "markdown",
      "metadata": {
        "id": "view-in-github",
        "colab_type": "text"
      },
      "source": [
        "<a href=\"https://colab.research.google.com/github/Venkatpandey/DataScience_ML/blob/main/ml/KFoldCrossValidation.ipynb\" target=\"_parent\"><img src=\"https://colab.research.google.com/assets/colab-badge.svg\" alt=\"Open In Colab\"/></a>"
      ]
    },
    {
      "cell_type": "markdown",
      "metadata": {
        "id": "cpo-5Z9uvCjo"
      },
      "source": [
        "# K-Fold Cross Validation"
      ]
    },
    {
      "cell_type": "raw",
      "metadata": {
        "id": "M9Nq5PVdvCjr"
      },
      "source": [
        "Let's revisit the Iris data set:"
      ]
    },
    {
      "cell_type": "code",
      "execution_count": 1,
      "metadata": {
        "id": "WVxUxdJhvCjs"
      },
      "outputs": [],
      "source": [
        "import numpy as np\n",
        "from sklearn.model_selection import cross_val_score, train_test_split\n",
        "from sklearn import datasets\n",
        "from sklearn import svm\n",
        "\n",
        "iris = datasets.load_iris()\n"
      ]
    },
    {
      "cell_type": "markdown",
      "metadata": {
        "id": "xcd8sl4-vCjt"
      },
      "source": [
        "A single train/test split is made easy with the train_test_split function in the cross_validation library:"
      ]
    },
    {
      "cell_type": "code",
      "execution_count": 2,
      "metadata": {
        "colab": {
          "base_uri": "https://localhost:8080/"
        },
        "id": "dD1iZZ0tvCjt",
        "outputId": "d4365935-ec34-432d-973f-bd9bde5df198"
      },
      "outputs": [
        {
          "output_type": "execute_result",
          "data": {
            "text/plain": [
              "0.9666666666666667"
            ]
          },
          "metadata": {},
          "execution_count": 2
        }
      ],
      "source": [
        "# Split the iris data into train/test data sets with 40% reserved for testing\n",
        "X_train, X_test, y_train, y_test = train_test_split(iris.data, iris.target, test_size=0.4, random_state=0)\n",
        "\n",
        "# Build an SVC model for predicting iris classifications using training data\n",
        "clf = svm.SVC(kernel='linear', C=1).fit(X_train, y_train)\n",
        "\n",
        "# Now measure its performance with the test data\n",
        "clf.score(X_test, y_test)   "
      ]
    },
    {
      "cell_type": "markdown",
      "metadata": {
        "id": "TNOYY3OfvCjv"
      },
      "source": [
        "K-Fold cross validation is just as easy; let's use a K of 5:"
      ]
    },
    {
      "cell_type": "code",
      "execution_count": 3,
      "metadata": {
        "colab": {
          "base_uri": "https://localhost:8080/"
        },
        "id": "kaXY6blrvCjv",
        "outputId": "1e0e537d-0166-4c5e-8d6b-4befdcd0a3a2"
      },
      "outputs": [
        {
          "output_type": "stream",
          "name": "stdout",
          "text": [
            "[0.96666667 1.         0.96666667 0.96666667 1.        ]\n",
            "0.9800000000000001\n"
          ]
        }
      ],
      "source": [
        "# We give cross_val_score a model, the entire data set and its \"real\" values, and the number of folds:\n",
        "scores = cross_val_score(clf, iris.data, iris.target, cv=5)\n",
        "\n",
        "# Print the accuracy for each fold:\n",
        "print(scores)\n",
        "\n",
        "# And the mean accuracy of all 5 folds:\n",
        "print(scores.mean())"
      ]
    },
    {
      "cell_type": "markdown",
      "metadata": {
        "id": "W6hzCU0gvCjw"
      },
      "source": [
        "Our model is even better than we thought! Can we do better? Let's try a different kernel (poly):"
      ]
    },
    {
      "cell_type": "code",
      "execution_count": 4,
      "metadata": {
        "colab": {
          "base_uri": "https://localhost:8080/"
        },
        "id": "UaynKELivCjx",
        "outputId": "7c4f498e-52d0-4531-ffca-a9e0ee2a9173"
      },
      "outputs": [
        {
          "output_type": "stream",
          "name": "stdout",
          "text": [
            "[0.96666667 1.         0.96666667 0.96666667 1.        ]\n",
            "0.9800000000000001\n"
          ]
        }
      ],
      "source": [
        "clf = svm.SVC(kernel='poly', C=1)\n",
        "scores = cross_val_score(clf, iris.data, iris.target, cv=5)\n",
        "print(scores)\n",
        "print(scores.mean())"
      ]
    },
    {
      "cell_type": "markdown",
      "metadata": {
        "id": "rQ-znYA6vCjy"
      },
      "source": [
        "No! The more complex polynomial kernel produced lower accuracy than a simple linear kernel. The polynomial kernel is overfitting. But we couldn't have told that with a single train/test split:"
      ]
    },
    {
      "cell_type": "code",
      "execution_count": 5,
      "metadata": {
        "colab": {
          "base_uri": "https://localhost:8080/"
        },
        "id": "RBSdMGLmvCjy",
        "outputId": "782f8df6-c1dc-4493-8d93-47756bf65c8a"
      },
      "outputs": [
        {
          "output_type": "execute_result",
          "data": {
            "text/plain": [
              "0.9"
            ]
          },
          "metadata": {},
          "execution_count": 5
        }
      ],
      "source": [
        "# Build an SVC model for predicting iris classifications using training data\n",
        "clf = svm.SVC(kernel='poly', C=1).fit(X_train, y_train)\n",
        "\n",
        "# Now measure its performance with the test data\n",
        "clf.score(X_test, y_test)   "
      ]
    },
    {
      "cell_type": "markdown",
      "metadata": {
        "id": "9fYzDapcvCjz"
      },
      "source": [
        "That's the same score we got with a single train/test split on the linear kernel."
      ]
    },
    {
      "cell_type": "markdown",
      "metadata": {
        "id": "qKUdXfA4vCjz"
      },
      "source": [
        "## Activity"
      ]
    },
    {
      "cell_type": "markdown",
      "metadata": {
        "id": "Mo9sodZBvCjz"
      },
      "source": [
        "The \"poly\" kernel for SVC actually has another attribute for the number of degrees of the polynomial used, which defaults to 3. For example, svm.SVC(kernel='poly', degree=3, C=1)\n",
        "\n",
        "We think the default third-degree polynomial is overfitting, based on the results above. But how about 2? Give that a try and compare it to the linear kernel."
      ]
    },
    {
      "cell_type": "code",
      "execution_count": 8,
      "metadata": {
        "colab": {
          "base_uri": "https://localhost:8080/"
        },
        "id": "ScWssnSkvCj0",
        "outputId": "0219a796-50da-4725-b9ee-fea5c639e14b"
      },
      "outputs": [
        {
          "output_type": "execute_result",
          "data": {
            "text/plain": [
              "0.95"
            ]
          },
          "metadata": {},
          "execution_count": 8
        }
      ],
      "source": [
        "clf2 = svm.SVC(kernel='poly', degree=2, C=1).fit(X_train, y_train)\n",
        "\n",
        "# Now measure its performance with the test data\n",
        "clf2.score(X_test, y_test)   "
      ]
    },
    {
      "cell_type": "code",
      "source": [
        "scores2 = cross_val_score(clf2, iris.data, iris.target, cv=5)\n",
        "print(scores2)\n",
        "print(scores2.mean())"
      ],
      "metadata": {
        "colab": {
          "base_uri": "https://localhost:8080/"
        },
        "id": "1D4fGnUWv7wK",
        "outputId": "49b05940-0274-406b-c151-dc36e804c99a"
      },
      "execution_count": 10,
      "outputs": [
        {
          "output_type": "stream",
          "name": "stdout",
          "text": [
            "[0.96666667 1.         1.         0.96666667 1.        ]\n",
            "0.9866666666666667\n"
          ]
        }
      ]
    },
    {
      "cell_type": "code",
      "source": [
        "clf3 = svm.SVC(kernel='linear', C=2).fit(X_train, y_train)\n",
        "\n",
        "# Now measure its performance with the test data\n",
        "clf3.score(X_test, y_test)   "
      ],
      "metadata": {
        "colab": {
          "base_uri": "https://localhost:8080/"
        },
        "id": "7hbKyNn9vdPC",
        "outputId": "0fea337d-f1b2-4cba-ffd5-f8f7d273faca"
      },
      "execution_count": 14,
      "outputs": [
        {
          "output_type": "execute_result",
          "data": {
            "text/plain": [
              "0.9"
            ]
          },
          "metadata": {},
          "execution_count": 14
        }
      ]
    },
    {
      "cell_type": "code",
      "source": [
        "scores3 = cross_val_score(clf3, iris.data, iris.target, cv=5)\n",
        "print(scores3)\n",
        "print(scores3.mean())"
      ],
      "metadata": {
        "colab": {
          "base_uri": "https://localhost:8080/"
        },
        "id": "1PekxF2CwBVM",
        "outputId": "7918dd1d-f9cd-4466-f2f9-abb256da9b93"
      },
      "execution_count": 11,
      "outputs": [
        {
          "output_type": "stream",
          "name": "stdout",
          "text": [
            "[0.96666667 1.         0.96666667 0.96666667 1.        ]\n",
            "0.9800000000000001\n"
          ]
        }
      ]
    }
  ],
  "metadata": {
    "kernelspec": {
      "display_name": "Python 3",
      "language": "python",
      "name": "python3"
    },
    "language_info": {
      "codemirror_mode": {
        "name": "ipython",
        "version": 3
      },
      "file_extension": ".py",
      "mimetype": "text/x-python",
      "name": "python",
      "nbconvert_exporter": "python",
      "pygments_lexer": "ipython3",
      "version": "3.7.3"
    },
    "colab": {
      "name": "KFoldCrossValidation.ipynb",
      "provenance": [],
      "include_colab_link": true
    }
  },
  "nbformat": 4,
  "nbformat_minor": 0
}