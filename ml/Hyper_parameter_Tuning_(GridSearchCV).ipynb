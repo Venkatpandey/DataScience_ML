{
  "cells": [
    {
      "cell_type": "markdown",
      "metadata": {
        "colab_type": "text",
        "id": "view-in-github"
      },
      "source": [
        "<a href=\"https://colab.research.google.com/github/Venkatpandey/DataScience_ML/blob/main/ml/Hyper_parameter_Tuning_(GridSearchCV).ipynb\" target=\"_parent\"><img src=\"https://colab.research.google.com/assets/colab-badge.svg\" alt=\"Open In Colab\"/></a>"
      ]
    },
    {
      "cell_type": "code",
      "execution_count": 6,
      "metadata": {
        "id": "WBInPU0AEL9d"
      },
      "outputs": [],
      "source": [
        "from sklearn import svm\n",
        "from sklearn.ensemble import RandomForestClassifier\n",
        "from sklearn.linear_model import LogisticRegression\n",
        "from sklearn.naive_bayes import GaussianNB, MultinomialNB\n",
        "from sklearn.tree import DecisionTreeClassifier\n",
        "from sklearn.model_selection import train_test_split\n",
        "\n",
        "import pandas as pd"
      ]
    },
    {
      "cell_type": "code",
      "execution_count": 2,
      "metadata": {
        "colab": {
          "base_uri": "https://localhost:8080/"
        },
        "id": "tLg2C9PME5-e",
        "outputId": "efe8d8c3-b7a2-4755-cb28-f72e1b07fef3"
      },
      "outputs": [
        {
          "data": {
            "text/plain": [
              "['DESCR', 'data', 'feature_names', 'frame', 'images', 'target', 'target_names']"
            ]
          },
          "execution_count": 2,
          "metadata": {},
          "output_type": "execute_result"
        }
      ],
      "source": [
        "from sklearn.datasets import load_digits\n",
        "digits = load_digits()\n",
        "dir(digits)"
      ]
    },
    {
      "cell_type": "code",
      "execution_count": 12,
      "metadata": {
        "colab": {
          "base_uri": "https://localhost:8080/"
        },
        "id": "5nptTQTlGAg0",
        "outputId": "1e7a0f15-6818-4580-bed1-f48cf157b9b5"
      },
      "outputs": [
        {
          "name": "stdout",
          "output_type": "stream",
          "text": [
            "[0 1 2 3 4 5 6 7 8 9]\n"
          ]
        }
      ],
      "source": [
        "print(digits.target_names)"
      ]
    },
    {
      "cell_type": "code",
      "execution_count": 14,
      "metadata": {
        "colab": {
          "base_uri": "https://localhost:8080/"
        },
        "id": "sH2jOvjVGhP5",
        "outputId": "5429e309-0ec0-4092-c845-56dd097cdbca"
      },
      "outputs": [
        {
          "name": "stdout",
          "output_type": "stream",
          "text": [
            "115008\n"
          ]
        }
      ],
      "source": [
        "print(digits.data.size)"
      ]
    },
    {
      "cell_type": "code",
      "execution_count": 5,
      "metadata": {
        "colab": {
          "base_uri": "https://localhost:8080/",
          "height": 270
        },
        "id": "xaqTTNVRFJU_",
        "outputId": "93f768f5-febe-4ba9-816e-065871058757"
      },
      "outputs": [
        {
          "data": {
            "text/html": [
              "\n",
              "  <div id=\"df-de2632a4-7591-4eea-9427-9b5291c8b5a1\">\n",
              "    <div class=\"colab-df-container\">\n",
              "      <div>\n",
              "<style scoped>\n",
              "    .dataframe tbody tr th:only-of-type {\n",
              "        vertical-align: middle;\n",
              "    }\n",
              "\n",
              "    .dataframe tbody tr th {\n",
              "        vertical-align: top;\n",
              "    }\n",
              "\n",
              "    .dataframe thead th {\n",
              "        text-align: right;\n",
              "    }\n",
              "</style>\n",
              "<table border=\"1\" class=\"dataframe\">\n",
              "  <thead>\n",
              "    <tr style=\"text-align: right;\">\n",
              "      <th></th>\n",
              "      <th>pixel_0_0</th>\n",
              "      <th>pixel_0_1</th>\n",
              "      <th>pixel_0_2</th>\n",
              "      <th>pixel_0_3</th>\n",
              "      <th>pixel_0_4</th>\n",
              "      <th>pixel_0_5</th>\n",
              "      <th>pixel_0_6</th>\n",
              "      <th>pixel_0_7</th>\n",
              "      <th>pixel_1_0</th>\n",
              "      <th>pixel_1_1</th>\n",
              "      <th>pixel_1_2</th>\n",
              "      <th>pixel_1_3</th>\n",
              "      <th>pixel_1_4</th>\n",
              "      <th>pixel_1_5</th>\n",
              "      <th>pixel_1_6</th>\n",
              "      <th>pixel_1_7</th>\n",
              "      <th>pixel_2_0</th>\n",
              "      <th>pixel_2_1</th>\n",
              "      <th>pixel_2_2</th>\n",
              "      <th>pixel_2_3</th>\n",
              "      <th>pixel_2_4</th>\n",
              "      <th>pixel_2_5</th>\n",
              "      <th>pixel_2_6</th>\n",
              "      <th>pixel_2_7</th>\n",
              "      <th>pixel_3_0</th>\n",
              "      <th>pixel_3_1</th>\n",
              "      <th>pixel_3_2</th>\n",
              "      <th>pixel_3_3</th>\n",
              "      <th>pixel_3_4</th>\n",
              "      <th>pixel_3_5</th>\n",
              "      <th>pixel_3_6</th>\n",
              "      <th>pixel_3_7</th>\n",
              "      <th>pixel_4_0</th>\n",
              "      <th>pixel_4_1</th>\n",
              "      <th>pixel_4_2</th>\n",
              "      <th>pixel_4_3</th>\n",
              "      <th>pixel_4_4</th>\n",
              "      <th>pixel_4_5</th>\n",
              "      <th>pixel_4_6</th>\n",
              "      <th>pixel_4_7</th>\n",
              "      <th>pixel_5_0</th>\n",
              "      <th>pixel_5_1</th>\n",
              "      <th>pixel_5_2</th>\n",
              "      <th>pixel_5_3</th>\n",
              "      <th>pixel_5_4</th>\n",
              "      <th>pixel_5_5</th>\n",
              "      <th>pixel_5_6</th>\n",
              "      <th>pixel_5_7</th>\n",
              "      <th>pixel_6_0</th>\n",
              "      <th>pixel_6_1</th>\n",
              "      <th>pixel_6_2</th>\n",
              "      <th>pixel_6_3</th>\n",
              "      <th>pixel_6_4</th>\n",
              "      <th>pixel_6_5</th>\n",
              "      <th>pixel_6_6</th>\n",
              "      <th>pixel_6_7</th>\n",
              "      <th>pixel_7_0</th>\n",
              "      <th>pixel_7_1</th>\n",
              "      <th>pixel_7_2</th>\n",
              "      <th>pixel_7_3</th>\n",
              "      <th>pixel_7_4</th>\n",
              "      <th>pixel_7_5</th>\n",
              "      <th>pixel_7_6</th>\n",
              "      <th>pixel_7_7</th>\n",
              "    </tr>\n",
              "  </thead>\n",
              "  <tbody>\n",
              "    <tr>\n",
              "      <th>0</th>\n",
              "      <td>0.0</td>\n",
              "      <td>0.0</td>\n",
              "      <td>5.0</td>\n",
              "      <td>13.0</td>\n",
              "      <td>9.0</td>\n",
              "      <td>1.0</td>\n",
              "      <td>0.0</td>\n",
              "      <td>0.0</td>\n",
              "      <td>0.0</td>\n",
              "      <td>0.0</td>\n",
              "      <td>13.0</td>\n",
              "      <td>15.0</td>\n",
              "      <td>10.0</td>\n",
              "      <td>15.0</td>\n",
              "      <td>5.0</td>\n",
              "      <td>0.0</td>\n",
              "      <td>0.0</td>\n",
              "      <td>3.0</td>\n",
              "      <td>15.0</td>\n",
              "      <td>2.0</td>\n",
              "      <td>0.0</td>\n",
              "      <td>11.0</td>\n",
              "      <td>8.0</td>\n",
              "      <td>0.0</td>\n",
              "      <td>0.0</td>\n",
              "      <td>4.0</td>\n",
              "      <td>12.0</td>\n",
              "      <td>0.0</td>\n",
              "      <td>0.0</td>\n",
              "      <td>8.0</td>\n",
              "      <td>8.0</td>\n",
              "      <td>0.0</td>\n",
              "      <td>0.0</td>\n",
              "      <td>5.0</td>\n",
              "      <td>8.0</td>\n",
              "      <td>0.0</td>\n",
              "      <td>0.0</td>\n",
              "      <td>9.0</td>\n",
              "      <td>8.0</td>\n",
              "      <td>0.0</td>\n",
              "      <td>0.0</td>\n",
              "      <td>4.0</td>\n",
              "      <td>11.0</td>\n",
              "      <td>0.0</td>\n",
              "      <td>1.0</td>\n",
              "      <td>12.0</td>\n",
              "      <td>7.0</td>\n",
              "      <td>0.0</td>\n",
              "      <td>0.0</td>\n",
              "      <td>2.0</td>\n",
              "      <td>14.0</td>\n",
              "      <td>5.0</td>\n",
              "      <td>10.0</td>\n",
              "      <td>12.0</td>\n",
              "      <td>0.0</td>\n",
              "      <td>0.0</td>\n",
              "      <td>0.0</td>\n",
              "      <td>0.0</td>\n",
              "      <td>6.0</td>\n",
              "      <td>13.0</td>\n",
              "      <td>10.0</td>\n",
              "      <td>0.0</td>\n",
              "      <td>0.0</td>\n",
              "      <td>0.0</td>\n",
              "    </tr>\n",
              "    <tr>\n",
              "      <th>1</th>\n",
              "      <td>0.0</td>\n",
              "      <td>0.0</td>\n",
              "      <td>0.0</td>\n",
              "      <td>12.0</td>\n",
              "      <td>13.0</td>\n",
              "      <td>5.0</td>\n",
              "      <td>0.0</td>\n",
              "      <td>0.0</td>\n",
              "      <td>0.0</td>\n",
              "      <td>0.0</td>\n",
              "      <td>0.0</td>\n",
              "      <td>11.0</td>\n",
              "      <td>16.0</td>\n",
              "      <td>9.0</td>\n",
              "      <td>0.0</td>\n",
              "      <td>0.0</td>\n",
              "      <td>0.0</td>\n",
              "      <td>0.0</td>\n",
              "      <td>3.0</td>\n",
              "      <td>15.0</td>\n",
              "      <td>16.0</td>\n",
              "      <td>6.0</td>\n",
              "      <td>0.0</td>\n",
              "      <td>0.0</td>\n",
              "      <td>0.0</td>\n",
              "      <td>7.0</td>\n",
              "      <td>15.0</td>\n",
              "      <td>16.0</td>\n",
              "      <td>16.0</td>\n",
              "      <td>2.0</td>\n",
              "      <td>0.0</td>\n",
              "      <td>0.0</td>\n",
              "      <td>0.0</td>\n",
              "      <td>0.0</td>\n",
              "      <td>1.0</td>\n",
              "      <td>16.0</td>\n",
              "      <td>16.0</td>\n",
              "      <td>3.0</td>\n",
              "      <td>0.0</td>\n",
              "      <td>0.0</td>\n",
              "      <td>0.0</td>\n",
              "      <td>0.0</td>\n",
              "      <td>1.0</td>\n",
              "      <td>16.0</td>\n",
              "      <td>16.0</td>\n",
              "      <td>6.0</td>\n",
              "      <td>0.0</td>\n",
              "      <td>0.0</td>\n",
              "      <td>0.0</td>\n",
              "      <td>0.0</td>\n",
              "      <td>1.0</td>\n",
              "      <td>16.0</td>\n",
              "      <td>16.0</td>\n",
              "      <td>6.0</td>\n",
              "      <td>0.0</td>\n",
              "      <td>0.0</td>\n",
              "      <td>0.0</td>\n",
              "      <td>0.0</td>\n",
              "      <td>0.0</td>\n",
              "      <td>11.0</td>\n",
              "      <td>16.0</td>\n",
              "      <td>10.0</td>\n",
              "      <td>0.0</td>\n",
              "      <td>0.0</td>\n",
              "    </tr>\n",
              "    <tr>\n",
              "      <th>2</th>\n",
              "      <td>0.0</td>\n",
              "      <td>0.0</td>\n",
              "      <td>0.0</td>\n",
              "      <td>4.0</td>\n",
              "      <td>15.0</td>\n",
              "      <td>12.0</td>\n",
              "      <td>0.0</td>\n",
              "      <td>0.0</td>\n",
              "      <td>0.0</td>\n",
              "      <td>0.0</td>\n",
              "      <td>3.0</td>\n",
              "      <td>16.0</td>\n",
              "      <td>15.0</td>\n",
              "      <td>14.0</td>\n",
              "      <td>0.0</td>\n",
              "      <td>0.0</td>\n",
              "      <td>0.0</td>\n",
              "      <td>0.0</td>\n",
              "      <td>8.0</td>\n",
              "      <td>13.0</td>\n",
              "      <td>8.0</td>\n",
              "      <td>16.0</td>\n",
              "      <td>0.0</td>\n",
              "      <td>0.0</td>\n",
              "      <td>0.0</td>\n",
              "      <td>0.0</td>\n",
              "      <td>1.0</td>\n",
              "      <td>6.0</td>\n",
              "      <td>15.0</td>\n",
              "      <td>11.0</td>\n",
              "      <td>0.0</td>\n",
              "      <td>0.0</td>\n",
              "      <td>0.0</td>\n",
              "      <td>1.0</td>\n",
              "      <td>8.0</td>\n",
              "      <td>13.0</td>\n",
              "      <td>15.0</td>\n",
              "      <td>1.0</td>\n",
              "      <td>0.0</td>\n",
              "      <td>0.0</td>\n",
              "      <td>0.0</td>\n",
              "      <td>9.0</td>\n",
              "      <td>16.0</td>\n",
              "      <td>16.0</td>\n",
              "      <td>5.0</td>\n",
              "      <td>0.0</td>\n",
              "      <td>0.0</td>\n",
              "      <td>0.0</td>\n",
              "      <td>0.0</td>\n",
              "      <td>3.0</td>\n",
              "      <td>13.0</td>\n",
              "      <td>16.0</td>\n",
              "      <td>16.0</td>\n",
              "      <td>11.0</td>\n",
              "      <td>5.0</td>\n",
              "      <td>0.0</td>\n",
              "      <td>0.0</td>\n",
              "      <td>0.0</td>\n",
              "      <td>0.0</td>\n",
              "      <td>3.0</td>\n",
              "      <td>11.0</td>\n",
              "      <td>16.0</td>\n",
              "      <td>9.0</td>\n",
              "      <td>0.0</td>\n",
              "    </tr>\n",
              "    <tr>\n",
              "      <th>3</th>\n",
              "      <td>0.0</td>\n",
              "      <td>0.0</td>\n",
              "      <td>7.0</td>\n",
              "      <td>15.0</td>\n",
              "      <td>13.0</td>\n",
              "      <td>1.0</td>\n",
              "      <td>0.0</td>\n",
              "      <td>0.0</td>\n",
              "      <td>0.0</td>\n",
              "      <td>8.0</td>\n",
              "      <td>13.0</td>\n",
              "      <td>6.0</td>\n",
              "      <td>15.0</td>\n",
              "      <td>4.0</td>\n",
              "      <td>0.0</td>\n",
              "      <td>0.0</td>\n",
              "      <td>0.0</td>\n",
              "      <td>2.0</td>\n",
              "      <td>1.0</td>\n",
              "      <td>13.0</td>\n",
              "      <td>13.0</td>\n",
              "      <td>0.0</td>\n",
              "      <td>0.0</td>\n",
              "      <td>0.0</td>\n",
              "      <td>0.0</td>\n",
              "      <td>0.0</td>\n",
              "      <td>2.0</td>\n",
              "      <td>15.0</td>\n",
              "      <td>11.0</td>\n",
              "      <td>1.0</td>\n",
              "      <td>0.0</td>\n",
              "      <td>0.0</td>\n",
              "      <td>0.0</td>\n",
              "      <td>0.0</td>\n",
              "      <td>0.0</td>\n",
              "      <td>1.0</td>\n",
              "      <td>12.0</td>\n",
              "      <td>12.0</td>\n",
              "      <td>1.0</td>\n",
              "      <td>0.0</td>\n",
              "      <td>0.0</td>\n",
              "      <td>0.0</td>\n",
              "      <td>0.0</td>\n",
              "      <td>0.0</td>\n",
              "      <td>1.0</td>\n",
              "      <td>10.0</td>\n",
              "      <td>8.0</td>\n",
              "      <td>0.0</td>\n",
              "      <td>0.0</td>\n",
              "      <td>0.0</td>\n",
              "      <td>8.0</td>\n",
              "      <td>4.0</td>\n",
              "      <td>5.0</td>\n",
              "      <td>14.0</td>\n",
              "      <td>9.0</td>\n",
              "      <td>0.0</td>\n",
              "      <td>0.0</td>\n",
              "      <td>0.0</td>\n",
              "      <td>7.0</td>\n",
              "      <td>13.0</td>\n",
              "      <td>13.0</td>\n",
              "      <td>9.0</td>\n",
              "      <td>0.0</td>\n",
              "      <td>0.0</td>\n",
              "    </tr>\n",
              "    <tr>\n",
              "      <th>4</th>\n",
              "      <td>0.0</td>\n",
              "      <td>0.0</td>\n",
              "      <td>0.0</td>\n",
              "      <td>1.0</td>\n",
              "      <td>11.0</td>\n",
              "      <td>0.0</td>\n",
              "      <td>0.0</td>\n",
              "      <td>0.0</td>\n",
              "      <td>0.0</td>\n",
              "      <td>0.0</td>\n",
              "      <td>0.0</td>\n",
              "      <td>7.0</td>\n",
              "      <td>8.0</td>\n",
              "      <td>0.0</td>\n",
              "      <td>0.0</td>\n",
              "      <td>0.0</td>\n",
              "      <td>0.0</td>\n",
              "      <td>0.0</td>\n",
              "      <td>1.0</td>\n",
              "      <td>13.0</td>\n",
              "      <td>6.0</td>\n",
              "      <td>2.0</td>\n",
              "      <td>2.0</td>\n",
              "      <td>0.0</td>\n",
              "      <td>0.0</td>\n",
              "      <td>0.0</td>\n",
              "      <td>7.0</td>\n",
              "      <td>15.0</td>\n",
              "      <td>0.0</td>\n",
              "      <td>9.0</td>\n",
              "      <td>8.0</td>\n",
              "      <td>0.0</td>\n",
              "      <td>0.0</td>\n",
              "      <td>5.0</td>\n",
              "      <td>16.0</td>\n",
              "      <td>10.0</td>\n",
              "      <td>0.0</td>\n",
              "      <td>16.0</td>\n",
              "      <td>6.0</td>\n",
              "      <td>0.0</td>\n",
              "      <td>0.0</td>\n",
              "      <td>4.0</td>\n",
              "      <td>15.0</td>\n",
              "      <td>16.0</td>\n",
              "      <td>13.0</td>\n",
              "      <td>16.0</td>\n",
              "      <td>1.0</td>\n",
              "      <td>0.0</td>\n",
              "      <td>0.0</td>\n",
              "      <td>0.0</td>\n",
              "      <td>0.0</td>\n",
              "      <td>3.0</td>\n",
              "      <td>15.0</td>\n",
              "      <td>10.0</td>\n",
              "      <td>0.0</td>\n",
              "      <td>0.0</td>\n",
              "      <td>0.0</td>\n",
              "      <td>0.0</td>\n",
              "      <td>0.0</td>\n",
              "      <td>2.0</td>\n",
              "      <td>16.0</td>\n",
              "      <td>4.0</td>\n",
              "      <td>0.0</td>\n",
              "      <td>0.0</td>\n",
              "    </tr>\n",
              "  </tbody>\n",
              "</table>\n",
              "</div>\n",
              "      <button class=\"colab-df-convert\" onclick=\"convertToInteractive('df-de2632a4-7591-4eea-9427-9b5291c8b5a1')\"\n",
              "              title=\"Convert this dataframe to an interactive table.\"\n",
              "              style=\"display:none;\">\n",
              "        \n",
              "  <svg xmlns=\"http://www.w3.org/2000/svg\" height=\"24px\"viewBox=\"0 0 24 24\"\n",
              "       width=\"24px\">\n",
              "    <path d=\"M0 0h24v24H0V0z\" fill=\"none\"/>\n",
              "    <path d=\"M18.56 5.44l.94 2.06.94-2.06 2.06-.94-2.06-.94-.94-2.06-.94 2.06-2.06.94zm-11 1L8.5 8.5l.94-2.06 2.06-.94-2.06-.94L8.5 2.5l-.94 2.06-2.06.94zm10 10l.94 2.06.94-2.06 2.06-.94-2.06-.94-.94-2.06-.94 2.06-2.06.94z\"/><path d=\"M17.41 7.96l-1.37-1.37c-.4-.4-.92-.59-1.43-.59-.52 0-1.04.2-1.43.59L10.3 9.45l-7.72 7.72c-.78.78-.78 2.05 0 2.83L4 21.41c.39.39.9.59 1.41.59.51 0 1.02-.2 1.41-.59l7.78-7.78 2.81-2.81c.8-.78.8-2.07 0-2.86zM5.41 20L4 18.59l7.72-7.72 1.47 1.35L5.41 20z\"/>\n",
              "  </svg>\n",
              "      </button>\n",
              "      \n",
              "  <style>\n",
              "    .colab-df-container {\n",
              "      display:flex;\n",
              "      flex-wrap:wrap;\n",
              "      gap: 12px;\n",
              "    }\n",
              "\n",
              "    .colab-df-convert {\n",
              "      background-color: #E8F0FE;\n",
              "      border: none;\n",
              "      border-radius: 50%;\n",
              "      cursor: pointer;\n",
              "      display: none;\n",
              "      fill: #1967D2;\n",
              "      height: 32px;\n",
              "      padding: 0 0 0 0;\n",
              "      width: 32px;\n",
              "    }\n",
              "\n",
              "    .colab-df-convert:hover {\n",
              "      background-color: #E2EBFA;\n",
              "      box-shadow: 0px 1px 2px rgba(60, 64, 67, 0.3), 0px 1px 3px 1px rgba(60, 64, 67, 0.15);\n",
              "      fill: #174EA6;\n",
              "    }\n",
              "\n",
              "    [theme=dark] .colab-df-convert {\n",
              "      background-color: #3B4455;\n",
              "      fill: #D2E3FC;\n",
              "    }\n",
              "\n",
              "    [theme=dark] .colab-df-convert:hover {\n",
              "      background-color: #434B5C;\n",
              "      box-shadow: 0px 1px 3px 1px rgba(0, 0, 0, 0.15);\n",
              "      filter: drop-shadow(0px 1px 2px rgba(0, 0, 0, 0.3));\n",
              "      fill: #FFFFFF;\n",
              "    }\n",
              "  </style>\n",
              "\n",
              "      <script>\n",
              "        const buttonEl =\n",
              "          document.querySelector('#df-de2632a4-7591-4eea-9427-9b5291c8b5a1 button.colab-df-convert');\n",
              "        buttonEl.style.display =\n",
              "          google.colab.kernel.accessAllowed ? 'block' : 'none';\n",
              "\n",
              "        async function convertToInteractive(key) {\n",
              "          const element = document.querySelector('#df-de2632a4-7591-4eea-9427-9b5291c8b5a1');\n",
              "          const dataTable =\n",
              "            await google.colab.kernel.invokeFunction('convertToInteractive',\n",
              "                                                     [key], {});\n",
              "          if (!dataTable) return;\n",
              "\n",
              "          const docLinkHtml = 'Like what you see? Visit the ' +\n",
              "            '<a target=\"_blank\" href=https://colab.research.google.com/notebooks/data_table.ipynb>data table notebook</a>'\n",
              "            + ' to learn more about interactive tables.';\n",
              "          element.innerHTML = '';\n",
              "          dataTable['output_type'] = 'display_data';\n",
              "          await google.colab.output.renderOutput(dataTable, element);\n",
              "          const docLink = document.createElement('div');\n",
              "          docLink.innerHTML = docLinkHtml;\n",
              "          element.appendChild(docLink);\n",
              "        }\n",
              "      </script>\n",
              "    </div>\n",
              "  </div>\n",
              "  "
            ],
            "text/plain": [
              "   pixel_0_0  pixel_0_1  pixel_0_2  ...  pixel_7_5  pixel_7_6  pixel_7_7\n",
              "0        0.0        0.0        5.0  ...        0.0        0.0        0.0\n",
              "1        0.0        0.0        0.0  ...       10.0        0.0        0.0\n",
              "2        0.0        0.0        0.0  ...       16.0        9.0        0.0\n",
              "3        0.0        0.0        7.0  ...        9.0        0.0        0.0\n",
              "4        0.0        0.0        0.0  ...        4.0        0.0        0.0\n",
              "\n",
              "[5 rows x 64 columns]"
            ]
          },
          "execution_count": 5,
          "metadata": {},
          "output_type": "execute_result"
        }
      ],
      "source": [
        "df = pd.DataFrame(digits.data, columns = digits.feature_names)\n",
        "df.head()"
      ]
    },
    {
      "cell_type": "code",
      "execution_count": 15,
      "metadata": {
        "colab": {
          "base_uri": "https://localhost:8080/"
        },
        "id": "aRzMBB-fFoMt",
        "outputId": "8b558998-1f9e-4a02-ab09-6ac592a47252"
      },
      "outputs": [
        {
          "name": "stdout",
          "output_type": "stream",
          "text": [
            "91968\n"
          ]
        }
      ],
      "source": [
        "X_train, X_test, y_train, y_test = train_test_split(digits.data, digits.target, test_size=0.2)\n",
        "print(X_train.size)"
      ]
    },
    {
      "cell_type": "code",
      "execution_count": 16,
      "metadata": {
        "colab": {
          "base_uri": "https://localhost:8080/"
        },
        "id": "ljpHAiSCG626",
        "outputId": "b22068e9-f532-4d31-a470-d6c7892809c4"
      },
      "outputs": [
        {
          "data": {
            "text/plain": [
              "0.5444444444444444"
            ]
          },
          "execution_count": 16,
          "metadata": {},
          "output_type": "execute_result"
        }
      ],
      "source": [
        "svc_model = svm.SVC(kernel='rbf', C=30, gamma='auto')\n",
        "svc_model.fit(X_train, y_train)\n",
        "svc_model.score(X_test, y_test)"
      ]
    },
    {
      "cell_type": "code",
      "execution_count": 17,
      "metadata": {
        "id": "Sfnjo9M9HWZO"
      },
      "outputs": [],
      "source": [
        "from sklearn.model_selection import cross_val_score\n"
      ]
    },
    {
      "cell_type": "code",
      "execution_count": 18,
      "metadata": {
        "colab": {
          "base_uri": "https://localhost:8080/"
        },
        "id": "5OcnMOMEHjt5",
        "outputId": "81817a74-eb7b-4e22-83bb-ec82fda23e8a"
      },
      "outputs": [
        {
          "data": {
            "text/plain": [
              "array([0.45277778, 0.46944444, 0.47910864, 0.47910864, 0.50139276])"
            ]
          },
          "execution_count": 18,
          "metadata": {},
          "output_type": "execute_result"
        }
      ],
      "source": [
        "cross_val_score(svm.SVC(kernel='rbf', C=30, gamma='auto'), digits.data, digits.target, cv=5)"
      ]
    },
    {
      "cell_type": "code",
      "execution_count": 19,
      "metadata": {
        "colab": {
          "base_uri": "https://localhost:8080/"
        },
        "id": "JhOfIjkkH0Xb",
        "outputId": "9bde2e3f-872b-4242-9ba7-e16dd42a3636"
      },
      "outputs": [
        {
          "data": {
            "text/plain": [
              "array([0.45277778, 0.46944444, 0.47910864, 0.47910864, 0.50139276])"
            ]
          },
          "execution_count": 19,
          "metadata": {},
          "output_type": "execute_result"
        }
      ],
      "source": [
        "cross_val_score(svm.SVC(kernel='rbf', C=10, gamma='auto'), digits.data, digits.target, cv=5)"
      ]
    },
    {
      "cell_type": "code",
      "execution_count": 20,
      "metadata": {
        "colab": {
          "base_uri": "https://localhost:8080/"
        },
        "id": "leRuvZxaH0ey",
        "outputId": "9c42f364-0918-4063-be80-fdc113aa31a4"
      },
      "outputs": [
        {
          "data": {
            "text/plain": [
              "array([0.96388889, 0.91944444, 0.96657382, 0.9637883 , 0.92479109])"
            ]
          },
          "execution_count": 20,
          "metadata": {},
          "output_type": "execute_result"
        }
      ],
      "source": [
        "cross_val_score(svm.SVC(kernel='linear', C=20, gamma='auto'), digits.data, digits.target, cv=5)"
      ]
    },
    {
      "cell_type": "code",
      "execution_count": 22,
      "metadata": {
        "colab": {
          "base_uri": "https://localhost:8080/"
        },
        "id": "P7LzlvaAH7zl",
        "outputId": "bf97a917-26f7-423b-db8a-3b91f58ef48a"
      },
      "outputs": [
        {
          "name": "stdout",
          "output_type": "stream",
          "text": [
            "{'rbf_1': 0.448545341999381, 'rbf_10': 0.47636645001547506, 'rbf_15': 0.47636645001547506, 'rbf_20': 0.47636645001547506, 'rbf_25': 0.47636645001547506, 'rbf_30': 0.47636645001547506, 'linear_1': 0.9476973073351903, 'linear_10': 0.9476973073351903, 'linear_15': 0.9476973073351903, 'linear_20': 0.9476973073351903, 'linear_25': 0.9476973073351903, 'linear_30': 0.9476973073351903}\n"
          ]
        }
      ],
      "source": [
        "# using for loop for multiple params\n",
        "import numpy as np\n",
        "kernel = ['rbf', 'linear']\n",
        "C = [1,10,15,20,25,30]\n",
        "avg_score = {}\n",
        "for k in kernel:\n",
        "  for cv in C:\n",
        "    cv_score = cross_val_score(svm.SVC(kernel=k, C=cv, gamma='auto'), digits.data, digits.target, cv=5)\n",
        "    avg_score[k + '_' + str(cv)] = np.average(cv_score)\n",
        "print(avg_score)"
      ]
    },
    {
      "cell_type": "code",
      "execution_count": 23,
      "metadata": {
        "colab": {
          "base_uri": "https://localhost:8080/"
        },
        "id": "jOiscP1zJpOq",
        "outputId": "561cccbb-3478-4824-cc63-09add12ead9b"
      },
      "outputs": [
        {
          "data": {
            "text/plain": [
              "{'mean_fit_time': array([0.36505866, 0.02591152, 0.28338547, 0.02618837, 0.27820978,\n",
              "        0.02619467, 0.28497114, 0.02740097, 0.28321948, 0.02646513,\n",
              "        0.28334894, 0.02644825]),\n",
              " 'mean_score_time': array([0.11297073, 0.00640664, 0.06345911, 0.00638433, 0.06588612,\n",
              "        0.00663767, 0.06365089, 0.00673695, 0.06265321, 0.00690265,\n",
              "        0.06329412, 0.00634217]),\n",
              " 'mean_test_score': array([0.44854534, 0.94769731, 0.47636645, 0.94769731, 0.47636645,\n",
              "        0.94769731, 0.47636645, 0.94769731, 0.47636645, 0.94769731,\n",
              "        0.47636645, 0.94769731]),\n",
              " 'param_C': masked_array(data=[1, 1, 10, 10, 15, 15, 20, 20, 25, 25, 30, 30],\n",
              "              mask=[False, False, False, False, False, False, False, False,\n",
              "                    False, False, False, False],\n",
              "        fill_value='?',\n",
              "             dtype=object),\n",
              " 'param_kernel': masked_array(data=['rbf', 'linear', 'rbf', 'linear', 'rbf', 'linear',\n",
              "                    'rbf', 'linear', 'rbf', 'linear', 'rbf', 'linear'],\n",
              "              mask=[False, False, False, False, False, False, False, False,\n",
              "                    False, False, False, False],\n",
              "        fill_value='?',\n",
              "             dtype=object),\n",
              " 'params': [{'C': 1, 'kernel': 'rbf'},\n",
              "  {'C': 1, 'kernel': 'linear'},\n",
              "  {'C': 10, 'kernel': 'rbf'},\n",
              "  {'C': 10, 'kernel': 'linear'},\n",
              "  {'C': 15, 'kernel': 'rbf'},\n",
              "  {'C': 15, 'kernel': 'linear'},\n",
              "  {'C': 20, 'kernel': 'rbf'},\n",
              "  {'C': 20, 'kernel': 'linear'},\n",
              "  {'C': 25, 'kernel': 'rbf'},\n",
              "  {'C': 25, 'kernel': 'linear'},\n",
              "  {'C': 30, 'kernel': 'rbf'},\n",
              "  {'C': 30, 'kernel': 'linear'}],\n",
              " 'rank_test_score': array([12,  1,  7,  1,  7,  1,  7,  1,  7,  1,  7,  1], dtype=int32),\n",
              " 'split0_test_score': array([0.41111111, 0.96388889, 0.45277778, 0.96388889, 0.45277778,\n",
              "        0.96388889, 0.45277778, 0.96388889, 0.45277778, 0.96388889,\n",
              "        0.45277778, 0.96388889]),\n",
              " 'split1_test_score': array([0.45      , 0.91944444, 0.46944444, 0.91944444, 0.46944444,\n",
              "        0.91944444, 0.46944444, 0.91944444, 0.46944444, 0.91944444,\n",
              "        0.46944444, 0.91944444]),\n",
              " 'split2_test_score': array([0.454039  , 0.96657382, 0.47910864, 0.96657382, 0.47910864,\n",
              "        0.96657382, 0.47910864, 0.96657382, 0.47910864, 0.96657382,\n",
              "        0.47910864, 0.96657382]),\n",
              " 'split3_test_score': array([0.44846797, 0.9637883 , 0.47910864, 0.9637883 , 0.47910864,\n",
              "        0.9637883 , 0.47910864, 0.9637883 , 0.47910864, 0.9637883 ,\n",
              "        0.47910864, 0.9637883 ]),\n",
              " 'split4_test_score': array([0.47910864, 0.92479109, 0.50139276, 0.92479109, 0.50139276,\n",
              "        0.92479109, 0.50139276, 0.92479109, 0.50139276, 0.92479109,\n",
              "        0.50139276, 0.92479109]),\n",
              " 'std_fit_time': array([0.13155018, 0.00124057, 0.00479484, 0.00170339, 0.00145047,\n",
              "        0.00041093, 0.00421135, 0.00352057, 0.01017242, 0.00198622,\n",
              "        0.00497286, 0.00166175]),\n",
              " 'std_score_time': array([0.11123484, 0.00013493, 0.00200267, 0.00011362, 0.00417668,\n",
              "        0.00060214, 0.00056527, 0.00075751, 0.00031402, 0.00094162,\n",
              "        0.00125568, 0.00016462]),\n",
              " 'std_test_score': array([0.02176115, 0.02097775, 0.01578414, 0.02097775, 0.01578414,\n",
              "        0.02097775, 0.01578414, 0.02097775, 0.01578414, 0.02097775,\n",
              "        0.01578414, 0.02097775])}"
            ]
          },
          "execution_count": 23,
          "metadata": {},
          "output_type": "execute_result"
        }
      ],
      "source": [
        "# Using GridSearchCV\n",
        "from sklearn.model_selection import GridSearchCV\n",
        "clf = GridSearchCV(svm.SVC(gamma='auto'), {\n",
        "    'C' : [1,10,15,20,25,30],\n",
        "    'kernel' : ['rbf', 'linear']\n",
        "}, cv = 5, return_train_score=False)\n",
        "\n",
        "clf.fit(digits.data, digits.target)\n",
        "clf.cv_results_"
      ]
    },
    {
      "cell_type": "code",
      "execution_count": 26,
      "metadata": {
        "colab": {
          "base_uri": "https://localhost:8080/"
        },
        "id": "F_htEVvIKop9",
        "outputId": "b905a425-c0e0-4241-90d8-2dfd431d1b39"
      },
      "outputs": [
        {
          "name": "stdout",
          "output_type": "stream",
          "text": [
            "   param_C param_kernel  mean_test_score\n",
            "0        1          rbf         0.448545\n",
            "1        1       linear         0.947697\n",
            "2       10          rbf         0.476366\n",
            "3       10       linear         0.947697\n",
            "4       15          rbf         0.476366\n",
            "5       15       linear         0.947697\n",
            "6       20          rbf         0.476366\n",
            "7       20       linear         0.947697\n",
            "8       25          rbf         0.476366\n",
            "9       25       linear         0.947697\n",
            "10      30          rbf         0.476366\n",
            "11      30       linear         0.947697\n"
          ]
        }
      ],
      "source": [
        "cv_result = pd.DataFrame(clf.cv_results_)\n",
        "print(cv_result[['param_C', 'param_kernel', 'mean_test_score']])"
      ]
    },
    {
      "cell_type": "code",
      "execution_count": 27,
      "metadata": {
        "colab": {
          "base_uri": "https://localhost:8080/"
        },
        "id": "Onbd2ZB-K60F",
        "outputId": "3539225a-1d23-45b9-d170-54a25beb3d66"
      },
      "outputs": [
        {
          "data": {
            "text/plain": [
              "0.9476973073351903"
            ]
          },
          "execution_count": 27,
          "metadata": {},
          "output_type": "execute_result"
        }
      ],
      "source": [
        "clf.best_score_"
      ]
    },
    {
      "cell_type": "code",
      "execution_count": 28,
      "metadata": {
        "colab": {
          "base_uri": "https://localhost:8080/"
        },
        "id": "zzebKFLXLk2C",
        "outputId": "9cf3443f-fea7-4cee-be87-a24a31ad64c6"
      },
      "outputs": [
        {
          "data": {
            "text/plain": [
              "{'C': 1, 'kernel': 'linear'}"
            ]
          },
          "execution_count": 28,
          "metadata": {},
          "output_type": "execute_result"
        }
      ],
      "source": [
        "clf.best_params_"
      ]
    },
    {
      "cell_type": "code",
      "execution_count": 29,
      "metadata": {
        "id": "u8OFWQ0ILpKm"
      },
      "outputs": [],
      "source": [
        "# Randomised SerachCV\n",
        "from sklearn.model_selection import RandomizedSearchCV\n",
        "rs = RandomizedSearchCV(svm.SVC(gamma='auto'), {\n",
        "    'C' : [1,10,15,20,25,30],\n",
        "    'kernel' : ['rbf', 'linear']\n",
        "}, cv = 5, return_train_score=False, n_iter=2)"
      ]
    },
    {
      "cell_type": "code",
      "execution_count": 32,
      "metadata": {
        "colab": {
          "base_uri": "https://localhost:8080/"
        },
        "id": "HUHZAh16MUk6",
        "outputId": "b45d5079-c97c-4c48-c9bd-187e981a114f"
      },
      "outputs": [
        {
          "name": "stdout",
          "output_type": "stream",
          "text": [
            "  param_C param_kernel  mean_test_score\n",
            "0       1          rbf         0.448545\n",
            "1      25       linear         0.947697\n"
          ]
        }
      ],
      "source": [
        "rs.fit(digits.data, digits.target)\n",
        "print(pd.DataFrame(rs.cv_results_)[['param_C', 'param_kernel', 'mean_test_score']])"
      ]
    },
    {
      "cell_type": "code",
      "execution_count": 38,
      "metadata": {
        "id": "HtdZEV5UM8tb"
      },
      "outputs": [],
      "source": [
        "model_param = {\n",
        "    'svm' : {\n",
        "        'model' : svm.SVC(gamma='auto'),\n",
        "        'params' : {\n",
        "            'C' : [1,10,20,30],\n",
        "            'kernel' : ['rbf', 'linear']\n",
        "        }\n",
        "    },\n",
        "    'random_forest' : {\n",
        "      'model' : RandomForestClassifier(),\n",
        "      'params' : {\n",
        "          'n_estimators' : [1,5,10]\n",
        "      }\n",
        "    },\n",
        "    'logistic_regressions' : {\n",
        "        'model' : LogisticRegression(solver='liblinear', multi_class='auto'),\n",
        "        'params' : {\n",
        "            'C' : [1,5,10]\n",
        "        }\n",
        "    },\n",
        "    'gaussian' : {\n",
        "        'model' : GaussianNB(),\n",
        "        'params' : {\n",
        "            'var_smoothing' : [1.0, 2.5]\n",
        "        }\n",
        "    },\n",
        "    'multinomial' : {\n",
        "        'model' : MultinomialNB(),\n",
        "        'params' : {\n",
        "            'alpha' : [1.5, 2.5]\n",
        "        }\n",
        "    },\n",
        "    'decisionTree' : {\n",
        "        'model' : DecisionTreeClassifier(),\n",
        "        'params' : {\n",
        "            'criterion' : ['gini', 'entropy'],\n",
        "            'max_depth' : [10]\n",
        "\n",
        "        }\n",
        "    }\n",
        "}"
      ]
    },
    {
      "cell_type": "code",
      "execution_count": 39,
      "metadata": {
        "id": "761hqsJhQCIQ"
      },
      "outputs": [],
      "source": [
        "scores = []\n",
        "\n",
        "for mn,mp in model_param.items():\n",
        "  clf = GridSearchCV(mp['model'], mp['params'], cv=5, return_train_score=False)\n",
        "  clf.fit(digits.data, digits.target)\n",
        "  scores.append({\n",
        "      'model' : mn,\n",
        "      'best_score' : clf.best_score_,\n",
        "      'best_params' :clf.best_params_\n",
        "  })"
      ]
    },
    {
      "cell_type": "code",
      "execution_count": 41,
      "metadata": {
        "colab": {
          "base_uri": "https://localhost:8080/"
        },
        "id": "jXABs8MFSARW",
        "outputId": "f6f1e3ff-c60e-42f6-f9a6-790aeef0630d"
      },
      "outputs": [
        {
          "name": "stdout",
          "output_type": "stream",
          "text": [
            "                  model  best_score                                best_params\n",
            "0                   svm    0.947697               {'C': 1, 'kernel': 'linear'}\n",
            "1         random_forest    0.903208                       {'n_estimators': 10}\n",
            "2  logistic_regressions    0.922114                                   {'C': 1}\n",
            "3              gaussian    0.882030                     {'var_smoothing': 1.0}\n",
            "4           multinomial    0.872021                             {'alpha': 2.5}\n",
            "5          decisionTree    0.808584  {'criterion': 'entropy', 'max_depth': 10}\n"
          ]
        }
      ],
      "source": [
        "print(pd.DataFrame(scores, columns=('model', 'best_score', 'best_params')))"
      ]
    }
  ],
  "metadata": {
    "colab": {
      "authorship_tag": "ABX9TyNbjjfn0niDHEvFtIsLdVAk",
      "include_colab_link": true,
      "name": "Hyper parameter Tuning (GridSearchCV).ipynb",
      "provenance": []
    },
    "kernelspec": {
      "display_name": "Python 3",
      "name": "python3"
    },
    "language_info": {
      "name": "python",
      "version": "3.9.7"
    }
  },
  "nbformat": 4,
  "nbformat_minor": 0
}
