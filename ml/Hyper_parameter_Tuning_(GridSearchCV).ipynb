{
  "cells": [
    {
      "cell_type": "markdown",
      "metadata": {
        "colab_type": "text",
        "id": "view-in-github"
      },
      "source": [
        "<a href=\"https://colab.research.google.com/github/Venkatpandey/DataScience_ML/blob/main/ml/Hyper_parameter_Tuning_(GridSearchCV).ipynb\" target=\"_parent\"><img src=\"https://colab.research.google.com/assets/colab-badge.svg\" alt=\"Open In Colab\"/></a>"
      ]
    },
    {
      "cell_type": "code",
      "execution_count": 1,
      "metadata": {
        "id": "WBInPU0AEL9d"
      },
      "outputs": [],
      "source": [
        "from sklearn import svm\n",
        "from sklearn.ensemble import RandomForestClassifier\n",
        "from sklearn.linear_model import LogisticRegression\n",
        "from sklearn.naive_bayes import GaussianNB, MultinomialNB\n",
        "from sklearn.tree import DecisionTreeClassifier\n",
        "from sklearn.model_selection import train_test_split\n",
        "\n",
        "import pandas as pd"
      ]
    },
    {
      "cell_type": "code",
      "execution_count": 2,
      "metadata": {
        "colab": {
          "base_uri": "https://localhost:8080/"
        },
        "id": "tLg2C9PME5-e",
        "outputId": "efe8d8c3-b7a2-4755-cb28-f72e1b07fef3"
      },
      "outputs": [
        {
          "data": {
            "text/plain": [
              "['DESCR', 'data', 'feature_names', 'frame', 'images', 'target', 'target_names']"
            ]
          },
          "execution_count": 2,
          "metadata": {},
          "output_type": "execute_result"
        }
      ],
      "source": [
        "from sklearn.datasets import load_digits\n",
        "digits = load_digits()\n",
        "dir(digits)"
      ]
    },
    {
      "cell_type": "code",
      "execution_count": 3,
      "metadata": {
        "colab": {
          "base_uri": "https://localhost:8080/"
        },
        "id": "5nptTQTlGAg0",
        "outputId": "1e7a0f15-6818-4580-bed1-f48cf157b9b5"
      },
      "outputs": [
        {
          "name": "stdout",
          "output_type": "stream",
          "text": [
            "[0 1 2 3 4 5 6 7 8 9]\n"
          ]
        }
      ],
      "source": [
        "print(digits.target_names)"
      ]
    },
    {
      "cell_type": "code",
      "execution_count": 4,
      "metadata": {
        "colab": {
          "base_uri": "https://localhost:8080/"
        },
        "id": "sH2jOvjVGhP5",
        "outputId": "5429e309-0ec0-4092-c845-56dd097cdbca"
      },
      "outputs": [
        {
          "name": "stdout",
          "output_type": "stream",
          "text": [
            "115008\n"
          ]
        }
      ],
      "source": [
        "print(digits.data.size)"
      ]
    },
    {
      "cell_type": "code",
      "execution_count": 5,
      "metadata": {
        "colab": {
          "base_uri": "https://localhost:8080/",
          "height": 270
        },
        "id": "xaqTTNVRFJU_",
        "outputId": "93f768f5-febe-4ba9-816e-065871058757"
      },
      "outputs": [
        {
          "data": {
            "text/html": [
              "<div>\n",
              "<style scoped>\n",
              "    .dataframe tbody tr th:only-of-type {\n",
              "        vertical-align: middle;\n",
              "    }\n",
              "\n",
              "    .dataframe tbody tr th {\n",
              "        vertical-align: top;\n",
              "    }\n",
              "\n",
              "    .dataframe thead th {\n",
              "        text-align: right;\n",
              "    }\n",
              "</style>\n",
              "<table border=\"1\" class=\"dataframe\">\n",
              "  <thead>\n",
              "    <tr style=\"text-align: right;\">\n",
              "      <th></th>\n",
              "      <th>pixel_0_0</th>\n",
              "      <th>pixel_0_1</th>\n",
              "      <th>pixel_0_2</th>\n",
              "      <th>pixel_0_3</th>\n",
              "      <th>pixel_0_4</th>\n",
              "      <th>pixel_0_5</th>\n",
              "      <th>pixel_0_6</th>\n",
              "      <th>pixel_0_7</th>\n",
              "      <th>pixel_1_0</th>\n",
              "      <th>pixel_1_1</th>\n",
              "      <th>...</th>\n",
              "      <th>pixel_6_6</th>\n",
              "      <th>pixel_6_7</th>\n",
              "      <th>pixel_7_0</th>\n",
              "      <th>pixel_7_1</th>\n",
              "      <th>pixel_7_2</th>\n",
              "      <th>pixel_7_3</th>\n",
              "      <th>pixel_7_4</th>\n",
              "      <th>pixel_7_5</th>\n",
              "      <th>pixel_7_6</th>\n",
              "      <th>pixel_7_7</th>\n",
              "    </tr>\n",
              "  </thead>\n",
              "  <tbody>\n",
              "    <tr>\n",
              "      <th>0</th>\n",
              "      <td>0.0</td>\n",
              "      <td>0.0</td>\n",
              "      <td>5.0</td>\n",
              "      <td>13.0</td>\n",
              "      <td>9.0</td>\n",
              "      <td>1.0</td>\n",
              "      <td>0.0</td>\n",
              "      <td>0.0</td>\n",
              "      <td>0.0</td>\n",
              "      <td>0.0</td>\n",
              "      <td>...</td>\n",
              "      <td>0.0</td>\n",
              "      <td>0.0</td>\n",
              "      <td>0.0</td>\n",
              "      <td>0.0</td>\n",
              "      <td>6.0</td>\n",
              "      <td>13.0</td>\n",
              "      <td>10.0</td>\n",
              "      <td>0.0</td>\n",
              "      <td>0.0</td>\n",
              "      <td>0.0</td>\n",
              "    </tr>\n",
              "    <tr>\n",
              "      <th>1</th>\n",
              "      <td>0.0</td>\n",
              "      <td>0.0</td>\n",
              "      <td>0.0</td>\n",
              "      <td>12.0</td>\n",
              "      <td>13.0</td>\n",
              "      <td>5.0</td>\n",
              "      <td>0.0</td>\n",
              "      <td>0.0</td>\n",
              "      <td>0.0</td>\n",
              "      <td>0.0</td>\n",
              "      <td>...</td>\n",
              "      <td>0.0</td>\n",
              "      <td>0.0</td>\n",
              "      <td>0.0</td>\n",
              "      <td>0.0</td>\n",
              "      <td>0.0</td>\n",
              "      <td>11.0</td>\n",
              "      <td>16.0</td>\n",
              "      <td>10.0</td>\n",
              "      <td>0.0</td>\n",
              "      <td>0.0</td>\n",
              "    </tr>\n",
              "    <tr>\n",
              "      <th>2</th>\n",
              "      <td>0.0</td>\n",
              "      <td>0.0</td>\n",
              "      <td>0.0</td>\n",
              "      <td>4.0</td>\n",
              "      <td>15.0</td>\n",
              "      <td>12.0</td>\n",
              "      <td>0.0</td>\n",
              "      <td>0.0</td>\n",
              "      <td>0.0</td>\n",
              "      <td>0.0</td>\n",
              "      <td>...</td>\n",
              "      <td>5.0</td>\n",
              "      <td>0.0</td>\n",
              "      <td>0.0</td>\n",
              "      <td>0.0</td>\n",
              "      <td>0.0</td>\n",
              "      <td>3.0</td>\n",
              "      <td>11.0</td>\n",
              "      <td>16.0</td>\n",
              "      <td>9.0</td>\n",
              "      <td>0.0</td>\n",
              "    </tr>\n",
              "    <tr>\n",
              "      <th>3</th>\n",
              "      <td>0.0</td>\n",
              "      <td>0.0</td>\n",
              "      <td>7.0</td>\n",
              "      <td>15.0</td>\n",
              "      <td>13.0</td>\n",
              "      <td>1.0</td>\n",
              "      <td>0.0</td>\n",
              "      <td>0.0</td>\n",
              "      <td>0.0</td>\n",
              "      <td>8.0</td>\n",
              "      <td>...</td>\n",
              "      <td>9.0</td>\n",
              "      <td>0.0</td>\n",
              "      <td>0.0</td>\n",
              "      <td>0.0</td>\n",
              "      <td>7.0</td>\n",
              "      <td>13.0</td>\n",
              "      <td>13.0</td>\n",
              "      <td>9.0</td>\n",
              "      <td>0.0</td>\n",
              "      <td>0.0</td>\n",
              "    </tr>\n",
              "    <tr>\n",
              "      <th>4</th>\n",
              "      <td>0.0</td>\n",
              "      <td>0.0</td>\n",
              "      <td>0.0</td>\n",
              "      <td>1.0</td>\n",
              "      <td>11.0</td>\n",
              "      <td>0.0</td>\n",
              "      <td>0.0</td>\n",
              "      <td>0.0</td>\n",
              "      <td>0.0</td>\n",
              "      <td>0.0</td>\n",
              "      <td>...</td>\n",
              "      <td>0.0</td>\n",
              "      <td>0.0</td>\n",
              "      <td>0.0</td>\n",
              "      <td>0.0</td>\n",
              "      <td>0.0</td>\n",
              "      <td>2.0</td>\n",
              "      <td>16.0</td>\n",
              "      <td>4.0</td>\n",
              "      <td>0.0</td>\n",
              "      <td>0.0</td>\n",
              "    </tr>\n",
              "  </tbody>\n",
              "</table>\n",
              "<p>5 rows × 64 columns</p>\n",
              "</div>"
            ],
            "text/plain": [
              "   pixel_0_0  pixel_0_1  pixel_0_2  pixel_0_3  pixel_0_4  pixel_0_5  \\\n",
              "0        0.0        0.0        5.0       13.0        9.0        1.0   \n",
              "1        0.0        0.0        0.0       12.0       13.0        5.0   \n",
              "2        0.0        0.0        0.0        4.0       15.0       12.0   \n",
              "3        0.0        0.0        7.0       15.0       13.0        1.0   \n",
              "4        0.0        0.0        0.0        1.0       11.0        0.0   \n",
              "\n",
              "   pixel_0_6  pixel_0_7  pixel_1_0  pixel_1_1  ...  pixel_6_6  pixel_6_7  \\\n",
              "0        0.0        0.0        0.0        0.0  ...        0.0        0.0   \n",
              "1        0.0        0.0        0.0        0.0  ...        0.0        0.0   \n",
              "2        0.0        0.0        0.0        0.0  ...        5.0        0.0   \n",
              "3        0.0        0.0        0.0        8.0  ...        9.0        0.0   \n",
              "4        0.0        0.0        0.0        0.0  ...        0.0        0.0   \n",
              "\n",
              "   pixel_7_0  pixel_7_1  pixel_7_2  pixel_7_3  pixel_7_4  pixel_7_5  \\\n",
              "0        0.0        0.0        6.0       13.0       10.0        0.0   \n",
              "1        0.0        0.0        0.0       11.0       16.0       10.0   \n",
              "2        0.0        0.0        0.0        3.0       11.0       16.0   \n",
              "3        0.0        0.0        7.0       13.0       13.0        9.0   \n",
              "4        0.0        0.0        0.0        2.0       16.0        4.0   \n",
              "\n",
              "   pixel_7_6  pixel_7_7  \n",
              "0        0.0        0.0  \n",
              "1        0.0        0.0  \n",
              "2        9.0        0.0  \n",
              "3        0.0        0.0  \n",
              "4        0.0        0.0  \n",
              "\n",
              "[5 rows x 64 columns]"
            ]
          },
          "execution_count": 5,
          "metadata": {},
          "output_type": "execute_result"
        }
      ],
      "source": [
        "df = pd.DataFrame(digits.data, columns = digits.feature_names)\n",
        "df.head()"
      ]
    },
    {
      "cell_type": "code",
      "execution_count": 6,
      "metadata": {
        "colab": {
          "base_uri": "https://localhost:8080/"
        },
        "id": "aRzMBB-fFoMt",
        "outputId": "8b558998-1f9e-4a02-ab09-6ac592a47252"
      },
      "outputs": [
        {
          "name": "stdout",
          "output_type": "stream",
          "text": [
            "91968\n"
          ]
        }
      ],
      "source": [
        "X_train, X_test, y_train, y_test = train_test_split(digits.data, digits.target, test_size=0.2)\n",
        "print(X_train.size)"
      ]
    },
    {
      "cell_type": "code",
      "execution_count": 7,
      "metadata": {
        "colab": {
          "base_uri": "https://localhost:8080/"
        },
        "id": "ljpHAiSCG626",
        "outputId": "b22068e9-f532-4d31-a470-d6c7892809c4"
      },
      "outputs": [
        {
          "data": {
            "text/plain": [
              "0.5138888888888888"
            ]
          },
          "execution_count": 7,
          "metadata": {},
          "output_type": "execute_result"
        }
      ],
      "source": [
        "svc_model = svm.SVC(kernel='rbf', C=30, gamma='auto')\n",
        "svc_model.fit(X_train, y_train)\n",
        "svc_model.score(X_test, y_test)"
      ]
    },
    {
      "cell_type": "code",
      "execution_count": 8,
      "metadata": {
        "id": "Sfnjo9M9HWZO"
      },
      "outputs": [],
      "source": [
        "from sklearn.model_selection import cross_val_score\n"
      ]
    },
    {
      "cell_type": "code",
      "execution_count": 9,
      "metadata": {
        "colab": {
          "base_uri": "https://localhost:8080/"
        },
        "id": "5OcnMOMEHjt5",
        "outputId": "81817a74-eb7b-4e22-83bb-ec82fda23e8a"
      },
      "outputs": [
        {
          "data": {
            "text/plain": [
              "array([0.45277778, 0.46944444, 0.47910864, 0.47910864, 0.50139276])"
            ]
          },
          "execution_count": 9,
          "metadata": {},
          "output_type": "execute_result"
        }
      ],
      "source": [
        "cross_val_score(svm.SVC(kernel='rbf', C=30, gamma='auto'), digits.data, digits.target, cv=5)"
      ]
    },
    {
      "cell_type": "code",
      "execution_count": 10,
      "metadata": {
        "colab": {
          "base_uri": "https://localhost:8080/"
        },
        "id": "JhOfIjkkH0Xb",
        "outputId": "9bde2e3f-872b-4242-9ba7-e16dd42a3636"
      },
      "outputs": [
        {
          "data": {
            "text/plain": [
              "array([0.45277778, 0.46944444, 0.47910864, 0.47910864, 0.50139276])"
            ]
          },
          "execution_count": 10,
          "metadata": {},
          "output_type": "execute_result"
        }
      ],
      "source": [
        "cross_val_score(svm.SVC(kernel='rbf', C=10, gamma='auto'), digits.data, digits.target, cv=5)"
      ]
    },
    {
      "cell_type": "code",
      "execution_count": 11,
      "metadata": {
        "colab": {
          "base_uri": "https://localhost:8080/"
        },
        "id": "leRuvZxaH0ey",
        "outputId": "9c42f364-0918-4063-be80-fdc113aa31a4"
      },
      "outputs": [
        {
          "data": {
            "text/plain": [
              "array([0.96388889, 0.91944444, 0.96657382, 0.9637883 , 0.92479109])"
            ]
          },
          "execution_count": 11,
          "metadata": {},
          "output_type": "execute_result"
        }
      ],
      "source": [
        "cross_val_score(svm.SVC(kernel='linear', C=20, gamma='auto'), digits.data, digits.target, cv=5)"
      ]
    },
    {
      "cell_type": "code",
      "execution_count": 12,
      "metadata": {
        "colab": {
          "base_uri": "https://localhost:8080/"
        },
        "id": "P7LzlvaAH7zl",
        "outputId": "bf97a917-26f7-423b-db8a-3b91f58ef48a"
      },
      "outputs": [
        {
          "name": "stdout",
          "output_type": "stream",
          "text": [
            "{'rbf_1': 0.448545341999381, 'rbf_10': 0.47636645001547506, 'rbf_15': 0.47636645001547506, 'rbf_20': 0.47636645001547506, 'rbf_25': 0.47636645001547506, 'rbf_30': 0.47636645001547506, 'linear_1': 0.9476973073351903, 'linear_10': 0.9476973073351903, 'linear_15': 0.9476973073351903, 'linear_20': 0.9476973073351903, 'linear_25': 0.9476973073351903, 'linear_30': 0.9476973073351903}\n"
          ]
        }
      ],
      "source": [
        "# using for loop for multiple params\n",
        "import numpy as np\n",
        "kernel = ['rbf', 'linear']\n",
        "C = [1,10,15,20,25,30]\n",
        "avg_score = {}\n",
        "for k in kernel:\n",
        "  for cv in C:\n",
        "    cv_score = cross_val_score(svm.SVC(kernel=k, C=cv, gamma='auto'), digits.data, digits.target, cv=5)\n",
        "    avg_score[k + '_' + str(cv)] = np.average(cv_score)\n",
        "print(avg_score)"
      ]
    },
    {
      "cell_type": "code",
      "execution_count": 13,
      "metadata": {
        "colab": {
          "base_uri": "https://localhost:8080/"
        },
        "id": "jOiscP1zJpOq",
        "outputId": "561cccbb-3478-4824-cc63-09add12ead9b"
      },
      "outputs": [
        {
          "data": {
            "text/plain": [
              "{'mean_fit_time': array([0.26690397, 0.02176003, 0.27214403, 0.02209406, 0.27358966,\n",
              "        0.02047515, 0.27042265, 0.02184854, 0.27040639, 0.0205359 ,\n",
              "        0.27318821, 0.020717  ]),\n",
              " 'std_fit_time': array([0.00278707, 0.00048225, 0.00663633, 0.00092846, 0.00417603,\n",
              "        0.00075723, 0.00449801, 0.00058792, 0.0067463 , 0.00078374,\n",
              "        0.00401265, 0.00080757]),\n",
              " 'mean_score_time': array([0.07663274, 0.00604458, 0.07832985, 0.00623722, 0.08035188,\n",
              "        0.00565047, 0.08097401, 0.00603862, 0.07965736, 0.0056704 ,\n",
              "        0.08365369, 0.00576124]),\n",
              " 'std_score_time': array([2.19733219e-03, 3.06217769e-04, 2.25141702e-03, 2.39780845e-04,\n",
              "        2.44288348e-03, 9.13283708e-05, 7.97870354e-04, 2.91400661e-04,\n",
              "        2.10190417e-03, 1.56447401e-04, 3.18052455e-03, 1.67756883e-04]),\n",
              " 'param_C': masked_array(data=[1, 1, 10, 10, 15, 15, 20, 20, 25, 25, 30, 30],\n",
              "              mask=[False, False, False, False, False, False, False, False,\n",
              "                    False, False, False, False],\n",
              "        fill_value='?',\n",
              "             dtype=object),\n",
              " 'param_kernel': masked_array(data=['rbf', 'linear', 'rbf', 'linear', 'rbf', 'linear',\n",
              "                    'rbf', 'linear', 'rbf', 'linear', 'rbf', 'linear'],\n",
              "              mask=[False, False, False, False, False, False, False, False,\n",
              "                    False, False, False, False],\n",
              "        fill_value='?',\n",
              "             dtype=object),\n",
              " 'params': [{'C': 1, 'kernel': 'rbf'},\n",
              "  {'C': 1, 'kernel': 'linear'},\n",
              "  {'C': 10, 'kernel': 'rbf'},\n",
              "  {'C': 10, 'kernel': 'linear'},\n",
              "  {'C': 15, 'kernel': 'rbf'},\n",
              "  {'C': 15, 'kernel': 'linear'},\n",
              "  {'C': 20, 'kernel': 'rbf'},\n",
              "  {'C': 20, 'kernel': 'linear'},\n",
              "  {'C': 25, 'kernel': 'rbf'},\n",
              "  {'C': 25, 'kernel': 'linear'},\n",
              "  {'C': 30, 'kernel': 'rbf'},\n",
              "  {'C': 30, 'kernel': 'linear'}],\n",
              " 'split0_test_score': array([0.41111111, 0.96388889, 0.45277778, 0.96388889, 0.45277778,\n",
              "        0.96388889, 0.45277778, 0.96388889, 0.45277778, 0.96388889,\n",
              "        0.45277778, 0.96388889]),\n",
              " 'split1_test_score': array([0.45      , 0.91944444, 0.46944444, 0.91944444, 0.46944444,\n",
              "        0.91944444, 0.46944444, 0.91944444, 0.46944444, 0.91944444,\n",
              "        0.46944444, 0.91944444]),\n",
              " 'split2_test_score': array([0.454039  , 0.96657382, 0.47910864, 0.96657382, 0.47910864,\n",
              "        0.96657382, 0.47910864, 0.96657382, 0.47910864, 0.96657382,\n",
              "        0.47910864, 0.96657382]),\n",
              " 'split3_test_score': array([0.44846797, 0.9637883 , 0.47910864, 0.9637883 , 0.47910864,\n",
              "        0.9637883 , 0.47910864, 0.9637883 , 0.47910864, 0.9637883 ,\n",
              "        0.47910864, 0.9637883 ]),\n",
              " 'split4_test_score': array([0.47910864, 0.92479109, 0.50139276, 0.92479109, 0.50139276,\n",
              "        0.92479109, 0.50139276, 0.92479109, 0.50139276, 0.92479109,\n",
              "        0.50139276, 0.92479109]),\n",
              " 'mean_test_score': array([0.44854534, 0.94769731, 0.47636645, 0.94769731, 0.47636645,\n",
              "        0.94769731, 0.47636645, 0.94769731, 0.47636645, 0.94769731,\n",
              "        0.47636645, 0.94769731]),\n",
              " 'std_test_score': array([0.02176115, 0.02097775, 0.01578414, 0.02097775, 0.01578414,\n",
              "        0.02097775, 0.01578414, 0.02097775, 0.01578414, 0.02097775,\n",
              "        0.01578414, 0.02097775]),\n",
              " 'rank_test_score': array([12,  1,  7,  1,  7,  1,  7,  1,  7,  1,  7,  1], dtype=int32)}"
            ]
          },
          "execution_count": 13,
          "metadata": {},
          "output_type": "execute_result"
        }
      ],
      "source": [
        "# Using GridSearchCV\n",
        "from sklearn.model_selection import GridSearchCV\n",
        "clf = GridSearchCV(svm.SVC(gamma='auto'), {\n",
        "    'C' : [1,10,15,20,25,30],\n",
        "    'kernel' : ['rbf', 'linear']\n",
        "}, cv = 5, return_train_score=False)\n",
        "\n",
        "clf.fit(digits.data, digits.target)\n",
        "clf.cv_results_"
      ]
    },
    {
      "cell_type": "code",
      "execution_count": 14,
      "metadata": {
        "colab": {
          "base_uri": "https://localhost:8080/"
        },
        "id": "F_htEVvIKop9",
        "outputId": "b905a425-c0e0-4241-90d8-2dfd431d1b39"
      },
      "outputs": [
        {
          "name": "stdout",
          "output_type": "stream",
          "text": [
            "   param_C param_kernel  mean_test_score\n",
            "0        1          rbf         0.448545\n",
            "1        1       linear         0.947697\n",
            "2       10          rbf         0.476366\n",
            "3       10       linear         0.947697\n",
            "4       15          rbf         0.476366\n",
            "5       15       linear         0.947697\n",
            "6       20          rbf         0.476366\n",
            "7       20       linear         0.947697\n",
            "8       25          rbf         0.476366\n",
            "9       25       linear         0.947697\n",
            "10      30          rbf         0.476366\n",
            "11      30       linear         0.947697\n"
          ]
        }
      ],
      "source": [
        "cv_result = pd.DataFrame(clf.cv_results_)\n",
        "print(cv_result[['param_C', 'param_kernel', 'mean_test_score']])"
      ]
    },
    {
      "cell_type": "code",
      "execution_count": 15,
      "metadata": {
        "colab": {
          "base_uri": "https://localhost:8080/"
        },
        "id": "Onbd2ZB-K60F",
        "outputId": "3539225a-1d23-45b9-d170-54a25beb3d66"
      },
      "outputs": [
        {
          "data": {
            "text/plain": [
              "0.9476973073351903"
            ]
          },
          "execution_count": 15,
          "metadata": {},
          "output_type": "execute_result"
        }
      ],
      "source": [
        "clf.best_score_"
      ]
    },
    {
      "cell_type": "code",
      "execution_count": 16,
      "metadata": {
        "colab": {
          "base_uri": "https://localhost:8080/"
        },
        "id": "zzebKFLXLk2C",
        "outputId": "9cf3443f-fea7-4cee-be87-a24a31ad64c6"
      },
      "outputs": [
        {
          "data": {
            "text/plain": [
              "{'C': 1, 'kernel': 'linear'}"
            ]
          },
          "execution_count": 16,
          "metadata": {},
          "output_type": "execute_result"
        }
      ],
      "source": [
        "clf.best_params_"
      ]
    },
    {
      "cell_type": "code",
      "execution_count": 17,
      "metadata": {
        "id": "u8OFWQ0ILpKm"
      },
      "outputs": [],
      "source": [
        "# Randomised SerachCV\n",
        "from sklearn.model_selection import RandomizedSearchCV\n",
        "rs = RandomizedSearchCV(svm.SVC(gamma='auto'), {\n",
        "    'C' : [1,10,15,20,25,30],\n",
        "    'kernel' : ['rbf', 'linear']\n",
        "}, cv = 5, return_train_score=False, n_iter=2)"
      ]
    },
    {
      "cell_type": "code",
      "execution_count": 18,
      "metadata": {
        "colab": {
          "base_uri": "https://localhost:8080/"
        },
        "id": "HUHZAh16MUk6",
        "outputId": "b45d5079-c97c-4c48-c9bd-187e981a114f"
      },
      "outputs": [
        {
          "name": "stdout",
          "output_type": "stream",
          "text": [
            "  param_C param_kernel  mean_test_score\n",
            "0      20          rbf         0.476366\n",
            "1      30       linear         0.947697\n"
          ]
        }
      ],
      "source": [
        "rs.fit(digits.data, digits.target)\n",
        "print(pd.DataFrame(rs.cv_results_)[['param_C', 'param_kernel', 'mean_test_score']])"
      ]
    },
    {
      "cell_type": "code",
      "execution_count": 19,
      "metadata": {
        "id": "HtdZEV5UM8tb"
      },
      "outputs": [],
      "source": [
        "model_param = {\n",
        "    'svm' : {\n",
        "        'model' : svm.SVC(gamma='auto'),\n",
        "        'params' : {\n",
        "            'C' : [1,10,20,30],\n",
        "            'kernel' : ['rbf', 'linear']\n",
        "        }\n",
        "    },\n",
        "    'random_forest' : {\n",
        "      'model' : RandomForestClassifier(),\n",
        "      'params' : {\n",
        "          'n_estimators' : [1,5,10]\n",
        "      }\n",
        "    },\n",
        "    'logistic_regressions' : {\n",
        "        'model' : LogisticRegression(solver='liblinear', multi_class='auto'),\n",
        "        'params' : {\n",
        "            'C' : [1,5,10]\n",
        "        }\n",
        "    },\n",
        "    'gaussian' : {\n",
        "        'model' : GaussianNB(),\n",
        "        'params' : {\n",
        "            'var_smoothing' : [1.0, 2.5]\n",
        "        }\n",
        "    },\n",
        "    'multinomial' : {\n",
        "        'model' : MultinomialNB(),\n",
        "        'params' : {\n",
        "            'alpha' : [1.5, 2.5]\n",
        "        }\n",
        "    },\n",
        "    'decisionTree' : {\n",
        "        'model' : DecisionTreeClassifier(),\n",
        "        'params' : {\n",
        "            'criterion' : ['gini', 'entropy'],\n",
        "            'max_depth' : [10]\n",
        "\n",
        "        }\n",
        "    }\n",
        "}"
      ]
    },
    {
      "cell_type": "code",
      "execution_count": 20,
      "metadata": {
        "id": "761hqsJhQCIQ"
      },
      "outputs": [],
      "source": [
        "scores = []\n",
        "\n",
        "for mn,mp in model_param.items():\n",
        "  clf = GridSearchCV(mp['model'], mp['params'], cv=5, return_train_score=False)\n",
        "  clf.fit(digits.data, digits.target)\n",
        "  scores.append({\n",
        "      'model' : mn,\n",
        "      'best_score' : clf.best_score_,\n",
        "      'best_params' :clf.best_params_\n",
        "  })"
      ]
    },
    {
      "cell_type": "code",
      "execution_count": 21,
      "metadata": {
        "colab": {
          "base_uri": "https://localhost:8080/"
        },
        "id": "jXABs8MFSARW",
        "outputId": "f6f1e3ff-c60e-42f6-f9a6-790aeef0630d"
      },
      "outputs": [
        {
          "name": "stdout",
          "output_type": "stream",
          "text": [
            "                  model  best_score                                best_params\n",
            "0                   svm    0.947697               {'C': 1, 'kernel': 'linear'}\n",
            "1         random_forest    0.895953                       {'n_estimators': 10}\n",
            "2  logistic_regressions    0.922114                                   {'C': 1}\n",
            "3              gaussian    0.882030                     {'var_smoothing': 1.0}\n",
            "4           multinomial    0.872021                             {'alpha': 2.5}\n",
            "5          decisionTree    0.810251  {'criterion': 'entropy', 'max_depth': 10}\n"
          ]
        }
      ],
      "source": [
        "print(pd.DataFrame(scores, columns=('model', 'best_score', 'best_params')))"
      ]
    }
  ],
  "metadata": {
    "colab": {
      "authorship_tag": "ABX9TyNbjjfn0niDHEvFtIsLdVAk",
      "include_colab_link": true,
      "name": "Hyper parameter Tuning (GridSearchCV).ipynb",
      "provenance": []
    },
    "kernelspec": {
      "display_name": "Python 3",
      "name": "python3"
    },
    "language_info": {
      "codemirror_mode": {
        "name": "ipython",
        "version": 3
      },
      "file_extension": ".py",
      "mimetype": "text/x-python",
      "name": "python",
      "nbconvert_exporter": "python",
      "pygments_lexer": "ipython3",
      "version": "3.9.7"
    }
  },
  "nbformat": 4,
  "nbformat_minor": 0
}
