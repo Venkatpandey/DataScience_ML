{
  "cells": [
    {
      "cell_type": "markdown",
      "metadata": {
        "id": "view-in-github",
        "colab_type": "text"
      },
      "source": [
        "<a href=\"https://colab.research.google.com/github/Venkatpandey/DataScience_ML/blob/main/featureSelection/09.2-Basic-methods-plus-Lasso-pipeline.ipynb\" target=\"_parent\"><img src=\"https://colab.research.google.com/assets/colab-badge.svg\" alt=\"Open In Colab\"/></a>"
      ]
    },
    {
      "cell_type": "markdown",
      "metadata": {
        "id": "TadhllLg68GK"
      },
      "source": [
        "## Basic Filter Methods plus LASSO pipeline\n",
        "### Putting it all together"
      ]
    },
    {
      "cell_type": "code",
      "execution_count": 1,
      "metadata": {
        "id": "hyZtTACq68GM"
      },
      "outputs": [],
      "source": [
        "import pandas as pd\n",
        "import numpy as np\n",
        "\n",
        "import matplotlib.pyplot as plt\n",
        "\n",
        "from sklearn.model_selection import train_test_split\n",
        "from sklearn.feature_selection import VarianceThreshold\n",
        "\n",
        "from sklearn.preprocessing import StandardScaler\n",
        "from sklearn.linear_model import LogisticRegression\n",
        "\n",
        "from sklearn.feature_selection import SelectFromModel\n",
        "\n",
        "from sklearn.metrics import roc_auc_score"
      ]
    },
    {
      "cell_type": "code",
      "execution_count": 2,
      "metadata": {
        "id": "gMSd4mTk68GM",
        "outputId": "65e17d04-2c73-4004-b5b2-c4c8099038e5",
        "colab": {
          "base_uri": "https://localhost:8080/"
        }
      },
      "outputs": [
        {
          "output_type": "execute_result",
          "data": {
            "text/plain": [
              "(50000, 301)"
            ]
          },
          "metadata": {},
          "execution_count": 2
        }
      ],
      "source": [
        "# load the dataset\n",
        "\n",
        "data = pd.read_csv('https://raw.githubusercontent.com/Venkatpandey/DataScience_ML/main/dataset/dataset_1.csv')\n",
        "data.shape"
      ]
    },
    {
      "cell_type": "code",
      "execution_count": 3,
      "metadata": {
        "id": "AhjEX_Zn68GN",
        "outputId": "a8e70fa9-d851-4fb4-a8f5-a69abdc78cb8",
        "colab": {
          "base_uri": "https://localhost:8080/"
        }
      },
      "outputs": [
        {
          "output_type": "execute_result",
          "data": {
            "text/plain": [
              "((35000, 300), (15000, 300))"
            ]
          },
          "metadata": {},
          "execution_count": 3
        }
      ],
      "source": [
        "# separate dataset into train and test\n",
        "X_train, X_test, y_train, y_test = train_test_split(\n",
        "    data.drop(labels=['target'], axis=1),\n",
        "    data['target'],\n",
        "    test_size=0.3,\n",
        "    random_state=0)\n",
        "\n",
        "X_train.shape, X_test.shape"
      ]
    },
    {
      "cell_type": "code",
      "execution_count": 4,
      "metadata": {
        "id": "ftJAt3hr68GN"
      },
      "outputs": [],
      "source": [
        "# I keep a copy of the dataset with all the variables\n",
        "# to measure the performance of the machine learning models\n",
        "# at the end of the notebook\n",
        "\n",
        "X_train_original = X_train.copy()\n",
        "X_test_original = X_test.copy()"
      ]
    },
    {
      "cell_type": "markdown",
      "metadata": {
        "id": "yljpRCdU68GO"
      },
      "source": [
        "### Remove constant features"
      ]
    },
    {
      "cell_type": "code",
      "execution_count": 5,
      "metadata": {
        "id": "EkKXlsGi68GO",
        "outputId": "9263ae78-f546-4e72-af4a-c199d708779a",
        "colab": {
          "base_uri": "https://localhost:8080/"
        }
      },
      "outputs": [
        {
          "output_type": "execute_result",
          "data": {
            "text/plain": [
              "((35000, 266), (15000, 266))"
            ]
          },
          "metadata": {},
          "execution_count": 5
        }
      ],
      "source": [
        "constant_features = [\n",
        "    feat for feat in X_train.columns if X_train[feat].std() == 0\n",
        "]\n",
        "\n",
        "X_train.drop(labels=constant_features, axis=1, inplace=True)\n",
        "X_test.drop(labels=constant_features, axis=1, inplace=True)\n",
        "\n",
        "X_train.shape, X_test.shape"
      ]
    },
    {
      "cell_type": "markdown",
      "metadata": {
        "id": "gvyqpveI68GP"
      },
      "source": [
        "### Remove quasi-constant features"
      ]
    },
    {
      "cell_type": "code",
      "execution_count": 6,
      "metadata": {
        "id": "TwhdVsIO68GP",
        "outputId": "1ef32b15-9254-41e8-f8f1-65f2e1a8d11f",
        "colab": {
          "base_uri": "https://localhost:8080/"
        }
      },
      "outputs": [
        {
          "output_type": "execute_result",
          "data": {
            "text/plain": [
              "215"
            ]
          },
          "metadata": {},
          "execution_count": 6
        }
      ],
      "source": [
        "sel = VarianceThreshold(\n",
        "    threshold=0.01)  # 0.1 indicates 99% of observations approximately\n",
        "\n",
        "sel.fit(X_train)  # fit finds the features with low variance\n",
        "\n",
        "sum(sel.get_support()) # how many not quasi-constant?"
      ]
    },
    {
      "cell_type": "code",
      "execution_count": 7,
      "metadata": {
        "id": "JhXxCV4O68GP"
      },
      "outputs": [],
      "source": [
        "features_to_keep = X_train.columns[sel.get_support()]"
      ]
    },
    {
      "cell_type": "code",
      "execution_count": 8,
      "metadata": {
        "id": "mLyHWYlh68GQ",
        "outputId": "1306cc92-b89e-4a91-f7de-f5cc78cbe0e6",
        "colab": {
          "base_uri": "https://localhost:8080/"
        }
      },
      "outputs": [
        {
          "output_type": "execute_result",
          "data": {
            "text/plain": [
              "((35000, 215), (15000, 215))"
            ]
          },
          "metadata": {},
          "execution_count": 8
        }
      ],
      "source": [
        "# remove features\n",
        "\n",
        "X_train = sel.transform(X_train)\n",
        "X_test = sel.transform(X_test)\n",
        "\n",
        "X_train.shape, X_test.shape"
      ]
    },
    {
      "cell_type": "code",
      "execution_count": 9,
      "metadata": {
        "id": "sDAW8BFS68GQ"
      },
      "outputs": [],
      "source": [
        "# I transform the NumPy arrays to dataframes\n",
        "\n",
        "X_train= pd.DataFrame(X_train)\n",
        "X_train.columns = features_to_keep\n",
        "\n",
        "X_test= pd.DataFrame(X_test)\n",
        "X_test.columns = features_to_keep"
      ]
    },
    {
      "cell_type": "markdown",
      "metadata": {
        "id": "JKR2NNrf68GQ"
      },
      "source": [
        "### Remove duplicated features"
      ]
    },
    {
      "cell_type": "code",
      "execution_count": 10,
      "metadata": {
        "scrolled": true,
        "id": "LhLV9lVa68GQ",
        "outputId": "b2131d49-4870-437f-a5ae-85896fdeea0c",
        "colab": {
          "base_uri": "https://localhost:8080/"
        }
      },
      "outputs": [
        {
          "output_type": "stream",
          "name": "stdout",
          "text": [
            "0\n",
            "10\n",
            "20\n",
            "30\n",
            "40\n",
            "50\n",
            "60\n",
            "70\n",
            "80\n",
            "90\n",
            "100\n",
            "110\n",
            "120\n",
            "130\n",
            "140\n",
            "150\n",
            "160\n",
            "170\n",
            "180\n",
            "190\n",
            "200\n",
            "210\n"
          ]
        },
        {
          "output_type": "execute_result",
          "data": {
            "text/plain": [
              "10"
            ]
          },
          "metadata": {},
          "execution_count": 10
        }
      ],
      "source": [
        "duplicated_feat = []\n",
        "\n",
        "for i in range(0, len(X_train.columns)):\n",
        "    if i % 10 == 0:  # this helps me understand how the loop is going\n",
        "        print(i)\n",
        "\n",
        "    col_1 = X_train.columns[i]\n",
        "\n",
        "    for col_2 in X_train.columns[i + 1:]:\n",
        "        if X_train[col_1].equals(X_train[col_2]):\n",
        "            duplicated_feat.append(col_2)\n",
        "            \n",
        "len(duplicated_feat)"
      ]
    },
    {
      "cell_type": "code",
      "execution_count": 11,
      "metadata": {
        "id": "zMgPdEzg68GQ",
        "outputId": "8ee6d787-3279-4d02-b1fa-2c70654aeb6d",
        "colab": {
          "base_uri": "https://localhost:8080/"
        }
      },
      "outputs": [
        {
          "output_type": "execute_result",
          "data": {
            "text/plain": [
              "((35000, 205), (15000, 205))"
            ]
          },
          "metadata": {},
          "execution_count": 11
        }
      ],
      "source": [
        "# remove duplicated features\n",
        "\n",
        "X_train.drop(labels=duplicated_feat, axis=1, inplace=True)\n",
        "X_test.drop(labels=duplicated_feat, axis=1, inplace=True)\n",
        "\n",
        "X_train.shape, X_test.shape"
      ]
    },
    {
      "cell_type": "code",
      "execution_count": 12,
      "metadata": {
        "id": "o9LAKAdQ68GR"
      },
      "outputs": [],
      "source": [
        "# I keep a copy of the dataset without constant, quasi-constant and duplicated variables\n",
        "# to measure the performance of machine learning models\n",
        "# at the end of the notebook\n",
        "\n",
        "X_train_basic_filter = X_train.copy()\n",
        "X_test_basic_filter = X_test.copy()"
      ]
    },
    {
      "cell_type": "markdown",
      "metadata": {
        "id": "fx2-5gKJ68GR"
      },
      "source": [
        "### Remove correlated features"
      ]
    },
    {
      "cell_type": "code",
      "execution_count": 13,
      "metadata": {
        "id": "GXoURAq968GR",
        "outputId": "4ae5955b-b934-4c85-daf8-fd639ad9a7c7",
        "colab": {
          "base_uri": "https://localhost:8080/"
        }
      },
      "outputs": [
        {
          "output_type": "stream",
          "name": "stdout",
          "text": [
            "correlated features:  93\n"
          ]
        }
      ],
      "source": [
        "def correlation(dataset, threshold):\n",
        "    col_corr = set()  # Set of all the names of correlated columns\n",
        "    corr_matrix = dataset.corr()\n",
        "    for i in range(len(corr_matrix.columns)):\n",
        "        for j in range(i):\n",
        "            # we are interested in absolute coeff value\n",
        "            if abs(corr_matrix.iloc[i, j]) > threshold:\n",
        "                colname = corr_matrix.columns[i]  # getting the name of column\n",
        "                col_corr.add(colname)\n",
        "    return col_corr\n",
        "\n",
        "\n",
        "corr_features = correlation(X_train, 0.8)\n",
        "print('correlated features: ', len(set(corr_features)))"
      ]
    },
    {
      "cell_type": "code",
      "execution_count": 14,
      "metadata": {
        "id": "kSlfDYL468GR",
        "outputId": "1cebbaea-a1a2-424d-d682-e4d793624c0d",
        "colab": {
          "base_uri": "https://localhost:8080/"
        }
      },
      "outputs": [
        {
          "output_type": "execute_result",
          "data": {
            "text/plain": [
              "((35000, 112), (15000, 112))"
            ]
          },
          "metadata": {},
          "execution_count": 14
        }
      ],
      "source": [
        "X_train.drop(labels=corr_features, axis=1, inplace=True)\n",
        "X_test.drop(labels=corr_features, axis=1, inplace=True)\n",
        "\n",
        "X_train.shape, X_test.shape"
      ]
    },
    {
      "cell_type": "code",
      "execution_count": 15,
      "metadata": {
        "id": "5q2I8wHp68GR"
      },
      "outputs": [],
      "source": [
        "# keep a copy of the dataset without\n",
        "# correlated features\n",
        "\n",
        "X_train_corr = X_train.copy()\n",
        "X_test_corr = X_test.copy()"
      ]
    },
    {
      "cell_type": "markdown",
      "metadata": {
        "id": "mtxa_-PB68GR"
      },
      "source": [
        "### Remove features using Lasso"
      ]
    },
    {
      "cell_type": "code",
      "execution_count": 16,
      "metadata": {
        "id": "EUvJIykP68GS",
        "outputId": "91ec4d28-d9d9-4a84-ad81-e9c241ac54c7",
        "colab": {
          "base_uri": "https://localhost:8080/"
        }
      },
      "outputs": [
        {
          "output_type": "execute_result",
          "data": {
            "text/plain": [
              "StandardScaler()"
            ]
          },
          "metadata": {},
          "execution_count": 16
        }
      ],
      "source": [
        "scaler = StandardScaler()\n",
        "scaler.fit(X_train)"
      ]
    },
    {
      "cell_type": "code",
      "execution_count": 17,
      "metadata": {
        "id": "ES7vc8TD68GS",
        "outputId": "00a3e24b-0257-4d9c-d97f-dafe2db7e9ab",
        "colab": {
          "base_uri": "https://localhost:8080/"
        }
      },
      "outputs": [
        {
          "output_type": "stream",
          "name": "stderr",
          "text": [
            "/usr/local/lib/python3.7/dist-packages/sklearn/base.py:444: UserWarning: X has feature names, but SelectFromModel was fitted without feature names\n",
            "  f\"X has feature names, but {self.__class__.__name__} was fitted without\"\n",
            "/usr/local/lib/python3.7/dist-packages/sklearn/base.py:444: UserWarning: X has feature names, but SelectFromModel was fitted without feature names\n",
            "  f\"X has feature names, but {self.__class__.__name__} was fitted without\"\n"
          ]
        }
      ],
      "source": [
        "# fit a Lasso and selet features, make sure to select l1\n",
        "\n",
        "sel_ = SelectFromModel(\n",
        "    LogisticRegression(C=0.5,\n",
        "                       penalty='l1',\n",
        "                       solver='liblinear',\n",
        "                       random_state=10))\n",
        "\n",
        "sel_.fit(scaler.transform(X_train), y_train)\n",
        "\n",
        "# remove features with zero coefficient from dataset\n",
        "# and parse again as dataframe\n",
        "\n",
        "X_train_lasso = pd.DataFrame(sel_.transform(X_train))\n",
        "X_test_lasso = pd.DataFrame(sel_.transform(X_test))\n",
        "\n",
        "# add the columns name\n",
        "X_train_lasso.columns = X_train.columns[(sel_.get_support())]\n",
        "X_test_lasso.columns = X_train.columns[(sel_.get_support())]"
      ]
    },
    {
      "cell_type": "code",
      "execution_count": 18,
      "metadata": {
        "id": "UN4Dbtyz68GS",
        "outputId": "a00b7759-cb92-42af-f9f0-1164e3707dfa",
        "colab": {
          "base_uri": "https://localhost:8080/"
        }
      },
      "outputs": [
        {
          "output_type": "execute_result",
          "data": {
            "text/plain": [
              "((35000, 90), (15000, 90))"
            ]
          },
          "metadata": {},
          "execution_count": 18
        }
      ],
      "source": [
        "X_train_lasso.shape, X_test_lasso.shape"
      ]
    },
    {
      "cell_type": "markdown",
      "metadata": {
        "id": "4fnz26eH68GS"
      },
      "source": [
        "### Compare the performance of Logistic Regression with the different feature subsets"
      ]
    },
    {
      "cell_type": "code",
      "execution_count": 19,
      "metadata": {
        "id": "9QDdrp_668GS"
      },
      "outputs": [],
      "source": [
        "# create a function to train logistic regression\n",
        "# and compare performance in train and test set\n",
        "\n",
        "\n",
        "def run_logistic(X_train, X_test, y_train, y_test):\n",
        "\n",
        "    # with a scaler\n",
        "    scaler = StandardScaler().fit(X_train)\n",
        "\n",
        "    logit = LogisticRegression(random_state=44, max_iter=500)\n",
        "    logit.fit(scaler.transform(X_train), y_train)\n",
        "\n",
        "    print('Train set')\n",
        "    pred = logit.predict_proba(scaler.transform(X_train))\n",
        "    print('Logistic Regression roc-auc: {}'.format(\n",
        "        roc_auc_score(y_train, pred[:, 1])))\n",
        "\n",
        "    print('Test set')\n",
        "    pred = logit.predict_proba(scaler.transform(X_test))\n",
        "    print('Logistic Regression roc-auc: {}'.format(\n",
        "        roc_auc_score(y_test, pred[:, 1])))"
      ]
    },
    {
      "cell_type": "code",
      "execution_count": 20,
      "metadata": {
        "id": "kMOT2Nl968GS",
        "outputId": "358c12a4-c63e-4096-f70a-0b3f36ee0e9d",
        "colab": {
          "base_uri": "https://localhost:8080/"
        }
      },
      "outputs": [
        {
          "output_type": "stream",
          "name": "stdout",
          "text": [
            "Train set\n",
            "Logistic Regression roc-auc: 0.8028213383366809\n",
            "Test set\n",
            "Logistic Regression roc-auc: 0.7950964051872009\n"
          ]
        }
      ],
      "source": [
        "# original\n",
        "\n",
        "run_logistic(X_train_original,\n",
        "             X_test_original,\n",
        "             y_train,\n",
        "             y_test)"
      ]
    },
    {
      "cell_type": "code",
      "execution_count": 21,
      "metadata": {
        "id": "gocm7s2y68GS",
        "outputId": "96b5a086-9ab2-4e80-c8d3-9ececf9fa059",
        "colab": {
          "base_uri": "https://localhost:8080/"
        }
      },
      "outputs": [
        {
          "output_type": "stream",
          "name": "stdout",
          "text": [
            "Train set\n",
            "Logistic Regression roc-auc: 0.8022681966162044\n",
            "Test set\n",
            "Logistic Regression roc-auc: 0.7947476905425989\n"
          ]
        }
      ],
      "source": [
        "# filter methods - basic\n",
        "\n",
        "run_logistic(X_train_basic_filter,\n",
        "             X_test_basic_filter,\n",
        "             y_train,\n",
        "             y_test)"
      ]
    },
    {
      "cell_type": "code",
      "execution_count": 22,
      "metadata": {
        "id": "YWJXtW9x68GS",
        "outputId": "3de4c83d-aa2f-4154-e45a-aa136e97495b",
        "colab": {
          "base_uri": "https://localhost:8080/"
        }
      },
      "outputs": [
        {
          "output_type": "stream",
          "name": "stdout",
          "text": [
            "Train set\n",
            "Logistic Regression roc-auc: 0.7942691474528161\n",
            "Test set\n",
            "Logistic Regression roc-auc: 0.7881897640665666\n"
          ]
        }
      ],
      "source": [
        "# filter methods - correlation\n",
        "\n",
        "run_logistic(X_train_corr,\n",
        "             X_test_corr,\n",
        "             y_train,\n",
        "             y_test)"
      ]
    },
    {
      "cell_type": "code",
      "execution_count": 23,
      "metadata": {
        "id": "YEOCL5dl68GS",
        "outputId": "81c4da2d-9d83-49b9-ff64-06f2f5b8e81f",
        "colab": {
          "base_uri": "https://localhost:8080/"
        }
      },
      "outputs": [
        {
          "output_type": "stream",
          "name": "stdout",
          "text": [
            "Train set\n",
            "Logistic Regression roc-auc: 0.7941657035533866\n",
            "Test set\n",
            "Logistic Regression roc-auc: 0.7882331697143875\n"
          ]
        }
      ],
      "source": [
        "# embedded methods - Lasso\n",
        "\n",
        "run_logistic(X_train_lasso,\n",
        "             X_test_lasso,\n",
        "             y_train,\n",
        "             y_test)"
      ]
    },
    {
      "cell_type": "markdown",
      "metadata": {
        "id": "yDTOd1yw68GT"
      },
      "source": [
        "As you can see, with these procedures we reduced the feature space quite a bit, without losing model performance dramatically.\n",
        "\n",
        "That is all for this lecture. I hope you enjoyed it!"
      ]
    },
    {
      "cell_type": "code",
      "execution_count": 23,
      "metadata": {
        "id": "aKDvdw2T68GT"
      },
      "outputs": [],
      "source": [
        ""
      ]
    }
  ],
  "metadata": {
    "kernelspec": {
      "display_name": "fsml",
      "language": "python",
      "name": "fsml"
    },
    "language_info": {
      "codemirror_mode": {
        "name": "ipython",
        "version": 3
      },
      "file_extension": ".py",
      "mimetype": "text/x-python",
      "name": "python",
      "nbconvert_exporter": "python",
      "pygments_lexer": "ipython3",
      "version": "3.8.2"
    },
    "toc": {
      "base_numbering": 1,
      "nav_menu": {},
      "number_sections": true,
      "sideBar": true,
      "skip_h1_title": false,
      "title_cell": "Table of Contents",
      "title_sidebar": "Contents",
      "toc_cell": false,
      "toc_position": {},
      "toc_section_display": "block",
      "toc_window_display": true
    },
    "colab": {
      "name": "09.2-Basic-methods-plus-Lasso-pipeline.ipynb",
      "provenance": [],
      "include_colab_link": true
    }
  },
  "nbformat": 4,
  "nbformat_minor": 0
}