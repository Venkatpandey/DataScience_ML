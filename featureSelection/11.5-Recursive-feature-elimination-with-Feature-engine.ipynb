{
  "cells": [
    {
      "cell_type": "markdown",
      "metadata": {
        "id": "view-in-github",
        "colab_type": "text"
      },
      "source": [
        "<a href=\"https://colab.research.google.com/github/Venkatpandey/DataScience_ML/blob/main/featureSelection/11.5-Recursive-feature-elimination-with-Feature-engine.ipynb\" target=\"_parent\"><img src=\"https://colab.research.google.com/assets/colab-badge.svg\" alt=\"Open In Colab\"/></a>"
      ]
    },
    {
      "cell_type": "markdown",
      "metadata": {
        "id": "DRkZtdb9ZHXT"
      },
      "source": [
        "## Recursive feature elimination with Feature-engine"
      ]
    },
    {
      "cell_type": "code",
      "source": [
        "pip install feature_engine"
      ],
      "metadata": {
        "id": "Jr00-RyFcppY",
        "outputId": "62cd6519-21cb-448c-e716-49c963520ebc",
        "colab": {
          "base_uri": "https://localhost:8080/"
        }
      },
      "execution_count": 1,
      "outputs": [
        {
          "output_type": "stream",
          "name": "stdout",
          "text": [
            "Collecting feature_engine\n",
            "  Downloading feature_engine-1.2.0-py2.py3-none-any.whl (205 kB)\n",
            "\u001b[?25l\r\u001b[K     |█▋                              | 10 kB 15.0 MB/s eta 0:00:01\r\u001b[K     |███▏                            | 20 kB 17.0 MB/s eta 0:00:01\r\u001b[K     |████▉                           | 30 kB 19.5 MB/s eta 0:00:01\r\u001b[K     |██████▍                         | 40 kB 14.3 MB/s eta 0:00:01\r\u001b[K     |████████                        | 51 kB 11.1 MB/s eta 0:00:01\r\u001b[K     |█████████▋                      | 61 kB 12.8 MB/s eta 0:00:01\r\u001b[K     |███████████▏                    | 71 kB 12.9 MB/s eta 0:00:01\r\u001b[K     |████████████▊                   | 81 kB 11.5 MB/s eta 0:00:01\r\u001b[K     |██████████████▍                 | 92 kB 12.6 MB/s eta 0:00:01\r\u001b[K     |████████████████                | 102 kB 12.9 MB/s eta 0:00:01\r\u001b[K     |█████████████████▋              | 112 kB 12.9 MB/s eta 0:00:01\r\u001b[K     |███████████████████▏            | 122 kB 12.9 MB/s eta 0:00:01\r\u001b[K     |████████████████████▊           | 133 kB 12.9 MB/s eta 0:00:01\r\u001b[K     |██████████████████████▍         | 143 kB 12.9 MB/s eta 0:00:01\r\u001b[K     |████████████████████████        | 153 kB 12.9 MB/s eta 0:00:01\r\u001b[K     |█████████████████████████▌      | 163 kB 12.9 MB/s eta 0:00:01\r\u001b[K     |███████████████████████████▏    | 174 kB 12.9 MB/s eta 0:00:01\r\u001b[K     |████████████████████████████▊   | 184 kB 12.9 MB/s eta 0:00:01\r\u001b[K     |██████████████████████████████▍ | 194 kB 12.9 MB/s eta 0:00:01\r\u001b[K     |████████████████████████████████| 204 kB 12.9 MB/s eta 0:00:01\r\u001b[K     |████████████████████████████████| 205 kB 12.9 MB/s \n",
            "\u001b[?25hRequirement already satisfied: scipy>=1.4.1 in /usr/local/lib/python3.7/dist-packages (from feature_engine) (1.4.1)\n",
            "Requirement already satisfied: scikit-learn>=0.22.2 in /usr/local/lib/python3.7/dist-packages (from feature_engine) (1.0.2)\n",
            "Collecting statsmodels>=0.11.1\n",
            "  Downloading statsmodels-0.13.2-cp37-cp37m-manylinux_2_17_x86_64.manylinux2014_x86_64.whl (9.8 MB)\n",
            "\u001b[K     |████████████████████████████████| 9.8 MB 12.8 MB/s \n",
            "\u001b[?25hRequirement already satisfied: numpy>=1.18.2 in /usr/local/lib/python3.7/dist-packages (from feature_engine) (1.21.5)\n",
            "Requirement already satisfied: pandas>=1.0.3 in /usr/local/lib/python3.7/dist-packages (from feature_engine) (1.3.5)\n",
            "Requirement already satisfied: pytz>=2017.3 in /usr/local/lib/python3.7/dist-packages (from pandas>=1.0.3->feature_engine) (2018.9)\n",
            "Requirement already satisfied: python-dateutil>=2.7.3 in /usr/local/lib/python3.7/dist-packages (from pandas>=1.0.3->feature_engine) (2.8.2)\n",
            "Requirement already satisfied: six>=1.5 in /usr/local/lib/python3.7/dist-packages (from python-dateutil>=2.7.3->pandas>=1.0.3->feature_engine) (1.15.0)\n",
            "Requirement already satisfied: threadpoolctl>=2.0.0 in /usr/local/lib/python3.7/dist-packages (from scikit-learn>=0.22.2->feature_engine) (3.1.0)\n",
            "Requirement already satisfied: joblib>=0.11 in /usr/local/lib/python3.7/dist-packages (from scikit-learn>=0.22.2->feature_engine) (1.1.0)\n",
            "Requirement already satisfied: patsy>=0.5.2 in /usr/local/lib/python3.7/dist-packages (from statsmodels>=0.11.1->feature_engine) (0.5.2)\n",
            "Requirement already satisfied: packaging>=21.3 in /usr/local/lib/python3.7/dist-packages (from statsmodels>=0.11.1->feature_engine) (21.3)\n",
            "Requirement already satisfied: pyparsing!=3.0.5,>=2.0.2 in /usr/local/lib/python3.7/dist-packages (from packaging>=21.3->statsmodels>=0.11.1->feature_engine) (3.0.7)\n",
            "Installing collected packages: statsmodels, feature-engine\n",
            "  Attempting uninstall: statsmodels\n",
            "    Found existing installation: statsmodels 0.10.2\n",
            "    Uninstalling statsmodels-0.10.2:\n",
            "      Successfully uninstalled statsmodels-0.10.2\n",
            "Successfully installed feature-engine-1.2.0 statsmodels-0.13.2\n"
          ]
        }
      ]
    },
    {
      "cell_type": "code",
      "execution_count": 2,
      "metadata": {
        "id": "tghdS8wtZHXV"
      },
      "outputs": [],
      "source": [
        "import numpy as np\n",
        "import pandas as pd\n",
        "import matplotlib.pyplot as plt\n",
        "\n",
        "from sklearn.model_selection import train_test_split\n",
        "from sklearn.ensemble import GradientBoostingClassifier, GradientBoostingRegressor\n",
        "from sklearn.metrics import roc_auc_score, r2_score\n",
        "from sklearn.pipeline import Pipeline\n",
        "\n",
        "from feature_engine.selection import (\n",
        "    RecursiveFeatureElimination,\n",
        "    DropConstantFeatures,\n",
        "    DropDuplicateFeatures,\n",
        ")"
      ]
    },
    {
      "cell_type": "markdown",
      "metadata": {
        "id": "xs_MxbmFZHXW"
      },
      "source": [
        "## Classification"
      ]
    },
    {
      "cell_type": "code",
      "execution_count": 4,
      "metadata": {
        "id": "Gmb3KY7GZHXW",
        "outputId": "bb4bd248-fb2c-4f6a-a763-a2d7056219ef",
        "colab": {
          "base_uri": "https://localhost:8080/"
        }
      },
      "outputs": [
        {
          "output_type": "execute_result",
          "data": {
            "text/plain": [
              "(50000, 301)"
            ]
          },
          "metadata": {},
          "execution_count": 4
        }
      ],
      "source": [
        "# load dataset\n",
        "data = pd.read_csv('https://raw.githubusercontent.com/Venkatpandey/DataScience_ML/main/dataset/dataset_1.csv')\n",
        "data.shape"
      ]
    },
    {
      "cell_type": "code",
      "execution_count": 5,
      "metadata": {
        "id": "AVNiFpFrZHXX",
        "outputId": "e4044562-bfd1-40b3-df2f-b2649bc76b79",
        "colab": {
          "base_uri": "https://localhost:8080/",
          "height": 299
        }
      },
      "outputs": [
        {
          "output_type": "execute_result",
          "data": {
            "text/plain": [
              "   var_1  var_2  var_3  var_4  var_5  var_6  var_7  var_8  var_9  var_10  ...  \\\n",
              "0      0      0    0.0   0.00    0.0      0      0      0      0       0  ...   \n",
              "1      0      0    0.0   3.00    0.0      0      0      0      0       0  ...   \n",
              "2      0      0    0.0   5.88    0.0      0      0      0      0       0  ...   \n",
              "3      0      0    0.0  14.10    0.0      0      0      0      0       0  ...   \n",
              "4      0      0    0.0   5.76    0.0      0      0      0      0       0  ...   \n",
              "\n",
              "   var_292  var_293  var_294  var_295  var_296  var_297  var_298  var_299  \\\n",
              "0      0.0        0        0        0        0        0        0      0.0   \n",
              "1      0.0        0        0        0        0        0        0      0.0   \n",
              "2      0.0        0        0        3        0        0        0      0.0   \n",
              "3      0.0        0        0        0        0        0        0      0.0   \n",
              "4      0.0        0        0        0        0        0        0      0.0   \n",
              "\n",
              "      var_300  target  \n",
              "0      0.0000       0  \n",
              "1      0.0000       0  \n",
              "2  67772.7216       0  \n",
              "3      0.0000       0  \n",
              "4      0.0000       0  \n",
              "\n",
              "[5 rows x 301 columns]"
            ],
            "text/html": [
              "\n",
              "  <div id=\"df-f64bdc1b-8139-4b4c-8fa3-787461673ce2\">\n",
              "    <div class=\"colab-df-container\">\n",
              "      <div>\n",
              "<style scoped>\n",
              "    .dataframe tbody tr th:only-of-type {\n",
              "        vertical-align: middle;\n",
              "    }\n",
              "\n",
              "    .dataframe tbody tr th {\n",
              "        vertical-align: top;\n",
              "    }\n",
              "\n",
              "    .dataframe thead th {\n",
              "        text-align: right;\n",
              "    }\n",
              "</style>\n",
              "<table border=\"1\" class=\"dataframe\">\n",
              "  <thead>\n",
              "    <tr style=\"text-align: right;\">\n",
              "      <th></th>\n",
              "      <th>var_1</th>\n",
              "      <th>var_2</th>\n",
              "      <th>var_3</th>\n",
              "      <th>var_4</th>\n",
              "      <th>var_5</th>\n",
              "      <th>var_6</th>\n",
              "      <th>var_7</th>\n",
              "      <th>var_8</th>\n",
              "      <th>var_9</th>\n",
              "      <th>var_10</th>\n",
              "      <th>...</th>\n",
              "      <th>var_292</th>\n",
              "      <th>var_293</th>\n",
              "      <th>var_294</th>\n",
              "      <th>var_295</th>\n",
              "      <th>var_296</th>\n",
              "      <th>var_297</th>\n",
              "      <th>var_298</th>\n",
              "      <th>var_299</th>\n",
              "      <th>var_300</th>\n",
              "      <th>target</th>\n",
              "    </tr>\n",
              "  </thead>\n",
              "  <tbody>\n",
              "    <tr>\n",
              "      <th>0</th>\n",
              "      <td>0</td>\n",
              "      <td>0</td>\n",
              "      <td>0.0</td>\n",
              "      <td>0.00</td>\n",
              "      <td>0.0</td>\n",
              "      <td>0</td>\n",
              "      <td>0</td>\n",
              "      <td>0</td>\n",
              "      <td>0</td>\n",
              "      <td>0</td>\n",
              "      <td>...</td>\n",
              "      <td>0.0</td>\n",
              "      <td>0</td>\n",
              "      <td>0</td>\n",
              "      <td>0</td>\n",
              "      <td>0</td>\n",
              "      <td>0</td>\n",
              "      <td>0</td>\n",
              "      <td>0.0</td>\n",
              "      <td>0.0000</td>\n",
              "      <td>0</td>\n",
              "    </tr>\n",
              "    <tr>\n",
              "      <th>1</th>\n",
              "      <td>0</td>\n",
              "      <td>0</td>\n",
              "      <td>0.0</td>\n",
              "      <td>3.00</td>\n",
              "      <td>0.0</td>\n",
              "      <td>0</td>\n",
              "      <td>0</td>\n",
              "      <td>0</td>\n",
              "      <td>0</td>\n",
              "      <td>0</td>\n",
              "      <td>...</td>\n",
              "      <td>0.0</td>\n",
              "      <td>0</td>\n",
              "      <td>0</td>\n",
              "      <td>0</td>\n",
              "      <td>0</td>\n",
              "      <td>0</td>\n",
              "      <td>0</td>\n",
              "      <td>0.0</td>\n",
              "      <td>0.0000</td>\n",
              "      <td>0</td>\n",
              "    </tr>\n",
              "    <tr>\n",
              "      <th>2</th>\n",
              "      <td>0</td>\n",
              "      <td>0</td>\n",
              "      <td>0.0</td>\n",
              "      <td>5.88</td>\n",
              "      <td>0.0</td>\n",
              "      <td>0</td>\n",
              "      <td>0</td>\n",
              "      <td>0</td>\n",
              "      <td>0</td>\n",
              "      <td>0</td>\n",
              "      <td>...</td>\n",
              "      <td>0.0</td>\n",
              "      <td>0</td>\n",
              "      <td>0</td>\n",
              "      <td>3</td>\n",
              "      <td>0</td>\n",
              "      <td>0</td>\n",
              "      <td>0</td>\n",
              "      <td>0.0</td>\n",
              "      <td>67772.7216</td>\n",
              "      <td>0</td>\n",
              "    </tr>\n",
              "    <tr>\n",
              "      <th>3</th>\n",
              "      <td>0</td>\n",
              "      <td>0</td>\n",
              "      <td>0.0</td>\n",
              "      <td>14.10</td>\n",
              "      <td>0.0</td>\n",
              "      <td>0</td>\n",
              "      <td>0</td>\n",
              "      <td>0</td>\n",
              "      <td>0</td>\n",
              "      <td>0</td>\n",
              "      <td>...</td>\n",
              "      <td>0.0</td>\n",
              "      <td>0</td>\n",
              "      <td>0</td>\n",
              "      <td>0</td>\n",
              "      <td>0</td>\n",
              "      <td>0</td>\n",
              "      <td>0</td>\n",
              "      <td>0.0</td>\n",
              "      <td>0.0000</td>\n",
              "      <td>0</td>\n",
              "    </tr>\n",
              "    <tr>\n",
              "      <th>4</th>\n",
              "      <td>0</td>\n",
              "      <td>0</td>\n",
              "      <td>0.0</td>\n",
              "      <td>5.76</td>\n",
              "      <td>0.0</td>\n",
              "      <td>0</td>\n",
              "      <td>0</td>\n",
              "      <td>0</td>\n",
              "      <td>0</td>\n",
              "      <td>0</td>\n",
              "      <td>...</td>\n",
              "      <td>0.0</td>\n",
              "      <td>0</td>\n",
              "      <td>0</td>\n",
              "      <td>0</td>\n",
              "      <td>0</td>\n",
              "      <td>0</td>\n",
              "      <td>0</td>\n",
              "      <td>0.0</td>\n",
              "      <td>0.0000</td>\n",
              "      <td>0</td>\n",
              "    </tr>\n",
              "  </tbody>\n",
              "</table>\n",
              "<p>5 rows × 301 columns</p>\n",
              "</div>\n",
              "      <button class=\"colab-df-convert\" onclick=\"convertToInteractive('df-f64bdc1b-8139-4b4c-8fa3-787461673ce2')\"\n",
              "              title=\"Convert this dataframe to an interactive table.\"\n",
              "              style=\"display:none;\">\n",
              "        \n",
              "  <svg xmlns=\"http://www.w3.org/2000/svg\" height=\"24px\"viewBox=\"0 0 24 24\"\n",
              "       width=\"24px\">\n",
              "    <path d=\"M0 0h24v24H0V0z\" fill=\"none\"/>\n",
              "    <path d=\"M18.56 5.44l.94 2.06.94-2.06 2.06-.94-2.06-.94-.94-2.06-.94 2.06-2.06.94zm-11 1L8.5 8.5l.94-2.06 2.06-.94-2.06-.94L8.5 2.5l-.94 2.06-2.06.94zm10 10l.94 2.06.94-2.06 2.06-.94-2.06-.94-.94-2.06-.94 2.06-2.06.94z\"/><path d=\"M17.41 7.96l-1.37-1.37c-.4-.4-.92-.59-1.43-.59-.52 0-1.04.2-1.43.59L10.3 9.45l-7.72 7.72c-.78.78-.78 2.05 0 2.83L4 21.41c.39.39.9.59 1.41.59.51 0 1.02-.2 1.41-.59l7.78-7.78 2.81-2.81c.8-.78.8-2.07 0-2.86zM5.41 20L4 18.59l7.72-7.72 1.47 1.35L5.41 20z\"/>\n",
              "  </svg>\n",
              "      </button>\n",
              "      \n",
              "  <style>\n",
              "    .colab-df-container {\n",
              "      display:flex;\n",
              "      flex-wrap:wrap;\n",
              "      gap: 12px;\n",
              "    }\n",
              "\n",
              "    .colab-df-convert {\n",
              "      background-color: #E8F0FE;\n",
              "      border: none;\n",
              "      border-radius: 50%;\n",
              "      cursor: pointer;\n",
              "      display: none;\n",
              "      fill: #1967D2;\n",
              "      height: 32px;\n",
              "      padding: 0 0 0 0;\n",
              "      width: 32px;\n",
              "    }\n",
              "\n",
              "    .colab-df-convert:hover {\n",
              "      background-color: #E2EBFA;\n",
              "      box-shadow: 0px 1px 2px rgba(60, 64, 67, 0.3), 0px 1px 3px 1px rgba(60, 64, 67, 0.15);\n",
              "      fill: #174EA6;\n",
              "    }\n",
              "\n",
              "    [theme=dark] .colab-df-convert {\n",
              "      background-color: #3B4455;\n",
              "      fill: #D2E3FC;\n",
              "    }\n",
              "\n",
              "    [theme=dark] .colab-df-convert:hover {\n",
              "      background-color: #434B5C;\n",
              "      box-shadow: 0px 1px 3px 1px rgba(0, 0, 0, 0.15);\n",
              "      filter: drop-shadow(0px 1px 2px rgba(0, 0, 0, 0.3));\n",
              "      fill: #FFFFFF;\n",
              "    }\n",
              "  </style>\n",
              "\n",
              "      <script>\n",
              "        const buttonEl =\n",
              "          document.querySelector('#df-f64bdc1b-8139-4b4c-8fa3-787461673ce2 button.colab-df-convert');\n",
              "        buttonEl.style.display =\n",
              "          google.colab.kernel.accessAllowed ? 'block' : 'none';\n",
              "\n",
              "        async function convertToInteractive(key) {\n",
              "          const element = document.querySelector('#df-f64bdc1b-8139-4b4c-8fa3-787461673ce2');\n",
              "          const dataTable =\n",
              "            await google.colab.kernel.invokeFunction('convertToInteractive',\n",
              "                                                     [key], {});\n",
              "          if (!dataTable) return;\n",
              "\n",
              "          const docLinkHtml = 'Like what you see? Visit the ' +\n",
              "            '<a target=\"_blank\" href=https://colab.research.google.com/notebooks/data_table.ipynb>data table notebook</a>'\n",
              "            + ' to learn more about interactive tables.';\n",
              "          element.innerHTML = '';\n",
              "          dataTable['output_type'] = 'display_data';\n",
              "          await google.colab.output.renderOutput(dataTable, element);\n",
              "          const docLink = document.createElement('div');\n",
              "          docLink.innerHTML = docLinkHtml;\n",
              "          element.appendChild(docLink);\n",
              "        }\n",
              "      </script>\n",
              "    </div>\n",
              "  </div>\n",
              "  "
            ]
          },
          "metadata": {},
          "execution_count": 5
        }
      ],
      "source": [
        "data.head()"
      ]
    },
    {
      "cell_type": "markdown",
      "metadata": {
        "id": "I42v1TsvZHXX"
      },
      "source": [
        "**Important**\n",
        "\n",
        "In all feature selection procedures, it is good practice to select the features by examining only the training set. And this is to avoid overfit."
      ]
    },
    {
      "cell_type": "code",
      "execution_count": 6,
      "metadata": {
        "id": "2_2JQobyZHXX",
        "outputId": "04850911-2ca0-4f7e-fb04-87bf518dbbde",
        "colab": {
          "base_uri": "https://localhost:8080/"
        }
      },
      "outputs": [
        {
          "output_type": "execute_result",
          "data": {
            "text/plain": [
              "((35000, 300), (15000, 300))"
            ]
          },
          "metadata": {},
          "execution_count": 6
        }
      ],
      "source": [
        "# separate train and test sets\n",
        "X_train, X_test, y_train, y_test = train_test_split(\n",
        "    data.drop(labels=['target'], axis=1),\n",
        "    data['target'],\n",
        "    test_size=0.3,\n",
        "    random_state=0)\n",
        "\n",
        "X_train.shape, X_test.shape"
      ]
    },
    {
      "cell_type": "markdown",
      "metadata": {
        "id": "8QgCqin3ZHXY"
      },
      "source": [
        "### Remove constant, quasi-constant and duplicated features"
      ]
    },
    {
      "cell_type": "code",
      "execution_count": 7,
      "metadata": {
        "id": "NxXMrKXYZHXY",
        "outputId": "624d573e-9be8-4149-bbf0-7fb987675538",
        "colab": {
          "base_uri": "https://localhost:8080/"
        }
      },
      "outputs": [
        {
          "output_type": "execute_result",
          "data": {
            "text/plain": [
              "((35000, 152), (15000, 152))"
            ]
          },
          "metadata": {},
          "execution_count": 7
        }
      ],
      "source": [
        "pipe = Pipeline([\n",
        "    ('constant', DropConstantFeatures(tol=0.998)),\n",
        "    ('duplicated', DropDuplicateFeatures()),\n",
        "])\n",
        "\n",
        "pipe.fit(X_train)\n",
        "\n",
        "# remove features\n",
        "\n",
        "X_train = pipe.transform(X_train)\n",
        "X_test = pipe.transform(X_test)\n",
        "\n",
        "X_train.shape, X_test.shape"
      ]
    },
    {
      "cell_type": "markdown",
      "metadata": {
        "id": "crj57uw3ZHXZ"
      },
      "source": [
        "### Recursive Feature Elimination"
      ]
    },
    {
      "cell_type": "code",
      "execution_count": 8,
      "metadata": {
        "scrolled": true,
        "id": "NjnZn2jkZHXZ"
      },
      "outputs": [],
      "source": [
        "# the ML model for which we want to select features\n",
        "\n",
        "model = GradientBoostingClassifier(\n",
        "    n_estimators=10,\n",
        "    max_depth=2,\n",
        "    random_state=10,\n",
        ")"
      ]
    },
    {
      "cell_type": "code",
      "execution_count": 9,
      "metadata": {
        "id": "xQTtSDq4ZHXa",
        "outputId": "2006ef4f-a52a-4ce9-bbe0-9118a397e784",
        "colab": {
          "base_uri": "https://localhost:8080/"
        }
      },
      "outputs": [
        {
          "output_type": "execute_result",
          "data": {
            "text/plain": [
              "RecursiveFeatureElimination(cv=2,\n",
              "                            estimator=GradientBoostingClassifier(max_depth=2,\n",
              "                                                                 n_estimators=10,\n",
              "                                                                 random_state=10),\n",
              "                            threshold=0.0005)"
            ]
          },
          "metadata": {},
          "execution_count": 9
        }
      ],
      "source": [
        "# Setup the RFE selector\n",
        "\n",
        "sel = RecursiveFeatureElimination(\n",
        "    variables=None, # automatically evaluate all numerical variables\n",
        "    estimator = model, # the ML model\n",
        "    scoring = 'roc_auc', # the metric we want to evalute\n",
        "    threshold = 0.0005, # the maximum performance drop allowed to remove a feature\n",
        "    cv=2, # cross-validation\n",
        ")\n",
        "\n",
        "# this may take quite a while, because\n",
        "# we are building a lot of models with cross-validation\n",
        "sel.fit(X_train, y_train)"
      ]
    },
    {
      "cell_type": "code",
      "execution_count": 10,
      "metadata": {
        "id": "5n-gr0MCZHXa",
        "outputId": "7fd7201f-ed3c-437d-c858-f523d90516a8",
        "colab": {
          "base_uri": "https://localhost:8080/"
        }
      },
      "outputs": [
        {
          "output_type": "execute_result",
          "data": {
            "text/plain": [
              "0.7989005422137565"
            ]
          },
          "metadata": {},
          "execution_count": 10
        }
      ],
      "source": [
        "# performance of model trained using all features\n",
        "\n",
        "sel.initial_model_performance_"
      ]
    },
    {
      "cell_type": "code",
      "execution_count": 11,
      "metadata": {
        "id": "ia3YR0j9ZHXa",
        "outputId": "a68aa952-910e-4660-fcda-bb33d5a49c04",
        "colab": {
          "base_uri": "https://localhost:8080/",
          "height": 418
        }
      },
      "outputs": [
        {
          "output_type": "display_data",
          "data": {
            "text/plain": [
              "<Figure size 1440x432 with 1 Axes>"
            ],
            "image/png": "[encoded data removed]"
          },
          "metadata": {
            "needs_background": "light"
          }
        }
      ],
      "source": [
        "# importance of all features based of initial model\n",
        "\n",
        "sel.feature_importances_.plot.bar(figsize=(20,6))\n",
        "plt.xlabel('Features')\n",
        "plt.ylabel('Importance')\n",
        "plt.show()"
      ]
    },
    {
      "cell_type": "code",
      "execution_count": 12,
      "metadata": {
        "scrolled": true,
        "id": "Dp0D_j-cZHXb",
        "outputId": "816e947a-ad19-4a77-b727-9720d071fa5f",
        "colab": {
          "base_uri": "https://localhost:8080/",
          "height": 418
        }
      },
      "outputs": [
        {
          "output_type": "display_data",
          "data": {
            "text/plain": [
              "<Figure size 1440x432 with 1 Axes>"
            ],
            "image/png": "[encoded data removed]"
          },
          "metadata": {
            "needs_background": "light"
          }
        }
      ],
      "source": [
        "pd.Series(sel.performance_drifts_).plot.bar(figsize=(20,6))\n",
        "plt.xlabel('Features')\n",
        "plt.ylabel('Performance change when feature was added')\n",
        "plt.show()"
      ]
    },
    {
      "cell_type": "code",
      "execution_count": 13,
      "metadata": {
        "id": "oYU_rMewZHXb",
        "outputId": "bfe938a9-202e-4344-e943-89b601bb1b5a",
        "colab": {
          "base_uri": "https://localhost:8080/"
        }
      },
      "outputs": [
        {
          "output_type": "execute_result",
          "data": {
            "text/plain": [
              "147"
            ]
          },
          "metadata": {},
          "execution_count": 13
        }
      ],
      "source": [
        "# Number of features that will be removed\n",
        "\n",
        "len(sel.features_to_drop_)"
      ]
    },
    {
      "cell_type": "code",
      "execution_count": 14,
      "metadata": {
        "id": "PIl-fJo4ZHXb",
        "outputId": "95dce3d0-8a35-4776-b763-ce246dd1665d",
        "colab": {
          "base_uri": "https://localhost:8080/"
        }
      },
      "outputs": [
        {
          "output_type": "execute_result",
          "data": {
            "text/plain": [
              "((35000, 5), (15000, 5))"
            ]
          },
          "metadata": {},
          "execution_count": 14
        }
      ],
      "source": [
        "# select features\n",
        "\n",
        "X_train = sel.transform(X_train)\n",
        "X_test = sel.transform(X_test)\n",
        "\n",
        "X_train.shape, X_test.shape"
      ]
    },
    {
      "cell_type": "code",
      "execution_count": 15,
      "metadata": {
        "id": "1G2hI2zDZHXb",
        "outputId": "ff142fb2-9996-44fd-be25-a9b4bc75719a",
        "colab": {
          "base_uri": "https://localhost:8080/"
        }
      },
      "outputs": [
        {
          "output_type": "stream",
          "name": "stdout",
          "text": [
            "Test selected features ROC AUC=0.790604\n"
          ]
        }
      ],
      "source": [
        "# now for comparison\n",
        "# fit the model with the selected features\n",
        "model.fit(X_train, y_train)\n",
        "\n",
        "# make predictions\n",
        "y_pred_test = model.predict_proba(X_test)[:, 1]\n",
        "\n",
        "# calculate roc-auc\n",
        "roc_final = roc_auc_score(y_test, y_pred_test)\n",
        "print('Test selected features ROC AUC=%f' % (roc_final))"
      ]
    },
    {
      "cell_type": "markdown",
      "metadata": {
        "id": "CIW5S7AEZHXb"
      },
      "source": [
        "As you can see, the Gradient Boosting model built with 5 features shows a similar performance than the one built the full dataset (you need to scroll up to find this value, we calculated a few cells ago)."
      ]
    },
    {
      "cell_type": "markdown",
      "metadata": {
        "id": "ssUm4AKQZHXc"
      },
      "source": [
        "## Regression"
      ]
    },
    {
      "cell_type": "code",
      "execution_count": 17,
      "metadata": {
        "id": "G548LY29ZHXc",
        "outputId": "ebeae368-db10-407e-91cd-8f15e8fafef0",
        "colab": {
          "base_uri": "https://localhost:8080/"
        }
      },
      "outputs": [
        {
          "output_type": "execute_result",
          "data": {
            "text/plain": [
              "(1460, 81)"
            ]
          },
          "metadata": {},
          "execution_count": 17
        }
      ],
      "source": [
        "# load dataset\n",
        "\n",
        "data = pd.read_csv('https://raw.githubusercontent.com/Venkatpandey/DataScience_ML/main/dataset/houseprice.csv')\n",
        "data.shape"
      ]
    },
    {
      "cell_type": "code",
      "execution_count": 18,
      "metadata": {
        "id": "U1Fqz3P-ZHXc",
        "outputId": "d314f5b5-29ee-4c5e-8a52-1fa68db0a054",
        "colab": {
          "base_uri": "https://localhost:8080/"
        }
      },
      "outputs": [
        {
          "output_type": "execute_result",
          "data": {
            "text/plain": [
              "(1460, 38)"
            ]
          },
          "metadata": {},
          "execution_count": 18
        }
      ],
      "source": [
        "# for simplicity I will use only numerical variables\n",
        "# select numerical columns:\n",
        "\n",
        "numerics = ['int16', 'int32', 'int64', 'float16', 'float32', 'float64']\n",
        "numerical_vars = list(data.select_dtypes(include=numerics).columns)\n",
        "data = data[numerical_vars]\n",
        "data.shape"
      ]
    },
    {
      "cell_type": "code",
      "execution_count": 19,
      "metadata": {
        "id": "R7lVsVQ5ZHXc",
        "outputId": "e2566168-a9aa-436b-a05f-cbb4d0e0f848",
        "colab": {
          "base_uri": "https://localhost:8080/"
        }
      },
      "outputs": [
        {
          "output_type": "execute_result",
          "data": {
            "text/plain": [
              "((1022, 36), (438, 36))"
            ]
          },
          "metadata": {},
          "execution_count": 19
        }
      ],
      "source": [
        "# separate train and test sets\n",
        "X_train, X_test, y_train, y_test = train_test_split(\n",
        "    data.drop(labels=['Id','SalePrice'], axis=1),\n",
        "    data['SalePrice'],\n",
        "    test_size=0.3,\n",
        "    random_state=0)\n",
        "\n",
        "X_train.shape, X_test.shape"
      ]
    },
    {
      "cell_type": "code",
      "execution_count": 20,
      "metadata": {
        "id": "hoVUgWbdZHXc"
      },
      "outputs": [],
      "source": [
        "X_train = X_train.fillna(0)\n",
        "X_test = X_test.fillna(0)"
      ]
    },
    {
      "cell_type": "markdown",
      "metadata": {
        "id": "dVTUp4sbZHXc"
      },
      "source": [
        "### Recursive Feature Elimination"
      ]
    },
    {
      "cell_type": "code",
      "execution_count": 21,
      "metadata": {
        "scrolled": false,
        "id": "Dc7aLyQFZHXc",
        "outputId": "c38b16b7-ac97-4e63-b926-77a874afdbf1",
        "colab": {
          "base_uri": "https://localhost:8080/"
        }
      },
      "outputs": [
        {
          "output_type": "execute_result",
          "data": {
            "text/plain": [
              "RecursiveFeatureElimination(estimator=GradientBoostingRegressor(max_depth=4,\n",
              "                                                                n_estimators=10,\n",
              "                                                                random_state=10),\n",
              "                            scoring='r2', threshold=0.001)"
            ]
          },
          "metadata": {},
          "execution_count": 21
        }
      ],
      "source": [
        "# build initial model using all the features\n",
        "model = GradientBoostingRegressor(n_estimators=10, max_depth=4, random_state=10)\n",
        "\n",
        "# Setup the RFE selector\n",
        "\n",
        "sel = RecursiveFeatureElimination(\n",
        "    variables=None, # automatically evaluate all numerical variables\n",
        "    estimator = model, # the ML model\n",
        "    scoring = 'r2', # the metric we want to evalute\n",
        "    threshold = 0.001, # the maximum performance drop allowed to remove a feature\n",
        "    cv=3, # cross-validation\n",
        ")\n",
        "\n",
        "# this may take quite a while, because\n",
        "# we are building a lot of models with cross-validation\n",
        "sel.fit(X_train, y_train)"
      ]
    },
    {
      "cell_type": "code",
      "execution_count": 22,
      "metadata": {
        "id": "KEI8J6loZHXd",
        "outputId": "cac9e151-551f-4bb3-ec23-90aad4bd8293",
        "colab": {
          "base_uri": "https://localhost:8080/"
        }
      },
      "outputs": [
        {
          "output_type": "execute_result",
          "data": {
            "text/plain": [
              "0.7007152795529389"
            ]
          },
          "metadata": {},
          "execution_count": 22
        }
      ],
      "source": [
        "# performance of model trained using all features\n",
        "\n",
        "sel.initial_model_performance_"
      ]
    },
    {
      "cell_type": "code",
      "execution_count": 23,
      "metadata": {
        "scrolled": false,
        "id": "sZGXQtAcZHXd",
        "outputId": "42b3bff1-af39-40af-a00d-2c271d1d0470",
        "colab": {
          "base_uri": "https://localhost:8080/",
          "height": 454
        }
      },
      "outputs": [
        {
          "output_type": "display_data",
          "data": {
            "text/plain": [
              "<Figure size 1440x432 with 1 Axes>"
            ],
            "image/png": "[encoded data removed]"
          },
          "metadata": {
            "needs_background": "light"
          }
        }
      ],
      "source": [
        "# importance of all features based of initial model\n",
        "\n",
        "sel.feature_importances_.plot.bar(figsize=(20,6))\n",
        "plt.xlabel('Features')\n",
        "plt.ylabel('Importance')\n",
        "plt.show()"
      ]
    },
    {
      "cell_type": "code",
      "execution_count": 24,
      "metadata": {
        "id": "L59zRIbiZHXd",
        "outputId": "91185852-95f3-4f72-ced4-0f58183547a2",
        "colab": {
          "base_uri": "https://localhost:8080/",
          "height": 454
        }
      },
      "outputs": [
        {
          "output_type": "display_data",
          "data": {
            "text/plain": [
              "<Figure size 1440x432 with 1 Axes>"
            ],
            "image/png": "[encoded data removed]"
          },
          "metadata": {
            "needs_background": "light"
          }
        }
      ],
      "source": [
        "pd.Series(sel.performance_drifts_).plot.bar(figsize=(20,6))\n",
        "plt.xlabel('Features')\n",
        "plt.ylabel('Performance change when feature was added')\n",
        "plt.show()"
      ]
    },
    {
      "cell_type": "code",
      "execution_count": 25,
      "metadata": {
        "id": "SeKUxI5JZHXd",
        "outputId": "5b4cfb4e-1f9f-4246-fca8-1aa4b87208bc",
        "colab": {
          "base_uri": "https://localhost:8080/"
        }
      },
      "outputs": [
        {
          "output_type": "execute_result",
          "data": {
            "text/plain": [
              "13"
            ]
          },
          "metadata": {},
          "execution_count": 25
        }
      ],
      "source": [
        "# Number of features that will be removed\n",
        "\n",
        "len(sel.features_to_drop_)"
      ]
    },
    {
      "cell_type": "code",
      "execution_count": 26,
      "metadata": {
        "id": "cMqPaZx9ZHXd",
        "outputId": "56e551cc-134d-4e3a-ba04-5e2c0434f079",
        "colab": {
          "base_uri": "https://localhost:8080/"
        }
      },
      "outputs": [
        {
          "output_type": "execute_result",
          "data": {
            "text/plain": [
              "((1022, 23), (438, 23))"
            ]
          },
          "metadata": {},
          "execution_count": 26
        }
      ],
      "source": [
        "X_train = sel.transform(X_train)\n",
        "X_test = sel.transform(X_test)\n",
        "\n",
        "X_train.shape, X_test.shape"
      ]
    },
    {
      "cell_type": "code",
      "execution_count": 27,
      "metadata": {
        "id": "ef_ztgKFZHXd",
        "outputId": "4cdff248-0fed-4b4f-ccca-f5182a9d0ebb",
        "colab": {
          "base_uri": "https://localhost:8080/"
        }
      },
      "outputs": [
        {
          "output_type": "stream",
          "name": "stdout",
          "text": [
            "Test selected features r2 = 0.724467\n"
          ]
        }
      ],
      "source": [
        "# finally let's test the performance of the model \n",
        "# built on the selected features\n",
        "\n",
        "# fit the model with the selected features\n",
        "model.fit(X_train, y_train)\n",
        "\n",
        "# make predictions\n",
        "y_pred_test = model.predict(X_test)\n",
        "\n",
        "# calculate roc-auc\n",
        "r2_final = r2_score(y_test, y_pred_test)\n",
        "print('Test selected features r2 = %f' % (r2_final))"
      ]
    },
    {
      "cell_type": "markdown",
      "metadata": {
        "id": "Z7Y0zg22ZHXd"
      },
      "source": [
        "The model built with 23 features shows similar or slightly better performance! (you need to scroll up to find this value, we calculated a few cells ago)."
      ]
    },
    {
      "cell_type": "markdown",
      "metadata": {
        "id": "gNO4E4DOZHXd"
      },
      "source": [
        "That is all for this lecture, I hope you enjoyed it and see you in the next one!"
      ]
    }
  ],
  "metadata": {
    "kernelspec": {
      "display_name": "fengine",
      "language": "python",
      "name": "fengine"
    },
    "language_info": {
      "codemirror_mode": {
        "name": "ipython",
        "version": 3
      },
      "file_extension": ".py",
      "mimetype": "text/x-python",
      "name": "python",
      "nbconvert_exporter": "python",
      "pygments_lexer": "ipython3",
      "version": "3.8.2"
    },
    "toc": {
      "base_numbering": 1,
      "nav_menu": {},
      "number_sections": true,
      "sideBar": true,
      "skip_h1_title": false,
      "title_cell": "Table of Contents",
      "title_sidebar": "Contents",
      "toc_cell": false,
      "toc_position": {},
      "toc_section_display": "block",
      "toc_window_display": true
    },
    "colab": {
      "name": "11.5-Recursive-feature-elimination-with-Feature-engine.ipynb",
      "provenance": [],
      "include_colab_link": true
    }
  },
  "nbformat": 4,
  "nbformat_minor": 0
}