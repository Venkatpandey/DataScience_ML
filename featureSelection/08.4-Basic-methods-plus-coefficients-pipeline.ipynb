{
  "cells": [
    {
      "cell_type": "markdown",
      "metadata": {
        "id": "view-in-github",
        "colab_type": "text"
      },
      "source": [
        "<a href=\"https://colab.research.google.com/github/Venkatpandey/DataScience_ML/blob/main/featureSelection/08.4-Basic-methods-plus-coefficients-pipeline.ipynb\" target=\"_parent\"><img src=\"https://colab.research.google.com/assets/colab-badge.svg\" alt=\"Open In Colab\"/></a>"
      ]
    },
    {
      "cell_type": "markdown",
      "metadata": {
        "id": "Pa4mpMje62rb"
      },
      "source": [
        "## Feature selection with linear models, review\n",
        "### Putting it all together"
      ]
    },
    {
      "cell_type": "code",
      "execution_count": 24,
      "metadata": {
        "id": "T7zQN30J62re"
      },
      "outputs": [],
      "source": [
        "import pandas as pd\n",
        "import numpy as np\n",
        "import matplotlib.pyplot as plt\n",
        "\n",
        "from sklearn.model_selection import train_test_split\n",
        "from sklearn.feature_selection import VarianceThreshold\n",
        "\n",
        "from sklearn.preprocessing import StandardScaler\n",
        "from sklearn.linear_model import LogisticRegression\n",
        "from sklearn.feature_selection import SelectFromModel\n",
        "from sklearn.metrics import roc_auc_score"
      ]
    },
    {
      "cell_type": "code",
      "execution_count": 25,
      "metadata": {
        "id": "ZVOKKabK62rf",
        "outputId": "d0b3fd94-ed8f-4529-f5c5-33d612bc1f85",
        "colab": {
          "base_uri": "https://localhost:8080/"
        }
      },
      "outputs": [
        {
          "output_type": "execute_result",
          "data": {
            "text/plain": [
              "(50000, 301)"
            ]
          },
          "metadata": {},
          "execution_count": 25
        }
      ],
      "source": [
        "# load the Santander customer satisfaction dataset from Kaggle\n",
        "\n",
        "data = pd.read_csv('https://raw.githubusercontent.com/Venkatpandey/DataScience_ML/main/dataset/dataset_1.csv')\n",
        "data.shape"
      ]
    },
    {
      "cell_type": "code",
      "execution_count": 26,
      "metadata": {
        "id": "BKDWj5jn62rg",
        "outputId": "ef0a2d85-fff1-4973-a957-c54df1d43390",
        "colab": {
          "base_uri": "https://localhost:8080/"
        }
      },
      "outputs": [
        {
          "output_type": "execute_result",
          "data": {
            "text/plain": [
              "((35000, 300), (15000, 300))"
            ]
          },
          "metadata": {},
          "execution_count": 26
        }
      ],
      "source": [
        "# separate dataset into train and test\n",
        "X_train, X_test, y_train, y_test = train_test_split(\n",
        "    data.drop(labels=['target'], axis=1),\n",
        "    data['target'],\n",
        "    test_size=0.3,\n",
        "    random_state=0)\n",
        "\n",
        "X_train.shape, X_test.shape"
      ]
    },
    {
      "cell_type": "code",
      "execution_count": 27,
      "metadata": {
        "id": "GjbmYWfL62rg"
      },
      "outputs": [],
      "source": [
        "# I keep a copy of the dataset with all the variables\n",
        "# to compare the performance of machine learning models\n",
        "# at the end of the notebook\n",
        "\n",
        "X_train_original = X_train.copy()\n",
        "X_test_original = X_test.copy()"
      ]
    },
    {
      "cell_type": "markdown",
      "metadata": {
        "id": "ncRt9Pct62rg"
      },
      "source": [
        "### Remove constant features"
      ]
    },
    {
      "cell_type": "code",
      "execution_count": 28,
      "metadata": {
        "id": "ktT6LZi562rh",
        "outputId": "6fad1f4c-c09c-4154-ae91-70f732bca43b",
        "colab": {
          "base_uri": "https://localhost:8080/"
        }
      },
      "outputs": [
        {
          "output_type": "execute_result",
          "data": {
            "text/plain": [
              "((35000, 266), (15000, 266))"
            ]
          },
          "metadata": {},
          "execution_count": 28
        }
      ],
      "source": [
        "constant_features = [\n",
        "    feat for feat in X_train.columns if X_train[feat].std() == 0\n",
        "]\n",
        "\n",
        "X_train.drop(labels=constant_features, axis=1, inplace=True)\n",
        "X_test.drop(labels=constant_features, axis=1, inplace=True)\n",
        "\n",
        "X_train.shape, X_test.shape"
      ]
    },
    {
      "cell_type": "markdown",
      "metadata": {
        "id": "QDjPevzy62rh"
      },
      "source": [
        "### Remove quasi-constant features"
      ]
    },
    {
      "cell_type": "code",
      "execution_count": 29,
      "metadata": {
        "id": "cjgYIcFD62ri",
        "outputId": "d79a4e30-568c-4faf-916a-c0158ebaf60e",
        "colab": {
          "base_uri": "https://localhost:8080/"
        }
      },
      "outputs": [
        {
          "output_type": "execute_result",
          "data": {
            "text/plain": [
              "215"
            ]
          },
          "metadata": {},
          "execution_count": 29
        }
      ],
      "source": [
        "# find features with low variance\n",
        "sel = VarianceThreshold(threshold=0.01)\n",
        "sel.fit(X_train)  \n",
        "\n",
        "# how many not quasi-constant?\n",
        "sum(sel.get_support()) "
      ]
    },
    {
      "cell_type": "code",
      "execution_count": 30,
      "metadata": {
        "id": "BBINrORz62ri"
      },
      "outputs": [],
      "source": [
        "features_to_keep = X_train.columns[sel.get_support()]"
      ]
    },
    {
      "cell_type": "code",
      "execution_count": 31,
      "metadata": {
        "id": "8q--WbCc62rj",
        "outputId": "8d91dcf2-c0e4-4121-954d-13549f3cb7cf",
        "colab": {
          "base_uri": "https://localhost:8080/"
        }
      },
      "outputs": [
        {
          "output_type": "execute_result",
          "data": {
            "text/plain": [
              "((35000, 215), (15000, 215))"
            ]
          },
          "metadata": {},
          "execution_count": 31
        }
      ],
      "source": [
        "# remove the features\n",
        "X_train = sel.transform(X_train)\n",
        "X_test = sel.transform(X_test)\n",
        "\n",
        "X_train.shape, X_test.shape"
      ]
    },
    {
      "cell_type": "code",
      "execution_count": 32,
      "metadata": {
        "id": "XTmslEib62rj"
      },
      "outputs": [],
      "source": [
        "# sklearn transformations lead to numpy arrays\n",
        "# here we transform the arrays back to dataframes\n",
        "\n",
        "X_train= pd.DataFrame(X_train)\n",
        "X_train.columns = features_to_keep\n",
        "\n",
        "X_test= pd.DataFrame(X_test)\n",
        "X_test.columns = features_to_keep"
      ]
    },
    {
      "cell_type": "markdown",
      "metadata": {
        "id": "GD9bqrmu62rj"
      },
      "source": [
        "### Remove duplicated features"
      ]
    },
    {
      "cell_type": "code",
      "execution_count": 33,
      "metadata": {
        "scrolled": true,
        "id": "woTOpDqR62rk",
        "outputId": "48bd55c2-e2d9-46b8-f730-d936c8d833cb",
        "colab": {
          "base_uri": "https://localhost:8080/"
        }
      },
      "outputs": [
        {
          "output_type": "stream",
          "name": "stdout",
          "text": [
            "0\n",
            "10\n",
            "20\n",
            "30\n",
            "40\n",
            "50\n",
            "60\n",
            "70\n",
            "80\n",
            "90\n",
            "100\n",
            "110\n",
            "120\n",
            "130\n",
            "140\n",
            "150\n",
            "160\n",
            "170\n",
            "180\n",
            "190\n",
            "200\n",
            "210\n"
          ]
        },
        {
          "output_type": "execute_result",
          "data": {
            "text/plain": [
              "10"
            ]
          },
          "metadata": {},
          "execution_count": 33
        }
      ],
      "source": [
        "duplicated_feat = []\n",
        "for i in range(0, len(X_train.columns)):\n",
        "    if i % 10 == 0:  # this helps me understand how the loop is going\n",
        "        print(i)\n",
        "\n",
        "    col_1 = X_train.columns[i]\n",
        "\n",
        "    for col_2 in X_train.columns[i + 1:]:\n",
        "        if X_train[col_1].equals(X_train[col_2]):\n",
        "            duplicated_feat.append(col_2)\n",
        "            \n",
        "len(duplicated_feat)"
      ]
    },
    {
      "cell_type": "code",
      "execution_count": 34,
      "metadata": {
        "id": "RfocAMvb62rk",
        "outputId": "a65ffa82-52c5-4967-cb9a-3227ae3bd280",
        "colab": {
          "base_uri": "https://localhost:8080/"
        }
      },
      "outputs": [
        {
          "output_type": "execute_result",
          "data": {
            "text/plain": [
              "((35000, 205), (15000, 205))"
            ]
          },
          "metadata": {},
          "execution_count": 34
        }
      ],
      "source": [
        "# remove duplicated features\n",
        "X_train.drop(labels=duplicated_feat, axis=1, inplace=True)\n",
        "X_test.drop(labels=duplicated_feat, axis=1, inplace=True)\n",
        "\n",
        "X_train.shape, X_test.shape"
      ]
    },
    {
      "cell_type": "code",
      "execution_count": 35,
      "metadata": {
        "id": "osHfZKmE62rk"
      },
      "outputs": [],
      "source": [
        "# I keep a copy of the dataset except constant, quasi-constant and duplicated variables\n",
        "\n",
        "X_train_basic_filter = X_train.copy()\n",
        "X_test_basic_filter = X_test.copy()"
      ]
    },
    {
      "cell_type": "markdown",
      "metadata": {
        "id": "pjWfPPK862rk"
      },
      "source": [
        "### Remove correlated features"
      ]
    },
    {
      "cell_type": "code",
      "execution_count": 36,
      "metadata": {
        "id": "TxkrbcnU62rk",
        "outputId": "86e9f285-9022-444c-a448-07caf70ee3d1",
        "colab": {
          "base_uri": "https://localhost:8080/"
        }
      },
      "outputs": [
        {
          "output_type": "stream",
          "name": "stdout",
          "text": [
            "correlated features:  93\n"
          ]
        }
      ],
      "source": [
        "def correlation(dataset, threshold):\n",
        "    col_corr = set()  # Set of all the names of correlated columns\n",
        "    corr_matrix = dataset.corr()\n",
        "    for i in range(len(corr_matrix.columns)):\n",
        "        for j in range(i):\n",
        "            if abs(corr_matrix.iloc[i, j]) > threshold: # we are interested in absolute coeff value\n",
        "                colname = corr_matrix.columns[i]  # getting the name of column\n",
        "                col_corr.add(colname)\n",
        "    return col_corr\n",
        "\n",
        "corr_features = correlation(X_train, 0.8)\n",
        "print('correlated features: ', len(set(corr_features)) )"
      ]
    },
    {
      "cell_type": "code",
      "execution_count": 37,
      "metadata": {
        "id": "_n7LlZlH62rl",
        "outputId": "89868bf3-7ad3-49b9-b955-a27669e3a71a",
        "colab": {
          "base_uri": "https://localhost:8080/"
        }
      },
      "outputs": [
        {
          "output_type": "execute_result",
          "data": {
            "text/plain": [
              "((35000, 112), (15000, 112))"
            ]
          },
          "metadata": {},
          "execution_count": 37
        }
      ],
      "source": [
        "# remove correlated features\n",
        "X_train.drop(labels=corr_features, axis=1, inplace=True)\n",
        "X_test.drop(labels=corr_features, axis=1, inplace=True)\n",
        "\n",
        "X_train.shape, X_test.shape"
      ]
    },
    {
      "cell_type": "code",
      "execution_count": 38,
      "metadata": {
        "id": "1zZbAHbH62rl"
      },
      "outputs": [],
      "source": [
        "# keep a copy of the dataset without correlated features\n",
        "X_train_corr = X_train.copy()\n",
        "X_test_corr = X_test.copy()"
      ]
    },
    {
      "cell_type": "markdown",
      "metadata": {
        "id": "fvOnoT8K62rl"
      },
      "source": [
        "### Select features by the regression coefficients"
      ]
    },
    {
      "cell_type": "code",
      "execution_count": 39,
      "metadata": {
        "id": "BHsYYjtz62rl",
        "outputId": "b7f3f5db-f178-4abf-c3cc-0d7cab9916f4",
        "colab": {
          "base_uri": "https://localhost:8080/"
        }
      },
      "outputs": [
        {
          "output_type": "execute_result",
          "data": {
            "text/plain": [
              "StandardScaler()"
            ]
          },
          "metadata": {},
          "execution_count": 39
        }
      ],
      "source": [
        "scaler = StandardScaler()\n",
        "scaler.fit(X_train)"
      ]
    },
    {
      "cell_type": "code",
      "execution_count": 40,
      "metadata": {
        "id": "yJexaHtT62rl",
        "outputId": "096546b8-c138-45b5-ba52-cf2248b406bb",
        "colab": {
          "base_uri": "https://localhost:8080/"
        }
      },
      "outputs": [
        {
          "output_type": "stream",
          "name": "stderr",
          "text": [
            "/usr/local/lib/python3.7/dist-packages/sklearn/base.py:444: UserWarning: X has feature names, but SelectFromModel was fitted without feature names\n",
            "  f\"X has feature names, but {self.__class__.__name__} was fitted without\"\n",
            "/usr/local/lib/python3.7/dist-packages/sklearn/base.py:444: UserWarning: X has feature names, but SelectFromModel was fitted without feature names\n",
            "  f\"X has feature names, but {self.__class__.__name__} was fitted without\"\n"
          ]
        }
      ],
      "source": [
        "# we use regularisation by setting a low value of C\n",
        "\n",
        "sel_ = SelectFromModel(\n",
        "    LogisticRegression(C=0.0005, random_state=10, max_iter=1000, penalty='l2'))\n",
        "\n",
        "sel_.fit(scaler.transform(X_train), y_train)\n",
        "\n",
        "# select features where coefficient is above the mean\n",
        "# coefficient value and parse again as dataframe\n",
        "# (remember that the output of sklearn is a\n",
        "# numpy array)\n",
        "\n",
        "X_train_coef = pd.DataFrame(sel_.transform(X_train))\n",
        "X_test_coef = pd.DataFrame(sel_.transform(X_test))\n",
        "\n",
        "# add the columns name\n",
        "X_train_coef.columns = X_train.columns[(sel_.get_support())]\n",
        "X_test_coef.columns = X_train.columns[(sel_.get_support())]"
      ]
    },
    {
      "cell_type": "code",
      "execution_count": 41,
      "metadata": {
        "id": "72rH6l0V62rm",
        "outputId": "486a4525-1907-412e-9d25-e0f8d62cd67f",
        "colab": {
          "base_uri": "https://localhost:8080/"
        }
      },
      "outputs": [
        {
          "output_type": "execute_result",
          "data": {
            "text/plain": [
              "((35000, 28), (15000, 28))"
            ]
          },
          "metadata": {},
          "execution_count": 41
        }
      ],
      "source": [
        "X_train_coef.shape, X_test_coef.shape"
      ]
    },
    {
      "cell_type": "markdown",
      "metadata": {
        "id": "NXJykSZF62rm"
      },
      "source": [
        "### Compare the performance in machine learning algorithms"
      ]
    },
    {
      "cell_type": "code",
      "execution_count": 42,
      "metadata": {
        "id": "_uwta5MM62rm"
      },
      "outputs": [],
      "source": [
        "# create a function to train a logistic regression \n",
        "# and compare its performance in the train and test sets\n",
        "\n",
        "def run_logistic(X_train, X_test, y_train, y_test):\n",
        "    \n",
        "    scaler = StandardScaler().fit(X_train)\n",
        "    \n",
        "    logit = LogisticRegression(C=0.0005, random_state=10, max_iter=10000, penalty='l2')\n",
        "    logit.fit(scaler.transform(X_train), y_train)\n",
        "    \n",
        "    print('Train set')\n",
        "    pred = logit.predict_proba(scaler.transform(X_train))\n",
        "    print('Logistic Regression roc-auc: {}'.format(roc_auc_score(y_train, pred[:,1])))\n",
        "    \n",
        "    print('Test set')\n",
        "    pred = logit.predict_proba(scaler.transform(X_test))\n",
        "    print('Logistic Regression roc-auc: {}'.format(roc_auc_score(y_test, pred[:,1])))"
      ]
    },
    {
      "cell_type": "code",
      "execution_count": 43,
      "metadata": {
        "id": "WcQxhDkd62rm",
        "outputId": "081ab4a7-0d30-4231-8ca6-886c00a219b2",
        "colab": {
          "base_uri": "https://localhost:8080/"
        }
      },
      "outputs": [
        {
          "output_type": "stream",
          "name": "stdout",
          "text": [
            "Train set\n",
            "Logistic Regression roc-auc: 0.7844213790053062\n",
            "Test set\n",
            "Logistic Regression roc-auc: 0.7825685631204591\n"
          ]
        }
      ],
      "source": [
        "# original dataset - all variables\n",
        "run_logistic(X_train_original,\n",
        "             X_test_original,\n",
        "             y_train,\n",
        "             y_test)"
      ]
    },
    {
      "cell_type": "code",
      "execution_count": 44,
      "metadata": {
        "id": "1n53kX0h62rm",
        "outputId": "9c8b1d0c-92bc-4725-e1f7-de69f571dac0",
        "colab": {
          "base_uri": "https://localhost:8080/"
        }
      },
      "outputs": [
        {
          "output_type": "stream",
          "name": "stdout",
          "text": [
            "Train set\n",
            "Logistic Regression roc-auc: 0.7841215084117658\n",
            "Test set\n",
            "Logistic Regression roc-auc: 0.7823687162836174\n"
          ]
        }
      ],
      "source": [
        "# filter methods - basic\n",
        "run_logistic(X_train_basic_filter,\n",
        "             X_test_basic_filter,\n",
        "             y_train,\n",
        "             y_test)"
      ]
    },
    {
      "cell_type": "code",
      "execution_count": 45,
      "metadata": {
        "id": "uYnk25XP62rm",
        "outputId": "24136b02-e494-416a-d60b-d23b6d7310e8",
        "colab": {
          "base_uri": "https://localhost:8080/"
        }
      },
      "outputs": [
        {
          "output_type": "stream",
          "name": "stdout",
          "text": [
            "Train set\n",
            "Logistic Regression roc-auc: 0.7775268841746482\n",
            "Test set\n",
            "Logistic Regression roc-auc: 0.7760748408318285\n"
          ]
        }
      ],
      "source": [
        "# filter methods - correlation\n",
        "run_logistic(X_train_corr,\n",
        "             X_test_corr,\n",
        "             y_train,\n",
        "             y_test)"
      ]
    },
    {
      "cell_type": "code",
      "execution_count": 46,
      "metadata": {
        "id": "WMgrzq8162rm",
        "outputId": "0d14a0f5-3c2d-48d7-ba83-f5faed74b6af",
        "colab": {
          "base_uri": "https://localhost:8080/"
        }
      },
      "outputs": [
        {
          "output_type": "stream",
          "name": "stdout",
          "text": [
            "Train set\n",
            "Logistic Regression roc-auc: 0.7754621344319395\n",
            "Test set\n",
            "Logistic Regression roc-auc: 0.7719805239762513\n"
          ]
        }
      ],
      "source": [
        "# embedded methods - Logistic regression coefficients\n",
        "run_logistic(X_train_coef,\n",
        "             X_test_coef,\n",
        "             y_train,\n",
        "             y_test)"
      ]
    },
    {
      "cell_type": "markdown",
      "metadata": {
        "id": "1qM_dgqV62rm"
      },
      "source": [
        "We see that a model with 28 features performs almost as well as a model trained with all the 215 variables!\n",
        "\n",
        "**Exercise**:\n",
        "Change the C in the LogisticRegression model used to select features, and see how that affects the performance of the model trained at the back of this feature selection procedure.\n",
        "\n",
        "That is all for this lecture. I hope you enjoyed it!"
      ]
    },
    {
      "cell_type": "code",
      "execution_count": 46,
      "metadata": {
        "id": "V1nAB-jr62rm"
      },
      "outputs": [],
      "source": [
        ""
      ]
    }
  ],
  "metadata": {
    "kernelspec": {
      "display_name": "fsml",
      "language": "python",
      "name": "fsml"
    },
    "language_info": {
      "codemirror_mode": {
        "name": "ipython",
        "version": 3
      },
      "file_extension": ".py",
      "mimetype": "text/x-python",
      "name": "python",
      "nbconvert_exporter": "python",
      "pygments_lexer": "ipython3",
      "version": "3.8.2"
    },
    "toc": {
      "base_numbering": 1,
      "nav_menu": {},
      "number_sections": true,
      "sideBar": true,
      "skip_h1_title": false,
      "title_cell": "Table of Contents",
      "title_sidebar": "Contents",
      "toc_cell": false,
      "toc_position": {},
      "toc_section_display": "block",
      "toc_window_display": true
    },
    "colab": {
      "name": "08.4-Basic-methods-plus-coefficients-pipeline.ipynb",
      "provenance": [],
      "include_colab_link": true
    }
  },
  "nbformat": 4,
  "nbformat_minor": 0
}