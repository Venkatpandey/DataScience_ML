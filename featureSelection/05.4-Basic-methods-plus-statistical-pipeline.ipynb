{
  "cells": [
    {
      "cell_type": "markdown",
      "metadata": {
        "id": "view-in-github",
        "colab_type": "text"
      },
      "source": [
        "<a href=\"https://colab.research.google.com/github/Venkatpandey/DataScience_ML/blob/main/featureSelection/05.4-Basic-methods-plus-statistical-pipeline.ipynb\" target=\"_parent\"><img src=\"https://colab.research.google.com/assets/colab-badge.svg\" alt=\"Open In Colab\"/></a>"
      ]
    },
    {
      "cell_type": "markdown",
      "metadata": {
        "id": "ePqIrNAJge_x"
      },
      "source": [
        "## Filter Methods - Basics - Plus - Filter statistical tests\n",
        "\n",
        "### Putting it all together"
      ]
    },
    {
      "cell_type": "code",
      "execution_count": 1,
      "metadata": {
        "id": "2h367trwge_0"
      },
      "outputs": [],
      "source": [
        "import numpy as np\n",
        "import pandas as pd\n",
        "\n",
        "import matplotlib.pyplot as plt\n",
        "\n",
        "from sklearn.model_selection import train_test_split\n",
        "from sklearn.feature_selection import VarianceThreshold, f_classif, SelectKBest\n",
        "\n",
        "from sklearn.preprocessing import StandardScaler\n",
        "from sklearn.linear_model import LogisticRegression\n",
        "from sklearn.ensemble import RandomForestClassifier\n",
        "\n",
        "from sklearn.metrics import roc_auc_score"
      ]
    },
    {
      "cell_type": "code",
      "execution_count": 2,
      "metadata": {
        "id": "gvu1AxrVge_1",
        "outputId": "ffdf5823-c4e8-49c4-8eff-edbed91f5845",
        "colab": {
          "base_uri": "https://localhost:8080/"
        }
      },
      "outputs": [
        {
          "output_type": "execute_result",
          "data": {
            "text/plain": [
              "(50000, 301)"
            ]
          },
          "metadata": {},
          "execution_count": 2
        }
      ],
      "source": [
        "# load the Santander customer satisfaction dataset from Kaggle\n",
        "\n",
        "data = pd.read_csv('https://raw.githubusercontent.com/Venkatpandey/DataScience_ML/main/dataset/dataset_1.csv')\n",
        "data.shape"
      ]
    },
    {
      "cell_type": "code",
      "execution_count": 3,
      "metadata": {
        "id": "LnEI7s-_ge_2",
        "outputId": "731091d2-7c82-406d-e38d-8c36781258d3",
        "colab": {
          "base_uri": "https://localhost:8080/"
        }
      },
      "outputs": [
        {
          "output_type": "execute_result",
          "data": {
            "text/plain": [
              "((35000, 300), (15000, 300))"
            ]
          },
          "metadata": {},
          "execution_count": 3
        }
      ],
      "source": [
        "# separate dataset into train and test\n",
        "X_train, X_test, y_train, y_test = train_test_split(\n",
        "    data.drop(labels=['target'], axis=1),\n",
        "    data['target'],\n",
        "    test_size=0.3,\n",
        "    random_state=0)\n",
        "\n",
        "X_train.shape, X_test.shape"
      ]
    },
    {
      "cell_type": "code",
      "execution_count": 4,
      "metadata": {
        "id": "1_UjEpXege_2"
      },
      "outputs": [],
      "source": [
        "# I keep a copy of the dataset with all the variables\n",
        "# to compare the performance of machine learning models\n",
        "# at the end of the notebook\n",
        "\n",
        "X_train_original = X_train.copy()\n",
        "X_test_original = X_test.copy()"
      ]
    },
    {
      "cell_type": "markdown",
      "metadata": {
        "id": "d0xVX2aWge_3"
      },
      "source": [
        "### Remove constant features"
      ]
    },
    {
      "cell_type": "code",
      "execution_count": 5,
      "metadata": {
        "id": "Cx3A8jW_ge_3",
        "outputId": "d33a3fda-5530-457f-bf89-738afba04026",
        "colab": {
          "base_uri": "https://localhost:8080/"
        }
      },
      "outputs": [
        {
          "output_type": "execute_result",
          "data": {
            "text/plain": [
              "((35000, 266), (15000, 266))"
            ]
          },
          "metadata": {},
          "execution_count": 5
        }
      ],
      "source": [
        "constant_features = [\n",
        "    feat for feat in X_train.columns if X_train[feat].std() == 0\n",
        "]\n",
        "\n",
        "X_train.drop(labels=constant_features, axis=1, inplace=True)\n",
        "X_test.drop(labels=constant_features, axis=1, inplace=True)\n",
        "\n",
        "X_train.shape, X_test.shape"
      ]
    },
    {
      "cell_type": "markdown",
      "metadata": {
        "id": "6-bFNbBSge_4"
      },
      "source": [
        "### Remove quasi-constant features"
      ]
    },
    {
      "cell_type": "code",
      "execution_count": 6,
      "metadata": {
        "id": "-0jivZWSge_4",
        "outputId": "3a7ee843-fb11-4354-e619-6641d497340e",
        "colab": {
          "base_uri": "https://localhost:8080/"
        }
      },
      "outputs": [
        {
          "output_type": "execute_result",
          "data": {
            "text/plain": [
              "215"
            ]
          },
          "metadata": {},
          "execution_count": 6
        }
      ],
      "source": [
        "sel = VarianceThreshold(threshold=0.01)\n",
        "\n",
        "sel.fit(X_train) # finds the features with low variance\n",
        "\n",
        "sum(sel.get_support()) # how many not quasi-constant?"
      ]
    },
    {
      "cell_type": "code",
      "execution_count": 7,
      "metadata": {
        "id": "DQzk2vRzge_5"
      },
      "outputs": [],
      "source": [
        "features_to_keep = X_train.columns[sel.get_support()]"
      ]
    },
    {
      "cell_type": "code",
      "execution_count": 8,
      "metadata": {
        "id": "dXb-_Z05ge_6",
        "outputId": "03f6cc22-8ebe-4384-c1a4-21ffe020001c",
        "colab": {
          "base_uri": "https://localhost:8080/"
        }
      },
      "outputs": [
        {
          "output_type": "execute_result",
          "data": {
            "text/plain": [
              "((35000, 215), (15000, 215))"
            ]
          },
          "metadata": {},
          "execution_count": 8
        }
      ],
      "source": [
        "# remove the features\n",
        "\n",
        "X_train = sel.transform(X_train)\n",
        "X_test = sel.transform(X_test)\n",
        "\n",
        "X_train.shape, X_test.shape"
      ]
    },
    {
      "cell_type": "code",
      "execution_count": 9,
      "metadata": {
        "id": "N9VejNRige_6"
      },
      "outputs": [],
      "source": [
        "# sklearn transformations lead to numpy arrays\n",
        "# here I transform the arrays back to dataframes\n",
        "\n",
        "X_train= pd.DataFrame(X_train)\n",
        "X_train.columns = features_to_keep\n",
        "\n",
        "X_test= pd.DataFrame(X_test)\n",
        "X_test.columns = features_to_keep"
      ]
    },
    {
      "cell_type": "markdown",
      "metadata": {
        "id": "SM8Ls_2uge_6"
      },
      "source": [
        "### Remove duplicated features"
      ]
    },
    {
      "cell_type": "code",
      "execution_count": 10,
      "metadata": {
        "scrolled": true,
        "id": "vf553AwMge_6",
        "outputId": "2aff05c9-171f-4dae-a532-8b8d7e5fde48",
        "colab": {
          "base_uri": "https://localhost:8080/"
        }
      },
      "outputs": [
        {
          "output_type": "stream",
          "name": "stdout",
          "text": [
            "0\n",
            "10\n",
            "20\n",
            "30\n",
            "40\n",
            "50\n",
            "60\n",
            "70\n",
            "80\n",
            "90\n",
            "100\n",
            "110\n",
            "120\n",
            "130\n",
            "140\n",
            "150\n",
            "160\n",
            "170\n",
            "180\n",
            "190\n",
            "200\n",
            "210\n"
          ]
        },
        {
          "output_type": "execute_result",
          "data": {
            "text/plain": [
              "10"
            ]
          },
          "metadata": {},
          "execution_count": 10
        }
      ],
      "source": [
        "# check for duplicated features in the training set\n",
        "\n",
        "duplicated_feat = []\n",
        "for i in range(0, len(X_train.columns)):\n",
        "    if i % 10 == 0:  # this helps me understand how the loop is going\n",
        "        print(i)\n",
        "\n",
        "    col_1 = X_train.columns[i]\n",
        "\n",
        "    for col_2 in X_train.columns[i + 1:]:\n",
        "        if X_train[col_1].equals(X_train[col_2]):\n",
        "            duplicated_feat.append(col_2)\n",
        "            \n",
        "len(duplicated_feat)"
      ]
    },
    {
      "cell_type": "code",
      "execution_count": 11,
      "metadata": {
        "id": "Np7DlpYwge_7",
        "outputId": "01622a91-9c0e-4036-b177-7b99b52543a8",
        "colab": {
          "base_uri": "https://localhost:8080/"
        }
      },
      "outputs": [
        {
          "output_type": "execute_result",
          "data": {
            "text/plain": [
              "((35000, 205), (15000, 205))"
            ]
          },
          "metadata": {},
          "execution_count": 11
        }
      ],
      "source": [
        "# remove duplicated features\n",
        "X_train.drop(labels=duplicated_feat, axis=1, inplace=True)\n",
        "X_test.drop(labels=duplicated_feat, axis=1, inplace=True)\n",
        "\n",
        "X_train.shape, X_test.shape"
      ]
    },
    {
      "cell_type": "code",
      "execution_count": 12,
      "metadata": {
        "id": "SPpfbZn1ge_7"
      },
      "outputs": [],
      "source": [
        "# I keep a copy of the dataset except constant and duplicated variables\n",
        "# to measure the performance of machine learning models\n",
        "# at the end of the notebook\n",
        "\n",
        "X_train_basic_filter = X_train.copy()\n",
        "X_test_basic_filter = X_test.copy()"
      ]
    },
    {
      "cell_type": "markdown",
      "metadata": {
        "id": "5LDGTk_4ge_7"
      },
      "source": [
        "### Remove correlated features"
      ]
    },
    {
      "cell_type": "code",
      "execution_count": 13,
      "metadata": {
        "id": "gEqitFhVge_7",
        "outputId": "607049d9-9df0-4778-97d9-b9a851c77af4",
        "colab": {
          "base_uri": "https://localhost:8080/"
        }
      },
      "outputs": [
        {
          "output_type": "stream",
          "name": "stdout",
          "text": [
            "correlated features:  93\n"
          ]
        }
      ],
      "source": [
        "# find and remove correlated features\n",
        "def correlation(dataset, threshold):\n",
        "    \n",
        "    col_corr = set()  # Set of all the names of correlated columns\n",
        "    corr_matrix = dataset.corr()\n",
        "    \n",
        "    for i in range(len(corr_matrix.columns)):\n",
        "        for j in range(i):\n",
        "            # we are interested in absolute coeff value\n",
        "            if abs(corr_matrix.iloc[i, j]) > threshold:\n",
        "                colname = corr_matrix.columns[i]  # getting the name of column\n",
        "                col_corr.add(colname)\n",
        "    \n",
        "    return col_corr\n",
        "\n",
        "\n",
        "corr_features = correlation(X_train, 0.8)\n",
        "print('correlated features: ', len(set(corr_features)))"
      ]
    },
    {
      "cell_type": "code",
      "execution_count": 14,
      "metadata": {
        "id": "X1_DtqzUge_8",
        "outputId": "055e2c1f-008a-4713-92a3-a388b11ccd4a",
        "colab": {
          "base_uri": "https://localhost:8080/"
        }
      },
      "outputs": [
        {
          "output_type": "execute_result",
          "data": {
            "text/plain": [
              "((35000, 112), (15000, 112))"
            ]
          },
          "metadata": {},
          "execution_count": 14
        }
      ],
      "source": [
        "# remove correlated features\n",
        "X_train.drop(labels=corr_features, axis=1, inplace=True)\n",
        "X_test.drop(labels=corr_features, axis=1, inplace=True)\n",
        "\n",
        "X_train.shape, X_test.shape"
      ]
    },
    {
      "cell_type": "code",
      "execution_count": 15,
      "metadata": {
        "id": "C2F9QyUfge_8"
      },
      "outputs": [],
      "source": [
        "# keep a copy of the dataset at  this stage\n",
        "X_train_corr = X_train.copy()\n",
        "X_test_corr = X_test.copy()"
      ]
    },
    {
      "cell_type": "markdown",
      "metadata": {
        "id": "nLRuqHy2ge_8"
      },
      "source": [
        "### Select features based of anova"
      ]
    },
    {
      "cell_type": "code",
      "execution_count": 16,
      "metadata": {
        "id": "YqsNVWfdge_8",
        "outputId": "dbc084c0-8f28-4248-9b64-f972dc40853d",
        "colab": {
          "base_uri": "https://localhost:8080/"
        }
      },
      "outputs": [
        {
          "output_type": "execute_result",
          "data": {
            "text/plain": [
              "((35000, 20), (15000, 20))"
            ]
          },
          "metadata": {},
          "execution_count": 16
        }
      ],
      "source": [
        "sel_ = SelectKBest(f_classif, k=20).fit(X_train, y_train)\n",
        "\n",
        "# capture selected feature names\n",
        "features_to_keep = X_train.columns[sel_.get_support()]\n",
        "\n",
        "# select features\n",
        "X_train_anova = sel_.transform(X_train)\n",
        "X_test_anova = sel_.transform(X_test)\n",
        "\n",
        "# numpy array to dataframe\n",
        "X_train_anova = pd.DataFrame(X_train_anova)\n",
        "X_train_anova.columns = features_to_keep\n",
        "\n",
        "X_test_anova = pd.DataFrame(X_test_anova)\n",
        "X_test_anova.columns = features_to_keep\n",
        "\n",
        "X_train_anova.shape, X_test_anova.shape"
      ]
    },
    {
      "cell_type": "markdown",
      "metadata": {
        "id": "Gm0FYCpxge_9"
      },
      "source": [
        "### Compare the performance in machine learning algorithms"
      ]
    },
    {
      "cell_type": "code",
      "execution_count": 17,
      "metadata": {
        "id": "uIsx2VAjge_9"
      },
      "outputs": [],
      "source": [
        "# create a function to build random forests and\n",
        "# compare its performance in train and test sets\n",
        "\n",
        "def run_randomForests(X_train, X_test, y_train, y_test):\n",
        "    \n",
        "    rf = RandomForestClassifier(n_estimators=200, random_state=39, max_depth=4)\n",
        "    rf.fit(X_train, y_train)\n",
        "    \n",
        "    print('Train set')\n",
        "    pred = rf.predict_proba(X_train)\n",
        "    print('Random Forests roc-auc: {}'.format(roc_auc_score(y_train, pred[:,1])))\n",
        "    \n",
        "    print('Test set')\n",
        "    pred = rf.predict_proba(X_test)\n",
        "    print('Random Forests roc-auc: {}'.format(roc_auc_score(y_test, pred[:,1])))"
      ]
    },
    {
      "cell_type": "code",
      "execution_count": 18,
      "metadata": {
        "id": "pjYxy3xige_9",
        "outputId": "b330f885-5a5a-4d3e-a397-f422a70d1dc8",
        "colab": {
          "base_uri": "https://localhost:8080/"
        }
      },
      "outputs": [
        {
          "output_type": "stream",
          "name": "stdout",
          "text": [
            "Train set\n",
            "Random Forests roc-auc: 0.807612232524249\n",
            "Test set\n",
            "Random Forests roc-auc: 0.7868832427636059\n"
          ]
        }
      ],
      "source": [
        "# original\n",
        "run_randomForests(X_train_original,\n",
        "                  X_test_original,\n",
        "                  y_train, y_test)"
      ]
    },
    {
      "cell_type": "code",
      "execution_count": 19,
      "metadata": {
        "id": "m5kKff4Rge_9",
        "outputId": "82e04c62-57a8-455f-c089-0f08db04ecaa",
        "colab": {
          "base_uri": "https://localhost:8080/"
        }
      },
      "outputs": [
        {
          "output_type": "stream",
          "name": "stdout",
          "text": [
            "Train set\n",
            "Random Forests roc-auc: 0.810290026780428\n",
            "Test set\n",
            "Random Forests roc-auc: 0.7914020645941601\n"
          ]
        }
      ],
      "source": [
        "# filter methods - basic\n",
        "run_randomForests(X_train_basic_filter,\n",
        "                  X_test_basic_filter,\n",
        "                  y_train, y_test)"
      ]
    },
    {
      "cell_type": "code",
      "execution_count": 20,
      "metadata": {
        "id": "Zc-wq3-Xge_9",
        "outputId": "82b8445f-1e77-4ad6-e947-b6faca0bab5b",
        "colab": {
          "base_uri": "https://localhost:8080/"
        }
      },
      "outputs": [
        {
          "output_type": "stream",
          "name": "stdout",
          "text": [
            "Train set\n",
            "Random Forests roc-auc: 0.8066004772684517\n",
            "Test set\n",
            "Random Forests roc-auc: 0.7859521124929707\n"
          ]
        }
      ],
      "source": [
        "# filter methods - correlation\n",
        "run_randomForests(X_train_corr,\n",
        "                  X_test_corr,\n",
        "                  y_train, y_test)"
      ]
    },
    {
      "cell_type": "code",
      "execution_count": 21,
      "metadata": {
        "id": "1P0zjCLsge_9",
        "outputId": "273f7ff8-3389-42e3-91b9-19453b7df5a9",
        "colab": {
          "base_uri": "https://localhost:8080/"
        }
      },
      "outputs": [
        {
          "output_type": "stream",
          "name": "stdout",
          "text": [
            "Train set\n",
            "Random Forests roc-auc: 0.8181634778452822\n",
            "Test set\n",
            "Random Forests roc-auc: 0.7994720109870546\n"
          ]
        }
      ],
      "source": [
        "# filter methods - univariate roc-auc\n",
        "run_randomForests(X_train_anova,\n",
        "                  X_test_anova,\n",
        "                  y_train, y_test)"
      ]
    },
    {
      "cell_type": "markdown",
      "metadata": {
        "id": "-A3u5mJfge_-"
      },
      "source": [
        "As we see, the 20 features we selected using the univariate anova are doing a good job, as the final model does not show a decrease in performance compared to that one using all features."
      ]
    },
    {
      "cell_type": "code",
      "execution_count": 22,
      "metadata": {
        "id": "ST8yLXUyge_-"
      },
      "outputs": [],
      "source": [
        "# create a function to build logistic regression\n",
        "# and compare its performance in train and test sets\n",
        "\n",
        "def run_logistic(X_train, X_test, y_train, y_test):\n",
        "    \n",
        "    scaler = StandardScaler().fit(X_train)\n",
        "    \n",
        "    # function to train and test the performance of logistic regression\n",
        "    logit = LogisticRegression(penalty='l1', random_state=44, max_iter=1000, solver='liblinear')\n",
        "    logit.fit(X_train, y_train)\n",
        "    \n",
        "    print('Train set')\n",
        "    pred = logit.predict_proba(scaler.transform(X_train))\n",
        "    print('Logistic Regression roc-auc: {}'.format(roc_auc_score(y_train, pred[:,1])))\n",
        "    \n",
        "    print('Test set')\n",
        "    pred = logit.predict_proba(scaler.transform(X_test))\n",
        "    print('Logistic Regression roc-auc: {}'.format(roc_auc_score(y_test, pred[:,1])))"
      ]
    },
    {
      "cell_type": "code",
      "execution_count": 23,
      "metadata": {
        "id": "4pCL9Acqge_-",
        "outputId": "f8dc346f-5eb9-40f7-c5a2-f7646fe8e4d8",
        "colab": {
          "base_uri": "https://localhost:8080/"
        }
      },
      "outputs": [
        {
          "output_type": "stream",
          "name": "stdout",
          "text": [
            "Train set\n",
            "Logistic Regression roc-auc: 0.7430426412785165\n",
            "Test set\n",
            "Logistic Regression roc-auc: 0.7514165331434336\n"
          ]
        },
        {
          "output_type": "stream",
          "name": "stderr",
          "text": [
            "/usr/local/lib/python3.7/dist-packages/sklearn/base.py:451: UserWarning: X does not have valid feature names, but LogisticRegression was fitted with feature names\n",
            "  \"X does not have valid feature names, but\"\n",
            "/usr/local/lib/python3.7/dist-packages/sklearn/base.py:451: UserWarning: X does not have valid feature names, but LogisticRegression was fitted with feature names\n",
            "  \"X does not have valid feature names, but\"\n"
          ]
        }
      ],
      "source": [
        "# original\n",
        "run_logistic(X_train_original,\n",
        "             X_test_original,\n",
        "             y_train, y_test)"
      ]
    },
    {
      "cell_type": "code",
      "execution_count": 24,
      "metadata": {
        "id": "ed91yCTIge_-",
        "outputId": "70c7ce3c-d152-4739-dbb5-2e5d86e2ca31",
        "colab": {
          "base_uri": "https://localhost:8080/"
        }
      },
      "outputs": [
        {
          "output_type": "stream",
          "name": "stdout",
          "text": [
            "Train set\n",
            "Logistic Regression roc-auc: 0.7410468829538979\n",
            "Test set\n",
            "Logistic Regression roc-auc: 0.7489081614486635\n"
          ]
        },
        {
          "output_type": "stream",
          "name": "stderr",
          "text": [
            "/usr/local/lib/python3.7/dist-packages/sklearn/base.py:451: UserWarning: X does not have valid feature names, but LogisticRegression was fitted with feature names\n",
            "  \"X does not have valid feature names, but\"\n",
            "/usr/local/lib/python3.7/dist-packages/sklearn/base.py:451: UserWarning: X does not have valid feature names, but LogisticRegression was fitted with feature names\n",
            "  \"X does not have valid feature names, but\"\n"
          ]
        }
      ],
      "source": [
        "# filter methods - basic\n",
        "\n",
        "run_logistic(X_train_basic_filter,\n",
        "             X_test_basic_filter,\n",
        "             y_train, y_test)"
      ]
    },
    {
      "cell_type": "code",
      "execution_count": 25,
      "metadata": {
        "id": "Mm1DLOIYge_-",
        "outputId": "69b0d9cb-f44c-4fb1-f854-be15593e68d1",
        "colab": {
          "base_uri": "https://localhost:8080/"
        }
      },
      "outputs": [
        {
          "output_type": "stream",
          "name": "stdout",
          "text": [
            "Train set\n",
            "Logistic Regression roc-auc: 0.7307283864065812\n",
            "Test set\n",
            "Logistic Regression roc-auc: 0.7227227435986561\n"
          ]
        },
        {
          "output_type": "stream",
          "name": "stderr",
          "text": [
            "/usr/local/lib/python3.7/dist-packages/sklearn/base.py:451: UserWarning: X does not have valid feature names, but LogisticRegression was fitted with feature names\n",
            "  \"X does not have valid feature names, but\"\n",
            "/usr/local/lib/python3.7/dist-packages/sklearn/base.py:451: UserWarning: X does not have valid feature names, but LogisticRegression was fitted with feature names\n",
            "  \"X does not have valid feature names, but\"\n"
          ]
        }
      ],
      "source": [
        "# filter methods - correlation\n",
        "\n",
        "run_logistic(X_train_corr,\n",
        "             X_test_corr,\n",
        "             y_train, y_test)"
      ]
    },
    {
      "cell_type": "code",
      "execution_count": 26,
      "metadata": {
        "id": "iqF0Ts9oge_-",
        "outputId": "beb22c2e-6c6c-4324-e589-7c5febe47fa9",
        "colab": {
          "base_uri": "https://localhost:8080/"
        }
      },
      "outputs": [
        {
          "output_type": "stream",
          "name": "stdout",
          "text": [
            "Train set\n",
            "Logistic Regression roc-auc: 0.7385311277520487\n",
            "Test set\n",
            "Logistic Regression roc-auc: 0.7256599156189685\n"
          ]
        },
        {
          "output_type": "stream",
          "name": "stderr",
          "text": [
            "/usr/local/lib/python3.7/dist-packages/sklearn/base.py:451: UserWarning: X does not have valid feature names, but LogisticRegression was fitted with feature names\n",
            "  \"X does not have valid feature names, but\"\n",
            "/usr/local/lib/python3.7/dist-packages/sklearn/base.py:451: UserWarning: X does not have valid feature names, but LogisticRegression was fitted with feature names\n",
            "  \"X does not have valid feature names, but\"\n"
          ]
        }
      ],
      "source": [
        "# filter methods - univariate anova\n",
        "\n",
        "run_logistic(X_train_anova,\n",
        "             X_test_anova,\n",
        "             y_train, y_test)"
      ]
    },
    {
      "cell_type": "markdown",
      "metadata": {
        "id": "oC_v9Nnyge_-"
      },
      "source": [
        "For logistic regression, we see that when we removed correlated features, we seemed to have removed some features that were good at predicting the target, as the performance dropped a bit.\n",
        "\n",
        "TODO: Apply the univariate anova without removing features by correlation, to see if the selected features are good enough?\n"
      ]
    },
    {
      "cell_type": "code",
      "execution_count": 26,
      "metadata": {
        "id": "ZgjLqPr_ge_-"
      },
      "outputs": [],
      "source": [
        ""
      ]
    }
  ],
  "metadata": {
    "kernelspec": {
      "display_name": "fsml",
      "language": "python",
      "name": "fsml"
    },
    "language_info": {
      "codemirror_mode": {
        "name": "ipython",
        "version": 3
      },
      "file_extension": ".py",
      "mimetype": "text/x-python",
      "name": "python",
      "nbconvert_exporter": "python",
      "pygments_lexer": "ipython3",
      "version": "3.8.2"
    },
    "toc": {
      "base_numbering": 1,
      "nav_menu": {},
      "number_sections": true,
      "sideBar": true,
      "skip_h1_title": false,
      "title_cell": "Table of Contents",
      "title_sidebar": "Contents",
      "toc_cell": false,
      "toc_position": {},
      "toc_section_display": "block",
      "toc_window_display": true
    },
    "colab": {
      "name": "05.4-Basic-methods-plus-statistical-pipeline.ipynb",
      "provenance": [],
      "include_colab_link": true
    }
  },
  "nbformat": 4,
  "nbformat_minor": 0
}