{
  "cells": [
    {
      "cell_type": "markdown",
      "metadata": {
        "id": "view-in-github",
        "colab_type": "text"
      },
      "source": [
        "<a href=\"https://colab.research.google.com/github/Venkatpandey/DataScience_ML/blob/main/featureSelection/2.1-Correlation-Pearson.ipynb\" target=\"_parent\"><img src=\"https://colab.research.google.com/assets/colab-badge.svg\" alt=\"Open In Colab\"/></a>"
      ]
    },
    {
      "cell_type": "markdown",
      "metadata": {
        "id": "TFxrinUDMXbx"
      },
      "source": [
        "## Correlation\n",
        "\n",
        "Correlation Feature Selection evaluates subsets of features on the basis of the following hypothesis: \"Good feature subsets contain features highly correlated with the target, yet uncorrelated to each other\".\n",
        "\n",
        "**References**:\n",
        "\n",
        "M. Hall 1999, [Correlation-based Feature Selection for Machine Learning](http://www.cs.waikato.ac.nz/~mhall/thesis.pdf)\n",
        "\n",
        "Senliol, Baris, et al. \"Fast Correlation Based Filter (FCBF) with a different search strategy.\" Computer and Information Sciences.\n",
        "\n",
        "\n",
        "I will demonstrate how to select features based on correlation using 2 procedures:\n",
        "\n",
        "The first one is a brute force function that finds correlated features without any further insight. \n",
        "\n",
        "The second procedure finds groups of correlated features, which we can then explore to decide which one we keep and which ones we discard.\n",
        "\n",
        "Often, more than 2 features are correlated with each other. We can find groups of 3, 4 or more features that are correlated. By identifying these groups, with procedure 2, we can then select from each group, which feature we want to keep, and which ones we want to remove.\n",
        "\n",
        "**Note**\n",
        "\n",
        "The most used method to determine correlation is the Pearson's correlation method, which is the one that I will carry out in this notebook."
      ]
    },
    {
      "cell_type": "code",
      "source": [
        "from google.colab import drive\n",
        "drive.mount('/content/drive')"
      ],
      "metadata": {
        "id": "buyM0olgMgR6",
        "outputId": "c77fac22-edc7-40ee-f16f-af2f61a0ba65",
        "colab": {
          "base_uri": "https://localhost:8080/"
        }
      },
      "execution_count": 1,
      "outputs": [
        {
          "output_type": "stream",
          "name": "stdout",
          "text": [
            "Mounted at /content/drive\n"
          ]
        }
      ]
    },
    {
      "cell_type": "code",
      "execution_count": 2,
      "metadata": {
        "id": "TSe-A3pkMXbz"
      },
      "outputs": [],
      "source": [
        "import pandas as pd\n",
        "import numpy as np\n",
        "\n",
        "import matplotlib.pyplot as plt\n",
        "import seaborn as sns\n",
        "\n",
        "from sklearn.model_selection import train_test_split"
      ]
    },
    {
      "cell_type": "code",
      "execution_count": 3,
      "metadata": {
        "id": "Vu4FFlWTMXb0",
        "outputId": "fefd4cee-2cce-4ef5-baa7-9bf4d3bc2566",
        "colab": {
          "base_uri": "https://localhost:8080/"
        }
      },
      "outputs": [
        {
          "output_type": "execute_result",
          "data": {
            "text/plain": [
              "(50000, 109)"
            ]
          },
          "metadata": {},
          "execution_count": 3
        }
      ],
      "source": [
        "# load dataset\n",
        "\n",
        "data = pd.read_csv('/content/drive/MyDrive/Colab Notebooks/precleaned-datasets/dataset_2.csv', nrows=50000)\n",
        "data.shape"
      ]
    },
    {
      "cell_type": "code",
      "execution_count": 4,
      "metadata": {
        "id": "cUHDfYqOMXb0",
        "outputId": "8ada4732-e3ea-44d0-df81-8a0bbdceb63b",
        "colab": {
          "base_uri": "https://localhost:8080/",
          "height": 300
        }
      },
      "outputs": [
        {
          "output_type": "execute_result",
          "data": {
            "text/html": [
              "\n",
              "  <div id=\"df-4f425f2a-1c44-49d8-abf0-0b59ecf455e5\">\n",
              "    <div class=\"colab-df-container\">\n",
              "      <div>\n",
              "<style scoped>\n",
              "    .dataframe tbody tr th:only-of-type {\n",
              "        vertical-align: middle;\n",
              "    }\n",
              "\n",
              "    .dataframe tbody tr th {\n",
              "        vertical-align: top;\n",
              "    }\n",
              "\n",
              "    .dataframe thead th {\n",
              "        text-align: right;\n",
              "    }\n",
              "</style>\n",
              "<table border=\"1\" class=\"dataframe\">\n",
              "  <thead>\n",
              "    <tr style=\"text-align: right;\">\n",
              "      <th></th>\n",
              "      <th>var_1</th>\n",
              "      <th>var_2</th>\n",
              "      <th>var_3</th>\n",
              "      <th>var_4</th>\n",
              "      <th>var_5</th>\n",
              "      <th>var_6</th>\n",
              "      <th>var_7</th>\n",
              "      <th>var_8</th>\n",
              "      <th>var_9</th>\n",
              "      <th>var_10</th>\n",
              "      <th>var_11</th>\n",
              "      <th>var_12</th>\n",
              "      <th>var_13</th>\n",
              "      <th>var_14</th>\n",
              "      <th>var_15</th>\n",
              "      <th>var_16</th>\n",
              "      <th>var_17</th>\n",
              "      <th>var_18</th>\n",
              "      <th>var_19</th>\n",
              "      <th>var_20</th>\n",
              "      <th>var_21</th>\n",
              "      <th>var_22</th>\n",
              "      <th>var_23</th>\n",
              "      <th>var_24</th>\n",
              "      <th>var_25</th>\n",
              "      <th>var_26</th>\n",
              "      <th>var_27</th>\n",
              "      <th>var_28</th>\n",
              "      <th>var_29</th>\n",
              "      <th>var_30</th>\n",
              "      <th>var_31</th>\n",
              "      <th>var_32</th>\n",
              "      <th>var_33</th>\n",
              "      <th>var_34</th>\n",
              "      <th>var_35</th>\n",
              "      <th>var_36</th>\n",
              "      <th>var_37</th>\n",
              "      <th>var_38</th>\n",
              "      <th>var_39</th>\n",
              "      <th>var_40</th>\n",
              "      <th>...</th>\n",
              "      <th>var_70</th>\n",
              "      <th>var_71</th>\n",
              "      <th>var_72</th>\n",
              "      <th>var_73</th>\n",
              "      <th>var_74</th>\n",
              "      <th>var_75</th>\n",
              "      <th>var_76</th>\n",
              "      <th>var_77</th>\n",
              "      <th>var_78</th>\n",
              "      <th>var_79</th>\n",
              "      <th>var_80</th>\n",
              "      <th>var_81</th>\n",
              "      <th>var_82</th>\n",
              "      <th>var_83</th>\n",
              "      <th>var_84</th>\n",
              "      <th>var_85</th>\n",
              "      <th>var_86</th>\n",
              "      <th>var_87</th>\n",
              "      <th>var_88</th>\n",
              "      <th>var_89</th>\n",
              "      <th>var_90</th>\n",
              "      <th>var_91</th>\n",
              "      <th>var_92</th>\n",
              "      <th>var_93</th>\n",
              "      <th>var_94</th>\n",
              "      <th>var_95</th>\n",
              "      <th>var_96</th>\n",
              "      <th>var_97</th>\n",
              "      <th>var_98</th>\n",
              "      <th>var_99</th>\n",
              "      <th>var_100</th>\n",
              "      <th>var_101</th>\n",
              "      <th>var_102</th>\n",
              "      <th>var_103</th>\n",
              "      <th>var_104</th>\n",
              "      <th>var_105</th>\n",
              "      <th>var_106</th>\n",
              "      <th>var_107</th>\n",
              "      <th>var_108</th>\n",
              "      <th>var_109</th>\n",
              "    </tr>\n",
              "  </thead>\n",
              "  <tbody>\n",
              "    <tr>\n",
              "      <th>0</th>\n",
              "      <td>4.532710</td>\n",
              "      <td>3.280834</td>\n",
              "      <td>17.982476</td>\n",
              "      <td>4.404259</td>\n",
              "      <td>2.349910</td>\n",
              "      <td>0.603264</td>\n",
              "      <td>2.784655</td>\n",
              "      <td>0.323146</td>\n",
              "      <td>12.009691</td>\n",
              "      <td>0.139346</td>\n",
              "      <td>5.751633</td>\n",
              "      <td>2.808895</td>\n",
              "      <td>1.244055</td>\n",
              "      <td>11.269688</td>\n",
              "      <td>15.866550</td>\n",
              "      <td>0.00</td>\n",
              "      <td>1.181500e+00</td>\n",
              "      <td>1.903910</td>\n",
              "      <td>4.667888</td>\n",
              "      <td>1.842749</td>\n",
              "      <td>5.863767</td>\n",
              "      <td>0.115498</td>\n",
              "      <td>2.398785</td>\n",
              "      <td>0.139191</td>\n",
              "      <td>11.860244</td>\n",
              "      <td>4.433561</td>\n",
              "      <td>7.135750</td>\n",
              "      <td>2.240605</td>\n",
              "      <td>3.720161</td>\n",
              "      <td>5.805012</td>\n",
              "      <td>1.308222</td>\n",
              "      <td>0.133272</td>\n",
              "      <td>5.514540</td>\n",
              "      <td>11.510708</td>\n",
              "      <td>7.534482</td>\n",
              "      <td>8.779925</td>\n",
              "      <td>6.797556</td>\n",
              "      <td>8.504757</td>\n",
              "      <td>0.188741</td>\n",
              "      <td>8.783980</td>\n",
              "      <td>...</td>\n",
              "      <td>12.866988</td>\n",
              "      <td>11.369994</td>\n",
              "      <td>1.467595</td>\n",
              "      <td>10.043070</td>\n",
              "      <td>8.174325</td>\n",
              "      <td>2.088815</td>\n",
              "      <td>0.134455</td>\n",
              "      <td>1.282842</td>\n",
              "      <td>1.262513</td>\n",
              "      <td>1.114369</td>\n",
              "      <td>1.446358</td>\n",
              "      <td>15.512397</td>\n",
              "      <td>1.820403</td>\n",
              "      <td>0.619730</td>\n",
              "      <td>0.826138</td>\n",
              "      <td>6.880270</td>\n",
              "      <td>1.680353</td>\n",
              "      <td>8.659387</td>\n",
              "      <td>10.184313</td>\n",
              "      <td>7.248146</td>\n",
              "      <td>17.065003</td>\n",
              "      <td>0.0</td>\n",
              "      <td>1.044600</td>\n",
              "      <td>0.176036</td>\n",
              "      <td>9.869159</td>\n",
              "      <td>4.662407e-01</td>\n",
              "      <td>7.273476</td>\n",
              "      <td>0.623398</td>\n",
              "      <td>2.070677</td>\n",
              "      <td>1.108609</td>\n",
              "      <td>2.079066</td>\n",
              "      <td>6.748819</td>\n",
              "      <td>2.941445</td>\n",
              "      <td>18.360496</td>\n",
              "      <td>17.726613</td>\n",
              "      <td>7.774031</td>\n",
              "      <td>1.473441</td>\n",
              "      <td>1.973832</td>\n",
              "      <td>0.976806</td>\n",
              "      <td>2.541417</td>\n",
              "    </tr>\n",
              "    <tr>\n",
              "      <th>1</th>\n",
              "      <td>5.821374</td>\n",
              "      <td>12.098722</td>\n",
              "      <td>13.309151</td>\n",
              "      <td>4.125599</td>\n",
              "      <td>1.045386</td>\n",
              "      <td>1.832035</td>\n",
              "      <td>1.833494</td>\n",
              "      <td>0.709090</td>\n",
              "      <td>8.652883</td>\n",
              "      <td>0.102757</td>\n",
              "      <td>8.225109</td>\n",
              "      <td>2.001220</td>\n",
              "      <td>8.081647</td>\n",
              "      <td>3.933986</td>\n",
              "      <td>14.350374</td>\n",
              "      <td>0.00</td>\n",
              "      <td>1.244384e+01</td>\n",
              "      <td>1.575456</td>\n",
              "      <td>5.275010</td>\n",
              "      <td>2.750981</td>\n",
              "      <td>3.402345</td>\n",
              "      <td>0.227527</td>\n",
              "      <td>2.502344</td>\n",
              "      <td>0.197449</td>\n",
              "      <td>12.654514</td>\n",
              "      <td>3.895271</td>\n",
              "      <td>9.230702</td>\n",
              "      <td>0.719196</td>\n",
              "      <td>3.393035</td>\n",
              "      <td>6.055243</td>\n",
              "      <td>0.926661</td>\n",
              "      <td>0.221227</td>\n",
              "      <td>7.406060</td>\n",
              "      <td>10.290955</td>\n",
              "      <td>8.075000</td>\n",
              "      <td>10.034637</td>\n",
              "      <td>6.182029</td>\n",
              "      <td>7.698029</td>\n",
              "      <td>0.295115</td>\n",
              "      <td>10.308592</td>\n",
              "      <td>...</td>\n",
              "      <td>10.477765</td>\n",
              "      <td>3.026453</td>\n",
              "      <td>1.338741</td>\n",
              "      <td>16.136215</td>\n",
              "      <td>8.659485</td>\n",
              "      <td>0.567717</td>\n",
              "      <td>0.108499</td>\n",
              "      <td>1.447928</td>\n",
              "      <td>0.583342</td>\n",
              "      <td>4.454525</td>\n",
              "      <td>3.570452</td>\n",
              "      <td>15.988817</td>\n",
              "      <td>2.628892</td>\n",
              "      <td>1.251810</td>\n",
              "      <td>2.077105</td>\n",
              "      <td>7.453729</td>\n",
              "      <td>2.173920</td>\n",
              "      <td>10.357143</td>\n",
              "      <td>13.274292</td>\n",
              "      <td>8.647012</td>\n",
              "      <td>17.143991</td>\n",
              "      <td>0.0</td>\n",
              "      <td>1.161626</td>\n",
              "      <td>0.214995</td>\n",
              "      <td>8.661069</td>\n",
              "      <td>9.585002e-01</td>\n",
              "      <td>6.475936</td>\n",
              "      <td>1.230876</td>\n",
              "      <td>2.249656</td>\n",
              "      <td>0.615216</td>\n",
              "      <td>2.479789</td>\n",
              "      <td>7.795290</td>\n",
              "      <td>3.557890</td>\n",
              "      <td>17.383378</td>\n",
              "      <td>15.193423</td>\n",
              "      <td>8.263673</td>\n",
              "      <td>1.878108</td>\n",
              "      <td>0.567939</td>\n",
              "      <td>1.018818</td>\n",
              "      <td>1.416433</td>\n",
              "    </tr>\n",
              "    <tr>\n",
              "      <th>2</th>\n",
              "      <td>1.938776</td>\n",
              "      <td>7.952752</td>\n",
              "      <td>0.972671</td>\n",
              "      <td>3.459267</td>\n",
              "      <td>1.935782</td>\n",
              "      <td>0.621463</td>\n",
              "      <td>2.338139</td>\n",
              "      <td>0.344948</td>\n",
              "      <td>9.937850</td>\n",
              "      <td>11.691283</td>\n",
              "      <td>8.307318</td>\n",
              "      <td>3.239122</td>\n",
              "      <td>2.699376</td>\n",
              "      <td>10.030416</td>\n",
              "      <td>14.977220</td>\n",
              "      <td>0.00</td>\n",
              "      <td>7.636780e-07</td>\n",
              "      <td>2.605838</td>\n",
              "      <td>5.459521</td>\n",
              "      <td>3.437779</td>\n",
              "      <td>5.498281</td>\n",
              "      <td>19.800000</td>\n",
              "      <td>2.136717</td>\n",
              "      <td>19.036815</td>\n",
              "      <td>11.938497</td>\n",
              "      <td>4.378310</td>\n",
              "      <td>6.843868</td>\n",
              "      <td>1.745698</td>\n",
              "      <td>3.721307</td>\n",
              "      <td>6.339151</td>\n",
              "      <td>1.479797</td>\n",
              "      <td>18.600001</td>\n",
              "      <td>8.142160</td>\n",
              "      <td>12.575593</td>\n",
              "      <td>6.752941</td>\n",
              "      <td>6.303391</td>\n",
              "      <td>5.327748</td>\n",
              "      <td>7.559745</td>\n",
              "      <td>16.951823</td>\n",
              "      <td>7.701432</td>\n",
              "      <td>...</td>\n",
              "      <td>12.795940</td>\n",
              "      <td>3.158102</td>\n",
              "      <td>2.084452</td>\n",
              "      <td>13.596735</td>\n",
              "      <td>7.136616</td>\n",
              "      <td>3.975333</td>\n",
              "      <td>19.199999</td>\n",
              "      <td>1.035094</td>\n",
              "      <td>1.039650</td>\n",
              "      <td>2.920388</td>\n",
              "      <td>18.194969</td>\n",
              "      <td>13.878539</td>\n",
              "      <td>4.177674</td>\n",
              "      <td>0.265892</td>\n",
              "      <td>0.949150</td>\n",
              "      <td>5.501881</td>\n",
              "      <td>1.545747</td>\n",
              "      <td>6.652942</td>\n",
              "      <td>10.219311</td>\n",
              "      <td>7.350044</td>\n",
              "      <td>15.865534</td>\n",
              "      <td>0.0</td>\n",
              "      <td>0.668244</td>\n",
              "      <td>0.207304</td>\n",
              "      <td>9.591838</td>\n",
              "      <td>1.426163e+00</td>\n",
              "      <td>7.552225</td>\n",
              "      <td>0.599195</td>\n",
              "      <td>1.872145</td>\n",
              "      <td>2.111624</td>\n",
              "      <td>1.861487</td>\n",
              "      <td>6.130886</td>\n",
              "      <td>3.401064</td>\n",
              "      <td>15.850471</td>\n",
              "      <td>14.620599</td>\n",
              "      <td>6.849776</td>\n",
              "      <td>1.098210</td>\n",
              "      <td>1.959183</td>\n",
              "      <td>1.575493</td>\n",
              "      <td>1.857893</td>\n",
              "    </tr>\n",
              "    <tr>\n",
              "      <th>3</th>\n",
              "      <td>6.020690</td>\n",
              "      <td>9.900544</td>\n",
              "      <td>17.869637</td>\n",
              "      <td>4.366715</td>\n",
              "      <td>1.973693</td>\n",
              "      <td>2.026012</td>\n",
              "      <td>2.853025</td>\n",
              "      <td>0.674847</td>\n",
              "      <td>11.816859</td>\n",
              "      <td>0.011151</td>\n",
              "      <td>5.769939</td>\n",
              "      <td>2.760518</td>\n",
              "      <td>4.067190</td>\n",
              "      <td>14.040960</td>\n",
              "      <td>15.363394</td>\n",
              "      <td>0.94</td>\n",
              "      <td>1.278596e+00</td>\n",
              "      <td>2.447368</td>\n",
              "      <td>4.622004</td>\n",
              "      <td>3.166859</td>\n",
              "      <td>5.746444</td>\n",
              "      <td>0.107650</td>\n",
              "      <td>1.819269</td>\n",
              "      <td>0.143555</td>\n",
              "      <td>12.384151</td>\n",
              "      <td>4.847826</td>\n",
              "      <td>8.501440</td>\n",
              "      <td>1.471080</td>\n",
              "      <td>3.349110</td>\n",
              "      <td>6.306657</td>\n",
              "      <td>1.007276</td>\n",
              "      <td>0.134101</td>\n",
              "      <td>4.966871</td>\n",
              "      <td>11.419689</td>\n",
              "      <td>7.254098</td>\n",
              "      <td>9.757191</td>\n",
              "      <td>8.482101</td>\n",
              "      <td>5.228867</td>\n",
              "      <td>0.046546</td>\n",
              "      <td>8.656773</td>\n",
              "      <td>...</td>\n",
              "      <td>13.779983</td>\n",
              "      <td>3.307613</td>\n",
              "      <td>2.003458</td>\n",
              "      <td>14.297207</td>\n",
              "      <td>8.174351</td>\n",
              "      <td>2.670522</td>\n",
              "      <td>0.042879</td>\n",
              "      <td>0.739193</td>\n",
              "      <td>0.419732</td>\n",
              "      <td>2.831101</td>\n",
              "      <td>0.219472</td>\n",
              "      <td>15.418033</td>\n",
              "      <td>3.528015</td>\n",
              "      <td>0.482420</td>\n",
              "      <td>0.934582</td>\n",
              "      <td>6.775936</td>\n",
              "      <td>3.052738</td>\n",
              "      <td>9.836066</td>\n",
              "      <td>9.746183</td>\n",
              "      <td>8.097982</td>\n",
              "      <td>17.479207</td>\n",
              "      <td>0.0</td>\n",
              "      <td>1.027439</td>\n",
              "      <td>0.246158</td>\n",
              "      <td>8.189655</td>\n",
              "      <td>7.226496e-01</td>\n",
              "      <td>7.237598</td>\n",
              "      <td>0.643228</td>\n",
              "      <td>1.168033</td>\n",
              "      <td>1.222773</td>\n",
              "      <td>1.340944</td>\n",
              "      <td>7.240058</td>\n",
              "      <td>2.417235</td>\n",
              "      <td>15.194609</td>\n",
              "      <td>13.553772</td>\n",
              "      <td>7.229971</td>\n",
              "      <td>0.835158</td>\n",
              "      <td>2.234482</td>\n",
              "      <td>0.946170</td>\n",
              "      <td>2.700606</td>\n",
              "    </tr>\n",
              "    <tr>\n",
              "      <th>4</th>\n",
              "      <td>3.909506</td>\n",
              "      <td>10.576516</td>\n",
              "      <td>0.934191</td>\n",
              "      <td>3.419572</td>\n",
              "      <td>1.871438</td>\n",
              "      <td>3.340811</td>\n",
              "      <td>1.868282</td>\n",
              "      <td>0.439865</td>\n",
              "      <td>13.585620</td>\n",
              "      <td>1.153366</td>\n",
              "      <td>9.297974</td>\n",
              "      <td>1.682118</td>\n",
              "      <td>9.553305</td>\n",
              "      <td>10.341188</td>\n",
              "      <td>9.436362</td>\n",
              "      <td>0.00</td>\n",
              "      <td>1.548740e+01</td>\n",
              "      <td>1.888375</td>\n",
              "      <td>5.975678</td>\n",
              "      <td>1.775326</td>\n",
              "      <td>9.281851</td>\n",
              "      <td>1.350273</td>\n",
              "      <td>3.208565</td>\n",
              "      <td>1.935790</td>\n",
              "      <td>13.324833</td>\n",
              "      <td>1.725549</td>\n",
              "      <td>8.584763</td>\n",
              "      <td>1.643524</td>\n",
              "      <td>4.157284</td>\n",
              "      <td>6.604193</td>\n",
              "      <td>0.677463</td>\n",
              "      <td>1.667245</td>\n",
              "      <td>8.294594</td>\n",
              "      <td>11.017030</td>\n",
              "      <td>5.779013</td>\n",
              "      <td>10.643856</td>\n",
              "      <td>3.344048</td>\n",
              "      <td>4.260534</td>\n",
              "      <td>1.654864</td>\n",
              "      <td>9.104239</td>\n",
              "      <td>...</td>\n",
              "      <td>16.509023</td>\n",
              "      <td>3.350297</td>\n",
              "      <td>1.434873</td>\n",
              "      <td>13.899021</td>\n",
              "      <td>6.759006</td>\n",
              "      <td>3.237689</td>\n",
              "      <td>1.895391</td>\n",
              "      <td>1.314089</td>\n",
              "      <td>0.859594</td>\n",
              "      <td>6.241737</td>\n",
              "      <td>15.391528</td>\n",
              "      <td>13.914507</td>\n",
              "      <td>3.217597</td>\n",
              "      <td>1.844947</td>\n",
              "      <td>3.843864</td>\n",
              "      <td>5.504495</td>\n",
              "      <td>0.623270</td>\n",
              "      <td>7.723457</td>\n",
              "      <td>6.303451</td>\n",
              "      <td>7.755435</td>\n",
              "      <td>16.618457</td>\n",
              "      <td>0.0</td>\n",
              "      <td>1.022681</td>\n",
              "      <td>0.312128</td>\n",
              "      <td>7.819771</td>\n",
              "      <td>6.676273e-07</td>\n",
              "      <td>5.777892</td>\n",
              "      <td>2.743704</td>\n",
              "      <td>2.700285</td>\n",
              "      <td>1.897730</td>\n",
              "      <td>2.738095</td>\n",
              "      <td>6.565509</td>\n",
              "      <td>4.341414</td>\n",
              "      <td>15.893832</td>\n",
              "      <td>11.929787</td>\n",
              "      <td>6.954033</td>\n",
              "      <td>1.853364</td>\n",
              "      <td>0.511027</td>\n",
              "      <td>2.599562</td>\n",
              "      <td>0.811364</td>\n",
              "    </tr>\n",
              "  </tbody>\n",
              "</table>\n",
              "<p>5 rows × 109 columns</p>\n",
              "</div>\n",
              "      <button class=\"colab-df-convert\" onclick=\"convertToInteractive('df-4f425f2a-1c44-49d8-abf0-0b59ecf455e5')\"\n",
              "              title=\"Convert this dataframe to an interactive table.\"\n",
              "              style=\"display:none;\">\n",
              "        \n",
              "  <svg xmlns=\"http://www.w3.org/2000/svg\" height=\"24px\"viewBox=\"0 0 24 24\"\n",
              "       width=\"24px\">\n",
              "    <path d=\"M0 0h24v24H0V0z\" fill=\"none\"/>\n",
              "    <path d=\"M18.56 5.44l.94 2.06.94-2.06 2.06-.94-2.06-.94-.94-2.06-.94 2.06-2.06.94zm-11 1L8.5 8.5l.94-2.06 2.06-.94-2.06-.94L8.5 2.5l-.94 2.06-2.06.94zm10 10l.94 2.06.94-2.06 2.06-.94-2.06-.94-.94-2.06-.94 2.06-2.06.94z\"/><path d=\"M17.41 7.96l-1.37-1.37c-.4-.4-.92-.59-1.43-.59-.52 0-1.04.2-1.43.59L10.3 9.45l-7.72 7.72c-.78.78-.78 2.05 0 2.83L4 21.41c.39.39.9.59 1.41.59.51 0 1.02-.2 1.41-.59l7.78-7.78 2.81-2.81c.8-.78.8-2.07 0-2.86zM5.41 20L4 18.59l7.72-7.72 1.47 1.35L5.41 20z\"/>\n",
              "  </svg>\n",
              "      </button>\n",
              "      \n",
              "  <style>\n",
              "    .colab-df-container {\n",
              "      display:flex;\n",
              "      flex-wrap:wrap;\n",
              "      gap: 12px;\n",
              "    }\n",
              "\n",
              "    .colab-df-convert {\n",
              "      background-color: #E8F0FE;\n",
              "      border: none;\n",
              "      border-radius: 50%;\n",
              "      cursor: pointer;\n",
              "      display: none;\n",
              "      fill: #1967D2;\n",
              "      height: 32px;\n",
              "      padding: 0 0 0 0;\n",
              "      width: 32px;\n",
              "    }\n",
              "\n",
              "    .colab-df-convert:hover {\n",
              "      background-color: #E2EBFA;\n",
              "      box-shadow: 0px 1px 2px rgba(60, 64, 67, 0.3), 0px 1px 3px 1px rgba(60, 64, 67, 0.15);\n",
              "      fill: #174EA6;\n",
              "    }\n",
              "\n",
              "    [theme=dark] .colab-df-convert {\n",
              "      background-color: #3B4455;\n",
              "      fill: #D2E3FC;\n",
              "    }\n",
              "\n",
              "    [theme=dark] .colab-df-convert:hover {\n",
              "      background-color: #434B5C;\n",
              "      box-shadow: 0px 1px 3px 1px rgba(0, 0, 0, 0.15);\n",
              "      filter: drop-shadow(0px 1px 2px rgba(0, 0, 0, 0.3));\n",
              "      fill: #FFFFFF;\n",
              "    }\n",
              "  </style>\n",
              "\n",
              "      <script>\n",
              "        const buttonEl =\n",
              "          document.querySelector('#df-4f425f2a-1c44-49d8-abf0-0b59ecf455e5 button.colab-df-convert');\n",
              "        buttonEl.style.display =\n",
              "          google.colab.kernel.accessAllowed ? 'block' : 'none';\n",
              "\n",
              "        async function convertToInteractive(key) {\n",
              "          const element = document.querySelector('#df-4f425f2a-1c44-49d8-abf0-0b59ecf455e5');\n",
              "          const dataTable =\n",
              "            await google.colab.kernel.invokeFunction('convertToInteractive',\n",
              "                                                     [key], {});\n",
              "          if (!dataTable) return;\n",
              "\n",
              "          const docLinkHtml = 'Like what you see? Visit the ' +\n",
              "            '<a target=\"_blank\" href=https://colab.research.google.com/notebooks/data_table.ipynb>data table notebook</a>'\n",
              "            + ' to learn more about interactive tables.';\n",
              "          element.innerHTML = '';\n",
              "          dataTable['output_type'] = 'display_data';\n",
              "          await google.colab.output.renderOutput(dataTable, element);\n",
              "          const docLink = document.createElement('div');\n",
              "          docLink.innerHTML = docLinkHtml;\n",
              "          element.appendChild(docLink);\n",
              "        }\n",
              "      </script>\n",
              "    </div>\n",
              "  </div>\n",
              "  "
            ],
            "text/plain": [
              "      var_1      var_2      var_3  ...   var_107   var_108   var_109\n",
              "0  4.532710   3.280834  17.982476  ...  1.973832  0.976806  2.541417\n",
              "1  5.821374  12.098722  13.309151  ...  0.567939  1.018818  1.416433\n",
              "2  1.938776   7.952752   0.972671  ...  1.959183  1.575493  1.857893\n",
              "3  6.020690   9.900544  17.869637  ...  2.234482  0.946170  2.700606\n",
              "4  3.909506  10.576516   0.934191  ...  0.511027  2.599562  0.811364\n",
              "\n",
              "[5 rows x 109 columns]"
            ]
          },
          "metadata": {},
          "execution_count": 4
        }
      ],
      "source": [
        "data.head()"
      ]
    },
    {
      "cell_type": "markdown",
      "metadata": {
        "id": "ASNBLfCqMXb1"
      },
      "source": [
        "In practice, feature selection should be done after data pre-processing, so ideally, all the categorical variables are encoded into numbers, and then you can asses whether they are correlated with other features.\n",
        "\n",
        "This dataset, for simplicity, contains only numerical variables."
      ]
    },
    {
      "cell_type": "markdown",
      "metadata": {
        "id": "myemcYDJMXb1"
      },
      "source": [
        "**Important**\n",
        "\n",
        "In all feature selection procedures, it is good practice to select the features by examining only the training set. And this is to avoid overfit."
      ]
    },
    {
      "cell_type": "code",
      "execution_count": 5,
      "metadata": {
        "id": "KhfpfXlhMXb1",
        "outputId": "8f38ce87-440e-410f-eb86-b29afae34c4b",
        "colab": {
          "base_uri": "https://localhost:8080/"
        }
      },
      "outputs": [
        {
          "output_type": "execute_result",
          "data": {
            "text/plain": [
              "((35000, 108), (15000, 108))"
            ]
          },
          "metadata": {},
          "execution_count": 5
        }
      ],
      "source": [
        "# separate train and test sets\n",
        "X_train, X_test, y_train, y_test = train_test_split(\n",
        "    data.drop(labels=['target'], axis=1),\n",
        "    data['target'],\n",
        "    test_size=0.3,\n",
        "    random_state=0)\n",
        "\n",
        "X_train.shape, X_test.shape"
      ]
    },
    {
      "cell_type": "markdown",
      "metadata": {
        "id": "AKKopNvkMXb2"
      },
      "source": [
        "## Correlation heatmap"
      ]
    },
    {
      "cell_type": "code",
      "execution_count": 6,
      "metadata": {
        "id": "JND6RcfHMXb2",
        "outputId": "90eeb772-7e52-414e-e687-ad9f5d642027",
        "colab": {
          "base_uri": "https://localhost:8080/",
          "height": 697
        }
      },
      "outputs": [
        {
          "output_type": "execute_result",
          "data": {
            "text/plain": [
              "<matplotlib.axes._subplots.AxesSubplot at 0x7f3feb0132d0>"
            ]
          },
          "metadata": {},
          "execution_count": 6
        },
        {
          "output_type": "display_data",
          "data": {
            "image/png": "[encoded data removed]",
            "text/plain": [
              "<Figure size 792x792 with 2 Axes>"
            ]
          },
          "metadata": {
            "needs_background": "light"
          }
        }
      ],
      "source": [
        "# visualise correlated features:\n",
        "\n",
        "# I will build a correlation matrix, which examines the \n",
        "# correlation of all features (that is, for all possible feature combinations)\n",
        "# and then visualise the correlation matrix using a heatmap\n",
        "\n",
        "# the default correlation method of pandas.corr is pearson\n",
        "# I include it anyways for the demo\n",
        "corrmat = X_train.corr(method='pearson')\n",
        "\n",
        "# we can make a heatmap with the package seaborn\n",
        "# and customise the colours of searborn's heatmap\n",
        "cmap = sns.diverging_palette(220, 20, as_cmap=True)\n",
        "\n",
        "# some more parameters for the figure\n",
        "fig, ax = plt.subplots()\n",
        "fig.set_size_inches(11,11)\n",
        "\n",
        "# and now plot the correlation matrix\n",
        "sns.heatmap(corrmat, cmap=cmap)"
      ]
    },
    {
      "cell_type": "markdown",
      "metadata": {
        "id": "17tUjgHPMXb3"
      },
      "source": [
        "In the plot above, the dark orange squares correspond to highly correlated features (>0.8). Darker blue squares corresponds to negatively correlated features (<-0.8).\n",
        "\n",
        "The diagonal represents the correlation of a feature with itself, therefore the value is 1.\n",
        "\n",
        "We can see that there are a few features that are highly correlated."
      ]
    },
    {
      "cell_type": "markdown",
      "metadata": {
        "id": "3sEuCVjjMXb3"
      },
      "source": [
        "## Correlation scatterplots"
      ]
    },
    {
      "cell_type": "code",
      "execution_count": 7,
      "metadata": {
        "id": "cYD4y-LrMXb3",
        "outputId": "319a22a2-ee79-4d4d-e215-1011cbfbcece",
        "colab": {
          "base_uri": "https://localhost:8080/"
        }
      },
      "outputs": [
        {
          "output_type": "stream",
          "name": "stdout",
          "text": [
            "var_5 1.0\n",
            "var_28 0.9536721652385074\n",
            "var_75 0.8616179292025175\n"
          ]
        }
      ],
      "source": [
        "# Looking at the heatmap, we see that var25 is highly correlated \n",
        "# with others in the dataset\n",
        "\n",
        "# with this code we can get the other variable names\n",
        "# and also print the correlation coefficient between var25 and \n",
        "# these variables:\n",
        "\n",
        "c = 0\n",
        "\n",
        "# iterate over each correlation value for var_5:\n",
        "for i in corrmat.loc['var_5']:\n",
        "    \n",
        "    # if highly correlated\n",
        "    if i>0.8:\n",
        "        \n",
        "        # print the variable name and the correlation coefficient\n",
        "        print(corrmat.columns[c], i)\n",
        "        \n",
        "    c = c +1"
      ]
    },
    {
      "cell_type": "code",
      "execution_count": 8,
      "metadata": {
        "id": "TFIjlQqnMXb4",
        "outputId": "7e98585e-2b73-45e5-ab0c-f7509fef4e3b",
        "colab": {
          "base_uri": "https://localhost:8080/",
          "height": 280
        }
      },
      "outputs": [
        {
          "output_type": "display_data",
          "data": {
            "image/png": "[encoded data removed]",
            "text/plain": [
              "<Figure size 432x288 with 1 Axes>"
            ]
          },
          "metadata": {
            "needs_background": "light"
          }
        }
      ],
      "source": [
        "# now, let's plot the variables\n",
        "\n",
        "plt.scatter(X_train['var_5'], X_train['var_28'])\n",
        "plt.ylabel('var_28')\n",
        "plt.xlabel('var_5')\n",
        "plt.show()"
      ]
    },
    {
      "cell_type": "code",
      "execution_count": 9,
      "metadata": {
        "id": "rkwHEod8MXb4",
        "outputId": "5c4f8c53-9f11-47d3-83d9-a1b9616d7607",
        "colab": {
          "base_uri": "https://localhost:8080/",
          "height": 280
        }
      },
      "outputs": [
        {
          "output_type": "display_data",
          "data": {
            "image/png": "[encoded data removed]",
            "text/plain": [
              "<Figure size 432x288 with 1 Axes>"
            ]
          },
          "metadata": {
            "needs_background": "light"
          }
        }
      ],
      "source": [
        "# now, let's plot the variables\n",
        "\n",
        "plt.scatter(X_train['var_5'], X_train['var_75'])\n",
        "plt.ylabel('var_75')\n",
        "plt.xlabel('var_5')\n",
        "plt.show()"
      ]
    },
    {
      "cell_type": "markdown",
      "metadata": {
        "id": "30bGw5hfMXb4"
      },
      "source": [
        "We see that the correlation of the second pair of variables is not quite linear.\n",
        "\n",
        "Next, let's identify a couple of negatively correlated variables:"
      ]
    },
    {
      "cell_type": "code",
      "execution_count": 10,
      "metadata": {
        "id": "pgJ3CkVCMXb4",
        "outputId": "765d99d8-33cb-49e5-a4d3-69fe47c9b22c",
        "colab": {
          "base_uri": "https://localhost:8080/"
        }
      },
      "outputs": [
        {
          "output_type": "stream",
          "name": "stdout",
          "text": [
            "var_21 -0.8943929785046749\n",
            "var_70 -0.9489465365954275\n"
          ]
        }
      ],
      "source": [
        "c = 0\n",
        "for i in corrmat.loc['var_88']:\n",
        "    \n",
        "    # if highly and negatively correlated\n",
        "    if i<-0.8:\n",
        "        \n",
        "        # print the variable name and the correlation coefficient\n",
        "        print(corrmat.columns[c], i)\n",
        "        \n",
        "    c = c +1"
      ]
    },
    {
      "cell_type": "code",
      "execution_count": 11,
      "metadata": {
        "id": "xeo_yfrWMXb4",
        "outputId": "e145e1c0-7b03-4858-8258-54eab5cd1a0a",
        "colab": {
          "base_uri": "https://localhost:8080/",
          "height": 283
        }
      },
      "outputs": [
        {
          "output_type": "display_data",
          "data": {
            "image/png": "[encoded data removed]",
            "text/plain": [
              "<Figure size 432x288 with 1 Axes>"
            ]
          },
          "metadata": {
            "needs_background": "light"
          }
        }
      ],
      "source": [
        "# now, let's plot the variables\n",
        "\n",
        "plt.scatter(X_train['var_88'], X_train['var_70'])\n",
        "plt.ylabel('var_70')\n",
        "plt.xlabel('var_88')\n",
        "plt.show()"
      ]
    },
    {
      "cell_type": "code",
      "execution_count": 12,
      "metadata": {
        "id": "8idYHnQ3MXb5",
        "outputId": "867beac2-d2eb-43b7-86f2-cc3243f680ed",
        "colab": {
          "base_uri": "https://localhost:8080/",
          "height": 280
        }
      },
      "outputs": [
        {
          "output_type": "display_data",
          "data": {
            "image/png": "[encoded data removed]",
            "text/plain": [
              "<Figure size 432x288 with 1 Axes>"
            ]
          },
          "metadata": {
            "needs_background": "light"
          }
        }
      ],
      "source": [
        "plt.scatter(X_train['var_88'], X_train['var_21'])\n",
        "plt.ylabel('var_21')\n",
        "plt.xlabel('var_88')\n",
        "plt.show()"
      ]
    },
    {
      "cell_type": "markdown",
      "metadata": {
        "id": "Ra1BPmpXMXb5"
      },
      "source": [
        "The higher the value of 1 variable, the lower the value of the other variable.\n",
        "\n",
        "Now let's proceed with feature selection\n",
        "\n",
        "## Remove correlated\n",
        "\n",
        "### Brute force approach"
      ]
    },
    {
      "cell_type": "code",
      "execution_count": 13,
      "metadata": {
        "id": "PT33FF0oMXb5"
      },
      "outputs": [],
      "source": [
        "# with the following function we can select highly correlated features\n",
        "# it will remove the first feature that is correlated with anything else\n",
        "# without any further insight.\n",
        "\n",
        "def correlation(dataset, threshold):\n",
        "    \n",
        "    # create a set where I will store the names of correlated columns\n",
        "    col_corr = set()\n",
        "    \n",
        "    # create the correlation matrix\n",
        "    corr_matrix = dataset.corr()\n",
        "    \n",
        "    # for each feature in the dataset (columns of the correlation matrix)\n",
        "    for i in range(len(corr_matrix.columns)):\n",
        "        \n",
        "        # check with other features\n",
        "        for j in range(i):\n",
        "            \n",
        "            # if the correlation is higher than a certain threshold\n",
        "            if abs(corr_matrix.iloc[i, j]) > threshold: # we are interested in absolute coeff value\n",
        "                \n",
        "                # print correlation, and variables examined\n",
        "                # keep in mind that the columns and rows of the dataframe are identical\n",
        "                # so we can identify the features being examned by looking for i,j\n",
        "                # in the column names\n",
        "                print(abs(corr_matrix.iloc[i, j]), corr_matrix.columns[i], corr_matrix.columns[j])\n",
        "                \n",
        "                # get the name of the correlated feature\n",
        "                colname = corr_matrix.columns[j]\n",
        "                \n",
        "                # and add it to our correlated set\n",
        "                col_corr.add(colname)\n",
        "                \n",
        "    return col_corr"
      ]
    },
    {
      "cell_type": "markdown",
      "metadata": {
        "id": "2vVx-iuWMXb5"
      },
      "source": [
        "**Note**, if the code in cell 50 is hard to understand, either run the code line by line (you would have to manually enter some of the values of i), or add print statements within the loop to print the intermediate outputs."
      ]
    },
    {
      "cell_type": "code",
      "execution_count": 14,
      "metadata": {
        "scrolled": true,
        "id": "n3rPZbGWMXb5",
        "outputId": "211b880f-0107-4669-95b3-54c78cccac0e",
        "colab": {
          "base_uri": "https://localhost:8080/"
        }
      },
      "outputs": [
        {
          "output_type": "stream",
          "name": "stdout",
          "text": [
            "0.8632980418993852 var_17 var_13\n",
            "0.9813409653986886 var_24 var_22\n",
            "0.9536721652385074 var_28 var_5\n",
            "0.8341792843814487 var_29 var_19\n",
            "0.9904307349993785 var_32 var_22\n",
            "0.9804113632495275 var_32 var_24\n",
            "0.9443605986205716 var_33 var_11\n",
            "0.9744609333741692 var_39 var_22\n",
            "0.943115386679052 var_39 var_24\n",
            "0.9748779191363351 var_39 var_32\n",
            "0.9191057911749927 var_42 var_22\n",
            "0.9672922649953323 var_42 var_24\n",
            "0.9199183443060889 var_42 var_32\n",
            "0.8567453370819024 var_42 var_39\n",
            "0.9654741987814612 var_43 var_18\n",
            "0.8358214281472603 var_44 var_29\n",
            "0.8150241475398569 var_54 var_24\n",
            "0.8287090109274778 var_54 var_42\n",
            "0.8374044816360672 var_57 var_15\n",
            "0.8318090759398231 var_57 var_26\n",
            "0.8207993837973165 var_57 var_37\n",
            "0.8440857367712463 var_57 var_56\n",
            "0.813194752522628 var_59 var_26\n",
            "0.8306144274586847 var_59 var_37\n",
            "0.9757443944210531 var_59 var_56\n",
            "0.9223172758595206 var_59 var_57\n",
            "0.9244600573582376 var_64 var_63\n",
            "0.8925221926487126 var_66 var_52\n",
            "0.8953971637379001 var_70 var_21\n",
            "0.9702627369946087 var_72 var_50\n",
            "0.8831191655903727 var_74 var_40\n",
            "0.8616179292025175 var_75 var_5\n",
            "0.9044132378219313 var_75 var_28\n",
            "0.9319113670252255 var_76 var_22\n",
            "0.9638478619723807 var_76 var_24\n",
            "0.9317176285795009 var_76 var_32\n",
            "0.8784901678462131 var_76 var_39\n",
            "0.9548816934982279 var_76 var_42\n",
            "0.9949233674877799 var_80 var_3\n",
            "0.9591380045048059 var_84 var_63\n",
            "0.8988967009471241 var_84 var_64\n",
            "0.834050390550639 var_85 var_40\n",
            "0.9263326179868671 var_85 var_74\n",
            "0.8174556016431769 var_87 var_35\n",
            "0.8943929785046749 var_88 var_21\n",
            "0.9489465365954275 var_88 var_70\n",
            "0.9678945939294743 var_94 var_46\n",
            "0.9256781174818774 var_95 var_90\n",
            "0.9401844891006164 var_97 var_63\n",
            "0.8999246791754218 var_97 var_84\n",
            "0.9386294358332109 var_100 var_98\n",
            "0.8846845198617815 var_101 var_40\n",
            "0.8692520747111979 var_101 var_74\n",
            "0.9165004542879517 var_101 var_85\n",
            "0.8524708998226321 var_101 var_89\n",
            "0.9147225559783487 var_102 var_23\n",
            "0.8294949944599835 var_104 var_60\n",
            "0.804599133026757 var_104 var_103\n",
            "0.869104402420866 var_105 var_40\n",
            "0.8907312412181736 var_105 var_74\n",
            "0.851245454264784 var_105 var_85\n",
            "0.8373021595141529 var_105 var_101\n",
            "0.9071460024082838 var_106 var_77\n",
            "0.8898468328419906 var_108 var_30\n",
            "0.9877770388061362 var_109 var_56\n",
            "0.9448417564125652 var_109 var_59\n"
          ]
        },
        {
          "output_type": "execute_result",
          "data": {
            "text/plain": [
              "40"
            ]
          },
          "metadata": {},
          "execution_count": 14
        }
      ],
      "source": [
        "corr_features = correlation(X_train, 0.8)\n",
        "len(set(corr_features))"
      ]
    },
    {
      "cell_type": "markdown",
      "metadata": {
        "id": "HdeBvWhyMXb5"
      },
      "source": [
        "We can see that 40 features are highly correlated with other features in the training set. \n",
        "\n",
        "Very likely, by removing these correlated features, the performance of your machine learning models will drop very little, if at all. We can go ahead and drop the features like we have done in previous lectures.\n",
        "\n"
      ]
    },
    {
      "cell_type": "code",
      "execution_count": 15,
      "metadata": {
        "scrolled": true,
        "id": "FxUI6l-7MXb6",
        "outputId": "40f06809-fde7-4d42-f1f9-188466599b8b",
        "colab": {
          "base_uri": "https://localhost:8080/"
        }
      },
      "outputs": [
        {
          "output_type": "execute_result",
          "data": {
            "text/plain": [
              "{'var_101',\n",
              " 'var_103',\n",
              " 'var_11',\n",
              " 'var_13',\n",
              " 'var_15',\n",
              " 'var_18',\n",
              " 'var_19',\n",
              " 'var_21',\n",
              " 'var_22',\n",
              " 'var_23',\n",
              " 'var_24',\n",
              " 'var_26',\n",
              " 'var_28',\n",
              " 'var_29',\n",
              " 'var_3',\n",
              " 'var_30',\n",
              " 'var_32',\n",
              " 'var_35',\n",
              " 'var_37',\n",
              " 'var_39',\n",
              " 'var_40',\n",
              " 'var_42',\n",
              " 'var_46',\n",
              " 'var_5',\n",
              " 'var_50',\n",
              " 'var_52',\n",
              " 'var_56',\n",
              " 'var_57',\n",
              " 'var_59',\n",
              " 'var_60',\n",
              " 'var_63',\n",
              " 'var_64',\n",
              " 'var_70',\n",
              " 'var_74',\n",
              " 'var_77',\n",
              " 'var_84',\n",
              " 'var_85',\n",
              " 'var_89',\n",
              " 'var_90',\n",
              " 'var_98'}"
            ]
          },
          "metadata": {},
          "execution_count": 15
        }
      ],
      "source": [
        "corr_features"
      ]
    },
    {
      "cell_type": "code",
      "execution_count": 16,
      "metadata": {
        "id": "pbL51LGzMXb6",
        "outputId": "6cfbad6f-b351-4966-db9a-6a5d530df2b6",
        "colab": {
          "base_uri": "https://localhost:8080/"
        }
      },
      "outputs": [
        {
          "output_type": "execute_result",
          "data": {
            "text/plain": [
              "((35000, 68), (15000, 68))"
            ]
          },
          "metadata": {},
          "execution_count": 16
        }
      ],
      "source": [
        "X_train.drop(labels=corr_features, axis=1, inplace=True)\n",
        "X_test.drop(labels=corr_features, axis=1, inplace=True)\n",
        "\n",
        "X_train.shape, X_test.shape"
      ]
    },
    {
      "cell_type": "markdown",
      "metadata": {
        "id": "SYOMAuKfMXb6"
      },
      "source": [
        "By removing correlated columns we reduced the feature space from 108 numerical columns to 68.\n",
        "\n",
        "### Second approach\n",
        "\n",
        "The second approach looks to identify groups of highly correlated features. And then, we can make further investigation within these groups to decide which feature we keep and which one we remove."
      ]
    },
    {
      "cell_type": "code",
      "execution_count": 17,
      "metadata": {
        "id": "oUhXGmxWMXb6"
      },
      "outputs": [],
      "source": [
        "# separate train and test sets\n",
        "X_train, X_test, y_train, y_test = train_test_split(\n",
        "    data.drop(labels=['target'], axis=1),\n",
        "    data['target'],\n",
        "    test_size=0.3,\n",
        "    random_state=0)"
      ]
    },
    {
      "cell_type": "code",
      "execution_count": 18,
      "metadata": {
        "id": "lSMzHTXlMXb6",
        "outputId": "245be0a2-ecd8-444a-f667-015ff54c47f8",
        "colab": {
          "base_uri": "https://localhost:8080/",
          "height": 206
        }
      },
      "outputs": [
        {
          "output_type": "execute_result",
          "data": {
            "text/html": [
              "\n",
              "  <div id=\"df-d45501b8-aaf2-4bcb-88ac-33b0015ee608\">\n",
              "    <div class=\"colab-df-container\">\n",
              "      <div>\n",
              "<style scoped>\n",
              "    .dataframe tbody tr th:only-of-type {\n",
              "        vertical-align: middle;\n",
              "    }\n",
              "\n",
              "    .dataframe tbody tr th {\n",
              "        vertical-align: top;\n",
              "    }\n",
              "\n",
              "    .dataframe thead th {\n",
              "        text-align: right;\n",
              "    }\n",
              "</style>\n",
              "<table border=\"1\" class=\"dataframe\">\n",
              "  <thead>\n",
              "    <tr style=\"text-align: right;\">\n",
              "      <th></th>\n",
              "      <th>feature1</th>\n",
              "      <th>feature2</th>\n",
              "      <th>corr</th>\n",
              "    </tr>\n",
              "  </thead>\n",
              "  <tbody>\n",
              "    <tr>\n",
              "      <th>0</th>\n",
              "      <td>var_80</td>\n",
              "      <td>var_3</td>\n",
              "      <td>0.994923</td>\n",
              "    </tr>\n",
              "    <tr>\n",
              "      <th>1</th>\n",
              "      <td>var_3</td>\n",
              "      <td>var_80</td>\n",
              "      <td>0.994923</td>\n",
              "    </tr>\n",
              "    <tr>\n",
              "      <th>2</th>\n",
              "      <td>var_22</td>\n",
              "      <td>var_32</td>\n",
              "      <td>0.990431</td>\n",
              "    </tr>\n",
              "    <tr>\n",
              "      <th>3</th>\n",
              "      <td>var_32</td>\n",
              "      <td>var_22</td>\n",
              "      <td>0.990431</td>\n",
              "    </tr>\n",
              "    <tr>\n",
              "      <th>4</th>\n",
              "      <td>var_109</td>\n",
              "      <td>var_56</td>\n",
              "      <td>0.987777</td>\n",
              "    </tr>\n",
              "  </tbody>\n",
              "</table>\n",
              "</div>\n",
              "      <button class=\"colab-df-convert\" onclick=\"convertToInteractive('df-d45501b8-aaf2-4bcb-88ac-33b0015ee608')\"\n",
              "              title=\"Convert this dataframe to an interactive table.\"\n",
              "              style=\"display:none;\">\n",
              "        \n",
              "  <svg xmlns=\"http://www.w3.org/2000/svg\" height=\"24px\"viewBox=\"0 0 24 24\"\n",
              "       width=\"24px\">\n",
              "    <path d=\"M0 0h24v24H0V0z\" fill=\"none\"/>\n",
              "    <path d=\"M18.56 5.44l.94 2.06.94-2.06 2.06-.94-2.06-.94-.94-2.06-.94 2.06-2.06.94zm-11 1L8.5 8.5l.94-2.06 2.06-.94-2.06-.94L8.5 2.5l-.94 2.06-2.06.94zm10 10l.94 2.06.94-2.06 2.06-.94-2.06-.94-.94-2.06-.94 2.06-2.06.94z\"/><path d=\"M17.41 7.96l-1.37-1.37c-.4-.4-.92-.59-1.43-.59-.52 0-1.04.2-1.43.59L10.3 9.45l-7.72 7.72c-.78.78-.78 2.05 0 2.83L4 21.41c.39.39.9.59 1.41.59.51 0 1.02-.2 1.41-.59l7.78-7.78 2.81-2.81c.8-.78.8-2.07 0-2.86zM5.41 20L4 18.59l7.72-7.72 1.47 1.35L5.41 20z\"/>\n",
              "  </svg>\n",
              "      </button>\n",
              "      \n",
              "  <style>\n",
              "    .colab-df-container {\n",
              "      display:flex;\n",
              "      flex-wrap:wrap;\n",
              "      gap: 12px;\n",
              "    }\n",
              "\n",
              "    .colab-df-convert {\n",
              "      background-color: #E8F0FE;\n",
              "      border: none;\n",
              "      border-radius: 50%;\n",
              "      cursor: pointer;\n",
              "      display: none;\n",
              "      fill: #1967D2;\n",
              "      height: 32px;\n",
              "      padding: 0 0 0 0;\n",
              "      width: 32px;\n",
              "    }\n",
              "\n",
              "    .colab-df-convert:hover {\n",
              "      background-color: #E2EBFA;\n",
              "      box-shadow: 0px 1px 2px rgba(60, 64, 67, 0.3), 0px 1px 3px 1px rgba(60, 64, 67, 0.15);\n",
              "      fill: #174EA6;\n",
              "    }\n",
              "\n",
              "    [theme=dark] .colab-df-convert {\n",
              "      background-color: #3B4455;\n",
              "      fill: #D2E3FC;\n",
              "    }\n",
              "\n",
              "    [theme=dark] .colab-df-convert:hover {\n",
              "      background-color: #434B5C;\n",
              "      box-shadow: 0px 1px 3px 1px rgba(0, 0, 0, 0.15);\n",
              "      filter: drop-shadow(0px 1px 2px rgba(0, 0, 0, 0.3));\n",
              "      fill: #FFFFFF;\n",
              "    }\n",
              "  </style>\n",
              "\n",
              "      <script>\n",
              "        const buttonEl =\n",
              "          document.querySelector('#df-d45501b8-aaf2-4bcb-88ac-33b0015ee608 button.colab-df-convert');\n",
              "        buttonEl.style.display =\n",
              "          google.colab.kernel.accessAllowed ? 'block' : 'none';\n",
              "\n",
              "        async function convertToInteractive(key) {\n",
              "          const element = document.querySelector('#df-d45501b8-aaf2-4bcb-88ac-33b0015ee608');\n",
              "          const dataTable =\n",
              "            await google.colab.kernel.invokeFunction('convertToInteractive',\n",
              "                                                     [key], {});\n",
              "          if (!dataTable) return;\n",
              "\n",
              "          const docLinkHtml = 'Like what you see? Visit the ' +\n",
              "            '<a target=\"_blank\" href=https://colab.research.google.com/notebooks/data_table.ipynb>data table notebook</a>'\n",
              "            + ' to learn more about interactive tables.';\n",
              "          element.innerHTML = '';\n",
              "          dataTable['output_type'] = 'display_data';\n",
              "          await google.colab.output.renderOutput(dataTable, element);\n",
              "          const docLink = document.createElement('div');\n",
              "          docLink.innerHTML = docLinkHtml;\n",
              "          element.appendChild(docLink);\n",
              "        }\n",
              "      </script>\n",
              "    </div>\n",
              "  </div>\n",
              "  "
            ],
            "text/plain": [
              "  feature1 feature2      corr\n",
              "0   var_80    var_3  0.994923\n",
              "1    var_3   var_80  0.994923\n",
              "2   var_22   var_32  0.990431\n",
              "3   var_32   var_22  0.990431\n",
              "4  var_109   var_56  0.987777"
            ]
          },
          "metadata": {},
          "execution_count": 18
        }
      ],
      "source": [
        "# build a dataframe with the correlation between features\n",
        "# remember that the absolute value of the correlation\n",
        "# coefficient is important and not the sign\n",
        "\n",
        "corrmat = X_train.corr()\n",
        "corrmat = corrmat.abs().unstack() # absolute value of corr coef\n",
        "corrmat = corrmat.sort_values(ascending=False)\n",
        "corrmat = corrmat[corrmat >= 0.8]\n",
        "corrmat = corrmat[corrmat < 1]\n",
        "corrmat = pd.DataFrame(corrmat).reset_index()\n",
        "corrmat.columns = ['feature1', 'feature2', 'corr']\n",
        "corrmat.head()"
      ]
    },
    {
      "cell_type": "markdown",
      "metadata": {
        "id": "ASk3-KtfMXb6"
      },
      "source": [
        "**Note**, if the code above is not clear, run each command individually."
      ]
    },
    {
      "cell_type": "code",
      "execution_count": 19,
      "metadata": {
        "id": "uRXNPZXMMXb6",
        "outputId": "5e458946-606b-410f-e1f7-1bd16f15de4d",
        "colab": {
          "base_uri": "https://localhost:8080/"
        }
      },
      "outputs": [
        {
          "output_type": "stream",
          "name": "stdout",
          "text": [
            "found 26 correlated groups\n",
            "out of 108 total features\n"
          ]
        }
      ],
      "source": [
        "# find groups of correlated features\n",
        "\n",
        "grouped_feature_ls = []\n",
        "correlated_groups = []\n",
        "\n",
        "for feature in corrmat.feature1.unique():\n",
        "    \n",
        "    if feature not in grouped_feature_ls:\n",
        "\n",
        "        # find all features correlated to a single feature\n",
        "        correlated_block = corrmat[corrmat.feature1 == feature]\n",
        "        grouped_feature_ls = grouped_feature_ls + list(\n",
        "            correlated_block.feature2.unique()) + [feature]\n",
        "\n",
        "        # append the block of features to the list\n",
        "        correlated_groups.append(correlated_block)\n",
        "\n",
        "print('found {} correlated groups'.format(len(correlated_groups)))\n",
        "print('out of {} total features'.format(X_train.shape[1]))"
      ]
    },
    {
      "cell_type": "code",
      "execution_count": 20,
      "metadata": {
        "scrolled": true,
        "id": "KHPpNT1TMXb6",
        "outputId": "0aae3604-d330-4075-f09f-7cee92bc2d5e",
        "colab": {
          "base_uri": "https://localhost:8080/"
        }
      },
      "outputs": [
        {
          "output_type": "stream",
          "name": "stdout",
          "text": [
            "  feature1 feature2      corr\n",
            "0   var_80    var_3  0.994923\n",
            "\n",
            "   feature1 feature2      corr\n",
            "2    var_22   var_32  0.990431\n",
            "6    var_22   var_24  0.981341\n",
            "15   var_22   var_39  0.974461\n",
            "45   var_22   var_76  0.931911\n",
            "59   var_22   var_42  0.919106\n",
            "\n",
            "   feature1 feature2      corr\n",
            "4   var_109   var_56  0.987777\n",
            "34  var_109   var_59  0.944842\n",
            "\n",
            "   feature1 feature2      corr\n",
            "16   var_72   var_50  0.970263\n",
            "\n",
            "   feature1 feature2      corr\n",
            "18   var_46   var_94  0.967895\n",
            "\n",
            "   feature1 feature2      corr\n",
            "22   var_18   var_43  0.965474\n",
            "\n",
            "   feature1 feature2      corr\n",
            "26   var_63   var_84  0.959138\n",
            "41   var_63   var_97  0.940184\n",
            "52   var_63   var_64  0.924460\n",
            "\n",
            "   feature1 feature2      corr\n",
            "30    var_5   var_28  0.953672\n",
            "94    var_5   var_75  0.861618\n",
            "\n",
            "   feature1 feature2      corr\n",
            "32   var_70   var_88  0.948947\n",
            "72   var_70   var_21  0.895397\n",
            "\n",
            "   feature1 feature2      corr\n",
            "36   var_33   var_11  0.944361\n",
            "\n",
            "   feature1 feature2      corr\n",
            "42  var_100   var_98  0.938629\n",
            "\n",
            "    feature1 feature2      corr\n",
            "48    var_85   var_74  0.926333\n",
            "60    var_85  var_101  0.916500\n",
            "101   var_85  var_105  0.851245\n",
            "112   var_85   var_40  0.834050\n",
            "\n",
            "   feature1 feature2      corr\n",
            "50   var_95   var_90  0.925678\n",
            "\n",
            "    feature1 feature2      corr\n",
            "54    var_57   var_59  0.922317\n",
            "103   var_57   var_56  0.844086\n",
            "104   var_57   var_15  0.837404\n",
            "114   var_57   var_26  0.831809\n",
            "123   var_57   var_37  0.820799\n",
            "\n",
            "   feature1 feature2      corr\n",
            "62  var_102   var_23  0.914723\n",
            "\n",
            "   feature1 feature2      corr\n",
            "64   var_77  var_106  0.907146\n",
            "\n",
            "   feature1 feature2      corr\n",
            "76   var_66   var_52  0.892522\n",
            "\n",
            "   feature1 feature2      corr\n",
            "80  var_108   var_30  0.889847\n",
            "\n",
            "   feature1 feature2      corr\n",
            "92   var_17   var_13  0.863298\n",
            "\n",
            "   feature1 feature2      corr\n",
            "98   var_89  var_101  0.852471\n",
            "\n",
            "    feature1 feature2      corr\n",
            "108   var_44   var_29  0.835821\n",
            "\n",
            "    feature1 feature2      corr\n",
            "110   var_19   var_29  0.834179\n",
            "\n",
            "    feature1 feature2      corr\n",
            "118   var_60  var_104  0.829495\n",
            "\n",
            "    feature1 feature2      corr\n",
            "120   var_54   var_42  0.828709\n",
            "127   var_54   var_24  0.815024\n",
            "\n",
            "    feature1 feature2      corr\n",
            "124   var_87   var_35  0.817456\n",
            "\n",
            "    feature1 feature2      corr\n",
            "131  var_103  var_104  0.804599\n",
            "\n"
          ]
        }
      ],
      "source": [
        "# now we can print out each group. We see that some groups contain\n",
        "# only 2 correlated features, some other groups present several features \n",
        "# that are correlated among themselves.\n",
        "\n",
        "for group in correlated_groups:\n",
        "    print(group)\n",
        "    print()"
      ]
    },
    {
      "cell_type": "code",
      "execution_count": 21,
      "metadata": {
        "id": "xGLDkzJ4MXb6",
        "outputId": "2ca4f32a-bc67-450e-a498-d4586b52a2bd",
        "colab": {
          "base_uri": "https://localhost:8080/",
          "height": 206
        }
      },
      "outputs": [
        {
          "output_type": "execute_result",
          "data": {
            "text/html": [
              "\n",
              "  <div id=\"df-50b66150-b64e-476a-bed9-a546cb653261\">\n",
              "    <div class=\"colab-df-container\">\n",
              "      <div>\n",
              "<style scoped>\n",
              "    .dataframe tbody tr th:only-of-type {\n",
              "        vertical-align: middle;\n",
              "    }\n",
              "\n",
              "    .dataframe tbody tr th {\n",
              "        vertical-align: top;\n",
              "    }\n",
              "\n",
              "    .dataframe thead th {\n",
              "        text-align: right;\n",
              "    }\n",
              "</style>\n",
              "<table border=\"1\" class=\"dataframe\">\n",
              "  <thead>\n",
              "    <tr style=\"text-align: right;\">\n",
              "      <th></th>\n",
              "      <th>feature1</th>\n",
              "      <th>feature2</th>\n",
              "      <th>corr</th>\n",
              "    </tr>\n",
              "  </thead>\n",
              "  <tbody>\n",
              "    <tr>\n",
              "      <th>2</th>\n",
              "      <td>var_22</td>\n",
              "      <td>var_32</td>\n",
              "      <td>0.990431</td>\n",
              "    </tr>\n",
              "    <tr>\n",
              "      <th>6</th>\n",
              "      <td>var_22</td>\n",
              "      <td>var_24</td>\n",
              "      <td>0.981341</td>\n",
              "    </tr>\n",
              "    <tr>\n",
              "      <th>15</th>\n",
              "      <td>var_22</td>\n",
              "      <td>var_39</td>\n",
              "      <td>0.974461</td>\n",
              "    </tr>\n",
              "    <tr>\n",
              "      <th>45</th>\n",
              "      <td>var_22</td>\n",
              "      <td>var_76</td>\n",
              "      <td>0.931911</td>\n",
              "    </tr>\n",
              "    <tr>\n",
              "      <th>59</th>\n",
              "      <td>var_22</td>\n",
              "      <td>var_42</td>\n",
              "      <td>0.919106</td>\n",
              "    </tr>\n",
              "  </tbody>\n",
              "</table>\n",
              "</div>\n",
              "      <button class=\"colab-df-convert\" onclick=\"convertToInteractive('df-50b66150-b64e-476a-bed9-a546cb653261')\"\n",
              "              title=\"Convert this dataframe to an interactive table.\"\n",
              "              style=\"display:none;\">\n",
              "        \n",
              "  <svg xmlns=\"http://www.w3.org/2000/svg\" height=\"24px\"viewBox=\"0 0 24 24\"\n",
              "       width=\"24px\">\n",
              "    <path d=\"M0 0h24v24H0V0z\" fill=\"none\"/>\n",
              "    <path d=\"M18.56 5.44l.94 2.06.94-2.06 2.06-.94-2.06-.94-.94-2.06-.94 2.06-2.06.94zm-11 1L8.5 8.5l.94-2.06 2.06-.94-2.06-.94L8.5 2.5l-.94 2.06-2.06.94zm10 10l.94 2.06.94-2.06 2.06-.94-2.06-.94-.94-2.06-.94 2.06-2.06.94z\"/><path d=\"M17.41 7.96l-1.37-1.37c-.4-.4-.92-.59-1.43-.59-.52 0-1.04.2-1.43.59L10.3 9.45l-7.72 7.72c-.78.78-.78 2.05 0 2.83L4 21.41c.39.39.9.59 1.41.59.51 0 1.02-.2 1.41-.59l7.78-7.78 2.81-2.81c.8-.78.8-2.07 0-2.86zM5.41 20L4 18.59l7.72-7.72 1.47 1.35L5.41 20z\"/>\n",
              "  </svg>\n",
              "      </button>\n",
              "      \n",
              "  <style>\n",
              "    .colab-df-container {\n",
              "      display:flex;\n",
              "      flex-wrap:wrap;\n",
              "      gap: 12px;\n",
              "    }\n",
              "\n",
              "    .colab-df-convert {\n",
              "      background-color: #E8F0FE;\n",
              "      border: none;\n",
              "      border-radius: 50%;\n",
              "      cursor: pointer;\n",
              "      display: none;\n",
              "      fill: #1967D2;\n",
              "      height: 32px;\n",
              "      padding: 0 0 0 0;\n",
              "      width: 32px;\n",
              "    }\n",
              "\n",
              "    .colab-df-convert:hover {\n",
              "      background-color: #E2EBFA;\n",
              "      box-shadow: 0px 1px 2px rgba(60, 64, 67, 0.3), 0px 1px 3px 1px rgba(60, 64, 67, 0.15);\n",
              "      fill: #174EA6;\n",
              "    }\n",
              "\n",
              "    [theme=dark] .colab-df-convert {\n",
              "      background-color: #3B4455;\n",
              "      fill: #D2E3FC;\n",
              "    }\n",
              "\n",
              "    [theme=dark] .colab-df-convert:hover {\n",
              "      background-color: #434B5C;\n",
              "      box-shadow: 0px 1px 3px 1px rgba(0, 0, 0, 0.15);\n",
              "      filter: drop-shadow(0px 1px 2px rgba(0, 0, 0, 0.3));\n",
              "      fill: #FFFFFF;\n",
              "    }\n",
              "  </style>\n",
              "\n",
              "      <script>\n",
              "        const buttonEl =\n",
              "          document.querySelector('#df-50b66150-b64e-476a-bed9-a546cb653261 button.colab-df-convert');\n",
              "        buttonEl.style.display =\n",
              "          google.colab.kernel.accessAllowed ? 'block' : 'none';\n",
              "\n",
              "        async function convertToInteractive(key) {\n",
              "          const element = document.querySelector('#df-50b66150-b64e-476a-bed9-a546cb653261');\n",
              "          const dataTable =\n",
              "            await google.colab.kernel.invokeFunction('convertToInteractive',\n",
              "                                                     [key], {});\n",
              "          if (!dataTable) return;\n",
              "\n",
              "          const docLinkHtml = 'Like what you see? Visit the ' +\n",
              "            '<a target=\"_blank\" href=https://colab.research.google.com/notebooks/data_table.ipynb>data table notebook</a>'\n",
              "            + ' to learn more about interactive tables.';\n",
              "          element.innerHTML = '';\n",
              "          dataTable['output_type'] = 'display_data';\n",
              "          await google.colab.output.renderOutput(dataTable, element);\n",
              "          const docLink = document.createElement('div');\n",
              "          docLink.innerHTML = docLinkHtml;\n",
              "          element.appendChild(docLink);\n",
              "        }\n",
              "      </script>\n",
              "    </div>\n",
              "  </div>\n",
              "  "
            ],
            "text/plain": [
              "   feature1 feature2      corr\n",
              "2    var_22   var_32  0.990431\n",
              "6    var_22   var_24  0.981341\n",
              "15   var_22   var_39  0.974461\n",
              "45   var_22   var_76  0.931911\n",
              "59   var_22   var_42  0.919106"
            ]
          },
          "metadata": {},
          "execution_count": 21
        }
      ],
      "source": [
        "# we can now investigate further features within one group.\n",
        "# let's for example select group 1\n",
        "\n",
        "group = correlated_groups[1]\n",
        "group"
      ]
    },
    {
      "cell_type": "markdown",
      "metadata": {
        "id": "GFnYUihHMXb6"
      },
      "source": [
        "**In this group, several features are highly correlated. Which one should we keep and which ones should we remove?**\n",
        "\n",
        "One criteria to select which features to use from this group, would be to use those with **less missing data**. \n",
        "\n",
        "Our dataset contains no missing values, so this is not an option. But keep this in mind when you work with your own datasets."
      ]
    },
    {
      "cell_type": "markdown",
      "metadata": {
        "id": "oGLOJb0JMXb6"
      },
      "source": [
        "Alternatively, we could build a **machine learning algorithm using all the features from the above list, and select the more predictive one**."
      ]
    },
    {
      "cell_type": "code",
      "execution_count": 22,
      "metadata": {
        "id": "qyALpm2EMXb6",
        "outputId": "ccc18206-88dc-442c-ead1-1b8ae1d3b41d",
        "colab": {
          "base_uri": "https://localhost:8080/"
        }
      },
      "outputs": [
        {
          "output_type": "execute_result",
          "data": {
            "text/plain": [
              "RandomForestClassifier(max_depth=4, n_estimators=200, random_state=39)"
            ]
          },
          "metadata": {},
          "execution_count": 22
        }
      ],
      "source": [
        "from sklearn.ensemble import RandomForestClassifier\n",
        "\n",
        "# add all features of the group to a list\n",
        "features = list(group['feature2'].unique())+['var_22']\n",
        "\n",
        "# train a random forest \n",
        "rf = RandomForestClassifier(n_estimators=200, random_state=39, max_depth=4)\n",
        "rf.fit(X_train[features].fillna(0), y_train)"
      ]
    },
    {
      "cell_type": "code",
      "execution_count": 23,
      "metadata": {
        "id": "hnNxfac-MXb6",
        "outputId": "c023311d-631f-4a04-abb0-eabebd62ab6a",
        "colab": {
          "base_uri": "https://localhost:8080/",
          "height": 238
        }
      },
      "outputs": [
        {
          "output_type": "execute_result",
          "data": {
            "text/html": [
              "\n",
              "  <div id=\"df-8bcb5eb5-6e83-4d91-9a29-f01d90cd7136\">\n",
              "    <div class=\"colab-df-container\">\n",
              "      <div>\n",
              "<style scoped>\n",
              "    .dataframe tbody tr th:only-of-type {\n",
              "        vertical-align: middle;\n",
              "    }\n",
              "\n",
              "    .dataframe tbody tr th {\n",
              "        vertical-align: top;\n",
              "    }\n",
              "\n",
              "    .dataframe thead th {\n",
              "        text-align: right;\n",
              "    }\n",
              "</style>\n",
              "<table border=\"1\" class=\"dataframe\">\n",
              "  <thead>\n",
              "    <tr style=\"text-align: right;\">\n",
              "      <th></th>\n",
              "      <th>feature</th>\n",
              "      <th>importance</th>\n",
              "    </tr>\n",
              "  </thead>\n",
              "  <tbody>\n",
              "    <tr>\n",
              "      <th>2</th>\n",
              "      <td>var_39</td>\n",
              "      <td>0.193758</td>\n",
              "    </tr>\n",
              "    <tr>\n",
              "      <th>3</th>\n",
              "      <td>var_76</td>\n",
              "      <td>0.181767</td>\n",
              "    </tr>\n",
              "    <tr>\n",
              "      <th>5</th>\n",
              "      <td>var_22</td>\n",
              "      <td>0.177793</td>\n",
              "    </tr>\n",
              "    <tr>\n",
              "      <th>4</th>\n",
              "      <td>var_42</td>\n",
              "      <td>0.154643</td>\n",
              "    </tr>\n",
              "    <tr>\n",
              "      <th>1</th>\n",
              "      <td>var_24</td>\n",
              "      <td>0.152343</td>\n",
              "    </tr>\n",
              "    <tr>\n",
              "      <th>0</th>\n",
              "      <td>var_32</td>\n",
              "      <td>0.139697</td>\n",
              "    </tr>\n",
              "  </tbody>\n",
              "</table>\n",
              "</div>\n",
              "      <button class=\"colab-df-convert\" onclick=\"convertToInteractive('df-8bcb5eb5-6e83-4d91-9a29-f01d90cd7136')\"\n",
              "              title=\"Convert this dataframe to an interactive table.\"\n",
              "              style=\"display:none;\">\n",
              "        \n",
              "  <svg xmlns=\"http://www.w3.org/2000/svg\" height=\"24px\"viewBox=\"0 0 24 24\"\n",
              "       width=\"24px\">\n",
              "    <path d=\"M0 0h24v24H0V0z\" fill=\"none\"/>\n",
              "    <path d=\"M18.56 5.44l.94 2.06.94-2.06 2.06-.94-2.06-.94-.94-2.06-.94 2.06-2.06.94zm-11 1L8.5 8.5l.94-2.06 2.06-.94-2.06-.94L8.5 2.5l-.94 2.06-2.06.94zm10 10l.94 2.06.94-2.06 2.06-.94-2.06-.94-.94-2.06-.94 2.06-2.06.94z\"/><path d=\"M17.41 7.96l-1.37-1.37c-.4-.4-.92-.59-1.43-.59-.52 0-1.04.2-1.43.59L10.3 9.45l-7.72 7.72c-.78.78-.78 2.05 0 2.83L4 21.41c.39.39.9.59 1.41.59.51 0 1.02-.2 1.41-.59l7.78-7.78 2.81-2.81c.8-.78.8-2.07 0-2.86zM5.41 20L4 18.59l7.72-7.72 1.47 1.35L5.41 20z\"/>\n",
              "  </svg>\n",
              "      </button>\n",
              "      \n",
              "  <style>\n",
              "    .colab-df-container {\n",
              "      display:flex;\n",
              "      flex-wrap:wrap;\n",
              "      gap: 12px;\n",
              "    }\n",
              "\n",
              "    .colab-df-convert {\n",
              "      background-color: #E8F0FE;\n",
              "      border: none;\n",
              "      border-radius: 50%;\n",
              "      cursor: pointer;\n",
              "      display: none;\n",
              "      fill: #1967D2;\n",
              "      height: 32px;\n",
              "      padding: 0 0 0 0;\n",
              "      width: 32px;\n",
              "    }\n",
              "\n",
              "    .colab-df-convert:hover {\n",
              "      background-color: #E2EBFA;\n",
              "      box-shadow: 0px 1px 2px rgba(60, 64, 67, 0.3), 0px 1px 3px 1px rgba(60, 64, 67, 0.15);\n",
              "      fill: #174EA6;\n",
              "    }\n",
              "\n",
              "    [theme=dark] .colab-df-convert {\n",
              "      background-color: #3B4455;\n",
              "      fill: #D2E3FC;\n",
              "    }\n",
              "\n",
              "    [theme=dark] .colab-df-convert:hover {\n",
              "      background-color: #434B5C;\n",
              "      box-shadow: 0px 1px 3px 1px rgba(0, 0, 0, 0.15);\n",
              "      filter: drop-shadow(0px 1px 2px rgba(0, 0, 0, 0.3));\n",
              "      fill: #FFFFFF;\n",
              "    }\n",
              "  </style>\n",
              "\n",
              "      <script>\n",
              "        const buttonEl =\n",
              "          document.querySelector('#df-8bcb5eb5-6e83-4d91-9a29-f01d90cd7136 button.colab-df-convert');\n",
              "        buttonEl.style.display =\n",
              "          google.colab.kernel.accessAllowed ? 'block' : 'none';\n",
              "\n",
              "        async function convertToInteractive(key) {\n",
              "          const element = document.querySelector('#df-8bcb5eb5-6e83-4d91-9a29-f01d90cd7136');\n",
              "          const dataTable =\n",
              "            await google.colab.kernel.invokeFunction('convertToInteractive',\n",
              "                                                     [key], {});\n",
              "          if (!dataTable) return;\n",
              "\n",
              "          const docLinkHtml = 'Like what you see? Visit the ' +\n",
              "            '<a target=\"_blank\" href=https://colab.research.google.com/notebooks/data_table.ipynb>data table notebook</a>'\n",
              "            + ' to learn more about interactive tables.';\n",
              "          element.innerHTML = '';\n",
              "          dataTable['output_type'] = 'display_data';\n",
              "          await google.colab.output.renderOutput(dataTable, element);\n",
              "          const docLink = document.createElement('div');\n",
              "          docLink.innerHTML = docLinkHtml;\n",
              "          element.appendChild(docLink);\n",
              "        }\n",
              "      </script>\n",
              "    </div>\n",
              "  </div>\n",
              "  "
            ],
            "text/plain": [
              "  feature  importance\n",
              "2  var_39    0.193758\n",
              "3  var_76    0.181767\n",
              "5  var_22    0.177793\n",
              "4  var_42    0.154643\n",
              "1  var_24    0.152343\n",
              "0  var_32    0.139697"
            ]
          },
          "metadata": {},
          "execution_count": 23
        }
      ],
      "source": [
        "# get the feature importance attributed by the \n",
        "# random forest model (more on this in coming lectures)\n",
        "\n",
        "importance = pd.concat(\n",
        "    [pd.Series(features),\n",
        "     pd.Series(rf.feature_importances_)], axis=1)\n",
        "\n",
        "importance.columns = ['feature', 'importance']\n",
        "\n",
        "# sort features by importance, most important first\n",
        "importance.sort_values(by='importance', ascending=False)"
      ]
    },
    {
      "cell_type": "markdown",
      "metadata": {
        "id": "XbHJQLhoMXb7"
      },
      "source": [
        "In this case, feature var_39 shows the highest importance according to random forests. Then, I would select var_39, and remove all the remaining features from this group from the dataset.\n",
        "\n",
        "**Note**\n",
        "\n",
        "None of the 2 procedures for removing correlated features are perfect, and some correlated features may escape the loops of code. So it might be worthwhile checking that after removing the correlated features, there are no correlated features left in the dataset. If there are, repeat the procedure to remove the remaining ones.\n",
        "\n",
        "That is all for this lecture, I hope you enjoyed it and see you in the next one!"
      ]
    },
    {
      "cell_type": "code",
      "execution_count": 24,
      "metadata": {
        "id": "XWZ5XnOMMXb7",
        "outputId": "ca935e2e-5678-426f-8971-3c5196435d6b",
        "colab": {
          "base_uri": "https://localhost:8080/",
          "height": 1000
        }
      },
      "outputs": [
        {
          "output_type": "display_data",
          "data": {
            "image/png": "[encoded data removed]",
            "text/plain": [
              "<Figure size 432x288 with 1 Axes>"
            ]
          },
          "metadata": {
            "needs_background": "light"
          }
        },
        {
          "output_type": "display_data",
          "data": {
            "image/png": "[encoded data removed]",
            "text/plain": [
              "<Figure size 432x288 with 1 Axes>"
            ]
          },
          "metadata": {
            "needs_background": "light"
          }
        },
        {
          "output_type": "display_data",
          "data": {
            "image/png": "[encoded data removed]",
            "text/plain": [
              "<Figure size 432x288 with 1 Axes>"
            ]
          },
          "metadata": {
            "needs_background": "light"
          }
        },
        {
          "output_type": "display_data",
          "data": {
            "image/png": "[encoded data removed]",
            "text/plain": [
              "<Figure size 432x288 with 1 Axes>"
            ]
          },
          "metadata": {
            "needs_background": "light"
          }
        },
        {
          "output_type": "display_data",
          "data": {
            "image/png": "[encoded data removed]",
            "text/plain": [
              "<Figure size 432x288 with 1 Axes>"
            ]
          },
          "metadata": {
            "needs_background": "light"
          }
        }
      ],
      "source": [
        "# BONUS:\n",
        "# let's plot the correlation of the features in the correlated group from the\n",
        "# previous cell\n",
        "\n",
        "for feature in group['feature2']:\n",
        "    plt.scatter(X_train['var_22'], X_train[feature])\n",
        "    plt.xlabel('var_22')\n",
        "    plt.ylabel(feature)\n",
        "    plt.show()"
      ]
    },
    {
      "cell_type": "code",
      "execution_count": null,
      "metadata": {
        "id": "FMa-O7n_MXb7"
      },
      "outputs": [],
      "source": [
        ""
      ]
    }
  ],
  "metadata": {
    "kernelspec": {
      "display_name": "fsml",
      "language": "python",
      "name": "fsml"
    },
    "language_info": {
      "codemirror_mode": {
        "name": "ipython",
        "version": 3
      },
      "file_extension": ".py",
      "mimetype": "text/x-python",
      "name": "python",
      "nbconvert_exporter": "python",
      "pygments_lexer": "ipython3",
      "version": "3.8.2"
    },
    "toc": {
      "base_numbering": 1,
      "nav_menu": {},
      "number_sections": true,
      "sideBar": true,
      "skip_h1_title": false,
      "title_cell": "Table of Contents",
      "title_sidebar": "Contents",
      "toc_cell": false,
      "toc_position": {
        "height": "calc(100% - 180px)",
        "left": "10px",
        "top": "150px",
        "width": "241.6px"
      },
      "toc_section_display": "block",
      "toc_window_display": true
    },
    "colab": {
      "name": "04.1-Correlation-Pearson.ipynb",
      "provenance": [],
      "include_colab_link": true
    }
  },
  "nbformat": 4,
  "nbformat_minor": 0
}