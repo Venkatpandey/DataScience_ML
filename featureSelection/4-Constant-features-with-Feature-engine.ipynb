{
  "cells": [
    {
      "cell_type": "markdown",
      "metadata": {
        "id": "view-in-github",
        "colab_type": "text"
      },
      "source": [
        "<a href=\"https://colab.research.google.com/github/Venkatpandey/DataScience_ML/blob/main/featureSelection/4-Constant-features-with-Feature-engine.ipynb\" target=\"_parent\"><img src=\"https://colab.research.google.com/assets/colab-badge.svg\" alt=\"Open In Colab\"/></a>"
      ]
    },
    {
      "cell_type": "markdown",
      "metadata": {
        "id": "ORCTnB2CSAHC"
      },
      "source": [
        "## Constant and Quasi-constant features with Feature-engine\n",
        "\n",
        "In this notebook, we will remove constant and quasi-constant features utilizing the new functionality from Feature-engine."
      ]
    },
    {
      "cell_type": "code",
      "source": [
        "from google.colab import drive\n",
        "drive.mount('/content/drive')"
      ],
      "metadata": {
        "id": "FIzLdOngSDHQ",
        "outputId": "0c5469d1-566d-48fc-d84c-b7b3eb0bf358",
        "colab": {
          "base_uri": "https://localhost:8080/"
        }
      },
      "execution_count": 1,
      "outputs": [
        {
          "output_type": "stream",
          "name": "stdout",
          "text": [
            "Mounted at /content/drive\n"
          ]
        }
      ]
    },
    {
      "cell_type": "code",
      "source": [
        "pip install feature_engine"
      ],
      "metadata": {
        "id": "ZofYbax6SHsE",
        "outputId": "c857a012-5ec8-44ed-b7ca-a9a382204cc7",
        "colab": {
          "base_uri": "https://localhost:8080/"
        }
      },
      "execution_count": 2,
      "outputs": [
        {
          "output_type": "stream",
          "name": "stdout",
          "text": [
            "Collecting feature_engine\n",
            "  Downloading feature_engine-1.1.2-py2.py3-none-any.whl (180 kB)\n",
            "\u001b[K     |████████████████████████████████| 180 kB 14.3 MB/s \n",
            "\u001b[?25hCollecting statsmodels>=0.11.1\n",
            "  Downloading statsmodels-0.13.1-cp37-cp37m-manylinux_2_17_x86_64.manylinux2014_x86_64.whl (9.8 MB)\n",
            "\u001b[K     |████████████████████████████████| 9.8 MB 78.5 MB/s \n",
            "\u001b[?25hRequirement already satisfied: scikit-learn>=0.22.2 in /usr/local/lib/python3.7/dist-packages (from feature_engine) (1.0.1)\n",
            "Requirement already satisfied: scipy>=1.4.1 in /usr/local/lib/python3.7/dist-packages (from feature_engine) (1.4.1)\n",
            "Requirement already satisfied: numpy>=1.18.2 in /usr/local/lib/python3.7/dist-packages (from feature_engine) (1.19.5)\n",
            "Requirement already satisfied: pandas>=1.0.3 in /usr/local/lib/python3.7/dist-packages (from feature_engine) (1.1.5)\n",
            "Requirement already satisfied: pytz>=2017.2 in /usr/local/lib/python3.7/dist-packages (from pandas>=1.0.3->feature_engine) (2018.9)\n",
            "Requirement already satisfied: python-dateutil>=2.7.3 in /usr/local/lib/python3.7/dist-packages (from pandas>=1.0.3->feature_engine) (2.8.2)\n",
            "Requirement already satisfied: six>=1.5 in /usr/local/lib/python3.7/dist-packages (from python-dateutil>=2.7.3->pandas>=1.0.3->feature_engine) (1.15.0)\n",
            "Requirement already satisfied: joblib>=0.11 in /usr/local/lib/python3.7/dist-packages (from scikit-learn>=0.22.2->feature_engine) (1.1.0)\n",
            "Requirement already satisfied: threadpoolctl>=2.0.0 in /usr/local/lib/python3.7/dist-packages (from scikit-learn>=0.22.2->feature_engine) (3.0.0)\n",
            "Requirement already satisfied: patsy>=0.5.2 in /usr/local/lib/python3.7/dist-packages (from statsmodels>=0.11.1->feature_engine) (0.5.2)\n",
            "Installing collected packages: statsmodels, feature-engine\n",
            "  Attempting uninstall: statsmodels\n",
            "    Found existing installation: statsmodels 0.10.2\n",
            "    Uninstalling statsmodels-0.10.2:\n",
            "      Successfully uninstalled statsmodels-0.10.2\n",
            "Successfully installed feature-engine-1.1.2 statsmodels-0.13.1\n"
          ]
        }
      ]
    },
    {
      "cell_type": "code",
      "execution_count": 4,
      "metadata": {
        "id": "oFyacjEwSAHF"
      },
      "outputs": [],
      "source": [
        "import numpy as np\n",
        "import pandas as pd\n",
        "from sklearn.model_selection import train_test_split\n",
        "\n",
        "from feature_engine.selection import DropConstantFeatures"
      ]
    },
    {
      "cell_type": "code",
      "execution_count": 5,
      "metadata": {
        "id": "i8OI_GaMSAHG",
        "outputId": "3d043809-f07f-4d67-87e8-2f8572424bb0",
        "colab": {
          "base_uri": "https://localhost:8080/"
        }
      },
      "outputs": [
        {
          "output_type": "execute_result",
          "data": {
            "text/plain": [
              "(50000, 301)"
            ]
          },
          "metadata": {},
          "execution_count": 5
        }
      ],
      "source": [
        "# load dataset\n",
        "\n",
        "data = pd.read_csv('/content/drive/MyDrive/Colab Notebooks/precleaned-datasets/dataset_1.csv')\n",
        "data.shape"
      ]
    },
    {
      "cell_type": "markdown",
      "metadata": {
        "id": "rfWPtCRuSAHH"
      },
      "source": [
        "**Important**\n",
        "\n",
        "In all feature selection procedures, it is good practice to select the features by examining only the training set. And this is to avoid overfit."
      ]
    },
    {
      "cell_type": "code",
      "execution_count": 6,
      "metadata": {
        "id": "nfh_3-UHSAHH",
        "outputId": "499ed196-5f80-42d6-8565-dfb3f215b49a",
        "colab": {
          "base_uri": "https://localhost:8080/"
        }
      },
      "outputs": [
        {
          "output_type": "execute_result",
          "data": {
            "text/plain": [
              "((35000, 300), (15000, 300))"
            ]
          },
          "metadata": {},
          "execution_count": 6
        }
      ],
      "source": [
        "# separate dataset into train and test\n",
        "\n",
        "X_train, X_test, y_train, y_test = train_test_split(\n",
        "    data.drop(labels=['target'], axis=1), # drop the target\n",
        "    data['target'], # just the target\n",
        "    test_size=0.3,\n",
        "    random_state=0)\n",
        "\n",
        "X_train.shape, X_test.shape"
      ]
    },
    {
      "cell_type": "markdown",
      "metadata": {
        "id": "uaKPLpBfSAHI"
      },
      "source": [
        "## Remove constant features\n",
        "\n",
        "The DropConstantFeatures class from Feature-engine finds and removes constant and quasi-constant features from a dataset. We can remove constant features by setting the parameter tol to 1, or quasi-constant with smaller values for tol."
      ]
    },
    {
      "cell_type": "code",
      "execution_count": 7,
      "metadata": {
        "id": "kvAN9IqaSAHI",
        "outputId": "653fffd3-b87d-439f-a2c4-2944f4007ab0",
        "colab": {
          "base_uri": "https://localhost:8080/"
        }
      },
      "outputs": [
        {
          "output_type": "execute_result",
          "data": {
            "text/plain": [
              "DropConstantFeatures()"
            ]
          },
          "metadata": {},
          "execution_count": 7
        }
      ],
      "source": [
        "sel = DropConstantFeatures(tol=1, variables=None, missing_values='raise')\n",
        "\n",
        "sel.fit(X_train)"
      ]
    },
    {
      "cell_type": "code",
      "execution_count": 8,
      "metadata": {
        "id": "HzVj8UVzSAHJ",
        "outputId": "f2b49f51-374a-4e72-a3cb-71b7c112068d",
        "colab": {
          "base_uri": "https://localhost:8080/"
        }
      },
      "outputs": [
        {
          "output_type": "execute_result",
          "data": {
            "text/plain": [
              "['var_23',\n",
              " 'var_33',\n",
              " 'var_44',\n",
              " 'var_61',\n",
              " 'var_80',\n",
              " 'var_81',\n",
              " 'var_87',\n",
              " 'var_89',\n",
              " 'var_92',\n",
              " 'var_97',\n",
              " 'var_99',\n",
              " 'var_112',\n",
              " 'var_113',\n",
              " 'var_120',\n",
              " 'var_122',\n",
              " 'var_127',\n",
              " 'var_135',\n",
              " 'var_158',\n",
              " 'var_167',\n",
              " 'var_170',\n",
              " 'var_171',\n",
              " 'var_178',\n",
              " 'var_180',\n",
              " 'var_182',\n",
              " 'var_195',\n",
              " 'var_196',\n",
              " 'var_201',\n",
              " 'var_212',\n",
              " 'var_215',\n",
              " 'var_225',\n",
              " 'var_227',\n",
              " 'var_248',\n",
              " 'var_294',\n",
              " 'var_297']"
            ]
          },
          "metadata": {},
          "execution_count": 8
        }
      ],
      "source": [
        "# list of constant features\n",
        "\n",
        "sel.features_to_drop_"
      ]
    },
    {
      "cell_type": "code",
      "execution_count": 9,
      "metadata": {
        "id": "NgRkOSbiSAHK",
        "outputId": "5fd5fce0-e05e-4516-a03d-3fa2f814a60b",
        "colab": {
          "base_uri": "https://localhost:8080/"
        }
      },
      "outputs": [
        {
          "output_type": "execute_result",
          "data": {
            "text/plain": [
              "34"
            ]
          },
          "metadata": {},
          "execution_count": 9
        }
      ],
      "source": [
        "# number of constant features\n",
        "\n",
        "len(sel.features_to_drop_)"
      ]
    },
    {
      "cell_type": "code",
      "execution_count": 10,
      "metadata": {
        "id": "cl18Kl3pSAHL",
        "outputId": "b576b328-2762-4dbe-ac0e-2260efd53743",
        "colab": {
          "base_uri": "https://localhost:8080/"
        }
      },
      "outputs": [
        {
          "output_type": "execute_result",
          "data": {
            "text/plain": [
              "array([0])"
            ]
          },
          "metadata": {},
          "execution_count": 10
        }
      ],
      "source": [
        "# let's explore 1 of the constant feature values\n",
        "\n",
        "X_train[sel.features_to_drop_[0]].unique()"
      ]
    },
    {
      "cell_type": "code",
      "execution_count": 11,
      "metadata": {
        "id": "1ttgPwPiSAHL",
        "outputId": "50421591-8ace-41d6-ba9a-3735c015fb0a",
        "colab": {
          "base_uri": "https://localhost:8080/"
        }
      },
      "outputs": [
        {
          "output_type": "execute_result",
          "data": {
            "text/plain": [
              "((35000, 266), (15000, 266))"
            ]
          },
          "metadata": {},
          "execution_count": 11
        }
      ],
      "source": [
        "# remove constant features from the data\n",
        "\n",
        "X_train = sel.transform(X_train)\n",
        "X_test = sel.transform(X_test)\n",
        "\n",
        "X_train.shape, X_test.shape"
      ]
    },
    {
      "cell_type": "markdown",
      "metadata": {
        "id": "3MiqGfSuSAHM"
      },
      "source": [
        "The datasets now contain 34 features less. \n",
        "\n",
        "## Remove quasi-constant features"
      ]
    },
    {
      "cell_type": "code",
      "execution_count": 12,
      "metadata": {
        "id": "vfmqH-4hSAHM",
        "outputId": "dd08d846-eb06-4f03-9253-ff9a3fefaadd",
        "colab": {
          "base_uri": "https://localhost:8080/"
        }
      },
      "outputs": [
        {
          "output_type": "execute_result",
          "data": {
            "text/plain": [
              "DropConstantFeatures(tol=0.998)"
            ]
          },
          "metadata": {},
          "execution_count": 12
        }
      ],
      "source": [
        "sel = DropConstantFeatures(tol=0.998, variables=None, missing_values='raise')\n",
        "\n",
        "sel.fit(X_train)"
      ]
    },
    {
      "cell_type": "code",
      "execution_count": 13,
      "metadata": {
        "id": "61tbcmTUSAHM",
        "outputId": "2e965227-829f-45c4-d891-9d712b986709",
        "colab": {
          "base_uri": "https://localhost:8080/"
        }
      },
      "outputs": [
        {
          "output_type": "execute_result",
          "data": {
            "text/plain": [
              "108"
            ]
          },
          "metadata": {},
          "execution_count": 13
        }
      ],
      "source": [
        "# number of quasi-constant features\n",
        "\n",
        "len(sel.features_to_drop_)"
      ]
    },
    {
      "cell_type": "code",
      "execution_count": 14,
      "metadata": {
        "scrolled": true,
        "id": "OqgxEG48SAHN",
        "outputId": "fea90d15-1753-4f26-c2f1-631dde2d930d",
        "colab": {
          "base_uri": "https://localhost:8080/"
        }
      },
      "outputs": [
        {
          "output_type": "execute_result",
          "data": {
            "text/plain": [
              "['var_1',\n",
              " 'var_2',\n",
              " 'var_3',\n",
              " 'var_6',\n",
              " 'var_7',\n",
              " 'var_9',\n",
              " 'var_10',\n",
              " 'var_11',\n",
              " 'var_12',\n",
              " 'var_14',\n",
              " 'var_16',\n",
              " 'var_20',\n",
              " 'var_24',\n",
              " 'var_28',\n",
              " 'var_32',\n",
              " 'var_34',\n",
              " 'var_36',\n",
              " 'var_39',\n",
              " 'var_40',\n",
              " 'var_42',\n",
              " 'var_43',\n",
              " 'var_45',\n",
              " 'var_48',\n",
              " 'var_53',\n",
              " 'var_56',\n",
              " 'var_59',\n",
              " 'var_60',\n",
              " 'var_65',\n",
              " 'var_66',\n",
              " 'var_67',\n",
              " 'var_69',\n",
              " 'var_71',\n",
              " 'var_72',\n",
              " 'var_73',\n",
              " 'var_77',\n",
              " 'var_78',\n",
              " 'var_90',\n",
              " 'var_95',\n",
              " 'var_98',\n",
              " 'var_102',\n",
              " 'var_104',\n",
              " 'var_106',\n",
              " 'var_111',\n",
              " 'var_115',\n",
              " 'var_116',\n",
              " 'var_124',\n",
              " 'var_125',\n",
              " 'var_126',\n",
              " 'var_129',\n",
              " 'var_130',\n",
              " 'var_133',\n",
              " 'var_136',\n",
              " 'var_138',\n",
              " 'var_141',\n",
              " 'var_142',\n",
              " 'var_146',\n",
              " 'var_149',\n",
              " 'var_150',\n",
              " 'var_151',\n",
              " 'var_153',\n",
              " 'var_159',\n",
              " 'var_183',\n",
              " 'var_184',\n",
              " 'var_187',\n",
              " 'var_189',\n",
              " 'var_197',\n",
              " 'var_202',\n",
              " 'var_204',\n",
              " 'var_210',\n",
              " 'var_211',\n",
              " 'var_216',\n",
              " 'var_217',\n",
              " 'var_219',\n",
              " 'var_221',\n",
              " 'var_223',\n",
              " 'var_224',\n",
              " 'var_228',\n",
              " 'var_233',\n",
              " 'var_234',\n",
              " 'var_235',\n",
              " 'var_236',\n",
              " 'var_237',\n",
              " 'var_239',\n",
              " 'var_243',\n",
              " 'var_245',\n",
              " 'var_246',\n",
              " 'var_247',\n",
              " 'var_249',\n",
              " 'var_251',\n",
              " 'var_254',\n",
              " 'var_257',\n",
              " 'var_260',\n",
              " 'var_263',\n",
              " 'var_264',\n",
              " 'var_265',\n",
              " 'var_267',\n",
              " 'var_274',\n",
              " 'var_280',\n",
              " 'var_282',\n",
              " 'var_283',\n",
              " 'var_285',\n",
              " 'var_286',\n",
              " 'var_287',\n",
              " 'var_289',\n",
              " 'var_290',\n",
              " 'var_291',\n",
              " 'var_298',\n",
              " 'var_299']"
            ]
          },
          "metadata": {},
          "execution_count": 14
        }
      ],
      "source": [
        "# list of quasi-constant features\n",
        "\n",
        "sel.features_to_drop_"
      ]
    },
    {
      "cell_type": "code",
      "execution_count": 15,
      "metadata": {
        "id": "BdSSGv9ISAHN",
        "outputId": "57f6e447-17f9-4078-f9dd-6ba24d3e3ed7",
        "colab": {
          "base_uri": "https://localhost:8080/"
        }
      },
      "outputs": [
        {
          "output_type": "execute_result",
          "data": {
            "text/plain": [
              "0    0.999629\n",
              "3    0.000200\n",
              "6    0.000143\n",
              "9    0.000029\n",
              "Name: var_1, dtype: float64"
            ]
          },
          "metadata": {},
          "execution_count": 15
        }
      ],
      "source": [
        "# percentage of observations showing each of the different values\n",
        "# of the variable\n",
        "\n",
        "var = sel.features_to_drop_[0]\n",
        "\n",
        "X_train[var].value_counts() / np.float(len(X_train))"
      ]
    },
    {
      "cell_type": "markdown",
      "metadata": {
        "id": "80U8Zm79SAHN"
      },
      "source": [
        "We can see that > 99% of the observations show one value, 0. Therefore, this features is fairly constant."
      ]
    },
    {
      "cell_type": "code",
      "execution_count": 16,
      "metadata": {
        "id": "3HTKglPiSAHN",
        "outputId": "6ead7d90-7fe3-46a2-8454-78efeff4fc69",
        "colab": {
          "base_uri": "https://localhost:8080/"
        }
      },
      "outputs": [
        {
          "output_type": "execute_result",
          "data": {
            "text/plain": [
              "0.0000         0.999629\n",
              "35685.9459     0.000029\n",
              "3583.3941      0.000029\n",
              "15028.0560     0.000029\n",
              "52105.7901     0.000029\n",
              "10281.6000     0.000029\n",
              "86718.0000     0.000029\n",
              "207901.3365    0.000029\n",
              "25905.4866     0.000029\n",
              "5209.9500      0.000029\n",
              "2641.0164      0.000029\n",
              "12542.3100     0.000029\n",
              "861.0900       0.000029\n",
              "27.3000        0.000029\n",
              "Name: var_3, dtype: float64"
            ]
          },
          "metadata": {},
          "execution_count": 16
        }
      ],
      "source": [
        "# let's explore another one\n",
        "\n",
        "var = sel.features_to_drop_[2]\n",
        "\n",
        "X_train[var].value_counts() / np.float(len(X_train))"
      ]
    },
    {
      "cell_type": "markdown",
      "metadata": {
        "id": "KLOEhOsaSAHN"
      },
      "source": [
        "Go ahead and explore the rest of the quasi-constant variables.\n",
        "\n",
        "We can then remove the quasi-constant features utilizing the transform() method. Feature-engine returns dataframes by default."
      ]
    },
    {
      "cell_type": "code",
      "execution_count": 17,
      "metadata": {
        "id": "ZxpANPFFSAHO",
        "outputId": "cbbeb12c-9e67-4038-f345-296c0c040126",
        "colab": {
          "base_uri": "https://localhost:8080/"
        }
      },
      "outputs": [
        {
          "output_type": "execute_result",
          "data": {
            "text/plain": [
              "((35000, 158), (15000, 158))"
            ]
          },
          "metadata": {},
          "execution_count": 17
        }
      ],
      "source": [
        "#remove the quasi-constant features\n",
        "\n",
        "X_train = sel.transform(X_train)\n",
        "X_test = sel.transform(X_test)\n",
        "\n",
        "X_train.shape, X_test.shape"
      ]
    },
    {
      "cell_type": "markdown",
      "metadata": {
        "id": "532qmCiqSAHO"
      },
      "source": [
        "By removing constant and almost constant features, we reduced the feature space from 300 to 158."
      ]
    },
    {
      "cell_type": "markdown",
      "metadata": {
        "id": "mS3StzxkSAHO"
      },
      "source": [
        "That is all for this lecture, I hope you enjoyed it and see you in the next one!"
      ]
    }
  ],
  "metadata": {
    "kernelspec": {
      "display_name": "fengine",
      "language": "python",
      "name": "fengine"
    },
    "language_info": {
      "codemirror_mode": {
        "name": "ipython",
        "version": 3
      },
      "file_extension": ".py",
      "mimetype": "text/x-python",
      "name": "python",
      "nbconvert_exporter": "python",
      "pygments_lexer": "ipython3",
      "version": "3.8.2"
    },
    "toc": {
      "base_numbering": 1,
      "nav_menu": {},
      "number_sections": true,
      "sideBar": true,
      "skip_h1_title": false,
      "title_cell": "Table of Contents",
      "title_sidebar": "Contents",
      "toc_cell": false,
      "toc_position": {},
      "toc_section_display": "block",
      "toc_window_display": true
    },
    "colab": {
      "name": "03.4-Constant-features-with-Feature-engine.ipynb",
      "provenance": [],
      "include_colab_link": true
    }
  },
  "nbformat": 4,
  "nbformat_minor": 0
}