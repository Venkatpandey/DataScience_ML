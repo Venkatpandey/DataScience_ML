{
  "cells": [
    {
      "cell_type": "markdown",
      "metadata": {
        "id": "view-in-github",
        "colab_type": "text"
      },
      "source": [
        "<a href=\"https://colab.research.google.com/github/Venkatpandey/DataScience_ML/blob/main/featureSelection/08.2-Linear-Regression-coefficients.ipynb\" target=\"_parent\"><img src=\"https://colab.research.google.com/assets/colab-badge.svg\" alt=\"Open In Colab\"/></a>"
      ]
    },
    {
      "cell_type": "markdown",
      "metadata": {
        "id": "4nXf-8sn61Ut"
      },
      "source": [
        "## Linear Regression Coefficients\n",
        "\n",
        "In this notebook, we repeat the feature selection based of variable coefficients returned by a linear model. This time on a regression scenario."
      ]
    },
    {
      "cell_type": "code",
      "execution_count": 1,
      "metadata": {
        "id": "yQPR3hBc61Uv"
      },
      "outputs": [],
      "source": [
        "import pandas as pd\n",
        "import numpy as np\n",
        "\n",
        "import matplotlib.pyplot as plt\n",
        "\n",
        "from sklearn.model_selection import train_test_split\n",
        "\n",
        "from sklearn.preprocessing import StandardScaler\n",
        "from sklearn.linear_model import LinearRegression\n",
        "from sklearn.feature_selection import SelectFromModel"
      ]
    },
    {
      "cell_type": "code",
      "execution_count": 2,
      "metadata": {
        "id": "w0xscY2s61Uw",
        "outputId": "f62a24cd-7ceb-486a-f6f0-5d1f8c431eac",
        "colab": {
          "base_uri": "https://localhost:8080/"
        }
      },
      "outputs": [
        {
          "output_type": "execute_result",
          "data": {
            "text/plain": [
              "(1460, 81)"
            ]
          },
          "metadata": {},
          "execution_count": 2
        }
      ],
      "source": [
        "# load dataset\n",
        "data = pd.read_csv('https://raw.githubusercontent.com/Venkatpandey/DataScience_ML/main/dataset/houseprice.csv')\n",
        "data.shape"
      ]
    },
    {
      "cell_type": "code",
      "execution_count": 3,
      "metadata": {
        "id": "IYcmgP3d61Ux",
        "outputId": "e105956a-438f-4d6a-930c-dd742f9842aa",
        "colab": {
          "base_uri": "https://localhost:8080/"
        }
      },
      "outputs": [
        {
          "output_type": "execute_result",
          "data": {
            "text/plain": [
              "(1460, 38)"
            ]
          },
          "metadata": {},
          "execution_count": 3
        }
      ],
      "source": [
        "# In practice, feature selection should be done after data pre-processing,\n",
        "# so ideally, all the categorical variables are encoded into numbers,\n",
        "# and then you can assess how deterministic they are of the target\n",
        "\n",
        "# here for simplicity I will use only numerical variables\n",
        "# select numerical columns:\n",
        "\n",
        "numerics = ['int16', 'int32', 'int64', 'float16', 'float32', 'float64']\n",
        "numerical_vars = list(data.select_dtypes(include=numerics).columns)\n",
        "data = data[numerical_vars]\n",
        "data.shape"
      ]
    },
    {
      "cell_type": "code",
      "execution_count": 4,
      "metadata": {
        "id": "oYu6aTAM61Ux",
        "outputId": "71879d29-fc97-4aca-a16e-8c2ddf51e42d",
        "colab": {
          "base_uri": "https://localhost:8080/"
        }
      },
      "outputs": [
        {
          "output_type": "execute_result",
          "data": {
            "text/plain": [
              "((1022, 37), (438, 37))"
            ]
          },
          "metadata": {},
          "execution_count": 4
        }
      ],
      "source": [
        "# separate train and test sets\n",
        "X_train, X_test, y_train, y_test = train_test_split(\n",
        "    data.drop(labels=['SalePrice'], axis=1),\n",
        "    data['SalePrice'],\n",
        "    test_size=0.3,\n",
        "    random_state=0)\n",
        "\n",
        "X_train.shape, X_test.shape"
      ]
    },
    {
      "cell_type": "code",
      "execution_count": 5,
      "metadata": {
        "id": "TL4JsZlr61Uy"
      },
      "outputs": [],
      "source": [
        "X_train = X_train.fillna(0)\n",
        "X_test = X_test.fillna(0)"
      ]
    },
    {
      "cell_type": "code",
      "execution_count": 6,
      "metadata": {
        "id": "b-qNkJJa61Uy",
        "outputId": "5a6358e8-4f87-41b9-92f9-9c49ea6c83f7",
        "colab": {
          "base_uri": "https://localhost:8080/"
        }
      },
      "outputs": [
        {
          "output_type": "execute_result",
          "data": {
            "text/plain": [
              "StandardScaler()"
            ]
          },
          "metadata": {},
          "execution_count": 6
        }
      ],
      "source": [
        "# the features in the house dataset are in different scales\n",
        "# so we train a scaler to scale them\n",
        "\n",
        "scaler = StandardScaler()\n",
        "scaler.fit(X_train)"
      ]
    },
    {
      "cell_type": "code",
      "execution_count": 7,
      "metadata": {
        "scrolled": true,
        "id": "oMsuwGLU61Uz",
        "outputId": "37b91c4f-eeb5-4ecd-8e92-28dde4e3c205",
        "colab": {
          "base_uri": "https://localhost:8080/"
        }
      },
      "outputs": [
        {
          "output_type": "execute_result",
          "data": {
            "text/plain": [
              "SelectFromModel(estimator=LinearRegression())"
            ]
          },
          "metadata": {},
          "execution_count": 7
        }
      ],
      "source": [
        "# we train a Linear regression model and select\n",
        "# features with higher coefficients.\n",
        "\n",
        "# the LinearRegression object from sklearn is a non-regularised\n",
        "# linear method. It fits by matrix multiplication and not \n",
        "# gradient descent.\n",
        "\n",
        "# therefore we don't need to specify penalty and other parameters\n",
        "\n",
        "sel_ = SelectFromModel(LinearRegression())\n",
        "\n",
        "sel_.fit(scaler.transform(X_train), y_train)"
      ]
    },
    {
      "cell_type": "code",
      "execution_count": 8,
      "metadata": {
        "scrolled": true,
        "id": "wufsofPZ61Uz",
        "outputId": "c6379770-3ece-41b6-cbb6-9dbc3eff9bab",
        "colab": {
          "base_uri": "https://localhost:8080/"
        }
      },
      "outputs": [
        {
          "output_type": "execute_result",
          "data": {
            "text/plain": [
              "7"
            ]
          },
          "metadata": {},
          "execution_count": 8
        }
      ],
      "source": [
        "# let's count the number of variables selected\n",
        "selected_feat = X_train.columns[(sel_.get_support())]\n",
        "\n",
        "len(selected_feat)"
      ]
    },
    {
      "cell_type": "code",
      "execution_count": 9,
      "metadata": {
        "id": "NPnCHJE-61U0",
        "outputId": "5a98d14d-5f8e-430e-a01f-265db405bdb6",
        "colab": {
          "base_uri": "https://localhost:8080/",
          "height": 279
        }
      },
      "outputs": [
        {
          "output_type": "display_data",
          "data": {
            "image/png": "[encoded data removed]",
            "text/plain": [
              "<Figure size 432x288 with 1 Axes>"
            ]
          },
          "metadata": {
            "needs_background": "light"
          }
        }
      ],
      "source": [
        "# and now let's plot the histogram of absolute coefficients\n",
        "\n",
        "pd.Series(np.abs(sel_.estimator_.coef_).ravel()).hist(bins=10)\n",
        "plt.xlabel('Coefficients')\n",
        "plt.ylabel('Number of variables')\n",
        "plt.show()"
      ]
    },
    {
      "cell_type": "code",
      "execution_count": 10,
      "metadata": {
        "id": "rsUOZ4jr61U0",
        "outputId": "dcd39a0b-a6fc-4e4a-cc14-e30a73fbafd1",
        "colab": {
          "base_uri": "https://localhost:8080/"
        }
      },
      "outputs": [
        {
          "output_type": "stream",
          "name": "stdout",
          "text": [
            "total features: 37\n",
            "selected features: 7\n",
            "features with coefficients greater than the mean coefficient: 7\n"
          ]
        }
      ],
      "source": [
        "# and now, let's compare the  amount of selected features\n",
        "# with the amount of features which coefficient is above the\n",
        "# mean coefficient, to make sure we understand the output of\n",
        "# sklearn\n",
        "\n",
        "print('total features: {}'.format((X_train.shape[1])))\n",
        "\n",
        "print('selected features: {}'.format(len(selected_feat)))\n",
        "\n",
        "print(\n",
        "    'features with coefficients greater than the mean coefficient: {}'.format(\n",
        "        np.sum(\n",
        "            np.abs(sel_.estimator_.coef_) > np.abs(\n",
        "                sel_.estimator_.coef_).mean())))"
      ]
    },
    {
      "cell_type": "markdown",
      "metadata": {
        "id": "j5vtnNpD61U0"
      },
      "source": [
        "Same as before, it selects those features which coefficient are greater than the mean of all feature coefficients.\n",
        "\n",
        "That is all for this lecture, I hope you enjoyed it and see you in the next one!"
      ]
    },
    {
      "cell_type": "code",
      "execution_count": 10,
      "metadata": {
        "collapsed": true,
        "id": "9Zx_fXFE61U0"
      },
      "outputs": [],
      "source": [
        ""
      ]
    }
  ],
  "metadata": {
    "kernelspec": {
      "display_name": "fsml",
      "language": "python",
      "name": "fsml"
    },
    "language_info": {
      "codemirror_mode": {
        "name": "ipython",
        "version": 3
      },
      "file_extension": ".py",
      "mimetype": "text/x-python",
      "name": "python",
      "nbconvert_exporter": "python",
      "pygments_lexer": "ipython3",
      "version": "3.8.2"
    },
    "toc": {
      "base_numbering": 1,
      "nav_menu": {},
      "number_sections": true,
      "sideBar": true,
      "skip_h1_title": false,
      "title_cell": "Table of Contents",
      "title_sidebar": "Contents",
      "toc_cell": false,
      "toc_position": {},
      "toc_section_display": "block",
      "toc_window_display": true
    },
    "colab": {
      "name": "08.2-Linear-Regression-coefficients.ipynb",
      "provenance": [],
      "include_colab_link": true
    }
  },
  "nbformat": 4,
  "nbformat_minor": 0
}