{
  "cells": [
    {
      "cell_type": "markdown",
      "metadata": {
        "id": "view-in-github",
        "colab_type": "text"
      },
      "source": [
        "<a href=\"https://colab.research.google.com/github/Venkatpandey/DataScience_ML/blob/main/featureSelection/Outliers.ipynb\" target=\"_parent\"><img src=\"https://colab.research.google.com/assets/colab-badge.svg\" alt=\"Open In Colab\"/></a>"
      ]
    },
    {
      "cell_type": "markdown",
      "metadata": {
        "id": "tKG3RmNx27ZO"
      },
      "source": [
        "# Dealing with Outliers"
      ]
    },
    {
      "cell_type": "markdown",
      "metadata": {
        "id": "u_2-Sq8E27ZT"
      },
      "source": [
        "Sometimes outliers can mess up an analysis; you usually don't want a handful of data points to skew the overall results. Let's revisit our example of income data, with some random billionaire thrown in:"
      ]
    },
    {
      "cell_type": "code",
      "execution_count": 1,
      "metadata": {
        "colab": {
          "base_uri": "https://localhost:8080/",
          "height": 278
        },
        "id": "PAsqgjwZ27ZU",
        "outputId": "7ab65635-63da-4796-df8c-47926c06a330"
      },
      "outputs": [
        {
          "output_type": "display_data",
          "data": {
            "image/png": "[encoded data removed]",
            "text/plain": [
              "<Figure size 432x288 with 1 Axes>"
            ]
          },
          "metadata": {
            "needs_background": "light"
          }
        }
      ],
      "source": [
        "%matplotlib inline\n",
        "import numpy as np\n",
        "\n",
        "incomes = np.random.normal(27000, 15000, 10000)\n",
        "incomes = np.append(incomes, [1000000000])\n",
        "\n",
        "import matplotlib.pyplot as plt\n",
        "plt.hist(incomes, 50)\n",
        "plt.show()"
      ]
    },
    {
      "cell_type": "markdown",
      "metadata": {
        "id": "7lyanwW027ZW"
      },
      "source": [
        "That's not very helpful to look at. One billionaire ended up squeezing everybody else into a single line in my histogram. Plus it skewed my mean income significantly:"
      ]
    },
    {
      "cell_type": "code",
      "execution_count": 2,
      "metadata": {
        "colab": {
          "base_uri": "https://localhost:8080/"
        },
        "id": "hIFnyGSr27ZW",
        "outputId": "563c9f54-71cd-4cd9-ecec-53c923e41c3c"
      },
      "outputs": [
        {
          "output_type": "execute_result",
          "data": {
            "text/plain": [
              "126751.2816753037"
            ]
          },
          "metadata": {},
          "execution_count": 2
        }
      ],
      "source": [
        "incomes.mean()"
      ]
    },
    {
      "cell_type": "markdown",
      "metadata": {
        "id": "smT7wc6n27ZX"
      },
      "source": [
        "It's important to dig into what is causing your outliers, and understand where they are coming from. You also need to think about whether removing them is a valid thing to do, given the spirit of what it is you're trying to analyze. If I know I want to understand more about the incomes of \"typical Americans\", filtering out billionaires seems like a legitimate thing to do.\n",
        "\n",
        "Here's something a little more robust than filtering out billionaires - it filters out anything beyond two standard deviations of the median value in the data set:"
      ]
    },
    {
      "cell_type": "code",
      "execution_count": 3,
      "metadata": {
        "colab": {
          "base_uri": "https://localhost:8080/",
          "height": 265
        },
        "id": "jmmkdayq27ZY",
        "outputId": "447cb4ed-eed8-47f1-8e81-e63b7af585ad"
      },
      "outputs": [
        {
          "output_type": "display_data",
          "data": {
            "image/png": "[encoded data removed]",
            "text/plain": [
              "<Figure size 432x288 with 1 Axes>"
            ]
          },
          "metadata": {
            "needs_background": "light"
          }
        }
      ],
      "source": [
        "def reject_outliers(data):\n",
        "    u = np.median(data)\n",
        "    s = np.std(data)\n",
        "    filtered = [e for e in data if (u - 2 * s < e < u + 2 * s)]\n",
        "    return filtered\n",
        "\n",
        "filtered = reject_outliers(incomes)\n",
        "\n",
        "plt.hist(filtered, 50)\n",
        "plt.show()"
      ]
    },
    {
      "cell_type": "markdown",
      "metadata": {
        "id": "AOF1ps5L27ZZ"
      },
      "source": [
        "That looks better. And, our mean is more, well, meangingful now as well:"
      ]
    },
    {
      "cell_type": "code",
      "execution_count": 4,
      "metadata": {
        "colab": {
          "base_uri": "https://localhost:8080/"
        },
        "id": "IbUbu37e27Za",
        "outputId": "fe029bb3-b200-461c-fb3b-4168adedaa60"
      },
      "outputs": [
        {
          "output_type": "execute_result",
          "data": {
            "text/plain": [
              "26763.956803471203"
            ]
          },
          "metadata": {},
          "execution_count": 4
        }
      ],
      "source": [
        "np.mean(filtered)"
      ]
    },
    {
      "cell_type": "markdown",
      "metadata": {
        "id": "6XqvuIgU27Za"
      },
      "source": [
        "## Activity"
      ]
    },
    {
      "cell_type": "markdown",
      "metadata": {
        "id": "WU6ZLWGb27Zb"
      },
      "source": [
        "Instead of a single outlier, add several randomly-generated outliers to the data. Experiment with different values of the multiple of the standard deviation to identify outliers, and see what effect it has on the final results."
      ]
    },
    {
      "cell_type": "code",
      "execution_count": 5,
      "metadata": {
        "colab": {
          "base_uri": "https://localhost:8080/",
          "height": 278
        },
        "id": "6ve7dgiL27Zb",
        "outputId": "db6ec160-9c8b-43e2-97d5-b85f82de2677"
      },
      "outputs": [
        {
          "output_type": "display_data",
          "data": {
            "image/png": "[encoded data removed]",
            "text/plain": [
              "<Figure size 432x288 with 1 Axes>"
            ]
          },
          "metadata": {
            "needs_background": "light"
          }
        }
      ],
      "source": [
        "incomes = np.append(incomes, [1000000000])\n",
        "incomes = np.append(incomes, [1500000000])\n",
        "incomes = np.append(incomes, [2000000000])\n",
        "incomes = np.append(incomes, [500000000])\n",
        "import matplotlib.pyplot as plt\n",
        "plt.hist(incomes, 50)\n",
        "plt.show()"
      ]
    },
    {
      "cell_type": "code",
      "source": [
        "incomes.mean()"
      ],
      "metadata": {
        "colab": {
          "base_uri": "https://localhost:8080/"
        },
        "id": "zRe1cvfA3Ypr",
        "outputId": "5135393a-48d5-4267-a32c-4f2ab77d89c8"
      },
      "execution_count": 6,
      "outputs": [
        {
          "output_type": "execute_result",
          "data": {
            "text/plain": [
              "626450.7314377523"
            ]
          },
          "metadata": {},
          "execution_count": 6
        }
      ]
    },
    {
      "cell_type": "code",
      "source": [
        "def reject_outliers(data):\n",
        "    u = np.median(data)\n",
        "    s = np.std(data)\n",
        "    filtered = [e for e in data if (u - 2 * s < e < u + 2 * s)]\n",
        "    return filtered\n",
        "\n",
        "filtered = reject_outliers(incomes)\n",
        "\n",
        "plt.hist(filtered, 50)\n",
        "plt.show()"
      ],
      "metadata": {
        "colab": {
          "base_uri": "https://localhost:8080/",
          "height": 265
        },
        "id": "vIAQp-EN3iRp",
        "outputId": "efd46a17-49f4-4cdc-b4e5-b76cd185d718"
      },
      "execution_count": 12,
      "outputs": [
        {
          "output_type": "display_data",
          "data": {
            "image/png": "[encoded data removed]",
            "text/plain": [
              "<Figure size 432x288 with 1 Axes>"
            ]
          },
          "metadata": {
            "needs_background": "light"
          }
        }
      ]
    },
    {
      "cell_type": "code",
      "source": [
        "np.mean(filtered)"
      ],
      "metadata": {
        "colab": {
          "base_uri": "https://localhost:8080/"
        },
        "id": "OyIAnrPA3oYp",
        "outputId": "cc5633a0-6d20-47ed-e121-8bfbc2eaca0b"
      },
      "execution_count": 14,
      "outputs": [
        {
          "output_type": "execute_result",
          "data": {
            "text/plain": [
              "26763.956803471203"
            ]
          },
          "metadata": {},
          "execution_count": 14
        }
      ]
    }
  ],
  "metadata": {
    "kernelspec": {
      "display_name": "Python 3",
      "language": "python",
      "name": "python3"
    },
    "language_info": {
      "codemirror_mode": {
        "name": "ipython",
        "version": 3
      },
      "file_extension": ".py",
      "mimetype": "text/x-python",
      "name": "python",
      "nbconvert_exporter": "python",
      "pygments_lexer": "ipython3",
      "version": "3.7.3"
    },
    "colab": {
      "name": "Outliers.ipynb",
      "provenance": [],
      "include_colab_link": true
    }
  },
  "nbformat": 4,
  "nbformat_minor": 0
}