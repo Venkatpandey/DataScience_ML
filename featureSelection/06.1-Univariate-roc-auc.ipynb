{
  "cells": [
    {
      "cell_type": "markdown",
      "metadata": {
        "id": "view-in-github",
        "colab_type": "text"
      },
      "source": [
        "<a href=\"https://colab.research.google.com/github/Venkatpandey/DataScience_ML/blob/main/featureSelection/06.1-Univariate-roc-auc.ipynb\" target=\"_parent\"><img src=\"https://colab.research.google.com/assets/colab-badge.svg\" alt=\"Open In Colab\"/></a>"
      ]
    },
    {
      "cell_type": "markdown",
      "metadata": {
        "id": "HoVPorrUoCTB"
      },
      "source": [
        "## Univariate roc-auc or mse (or any other metric really)\n",
        "\n",
        "This procedure works as follows:\n",
        "\n",
        "- First, it builds one decision tree per feature, to predict the target\n",
        "- Second, it makes predictions using the decision tree and the mentioned feature\n",
        "- Third, it measures the performance of that prediction, be it the roc-auc, the mse, or any other metric\n",
        "- Fourth, it ranks the features according to the machine learning metric (roc-auc or mse)\n",
        "- It selects the highest ranking features\n",
        "\n",
        "Here, I will demonstrate how to select features based on univariate roc-auc or univariate mse."
      ]
    },
    {
      "cell_type": "code",
      "execution_count": 1,
      "metadata": {
        "id": "LlVzbgBDoCTF"
      },
      "outputs": [],
      "source": [
        "import pandas as pd\n",
        "import numpy as np\n",
        "\n",
        "import matplotlib.pyplot as plt\n",
        "\n",
        "from sklearn.model_selection import train_test_split\n",
        "\n",
        "from sklearn.tree import DecisionTreeClassifier, DecisionTreeRegressor\n",
        "from sklearn.metrics import roc_auc_score, mean_squared_error"
      ]
    },
    {
      "cell_type": "markdown",
      "metadata": {
        "id": "kQkn0n8BoCTG"
      },
      "source": [
        "## Classification"
      ]
    },
    {
      "cell_type": "code",
      "execution_count": 2,
      "metadata": {
        "id": "3sfjfXnooCTG",
        "outputId": "36ca21eb-1935-458b-bd69-8b89f547836a",
        "colab": {
          "base_uri": "https://localhost:8080/"
        }
      },
      "outputs": [
        {
          "output_type": "execute_result",
          "data": {
            "text/plain": [
              "(50000, 109)"
            ]
          },
          "metadata": {},
          "execution_count": 2
        }
      ],
      "source": [
        "# load dataset\n",
        "data = pd.read_csv('https://raw.githubusercontent.com/Venkatpandey/DataScience_ML/main/dataset/dataset_2.csv')\n",
        "data.shape"
      ]
    },
    {
      "cell_type": "code",
      "execution_count": 3,
      "metadata": {
        "id": "SZRNC_cmoCTH",
        "outputId": "5504c67b-f912-4679-d9ba-af80e118a653",
        "colab": {
          "base_uri": "https://localhost:8080/",
          "height": 300
        }
      },
      "outputs": [
        {
          "output_type": "execute_result",
          "data": {
            "text/html": [
              "\n",
              "  <div id=\"df-cea187c1-613b-4534-b27d-c8bd404cf63d\">\n",
              "    <div class=\"colab-df-container\">\n",
              "      <div>\n",
              "<style scoped>\n",
              "    .dataframe tbody tr th:only-of-type {\n",
              "        vertical-align: middle;\n",
              "    }\n",
              "\n",
              "    .dataframe tbody tr th {\n",
              "        vertical-align: top;\n",
              "    }\n",
              "\n",
              "    .dataframe thead th {\n",
              "        text-align: right;\n",
              "    }\n",
              "</style>\n",
              "<table border=\"1\" class=\"dataframe\">\n",
              "  <thead>\n",
              "    <tr style=\"text-align: right;\">\n",
              "      <th></th>\n",
              "      <th>var_1</th>\n",
              "      <th>var_2</th>\n",
              "      <th>var_3</th>\n",
              "      <th>var_4</th>\n",
              "      <th>var_5</th>\n",
              "      <th>var_6</th>\n",
              "      <th>var_7</th>\n",
              "      <th>var_8</th>\n",
              "      <th>var_9</th>\n",
              "      <th>var_10</th>\n",
              "      <th>var_11</th>\n",
              "      <th>var_12</th>\n",
              "      <th>var_13</th>\n",
              "      <th>var_14</th>\n",
              "      <th>var_15</th>\n",
              "      <th>var_16</th>\n",
              "      <th>var_17</th>\n",
              "      <th>var_18</th>\n",
              "      <th>var_19</th>\n",
              "      <th>var_20</th>\n",
              "      <th>var_21</th>\n",
              "      <th>var_22</th>\n",
              "      <th>var_23</th>\n",
              "      <th>var_24</th>\n",
              "      <th>var_25</th>\n",
              "      <th>var_26</th>\n",
              "      <th>var_27</th>\n",
              "      <th>var_28</th>\n",
              "      <th>var_29</th>\n",
              "      <th>var_30</th>\n",
              "      <th>var_31</th>\n",
              "      <th>var_32</th>\n",
              "      <th>var_33</th>\n",
              "      <th>var_34</th>\n",
              "      <th>var_35</th>\n",
              "      <th>var_36</th>\n",
              "      <th>var_37</th>\n",
              "      <th>var_38</th>\n",
              "      <th>var_39</th>\n",
              "      <th>var_40</th>\n",
              "      <th>...</th>\n",
              "      <th>var_70</th>\n",
              "      <th>var_71</th>\n",
              "      <th>var_72</th>\n",
              "      <th>var_73</th>\n",
              "      <th>var_74</th>\n",
              "      <th>var_75</th>\n",
              "      <th>var_76</th>\n",
              "      <th>var_77</th>\n",
              "      <th>var_78</th>\n",
              "      <th>var_79</th>\n",
              "      <th>var_80</th>\n",
              "      <th>var_81</th>\n",
              "      <th>var_82</th>\n",
              "      <th>var_83</th>\n",
              "      <th>var_84</th>\n",
              "      <th>var_85</th>\n",
              "      <th>var_86</th>\n",
              "      <th>var_87</th>\n",
              "      <th>var_88</th>\n",
              "      <th>var_89</th>\n",
              "      <th>var_90</th>\n",
              "      <th>var_91</th>\n",
              "      <th>var_92</th>\n",
              "      <th>var_93</th>\n",
              "      <th>var_94</th>\n",
              "      <th>var_95</th>\n",
              "      <th>var_96</th>\n",
              "      <th>var_97</th>\n",
              "      <th>var_98</th>\n",
              "      <th>var_99</th>\n",
              "      <th>var_100</th>\n",
              "      <th>var_101</th>\n",
              "      <th>var_102</th>\n",
              "      <th>var_103</th>\n",
              "      <th>var_104</th>\n",
              "      <th>var_105</th>\n",
              "      <th>var_106</th>\n",
              "      <th>var_107</th>\n",
              "      <th>var_108</th>\n",
              "      <th>var_109</th>\n",
              "    </tr>\n",
              "  </thead>\n",
              "  <tbody>\n",
              "    <tr>\n",
              "      <th>0</th>\n",
              "      <td>4.532710</td>\n",
              "      <td>3.280834</td>\n",
              "      <td>17.982476</td>\n",
              "      <td>4.404259</td>\n",
              "      <td>2.349910</td>\n",
              "      <td>0.603264</td>\n",
              "      <td>2.784655</td>\n",
              "      <td>0.323146</td>\n",
              "      <td>12.009691</td>\n",
              "      <td>0.139346</td>\n",
              "      <td>5.751633</td>\n",
              "      <td>2.808895</td>\n",
              "      <td>1.244055</td>\n",
              "      <td>11.269688</td>\n",
              "      <td>15.866550</td>\n",
              "      <td>0.00</td>\n",
              "      <td>1.181500e+00</td>\n",
              "      <td>1.903910</td>\n",
              "      <td>4.667888</td>\n",
              "      <td>1.842749</td>\n",
              "      <td>5.863767</td>\n",
              "      <td>0.115498</td>\n",
              "      <td>2.398785</td>\n",
              "      <td>0.139191</td>\n",
              "      <td>11.860244</td>\n",
              "      <td>4.433561</td>\n",
              "      <td>7.135750</td>\n",
              "      <td>2.240605</td>\n",
              "      <td>3.720161</td>\n",
              "      <td>5.805012</td>\n",
              "      <td>1.308222</td>\n",
              "      <td>0.133272</td>\n",
              "      <td>5.514540</td>\n",
              "      <td>11.510708</td>\n",
              "      <td>7.534482</td>\n",
              "      <td>8.779925</td>\n",
              "      <td>6.797556</td>\n",
              "      <td>8.504757</td>\n",
              "      <td>0.188741</td>\n",
              "      <td>8.783980</td>\n",
              "      <td>...</td>\n",
              "      <td>12.866988</td>\n",
              "      <td>11.369994</td>\n",
              "      <td>1.467595</td>\n",
              "      <td>10.043070</td>\n",
              "      <td>8.174325</td>\n",
              "      <td>2.088815</td>\n",
              "      <td>0.134455</td>\n",
              "      <td>1.282842</td>\n",
              "      <td>1.262513</td>\n",
              "      <td>1.114369</td>\n",
              "      <td>1.446358</td>\n",
              "      <td>15.512397</td>\n",
              "      <td>1.820403</td>\n",
              "      <td>0.619730</td>\n",
              "      <td>0.826138</td>\n",
              "      <td>6.880270</td>\n",
              "      <td>1.680353</td>\n",
              "      <td>8.659387</td>\n",
              "      <td>10.184313</td>\n",
              "      <td>7.248146</td>\n",
              "      <td>17.065003</td>\n",
              "      <td>0.0</td>\n",
              "      <td>1.044600</td>\n",
              "      <td>0.176036</td>\n",
              "      <td>9.869159</td>\n",
              "      <td>4.662407e-01</td>\n",
              "      <td>7.273476</td>\n",
              "      <td>0.623398</td>\n",
              "      <td>2.070677</td>\n",
              "      <td>1.108609</td>\n",
              "      <td>2.079066</td>\n",
              "      <td>6.748819</td>\n",
              "      <td>2.941445</td>\n",
              "      <td>18.360496</td>\n",
              "      <td>17.726613</td>\n",
              "      <td>7.774031</td>\n",
              "      <td>1.473441</td>\n",
              "      <td>1.973832</td>\n",
              "      <td>0.976806</td>\n",
              "      <td>2.541417</td>\n",
              "    </tr>\n",
              "    <tr>\n",
              "      <th>1</th>\n",
              "      <td>5.821374</td>\n",
              "      <td>12.098722</td>\n",
              "      <td>13.309151</td>\n",
              "      <td>4.125599</td>\n",
              "      <td>1.045386</td>\n",
              "      <td>1.832035</td>\n",
              "      <td>1.833494</td>\n",
              "      <td>0.709090</td>\n",
              "      <td>8.652883</td>\n",
              "      <td>0.102757</td>\n",
              "      <td>8.225109</td>\n",
              "      <td>2.001220</td>\n",
              "      <td>8.081647</td>\n",
              "      <td>3.933986</td>\n",
              "      <td>14.350374</td>\n",
              "      <td>0.00</td>\n",
              "      <td>1.244384e+01</td>\n",
              "      <td>1.575456</td>\n",
              "      <td>5.275010</td>\n",
              "      <td>2.750981</td>\n",
              "      <td>3.402345</td>\n",
              "      <td>0.227527</td>\n",
              "      <td>2.502344</td>\n",
              "      <td>0.197449</td>\n",
              "      <td>12.654514</td>\n",
              "      <td>3.895271</td>\n",
              "      <td>9.230702</td>\n",
              "      <td>0.719196</td>\n",
              "      <td>3.393035</td>\n",
              "      <td>6.055243</td>\n",
              "      <td>0.926661</td>\n",
              "      <td>0.221227</td>\n",
              "      <td>7.406060</td>\n",
              "      <td>10.290955</td>\n",
              "      <td>8.075000</td>\n",
              "      <td>10.034637</td>\n",
              "      <td>6.182029</td>\n",
              "      <td>7.698029</td>\n",
              "      <td>0.295115</td>\n",
              "      <td>10.308592</td>\n",
              "      <td>...</td>\n",
              "      <td>10.477765</td>\n",
              "      <td>3.026453</td>\n",
              "      <td>1.338741</td>\n",
              "      <td>16.136215</td>\n",
              "      <td>8.659485</td>\n",
              "      <td>0.567717</td>\n",
              "      <td>0.108499</td>\n",
              "      <td>1.447928</td>\n",
              "      <td>0.583342</td>\n",
              "      <td>4.454525</td>\n",
              "      <td>3.570452</td>\n",
              "      <td>15.988817</td>\n",
              "      <td>2.628892</td>\n",
              "      <td>1.251810</td>\n",
              "      <td>2.077105</td>\n",
              "      <td>7.453729</td>\n",
              "      <td>2.173920</td>\n",
              "      <td>10.357143</td>\n",
              "      <td>13.274292</td>\n",
              "      <td>8.647012</td>\n",
              "      <td>17.143991</td>\n",
              "      <td>0.0</td>\n",
              "      <td>1.161626</td>\n",
              "      <td>0.214995</td>\n",
              "      <td>8.661069</td>\n",
              "      <td>9.585002e-01</td>\n",
              "      <td>6.475936</td>\n",
              "      <td>1.230876</td>\n",
              "      <td>2.249656</td>\n",
              "      <td>0.615216</td>\n",
              "      <td>2.479789</td>\n",
              "      <td>7.795290</td>\n",
              "      <td>3.557890</td>\n",
              "      <td>17.383378</td>\n",
              "      <td>15.193423</td>\n",
              "      <td>8.263673</td>\n",
              "      <td>1.878108</td>\n",
              "      <td>0.567939</td>\n",
              "      <td>1.018818</td>\n",
              "      <td>1.416433</td>\n",
              "    </tr>\n",
              "    <tr>\n",
              "      <th>2</th>\n",
              "      <td>1.938776</td>\n",
              "      <td>7.952752</td>\n",
              "      <td>0.972671</td>\n",
              "      <td>3.459267</td>\n",
              "      <td>1.935782</td>\n",
              "      <td>0.621463</td>\n",
              "      <td>2.338139</td>\n",
              "      <td>0.344948</td>\n",
              "      <td>9.937850</td>\n",
              "      <td>11.691283</td>\n",
              "      <td>8.307318</td>\n",
              "      <td>3.239122</td>\n",
              "      <td>2.699376</td>\n",
              "      <td>10.030416</td>\n",
              "      <td>14.977220</td>\n",
              "      <td>0.00</td>\n",
              "      <td>7.636780e-07</td>\n",
              "      <td>2.605838</td>\n",
              "      <td>5.459521</td>\n",
              "      <td>3.437779</td>\n",
              "      <td>5.498281</td>\n",
              "      <td>19.800000</td>\n",
              "      <td>2.136717</td>\n",
              "      <td>19.036815</td>\n",
              "      <td>11.938497</td>\n",
              "      <td>4.378310</td>\n",
              "      <td>6.843868</td>\n",
              "      <td>1.745698</td>\n",
              "      <td>3.721307</td>\n",
              "      <td>6.339151</td>\n",
              "      <td>1.479797</td>\n",
              "      <td>18.600001</td>\n",
              "      <td>8.142160</td>\n",
              "      <td>12.575593</td>\n",
              "      <td>6.752941</td>\n",
              "      <td>6.303391</td>\n",
              "      <td>5.327748</td>\n",
              "      <td>7.559745</td>\n",
              "      <td>16.951823</td>\n",
              "      <td>7.701432</td>\n",
              "      <td>...</td>\n",
              "      <td>12.795940</td>\n",
              "      <td>3.158102</td>\n",
              "      <td>2.084452</td>\n",
              "      <td>13.596735</td>\n",
              "      <td>7.136616</td>\n",
              "      <td>3.975333</td>\n",
              "      <td>19.199999</td>\n",
              "      <td>1.035094</td>\n",
              "      <td>1.039650</td>\n",
              "      <td>2.920388</td>\n",
              "      <td>18.194969</td>\n",
              "      <td>13.878539</td>\n",
              "      <td>4.177674</td>\n",
              "      <td>0.265892</td>\n",
              "      <td>0.949150</td>\n",
              "      <td>5.501881</td>\n",
              "      <td>1.545747</td>\n",
              "      <td>6.652942</td>\n",
              "      <td>10.219311</td>\n",
              "      <td>7.350044</td>\n",
              "      <td>15.865534</td>\n",
              "      <td>0.0</td>\n",
              "      <td>0.668244</td>\n",
              "      <td>0.207304</td>\n",
              "      <td>9.591838</td>\n",
              "      <td>1.426163e+00</td>\n",
              "      <td>7.552225</td>\n",
              "      <td>0.599195</td>\n",
              "      <td>1.872145</td>\n",
              "      <td>2.111624</td>\n",
              "      <td>1.861487</td>\n",
              "      <td>6.130886</td>\n",
              "      <td>3.401064</td>\n",
              "      <td>15.850471</td>\n",
              "      <td>14.620599</td>\n",
              "      <td>6.849776</td>\n",
              "      <td>1.098210</td>\n",
              "      <td>1.959183</td>\n",
              "      <td>1.575493</td>\n",
              "      <td>1.857893</td>\n",
              "    </tr>\n",
              "    <tr>\n",
              "      <th>3</th>\n",
              "      <td>6.020690</td>\n",
              "      <td>9.900544</td>\n",
              "      <td>17.869637</td>\n",
              "      <td>4.366715</td>\n",
              "      <td>1.973693</td>\n",
              "      <td>2.026012</td>\n",
              "      <td>2.853025</td>\n",
              "      <td>0.674847</td>\n",
              "      <td>11.816859</td>\n",
              "      <td>0.011151</td>\n",
              "      <td>5.769939</td>\n",
              "      <td>2.760518</td>\n",
              "      <td>4.067190</td>\n",
              "      <td>14.040960</td>\n",
              "      <td>15.363394</td>\n",
              "      <td>0.94</td>\n",
              "      <td>1.278596e+00</td>\n",
              "      <td>2.447368</td>\n",
              "      <td>4.622004</td>\n",
              "      <td>3.166859</td>\n",
              "      <td>5.746444</td>\n",
              "      <td>0.107650</td>\n",
              "      <td>1.819269</td>\n",
              "      <td>0.143555</td>\n",
              "      <td>12.384151</td>\n",
              "      <td>4.847826</td>\n",
              "      <td>8.501440</td>\n",
              "      <td>1.471080</td>\n",
              "      <td>3.349110</td>\n",
              "      <td>6.306657</td>\n",
              "      <td>1.007276</td>\n",
              "      <td>0.134101</td>\n",
              "      <td>4.966871</td>\n",
              "      <td>11.419689</td>\n",
              "      <td>7.254098</td>\n",
              "      <td>9.757191</td>\n",
              "      <td>8.482101</td>\n",
              "      <td>5.228867</td>\n",
              "      <td>0.046546</td>\n",
              "      <td>8.656773</td>\n",
              "      <td>...</td>\n",
              "      <td>13.779983</td>\n",
              "      <td>3.307613</td>\n",
              "      <td>2.003458</td>\n",
              "      <td>14.297207</td>\n",
              "      <td>8.174351</td>\n",
              "      <td>2.670522</td>\n",
              "      <td>0.042879</td>\n",
              "      <td>0.739193</td>\n",
              "      <td>0.419732</td>\n",
              "      <td>2.831101</td>\n",
              "      <td>0.219472</td>\n",
              "      <td>15.418033</td>\n",
              "      <td>3.528015</td>\n",
              "      <td>0.482420</td>\n",
              "      <td>0.934582</td>\n",
              "      <td>6.775936</td>\n",
              "      <td>3.052738</td>\n",
              "      <td>9.836066</td>\n",
              "      <td>9.746183</td>\n",
              "      <td>8.097982</td>\n",
              "      <td>17.479207</td>\n",
              "      <td>0.0</td>\n",
              "      <td>1.027439</td>\n",
              "      <td>0.246158</td>\n",
              "      <td>8.189655</td>\n",
              "      <td>7.226496e-01</td>\n",
              "      <td>7.237598</td>\n",
              "      <td>0.643228</td>\n",
              "      <td>1.168033</td>\n",
              "      <td>1.222773</td>\n",
              "      <td>1.340944</td>\n",
              "      <td>7.240058</td>\n",
              "      <td>2.417235</td>\n",
              "      <td>15.194609</td>\n",
              "      <td>13.553772</td>\n",
              "      <td>7.229971</td>\n",
              "      <td>0.835158</td>\n",
              "      <td>2.234482</td>\n",
              "      <td>0.946170</td>\n",
              "      <td>2.700606</td>\n",
              "    </tr>\n",
              "    <tr>\n",
              "      <th>4</th>\n",
              "      <td>3.909506</td>\n",
              "      <td>10.576516</td>\n",
              "      <td>0.934191</td>\n",
              "      <td>3.419572</td>\n",
              "      <td>1.871438</td>\n",
              "      <td>3.340811</td>\n",
              "      <td>1.868282</td>\n",
              "      <td>0.439865</td>\n",
              "      <td>13.585620</td>\n",
              "      <td>1.153366</td>\n",
              "      <td>9.297974</td>\n",
              "      <td>1.682118</td>\n",
              "      <td>9.553305</td>\n",
              "      <td>10.341188</td>\n",
              "      <td>9.436362</td>\n",
              "      <td>0.00</td>\n",
              "      <td>1.548740e+01</td>\n",
              "      <td>1.888375</td>\n",
              "      <td>5.975678</td>\n",
              "      <td>1.775326</td>\n",
              "      <td>9.281851</td>\n",
              "      <td>1.350273</td>\n",
              "      <td>3.208565</td>\n",
              "      <td>1.935790</td>\n",
              "      <td>13.324833</td>\n",
              "      <td>1.725549</td>\n",
              "      <td>8.584763</td>\n",
              "      <td>1.643524</td>\n",
              "      <td>4.157284</td>\n",
              "      <td>6.604193</td>\n",
              "      <td>0.677463</td>\n",
              "      <td>1.667245</td>\n",
              "      <td>8.294594</td>\n",
              "      <td>11.017030</td>\n",
              "      <td>5.779013</td>\n",
              "      <td>10.643856</td>\n",
              "      <td>3.344048</td>\n",
              "      <td>4.260534</td>\n",
              "      <td>1.654864</td>\n",
              "      <td>9.104239</td>\n",
              "      <td>...</td>\n",
              "      <td>16.509023</td>\n",
              "      <td>3.350297</td>\n",
              "      <td>1.434873</td>\n",
              "      <td>13.899021</td>\n",
              "      <td>6.759006</td>\n",
              "      <td>3.237689</td>\n",
              "      <td>1.895391</td>\n",
              "      <td>1.314089</td>\n",
              "      <td>0.859594</td>\n",
              "      <td>6.241737</td>\n",
              "      <td>15.391528</td>\n",
              "      <td>13.914507</td>\n",
              "      <td>3.217597</td>\n",
              "      <td>1.844947</td>\n",
              "      <td>3.843864</td>\n",
              "      <td>5.504495</td>\n",
              "      <td>0.623270</td>\n",
              "      <td>7.723457</td>\n",
              "      <td>6.303451</td>\n",
              "      <td>7.755435</td>\n",
              "      <td>16.618457</td>\n",
              "      <td>0.0</td>\n",
              "      <td>1.022681</td>\n",
              "      <td>0.312128</td>\n",
              "      <td>7.819771</td>\n",
              "      <td>6.676273e-07</td>\n",
              "      <td>5.777892</td>\n",
              "      <td>2.743704</td>\n",
              "      <td>2.700285</td>\n",
              "      <td>1.897730</td>\n",
              "      <td>2.738095</td>\n",
              "      <td>6.565509</td>\n",
              "      <td>4.341414</td>\n",
              "      <td>15.893832</td>\n",
              "      <td>11.929787</td>\n",
              "      <td>6.954033</td>\n",
              "      <td>1.853364</td>\n",
              "      <td>0.511027</td>\n",
              "      <td>2.599562</td>\n",
              "      <td>0.811364</td>\n",
              "    </tr>\n",
              "  </tbody>\n",
              "</table>\n",
              "<p>5 rows × 109 columns</p>\n",
              "</div>\n",
              "      <button class=\"colab-df-convert\" onclick=\"convertToInteractive('df-cea187c1-613b-4534-b27d-c8bd404cf63d')\"\n",
              "              title=\"Convert this dataframe to an interactive table.\"\n",
              "              style=\"display:none;\">\n",
              "        \n",
              "  <svg xmlns=\"http://www.w3.org/2000/svg\" height=\"24px\"viewBox=\"0 0 24 24\"\n",
              "       width=\"24px\">\n",
              "    <path d=\"M0 0h24v24H0V0z\" fill=\"none\"/>\n",
              "    <path d=\"M18.56 5.44l.94 2.06.94-2.06 2.06-.94-2.06-.94-.94-2.06-.94 2.06-2.06.94zm-11 1L8.5 8.5l.94-2.06 2.06-.94-2.06-.94L8.5 2.5l-.94 2.06-2.06.94zm10 10l.94 2.06.94-2.06 2.06-.94-2.06-.94-.94-2.06-.94 2.06-2.06.94z\"/><path d=\"M17.41 7.96l-1.37-1.37c-.4-.4-.92-.59-1.43-.59-.52 0-1.04.2-1.43.59L10.3 9.45l-7.72 7.72c-.78.78-.78 2.05 0 2.83L4 21.41c.39.39.9.59 1.41.59.51 0 1.02-.2 1.41-.59l7.78-7.78 2.81-2.81c.8-.78.8-2.07 0-2.86zM5.41 20L4 18.59l7.72-7.72 1.47 1.35L5.41 20z\"/>\n",
              "  </svg>\n",
              "      </button>\n",
              "      \n",
              "  <style>\n",
              "    .colab-df-container {\n",
              "      display:flex;\n",
              "      flex-wrap:wrap;\n",
              "      gap: 12px;\n",
              "    }\n",
              "\n",
              "    .colab-df-convert {\n",
              "      background-color: #E8F0FE;\n",
              "      border: none;\n",
              "      border-radius: 50%;\n",
              "      cursor: pointer;\n",
              "      display: none;\n",
              "      fill: #1967D2;\n",
              "      height: 32px;\n",
              "      padding: 0 0 0 0;\n",
              "      width: 32px;\n",
              "    }\n",
              "\n",
              "    .colab-df-convert:hover {\n",
              "      background-color: #E2EBFA;\n",
              "      box-shadow: 0px 1px 2px rgba(60, 64, 67, 0.3), 0px 1px 3px 1px rgba(60, 64, 67, 0.15);\n",
              "      fill: #174EA6;\n",
              "    }\n",
              "\n",
              "    [theme=dark] .colab-df-convert {\n",
              "      background-color: #3B4455;\n",
              "      fill: #D2E3FC;\n",
              "    }\n",
              "\n",
              "    [theme=dark] .colab-df-convert:hover {\n",
              "      background-color: #434B5C;\n",
              "      box-shadow: 0px 1px 3px 1px rgba(0, 0, 0, 0.15);\n",
              "      filter: drop-shadow(0px 1px 2px rgba(0, 0, 0, 0.3));\n",
              "      fill: #FFFFFF;\n",
              "    }\n",
              "  </style>\n",
              "\n",
              "      <script>\n",
              "        const buttonEl =\n",
              "          document.querySelector('#df-cea187c1-613b-4534-b27d-c8bd404cf63d button.colab-df-convert');\n",
              "        buttonEl.style.display =\n",
              "          google.colab.kernel.accessAllowed ? 'block' : 'none';\n",
              "\n",
              "        async function convertToInteractive(key) {\n",
              "          const element = document.querySelector('#df-cea187c1-613b-4534-b27d-c8bd404cf63d');\n",
              "          const dataTable =\n",
              "            await google.colab.kernel.invokeFunction('convertToInteractive',\n",
              "                                                     [key], {});\n",
              "          if (!dataTable) return;\n",
              "\n",
              "          const docLinkHtml = 'Like what you see? Visit the ' +\n",
              "            '<a target=\"_blank\" href=https://colab.research.google.com/notebooks/data_table.ipynb>data table notebook</a>'\n",
              "            + ' to learn more about interactive tables.';\n",
              "          element.innerHTML = '';\n",
              "          dataTable['output_type'] = 'display_data';\n",
              "          await google.colab.output.renderOutput(dataTable, element);\n",
              "          const docLink = document.createElement('div');\n",
              "          docLink.innerHTML = docLinkHtml;\n",
              "          element.appendChild(docLink);\n",
              "        }\n",
              "      </script>\n",
              "    </div>\n",
              "  </div>\n",
              "  "
            ],
            "text/plain": [
              "      var_1      var_2      var_3  ...   var_107   var_108   var_109\n",
              "0  4.532710   3.280834  17.982476  ...  1.973832  0.976806  2.541417\n",
              "1  5.821374  12.098722  13.309151  ...  0.567939  1.018818  1.416433\n",
              "2  1.938776   7.952752   0.972671  ...  1.959183  1.575493  1.857893\n",
              "3  6.020690   9.900544  17.869637  ...  2.234482  0.946170  2.700606\n",
              "4  3.909506  10.576516   0.934191  ...  0.511027  2.599562  0.811364\n",
              "\n",
              "[5 rows x 109 columns]"
            ]
          },
          "metadata": {},
          "execution_count": 3
        }
      ],
      "source": [
        "data.head()"
      ]
    },
    {
      "cell_type": "markdown",
      "metadata": {
        "id": "fIATjU5foCTI"
      },
      "source": [
        "**Important**\n",
        "\n",
        "In all feature selection procedures, it is good practice to select the features by examining only the training set. And this is to avoid overfit."
      ]
    },
    {
      "cell_type": "code",
      "execution_count": 4,
      "metadata": {
        "id": "0ld2n4D8oCTI",
        "outputId": "2bfece74-f805-4798-da48-c2aaca096957",
        "colab": {
          "base_uri": "https://localhost:8080/"
        }
      },
      "outputs": [
        {
          "output_type": "execute_result",
          "data": {
            "text/plain": [
              "((35000, 108), (15000, 108))"
            ]
          },
          "metadata": {},
          "execution_count": 4
        }
      ],
      "source": [
        "# separate train and test sets\n",
        "X_train, X_test, y_train, y_test = train_test_split(\n",
        "    data.drop(labels=['target'], axis=1),\n",
        "    data['target'],\n",
        "    test_size=0.3,\n",
        "    random_state=0)\n",
        "\n",
        "X_train.shape, X_test.shape"
      ]
    },
    {
      "cell_type": "markdown",
      "metadata": {
        "id": "UbIiSS4ooCTJ"
      },
      "source": [
        "### Determine univariate roc-auc"
      ]
    },
    {
      "cell_type": "code",
      "execution_count": 5,
      "metadata": {
        "scrolled": true,
        "id": "wy39yZFPoCTK",
        "outputId": "0a8750df-e6f5-4be4-94a2-8d7fc3b05a99",
        "colab": {
          "base_uri": "https://localhost:8080/"
        }
      },
      "outputs": [
        {
          "output_type": "execute_result",
          "data": {
            "text/plain": [
              "[0.5069248231292061,\n",
              " 0.5006908738145861,\n",
              " 0.4931445654646017,\n",
              " 0.5039101753068067,\n",
              " 0.5014351366034588,\n",
              " 0.5028347252717772,\n",
              " 0.5095234564543892,\n",
              " 0.5062626193645395,\n",
              " 0.4913455716601861,\n",
              " 0.5066196352647712]"
            ]
          },
          "metadata": {},
          "execution_count": 5
        }
      ],
      "source": [
        "# determine roc-auc for each feature\n",
        "\n",
        "# here we store the roc-auc values\n",
        "roc_values = []\n",
        "\n",
        "# iterate over each feature in the dataset\n",
        "for feature in X_train.columns:\n",
        "\n",
        "    # train a decision tree classifier\n",
        "    clf = DecisionTreeClassifier()\n",
        "    clf.fit(X_train[feature].fillna(0).to_frame(), y_train)\n",
        "\n",
        "    # obtain the predictions\n",
        "    y_scored = clf.predict_proba(X_test[feature].to_frame())\n",
        "\n",
        "    # calculate and store the roc-auc\n",
        "    roc_values.append(roc_auc_score(y_test, y_scored[:, 1]))\n",
        "    \n",
        "# display the result\n",
        "roc_values[0:10]"
      ]
    },
    {
      "cell_type": "code",
      "execution_count": 6,
      "metadata": {
        "scrolled": true,
        "id": "GPowvQ1JoCTL",
        "outputId": "c25b2818-6c14-424c-837f-850023953f1f",
        "colab": {
          "base_uri": "https://localhost:8080/",
          "height": 367
        }
      },
      "outputs": [
        {
          "output_type": "execute_result",
          "data": {
            "text/plain": [
              "Text(0, 0.5, 'roc-auc')"
            ]
          },
          "metadata": {},
          "execution_count": 6
        },
        {
          "output_type": "display_data",
          "data": {
            "image/png": "[encoded data removed]",
            "text/plain": [
              "<Figure size 1440x360 with 1 Axes>"
            ]
          },
          "metadata": {
            "needs_background": "light"
          }
        }
      ],
      "source": [
        "# now let's:\n",
        "\n",
        "# 1) capture the roc-auc values in a pandas series\n",
        "# 2) add the variable names in the index\n",
        "# 3) sort the features based on the roc-auc\n",
        "# 4) and make a var plot\n",
        "\n",
        "roc_values = pd.Series(roc_values)\n",
        "roc_values.index = X_train.columns\n",
        "roc_values.sort_values(ascending=False).plot.bar(figsize=(20, 5))\n",
        "plt.ylabel('roc-auc')"
      ]
    },
    {
      "cell_type": "code",
      "execution_count": 7,
      "metadata": {
        "id": "kUC-oTVcoCTL",
        "outputId": "5a1798a8-d8a9-48ce-aaf0-3c94ac4f7358",
        "colab": {
          "base_uri": "https://localhost:8080/"
        }
      },
      "outputs": [
        {
          "output_type": "execute_result",
          "data": {
            "text/plain": [
              "67"
            ]
          },
          "metadata": {},
          "execution_count": 7
        }
      ],
      "source": [
        "# a roc auc value of 0.5 indicates random decision\n",
        "# let's check how many features show a roc-auc value\n",
        "# higher than random\n",
        "\n",
        "len(roc_values[roc_values > 0.5])"
      ]
    },
    {
      "cell_type": "markdown",
      "metadata": {
        "id": "QKmWnc31oCTM"
      },
      "source": [
        "67 of 108  features show a predictive performance higher than 0.5.\n",
        "\n",
        "You can of course tune the parameters of the Decision Tree to get better predictions and thus, more reliable metrics.\n",
        "\n",
        "### Select features with roc-auc > 0.5"
      ]
    },
    {
      "cell_type": "code",
      "execution_count": 8,
      "metadata": {
        "id": "ElpUT__SoCTM",
        "outputId": "99951a71-1d32-4da5-be6e-66c4e8ab068b",
        "colab": {
          "base_uri": "https://localhost:8080/"
        }
      },
      "outputs": [
        {
          "output_type": "execute_result",
          "data": {
            "text/plain": [
              "Index(['var_1', 'var_2', 'var_4', 'var_5', 'var_6', 'var_7', 'var_8', 'var_10',\n",
              "       'var_11', 'var_12', 'var_13', 'var_14', 'var_15', 'var_16', 'var_18',\n",
              "       'var_21', 'var_22', 'var_23', 'var_25', 'var_26', 'var_27', 'var_28',\n",
              "       'var_29', 'var_30', 'var_33', 'var_34', 'var_35', 'var_38', 'var_39',\n",
              "       'var_43', 'var_44', 'var_46', 'var_47', 'var_48', 'var_50', 'var_51',\n",
              "       'var_52', 'var_53', 'var_54', 'var_55', 'var_57', 'var_59', 'var_65',\n",
              "       'var_67', 'var_69', 'var_70', 'var_71', 'var_72', 'var_74', 'var_75',\n",
              "       'var_78', 'var_80', 'var_82', 'var_83', 'var_84', 'var_85', 'var_88',\n",
              "       'var_91', 'var_94', 'var_96', 'var_97', 'var_98', 'var_100', 'var_101',\n",
              "       'var_105', 'var_106', 'var_108'],\n",
              "      dtype='object')"
            ]
          },
          "metadata": {},
          "execution_count": 8
        }
      ],
      "source": [
        "selected_features = roc_values[roc_values > 0.5].index\n",
        "\n",
        "selected_features"
      ]
    },
    {
      "cell_type": "code",
      "execution_count": 9,
      "metadata": {
        "id": "qYOAWT5QoCTM",
        "outputId": "2461e0ff-6e44-43c6-bb62-82b499597058",
        "colab": {
          "base_uri": "https://localhost:8080/"
        }
      },
      "outputs": [
        {
          "output_type": "execute_result",
          "data": {
            "text/plain": [
              "((35000, 67), (15000, 67))"
            ]
          },
          "metadata": {},
          "execution_count": 9
        }
      ],
      "source": [
        "# select features in the dataframes\n",
        "\n",
        "X_train = X_train[selected_features]\n",
        "X_test = X_test[selected_features]\n",
        "\n",
        "X_train.shape, X_test.shape"
      ]
    },
    {
      "cell_type": "markdown",
      "metadata": {
        "id": "IRtplwhSoCTN"
      },
      "source": [
        "## Regression"
      ]
    },
    {
      "cell_type": "code",
      "execution_count": 11,
      "metadata": {
        "id": "m7uDj_mjoCTN",
        "outputId": "3e36ffc5-576b-4d1b-a0f0-a3b3d99bebcc",
        "colab": {
          "base_uri": "https://localhost:8080/"
        }
      },
      "outputs": [
        {
          "output_type": "execute_result",
          "data": {
            "text/plain": [
              "(1460, 81)"
            ]
          },
          "metadata": {},
          "execution_count": 11
        }
      ],
      "source": [
        "# load dataset\n",
        "\n",
        "data = pd.read_csv('https://raw.githubusercontent.com/Venkatpandey/DataScience_ML/main/dataset/houseprice.csv')\n",
        "data.shape"
      ]
    },
    {
      "cell_type": "code",
      "execution_count": 12,
      "metadata": {
        "id": "NOmHmo7xoCTO",
        "outputId": "6d5a9fe2-2688-4046-db93-6355fd16410f",
        "colab": {
          "base_uri": "https://localhost:8080/"
        }
      },
      "outputs": [
        {
          "output_type": "execute_result",
          "data": {
            "text/plain": [
              "(1460, 38)"
            ]
          },
          "metadata": {},
          "execution_count": 12
        }
      ],
      "source": [
        "# In practice, feature selection should be done after data pre-processing,\n",
        "# so ideally, all the categorical variables are encoded into numbers,\n",
        "# and then you can assess how deterministic they are of the target\n",
        "\n",
        "# here for simplicity I will use only numerical variables\n",
        "# select numerical columns:\n",
        "\n",
        "numerics = ['int16', 'int32', 'int64', 'float16', 'float32', 'float64']\n",
        "numerical_vars = list(data.select_dtypes(include=numerics).columns)\n",
        "data = data[numerical_vars]\n",
        "data.shape"
      ]
    },
    {
      "cell_type": "code",
      "execution_count": 13,
      "metadata": {
        "id": "Z_i71fAPoCTO",
        "outputId": "5fed5054-3205-4429-d4a8-9683d7b933b2",
        "colab": {
          "base_uri": "https://localhost:8080/"
        }
      },
      "outputs": [
        {
          "output_type": "execute_result",
          "data": {
            "text/plain": [
              "((1022, 37), (438, 37))"
            ]
          },
          "metadata": {},
          "execution_count": 13
        }
      ],
      "source": [
        "# separate train and test sets\n",
        "X_train, X_test, y_train, y_test = train_test_split(\n",
        "    data.drop(labels=['SalePrice'], axis=1),\n",
        "    data['SalePrice'],\n",
        "    test_size=0.3,\n",
        "    random_state=0)\n",
        "\n",
        "X_train.shape, X_test.shape"
      ]
    },
    {
      "cell_type": "markdown",
      "metadata": {
        "id": "IPWxsaPMoCTO"
      },
      "source": [
        "### Determine univariate mse"
      ]
    },
    {
      "cell_type": "code",
      "execution_count": 14,
      "metadata": {
        "scrolled": true,
        "id": "-_Yq77A3oCTO",
        "outputId": "e4dcdde7-aa88-4dfb-cef3-74a417c771a6",
        "colab": {
          "base_uri": "https://localhost:8080/"
        }
      },
      "outputs": [
        {
          "output_type": "execute_result",
          "data": {
            "text/plain": [
              "[13268032828.324202,\n",
              " 5258423546.061133,\n",
              " 6827291221.813821,\n",
              " 8379936849.301367,\n",
              " 2097026635.6820993,\n",
              " 6026309350.815287,\n",
              " 4776574901.81357,\n",
              " 5138584000.327346,\n",
              " 7867108586.811187,\n",
              " 7696158357.724333]"
            ]
          },
          "metadata": {},
          "execution_count": 14
        }
      ],
      "source": [
        "# determine mse for each feature\n",
        "\n",
        "# here we store the mse values\n",
        "mse_values = []\n",
        "\n",
        "# iterate over each variable\n",
        "for feature in X_train.columns:\n",
        "    \n",
        "    # train a decision tree\n",
        "    clf = DecisionTreeRegressor()\n",
        "    clf.fit(X_train[feature].fillna(0).to_frame(), y_train)\n",
        "    \n",
        "    # make a prediction\n",
        "    y_scored = clf.predict(X_test[feature].fillna(0).to_frame())\n",
        "    \n",
        "    # determine the mse and store it\n",
        "    mse_values.append(mean_squared_error(y_test, y_scored))\n",
        "    \n",
        "    \n",
        "# display the result\n",
        "mse_values[0:10]"
      ]
    },
    {
      "cell_type": "code",
      "execution_count": 15,
      "metadata": {
        "scrolled": false,
        "id": "M8bUUfwvoCTO",
        "outputId": "1e09a2d9-b1e1-4c5e-d41b-778dd2800d99",
        "colab": {
          "base_uri": "https://localhost:8080/",
          "height": 577
        }
      },
      "outputs": [
        {
          "output_type": "execute_result",
          "data": {
            "text/plain": [
              "<matplotlib.axes._subplots.AxesSubplot at 0x7eff6641a650>"
            ]
          },
          "metadata": {},
          "execution_count": 15
        },
        {
          "output_type": "display_data",
          "data": {
            "image/png": "[encoded data removed]",
            "text/plain": [
              "<Figure size 1440x576 with 1 Axes>"
            ]
          },
          "metadata": {
            "needs_background": "light"
          }
        }
      ],
      "source": [
        "# now let's:\n",
        "\n",
        "# 1) capture the mse values in a pandas series\n",
        "# 2) add the variable names in the index\n",
        "# 3) sort the features based on the mse\n",
        "# 4) and make a var plot\n",
        "\n",
        "mse_values = pd.Series(mse_values)\n",
        "mse_values.index = X_train.columns\n",
        "mse_values.sort_values(ascending=False).plot.bar(figsize=(20,8))"
      ]
    },
    {
      "cell_type": "markdown",
      "metadata": {
        "id": "tO6oO-eroCTP"
      },
      "source": [
        "Remember that for regression, the smaller the mse, the better the model performance is.\n",
        "\n",
        "To select features, we need a threshold, or cut-off. To follow Scikit-learn selection implementation, which we will discuss in coming notebooks, I will select those features which mse is below the mean mse.\n",
        "\n",
        "### Select features"
      ]
    },
    {
      "cell_type": "code",
      "execution_count": 16,
      "metadata": {
        "id": "N1IGdsTnoCTP",
        "outputId": "bc830047-0040-4ed3-8307-93898bcba666",
        "colab": {
          "base_uri": "https://localhost:8080/"
        }
      },
      "outputs": [
        {
          "output_type": "execute_result",
          "data": {
            "text/plain": [
              "Index(['MSSubClass', 'OverallQual', 'OverallCond', 'YearBuilt', 'YearRemodAdd',\n",
              "       'TotalBsmtSF', '2ndFlrSF', 'GrLivArea', 'FullBath', 'HalfBath',\n",
              "       'TotRmsAbvGrd', 'Fireplaces', 'GarageYrBlt', 'GarageCars',\n",
              "       'GarageArea'],\n",
              "      dtype='object')"
            ]
          },
          "metadata": {},
          "execution_count": 16
        }
      ],
      "source": [
        "selected_features = mse_values[mse_values < np.mean(mse_values)].index\n",
        "\n",
        "selected_features"
      ]
    },
    {
      "cell_type": "code",
      "execution_count": 17,
      "metadata": {
        "id": "ULSFahmBoCTP",
        "outputId": "0fa713b5-d8e9-4f4c-bdae-2679c14ac6bc",
        "colab": {
          "base_uri": "https://localhost:8080/"
        }
      },
      "outputs": [
        {
          "output_type": "execute_result",
          "data": {
            "text/plain": [
              "((1022, 15), (438, 15))"
            ]
          },
          "metadata": {},
          "execution_count": 17
        }
      ],
      "source": [
        "# select features in the dataframes\n",
        "\n",
        "X_train = X_train[selected_features]\n",
        "X_test = X_test[selected_features]\n",
        "\n",
        "X_train.shape, X_test.shape"
      ]
    },
    {
      "cell_type": "markdown",
      "metadata": {
        "id": "AFUi0B2KoCTP"
      },
      "source": [
        "I do use this method in my projects, particularly when I have an enormous amount of features and I need to start reducing the feature space quickly.\n",
        "\n",
        "You can see an example use case in [my talk at pydata London](https://www.youtube.com/watch?v=KHGGlozsRtA)\n"
      ]
    }
  ],
  "metadata": {
    "kernelspec": {
      "display_name": "fsml",
      "language": "python",
      "name": "fsml"
    },
    "language_info": {
      "codemirror_mode": {
        "name": "ipython",
        "version": 3
      },
      "file_extension": ".py",
      "mimetype": "text/x-python",
      "name": "python",
      "nbconvert_exporter": "python",
      "pygments_lexer": "ipython3",
      "version": "3.8.2"
    },
    "toc": {
      "base_numbering": 1,
      "nav_menu": {},
      "number_sections": true,
      "sideBar": true,
      "skip_h1_title": false,
      "title_cell": "Table of Contents",
      "title_sidebar": "Contents",
      "toc_cell": false,
      "toc_position": {},
      "toc_section_display": "block",
      "toc_window_display": true
    },
    "colab": {
      "name": "06.1-Univariate-roc-auc.ipynb",
      "provenance": [],
      "include_colab_link": true
    }
  },
  "nbformat": 4,
  "nbformat_minor": 0
}