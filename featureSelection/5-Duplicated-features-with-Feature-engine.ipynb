{
  "cells": [
    {
      "cell_type": "markdown",
      "metadata": {
        "id": "view-in-github",
        "colab_type": "text"
      },
      "source": [
        "<a href=\"https://colab.research.google.com/github/Venkatpandey/DataScience_ML/blob/main/featureSelection/5-Duplicated-features-with-Feature-engine.ipynb\" target=\"_parent\"><img src=\"https://colab.research.google.com/assets/colab-badge.svg\" alt=\"Open In Colab\"/></a>"
      ]
    },
    {
      "cell_type": "markdown",
      "metadata": {
        "id": "2eBtxXXhS9Vh"
      },
      "source": [
        "## Duplicated features with Feature-engine\n",
        "\n",
        "In this notebook, we will identify and remove duplicated features with Feature-engine."
      ]
    },
    {
      "cell_type": "code",
      "source": [
        "from google.colab import drive\n",
        "drive.mount('/content/drive')"
      ],
      "metadata": {
        "id": "6xioJNLpS_Wh",
        "outputId": "bd35bb20-6b08-457f-d62f-da5d6f730103",
        "colab": {
          "base_uri": "https://localhost:8080/"
        }
      },
      "execution_count": 1,
      "outputs": [
        {
          "output_type": "stream",
          "name": "stdout",
          "text": [
            "Mounted at /content/drive\n"
          ]
        }
      ]
    },
    {
      "cell_type": "code",
      "source": [
        "pip install feature_engine"
      ],
      "metadata": {
        "id": "DDJ8xzpyTNeb",
        "outputId": "0cd31716-1ad5-4f16-8a2a-1ca6d17aa3af",
        "colab": {
          "base_uri": "https://localhost:8080/"
        }
      },
      "execution_count": 3,
      "outputs": [
        {
          "output_type": "stream",
          "name": "stdout",
          "text": [
            "Collecting feature_engine\n",
            "  Downloading feature_engine-1.1.2-py2.py3-none-any.whl (180 kB)\n",
            "\u001b[?25l\r\u001b[K     |█▉                              | 10 kB 19.1 MB/s eta 0:00:01\r\u001b[K     |███▋                            | 20 kB 12.0 MB/s eta 0:00:01\r\u001b[K     |█████▌                          | 30 kB 15.2 MB/s eta 0:00:01\r\u001b[K     |███████▎                        | 40 kB 18.1 MB/s eta 0:00:01\r\u001b[K     |█████████                       | 51 kB 10.1 MB/s eta 0:00:01\r\u001b[K     |███████████                     | 61 kB 9.8 MB/s eta 0:00:01\r\u001b[K     |████████████▊                   | 71 kB 8.7 MB/s eta 0:00:01\r\u001b[K     |██████████████▌                 | 81 kB 9.6 MB/s eta 0:00:01\r\u001b[K     |████████████████▍               | 92 kB 8.6 MB/s eta 0:00:01\r\u001b[K     |██████████████████▏             | 102 kB 8.4 MB/s eta 0:00:01\r\u001b[K     |████████████████████            | 112 kB 8.4 MB/s eta 0:00:01\r\u001b[K     |█████████████████████▉          | 122 kB 8.4 MB/s eta 0:00:01\r\u001b[K     |███████████████████████▋        | 133 kB 8.4 MB/s eta 0:00:01\r\u001b[K     |█████████████████████████▌      | 143 kB 8.4 MB/s eta 0:00:01\r\u001b[K     |███████████████████████████▎    | 153 kB 8.4 MB/s eta 0:00:01\r\u001b[K     |█████████████████████████████   | 163 kB 8.4 MB/s eta 0:00:01\r\u001b[K     |███████████████████████████████ | 174 kB 8.4 MB/s eta 0:00:01\r\u001b[K     |████████████████████████████████| 180 kB 8.4 MB/s \n",
            "\u001b[?25hRequirement already satisfied: pandas>=1.0.3 in /usr/local/lib/python3.7/dist-packages (from feature_engine) (1.1.5)\n",
            "Collecting statsmodels>=0.11.1\n",
            "  Downloading statsmodels-0.13.1-cp37-cp37m-manylinux_2_17_x86_64.manylinux2014_x86_64.whl (9.8 MB)\n",
            "\u001b[K     |████████████████████████████████| 9.8 MB 43.1 MB/s \n",
            "\u001b[?25hRequirement already satisfied: scikit-learn>=0.22.2 in /usr/local/lib/python3.7/dist-packages (from feature_engine) (1.0.1)\n",
            "Requirement already satisfied: scipy>=1.4.1 in /usr/local/lib/python3.7/dist-packages (from feature_engine) (1.4.1)\n",
            "Requirement already satisfied: numpy>=1.18.2 in /usr/local/lib/python3.7/dist-packages (from feature_engine) (1.19.5)\n",
            "Requirement already satisfied: pytz>=2017.2 in /usr/local/lib/python3.7/dist-packages (from pandas>=1.0.3->feature_engine) (2018.9)\n",
            "Requirement already satisfied: python-dateutil>=2.7.3 in /usr/local/lib/python3.7/dist-packages (from pandas>=1.0.3->feature_engine) (2.8.2)\n",
            "Requirement already satisfied: six>=1.5 in /usr/local/lib/python3.7/dist-packages (from python-dateutil>=2.7.3->pandas>=1.0.3->feature_engine) (1.15.0)\n",
            "Requirement already satisfied: threadpoolctl>=2.0.0 in /usr/local/lib/python3.7/dist-packages (from scikit-learn>=0.22.2->feature_engine) (3.0.0)\n",
            "Requirement already satisfied: joblib>=0.11 in /usr/local/lib/python3.7/dist-packages (from scikit-learn>=0.22.2->feature_engine) (1.1.0)\n",
            "Requirement already satisfied: patsy>=0.5.2 in /usr/local/lib/python3.7/dist-packages (from statsmodels>=0.11.1->feature_engine) (0.5.2)\n",
            "Installing collected packages: statsmodels, feature-engine\n",
            "  Attempting uninstall: statsmodels\n",
            "    Found existing installation: statsmodels 0.10.2\n",
            "    Uninstalling statsmodels-0.10.2:\n",
            "      Successfully uninstalled statsmodels-0.10.2\n",
            "Successfully installed feature-engine-1.1.2 statsmodels-0.13.1\n"
          ]
        }
      ]
    },
    {
      "cell_type": "code",
      "execution_count": 4,
      "metadata": {
        "id": "Dvvuq9fpS9Vk"
      },
      "outputs": [],
      "source": [
        "import pandas as pd\n",
        "import numpy as np\n",
        "from sklearn.model_selection import train_test_split\n",
        "from sklearn.pipeline import Pipeline\n",
        "\n",
        "from feature_engine.selection import DropDuplicateFeatures, DropConstantFeatures"
      ]
    },
    {
      "cell_type": "code",
      "execution_count": 5,
      "metadata": {
        "id": "2RQHDdOlS9Vk",
        "outputId": "7af13a24-6646-4654-b0fd-298267bcb071",
        "colab": {
          "base_uri": "https://localhost:8080/"
        }
      },
      "outputs": [
        {
          "output_type": "execute_result",
          "data": {
            "text/plain": [
              "(50000, 301)"
            ]
          },
          "metadata": {},
          "execution_count": 5
        }
      ],
      "source": [
        "# load dataset\n",
        "\n",
        "data = pd.read_csv('/content/drive/MyDrive/Colab Notebooks/precleaned-datasets/dataset_1.csv')\n",
        "data.shape"
      ]
    },
    {
      "cell_type": "markdown",
      "metadata": {
        "id": "pityrNLKS9Vl"
      },
      "source": [
        "**Important**\n",
        "\n",
        "In all feature selection procedures, it is good practice to select the features by examining only the training set. And this is to avoid overfit."
      ]
    },
    {
      "cell_type": "code",
      "execution_count": 6,
      "metadata": {
        "id": "39lYgB7YS9Vm",
        "outputId": "834557d2-689f-41a1-da06-1e5126872837",
        "colab": {
          "base_uri": "https://localhost:8080/"
        }
      },
      "outputs": [
        {
          "output_type": "execute_result",
          "data": {
            "text/plain": [
              "((35000, 300), (15000, 300))"
            ]
          },
          "metadata": {},
          "execution_count": 6
        }
      ],
      "source": [
        "# separate dataset into train and test\n",
        "\n",
        "X_train, X_test, y_train, y_test = train_test_split(\n",
        "    data.drop(labels=['target'], axis=1), # drop the target\n",
        "    data['target'], # just the target\n",
        "    test_size=0.3,\n",
        "    random_state=0)\n",
        "\n",
        "X_train.shape, X_test.shape"
      ]
    },
    {
      "cell_type": "markdown",
      "metadata": {
        "id": "YPvSqT3FS9Vm"
      },
      "source": [
        "## Remove constant and quasi-constant"
      ]
    },
    {
      "cell_type": "code",
      "execution_count": 7,
      "metadata": {
        "id": "mtYxGNLWS9Vm",
        "outputId": "77cfdefd-f9b0-42ff-c205-e01b62801635",
        "colab": {
          "base_uri": "https://localhost:8080/"
        }
      },
      "outputs": [
        {
          "output_type": "execute_result",
          "data": {
            "text/plain": [
              "DropConstantFeatures(tol=0.998)"
            ]
          },
          "metadata": {},
          "execution_count": 7
        }
      ],
      "source": [
        "# remove constant and quasi-constant features first:\n",
        "# we use Feature-engine for this\n",
        "\n",
        "sel = DropConstantFeatures(tol=0.998, variables=None, missing_values='raise')\n",
        "\n",
        "sel.fit(X_train)"
      ]
    },
    {
      "cell_type": "code",
      "execution_count": 8,
      "metadata": {
        "id": "8lFamiQZS9Vn",
        "outputId": "ab7a3cd1-4ff2-4a5f-9660-b7b92ab7f68f",
        "colab": {
          "base_uri": "https://localhost:8080/"
        }
      },
      "outputs": [
        {
          "output_type": "execute_result",
          "data": {
            "text/plain": [
              "((35000, 158), (15000, 158))"
            ]
          },
          "metadata": {},
          "execution_count": 8
        }
      ],
      "source": [
        "# remove the quasi-constant features\n",
        "\n",
        "X_train = sel.transform(X_train)\n",
        "X_test = sel.transform(X_test)\n",
        "\n",
        "X_train.shape, X_test.shape"
      ]
    },
    {
      "cell_type": "markdown",
      "metadata": {
        "id": "sPUY30hzS9Vo"
      },
      "source": [
        "## Remove duplicated features"
      ]
    },
    {
      "cell_type": "code",
      "execution_count": 9,
      "metadata": {
        "id": "rb1bbGA8S9Vp",
        "outputId": "dbc0ec56-6513-4602-f165-10fd344f92b3",
        "colab": {
          "base_uri": "https://localhost:8080/"
        }
      },
      "outputs": [
        {
          "output_type": "execute_result",
          "data": {
            "text/plain": [
              "DropDuplicateFeatures(missing_values='raise')"
            ]
          },
          "metadata": {},
          "execution_count": 9
        }
      ],
      "source": [
        "# set up the selector\n",
        "sel = DropDuplicateFeatures(variables=None, missing_values='raise')\n",
        "\n",
        "# find the duplicate features, this might take a while\n",
        "sel.fit(X_train)"
      ]
    },
    {
      "cell_type": "code",
      "execution_count": 10,
      "metadata": {
        "id": "FDj6BJx_S9Vp",
        "outputId": "7656850b-1d81-43a2-d2e1-3b700e868d16",
        "colab": {
          "base_uri": "https://localhost:8080/"
        }
      },
      "outputs": [
        {
          "output_type": "execute_result",
          "data": {
            "text/plain": [
              "[{'var_148', 'var_37'},\n",
              " {'var_199', 'var_84'},\n",
              " {'var_143', 'var_296'},\n",
              " {'var_177', 'var_250'},\n",
              " {'var_226', 'var_232'},\n",
              " {'var_229', 'var_269'}]"
            ]
          },
          "metadata": {},
          "execution_count": 10
        }
      ],
      "source": [
        "# these are the pairs of duplicated features\n",
        "# each set are duplicates\n",
        "\n",
        "sel.duplicated_feature_sets_"
      ]
    },
    {
      "cell_type": "code",
      "execution_count": 11,
      "metadata": {
        "id": "vsxx5laZS9Vq",
        "outputId": "d0f0aae4-3a4d-4d01-8818-80624e056ef0",
        "colab": {
          "base_uri": "https://localhost:8080/"
        }
      },
      "outputs": [
        {
          "output_type": "execute_result",
          "data": {
            "text/plain": [
              "{'var_148', 'var_199', 'var_232', 'var_250', 'var_269', 'var_296'}"
            ]
          },
          "metadata": {},
          "execution_count": 11
        }
      ],
      "source": [
        "# these are the features that will be dropped\n",
        "# 1 from each of the pairs above\n",
        "\n",
        "sel.features_to_drop_"
      ]
    },
    {
      "cell_type": "code",
      "execution_count": 12,
      "metadata": {
        "id": "LritgnCgS9Vq",
        "outputId": "fdf37022-d652-43e0-8216-cc8cd16c5946",
        "colab": {
          "base_uri": "https://localhost:8080/"
        }
      },
      "outputs": [
        {
          "output_type": "execute_result",
          "data": {
            "text/plain": [
              "6"
            ]
          },
          "metadata": {},
          "execution_count": 12
        }
      ],
      "source": [
        "# let's explore our list of duplicated features\n",
        "\n",
        "len(sel.features_to_drop_)"
      ]
    },
    {
      "cell_type": "code",
      "execution_count": 13,
      "metadata": {
        "id": "TsUqodntS9Vq",
        "outputId": "789f0722-a7db-42bb-97fa-3c95d0e1a6c8",
        "colab": {
          "base_uri": "https://localhost:8080/"
        }
      },
      "outputs": [
        {
          "output_type": "execute_result",
          "data": {
            "text/plain": [
              "((35000, 152), (15000, 152))"
            ]
          },
          "metadata": {},
          "execution_count": 13
        }
      ],
      "source": [
        "# remove the duplicated features\n",
        "\n",
        "X_train = sel.transform(X_train)\n",
        "X_test = sel.transform(X_test)\n",
        "\n",
        "X_train.shape, X_test.shape"
      ]
    },
    {
      "cell_type": "markdown",
      "metadata": {
        "id": "3eZ05A_9S9Vr"
      },
      "source": [
        "## Stack Feature selection in a Pipeline\n",
        "\n",
        "We can perform both steps together by setting up the transformers within a pipeline."
      ]
    },
    {
      "cell_type": "code",
      "execution_count": 14,
      "metadata": {
        "id": "_VVo5AMkS9Vr",
        "outputId": "66b71b58-0244-4f4f-adf7-42d0903424ca",
        "colab": {
          "base_uri": "https://localhost:8080/"
        }
      },
      "outputs": [
        {
          "output_type": "execute_result",
          "data": {
            "text/plain": [
              "((35000, 300), (15000, 300))"
            ]
          },
          "metadata": {},
          "execution_count": 14
        }
      ],
      "source": [
        "# separate dataset into train and test\n",
        "\n",
        "X_train, X_test, y_train, y_test = train_test_split(\n",
        "    data.drop(labels=['target'], axis=1), # drop the target\n",
        "    data['target'], # just the target\n",
        "    test_size=0.3,\n",
        "    random_state=0)\n",
        "\n",
        "X_train.shape, X_test.shape"
      ]
    },
    {
      "cell_type": "code",
      "execution_count": 15,
      "metadata": {
        "id": "PBOuvqdAS9Vr",
        "outputId": "2bb15b72-3f28-47e2-fa14-f200a59ce7d7",
        "colab": {
          "base_uri": "https://localhost:8080/"
        }
      },
      "outputs": [
        {
          "output_type": "execute_result",
          "data": {
            "text/plain": [
              "Pipeline(steps=[('constant', DropConstantFeatures(tol=0.998)),\n",
              "                ('duplicated', DropDuplicateFeatures())])"
            ]
          },
          "metadata": {},
          "execution_count": 15
        }
      ],
      "source": [
        "pipe = Pipeline([\n",
        "    ('constant', DropConstantFeatures(tol=0.998)),\n",
        "    ('duplicated', DropDuplicateFeatures()),\n",
        "])\n",
        "\n",
        "pipe.fit(X_train)"
      ]
    },
    {
      "cell_type": "code",
      "execution_count": 16,
      "metadata": {
        "id": "8TESYkF8S9Vr",
        "outputId": "785b26e8-468b-4fe2-a949-e04fd1b34458",
        "colab": {
          "base_uri": "https://localhost:8080/"
        }
      },
      "outputs": [
        {
          "output_type": "execute_result",
          "data": {
            "text/plain": [
              "((35000, 152), (15000, 152))"
            ]
          },
          "metadata": {},
          "execution_count": 16
        }
      ],
      "source": [
        "# remove features\n",
        "\n",
        "X_train = pipe.transform(X_train)\n",
        "X_test = pipe.transform(X_test)\n",
        "\n",
        "X_train.shape, X_test.shape"
      ]
    },
    {
      "cell_type": "code",
      "execution_count": 17,
      "metadata": {
        "id": "GnRIeSwQS9Vs",
        "outputId": "684ba49a-fbc0-43d3-de98-4a989399f677",
        "colab": {
          "base_uri": "https://localhost:8080/"
        }
      },
      "outputs": [
        {
          "output_type": "execute_result",
          "data": {
            "text/plain": [
              "142"
            ]
          },
          "metadata": {},
          "execution_count": 17
        }
      ],
      "source": [
        "# we can navigate the pipeline transformers\n",
        "\n",
        "len(pipe.named_steps['constant'].features_to_drop_)"
      ]
    },
    {
      "cell_type": "code",
      "execution_count": 18,
      "metadata": {
        "id": "BAn_iPMbS9Vs",
        "outputId": "1e489dea-2b27-48b0-9ab1-98f39f014dac",
        "colab": {
          "base_uri": "https://localhost:8080/"
        }
      },
      "outputs": [
        {
          "output_type": "execute_result",
          "data": {
            "text/plain": [
              "{'var_148', 'var_199', 'var_232', 'var_250', 'var_269', 'var_296'}"
            ]
          },
          "metadata": {},
          "execution_count": 18
        }
      ],
      "source": [
        "pipe.named_steps['duplicated'].features_to_drop_"
      ]
    },
    {
      "cell_type": "code",
      "execution_count": null,
      "metadata": {
        "id": "owWh4_sLS9Vs"
      },
      "outputs": [],
      "source": [
        ""
      ]
    }
  ],
  "metadata": {
    "kernelspec": {
      "display_name": "fengine",
      "language": "python",
      "name": "fengine"
    },
    "language_info": {
      "codemirror_mode": {
        "name": "ipython",
        "version": 3
      },
      "file_extension": ".py",
      "mimetype": "text/x-python",
      "name": "python",
      "nbconvert_exporter": "python",
      "pygments_lexer": "ipython3",
      "version": "3.8.2"
    },
    "toc": {
      "base_numbering": 1,
      "nav_menu": {},
      "number_sections": true,
      "sideBar": true,
      "skip_h1_title": false,
      "title_cell": "Table of Contents",
      "title_sidebar": "Contents",
      "toc_cell": false,
      "toc_position": {
        "height": "calc(100% - 180px)",
        "left": "10px",
        "top": "150px",
        "width": "316px"
      },
      "toc_section_display": "block",
      "toc_window_display": true
    },
    "colab": {
      "name": "03.5-Duplicated-features-with-Feature-engine.ipynb",
      "provenance": [],
      "include_colab_link": true
    }
  },
  "nbformat": 4,
  "nbformat_minor": 0
}