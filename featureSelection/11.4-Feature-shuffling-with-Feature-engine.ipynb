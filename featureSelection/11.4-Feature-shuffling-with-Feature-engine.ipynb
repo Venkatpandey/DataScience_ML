{
  "cells": [
    {
      "cell_type": "markdown",
      "metadata": {
        "id": "view-in-github",
        "colab_type": "text"
      },
      "source": [
        "<a href=\"https://colab.research.google.com/github/Venkatpandey/DataScience_ML/blob/main/featureSelection/11.4-Feature-shuffling-with-Feature-engine.ipynb\" target=\"_parent\"><img src=\"https://colab.research.google.com/assets/colab-badge.svg\" alt=\"Open In Colab\"/></a>"
      ]
    },
    {
      "cell_type": "markdown",
      "metadata": {
        "id": "_MTJmrMIZGz-"
      },
      "source": [
        "## Feature Selection by Random Shuffling\n",
        "\n",
        "We can implement feature selection by feature shuffling with Feature-engine.\n",
        "\n",
        "The selector takes any machine learning algorithm as input, and any metric from those allowed by Scikit-learn."
      ]
    },
    {
      "cell_type": "code",
      "source": [
        "pip install feature_engine"
      ],
      "metadata": {
        "id": "YVIz1-mScbFN",
        "outputId": "139f8459-17c5-4a52-ae01-4f40dedc17de",
        "colab": {
          "base_uri": "https://localhost:8080/"
        }
      },
      "execution_count": 2,
      "outputs": [
        {
          "output_type": "stream",
          "name": "stdout",
          "text": [
            "Collecting feature_engine\n",
            "  Downloading feature_engine-1.2.0-py2.py3-none-any.whl (205 kB)\n",
            "\u001b[?25l\r\u001b[K     |█▋                              | 10 kB 14.5 MB/s eta 0:00:01\r\u001b[K     |███▏                            | 20 kB 16.8 MB/s eta 0:00:01\r\u001b[K     |████▉                           | 30 kB 5.7 MB/s eta 0:00:01\r\u001b[K     |██████▍                         | 40 kB 7.0 MB/s eta 0:00:01\r\u001b[K     |████████                        | 51 kB 3.5 MB/s eta 0:00:01\r\u001b[K     |█████████▋                      | 61 kB 4.1 MB/s eta 0:00:01\r\u001b[K     |███████████▏                    | 71 kB 4.5 MB/s eta 0:00:01\r\u001b[K     |████████████▊                   | 81 kB 4.3 MB/s eta 0:00:01\r\u001b[K     |██████████████▍                 | 92 kB 4.7 MB/s eta 0:00:01\r\u001b[K     |████████████████                | 102 kB 4.2 MB/s eta 0:00:01\r\u001b[K     |█████████████████▋              | 112 kB 4.2 MB/s eta 0:00:01\r\u001b[K     |███████████████████▏            | 122 kB 4.2 MB/s eta 0:00:01\r\u001b[K     |████████████████████▊           | 133 kB 4.2 MB/s eta 0:00:01\r\u001b[K     |██████████████████████▍         | 143 kB 4.2 MB/s eta 0:00:01\r\u001b[K     |████████████████████████        | 153 kB 4.2 MB/s eta 0:00:01\r\u001b[K     |█████████████████████████▌      | 163 kB 4.2 MB/s eta 0:00:01\r\u001b[K     |███████████████████████████▏    | 174 kB 4.2 MB/s eta 0:00:01\r\u001b[K     |████████████████████████████▊   | 184 kB 4.2 MB/s eta 0:00:01\r\u001b[K     |██████████████████████████████▍ | 194 kB 4.2 MB/s eta 0:00:01\r\u001b[K     |████████████████████████████████| 204 kB 4.2 MB/s eta 0:00:01\r\u001b[K     |████████████████████████████████| 205 kB 4.2 MB/s \n",
            "\u001b[?25hRequirement already satisfied: scikit-learn>=0.22.2 in /usr/local/lib/python3.7/dist-packages (from feature_engine) (1.0.2)\n",
            "Requirement already satisfied: pandas>=1.0.3 in /usr/local/lib/python3.7/dist-packages (from feature_engine) (1.3.5)\n",
            "Collecting statsmodels>=0.11.1\n",
            "  Downloading statsmodels-0.13.2-cp37-cp37m-manylinux_2_17_x86_64.manylinux2014_x86_64.whl (9.8 MB)\n",
            "\u001b[K     |████████████████████████████████| 9.8 MB 34.6 MB/s \n",
            "\u001b[?25hRequirement already satisfied: numpy>=1.18.2 in /usr/local/lib/python3.7/dist-packages (from feature_engine) (1.21.5)\n",
            "Requirement already satisfied: scipy>=1.4.1 in /usr/local/lib/python3.7/dist-packages (from feature_engine) (1.4.1)\n",
            "Requirement already satisfied: python-dateutil>=2.7.3 in /usr/local/lib/python3.7/dist-packages (from pandas>=1.0.3->feature_engine) (2.8.2)\n",
            "Requirement already satisfied: pytz>=2017.3 in /usr/local/lib/python3.7/dist-packages (from pandas>=1.0.3->feature_engine) (2018.9)\n",
            "Requirement already satisfied: six>=1.5 in /usr/local/lib/python3.7/dist-packages (from python-dateutil>=2.7.3->pandas>=1.0.3->feature_engine) (1.15.0)\n",
            "Requirement already satisfied: joblib>=0.11 in /usr/local/lib/python3.7/dist-packages (from scikit-learn>=0.22.2->feature_engine) (1.1.0)\n",
            "Requirement already satisfied: threadpoolctl>=2.0.0 in /usr/local/lib/python3.7/dist-packages (from scikit-learn>=0.22.2->feature_engine) (3.1.0)\n",
            "Requirement already satisfied: patsy>=0.5.2 in /usr/local/lib/python3.7/dist-packages (from statsmodels>=0.11.1->feature_engine) (0.5.2)\n",
            "Requirement already satisfied: packaging>=21.3 in /usr/local/lib/python3.7/dist-packages (from statsmodels>=0.11.1->feature_engine) (21.3)\n",
            "Requirement already satisfied: pyparsing!=3.0.5,>=2.0.2 in /usr/local/lib/python3.7/dist-packages (from packaging>=21.3->statsmodels>=0.11.1->feature_engine) (3.0.7)\n",
            "Installing collected packages: statsmodels, feature-engine\n",
            "  Attempting uninstall: statsmodels\n",
            "    Found existing installation: statsmodels 0.10.2\n",
            "    Uninstalling statsmodels-0.10.2:\n",
            "      Successfully uninstalled statsmodels-0.10.2\n",
            "Successfully installed feature-engine-1.2.0 statsmodels-0.13.2\n"
          ]
        }
      ]
    },
    {
      "cell_type": "code",
      "execution_count": 4,
      "metadata": {
        "id": "n5TzKU5-ZG0B"
      },
      "outputs": [],
      "source": [
        "import pandas as pd\n",
        "import numpy as np\n",
        "\n",
        "from sklearn.model_selection import train_test_split\n",
        "from sklearn.ensemble import RandomForestClassifier, RandomForestRegressor\n",
        "from sklearn.metrics import roc_auc_score, mean_squared_error, r2_score\n",
        "\n",
        "from feature_engine.selection import SelectByShuffling"
      ]
    },
    {
      "cell_type": "markdown",
      "metadata": {
        "id": "DwcxzER4ZG0B"
      },
      "source": [
        "## Classification"
      ]
    },
    {
      "cell_type": "code",
      "execution_count": 5,
      "metadata": {
        "id": "LXwLGCzuZG0C",
        "outputId": "09e16f7f-83e6-443a-d963-fb04dadf40df",
        "colab": {
          "base_uri": "https://localhost:8080/"
        }
      },
      "outputs": [
        {
          "output_type": "execute_result",
          "data": {
            "text/plain": [
              "(50000, 109)"
            ]
          },
          "metadata": {},
          "execution_count": 5
        }
      ],
      "source": [
        "# load dataset\n",
        "data = pd.read_csv('https://raw.githubusercontent.com/Venkatpandey/DataScience_ML/main/dataset/dataset_2.csv')\n",
        "data.shape"
      ]
    },
    {
      "cell_type": "code",
      "execution_count": 6,
      "metadata": {
        "id": "an8kxJIBZG0C",
        "outputId": "898144d7-122b-4453-a939-6d9d951c7f13",
        "colab": {
          "base_uri": "https://localhost:8080/",
          "height": 299
        }
      },
      "outputs": [
        {
          "output_type": "execute_result",
          "data": {
            "text/plain": [
              "      var_1      var_2      var_3     var_4     var_5     var_6     var_7  \\\n",
              "0  4.532710   3.280834  17.982476  4.404259  2.349910  0.603264  2.784655   \n",
              "1  5.821374  12.098722  13.309151  4.125599  1.045386  1.832035  1.833494   \n",
              "2  1.938776   7.952752   0.972671  3.459267  1.935782  0.621463  2.338139   \n",
              "3  6.020690   9.900544  17.869637  4.366715  1.973693  2.026012  2.853025   \n",
              "4  3.909506  10.576516   0.934191  3.419572  1.871438  3.340811  1.868282   \n",
              "\n",
              "      var_8      var_9     var_10  ...   var_100   var_101   var_102  \\\n",
              "0  0.323146  12.009691   0.139346  ...  2.079066  6.748819  2.941445   \n",
              "1  0.709090   8.652883   0.102757  ...  2.479789  7.795290  3.557890   \n",
              "2  0.344948   9.937850  11.691283  ...  1.861487  6.130886  3.401064   \n",
              "3  0.674847  11.816859   0.011151  ...  1.340944  7.240058  2.417235   \n",
              "4  0.439865  13.585620   1.153366  ...  2.738095  6.565509  4.341414   \n",
              "\n",
              "     var_103    var_104   var_105   var_106   var_107   var_108   var_109  \n",
              "0  18.360496  17.726613  7.774031  1.473441  1.973832  0.976806  2.541417  \n",
              "1  17.383378  15.193423  8.263673  1.878108  0.567939  1.018818  1.416433  \n",
              "2  15.850471  14.620599  6.849776  1.098210  1.959183  1.575493  1.857893  \n",
              "3  15.194609  13.553772  7.229971  0.835158  2.234482  0.946170  2.700606  \n",
              "4  15.893832  11.929787  6.954033  1.853364  0.511027  2.599562  0.811364  \n",
              "\n",
              "[5 rows x 109 columns]"
            ],
            "text/html": [
              "\n",
              "  <div id=\"df-ea982219-9f08-424f-8716-e2dced5d67df\">\n",
              "    <div class=\"colab-df-container\">\n",
              "      <div>\n",
              "<style scoped>\n",
              "    .dataframe tbody tr th:only-of-type {\n",
              "        vertical-align: middle;\n",
              "    }\n",
              "\n",
              "    .dataframe tbody tr th {\n",
              "        vertical-align: top;\n",
              "    }\n",
              "\n",
              "    .dataframe thead th {\n",
              "        text-align: right;\n",
              "    }\n",
              "</style>\n",
              "<table border=\"1\" class=\"dataframe\">\n",
              "  <thead>\n",
              "    <tr style=\"text-align: right;\">\n",
              "      <th></th>\n",
              "      <th>var_1</th>\n",
              "      <th>var_2</th>\n",
              "      <th>var_3</th>\n",
              "      <th>var_4</th>\n",
              "      <th>var_5</th>\n",
              "      <th>var_6</th>\n",
              "      <th>var_7</th>\n",
              "      <th>var_8</th>\n",
              "      <th>var_9</th>\n",
              "      <th>var_10</th>\n",
              "      <th>...</th>\n",
              "      <th>var_100</th>\n",
              "      <th>var_101</th>\n",
              "      <th>var_102</th>\n",
              "      <th>var_103</th>\n",
              "      <th>var_104</th>\n",
              "      <th>var_105</th>\n",
              "      <th>var_106</th>\n",
              "      <th>var_107</th>\n",
              "      <th>var_108</th>\n",
              "      <th>var_109</th>\n",
              "    </tr>\n",
              "  </thead>\n",
              "  <tbody>\n",
              "    <tr>\n",
              "      <th>0</th>\n",
              "      <td>4.532710</td>\n",
              "      <td>3.280834</td>\n",
              "      <td>17.982476</td>\n",
              "      <td>4.404259</td>\n",
              "      <td>2.349910</td>\n",
              "      <td>0.603264</td>\n",
              "      <td>2.784655</td>\n",
              "      <td>0.323146</td>\n",
              "      <td>12.009691</td>\n",
              "      <td>0.139346</td>\n",
              "      <td>...</td>\n",
              "      <td>2.079066</td>\n",
              "      <td>6.748819</td>\n",
              "      <td>2.941445</td>\n",
              "      <td>18.360496</td>\n",
              "      <td>17.726613</td>\n",
              "      <td>7.774031</td>\n",
              "      <td>1.473441</td>\n",
              "      <td>1.973832</td>\n",
              "      <td>0.976806</td>\n",
              "      <td>2.541417</td>\n",
              "    </tr>\n",
              "    <tr>\n",
              "      <th>1</th>\n",
              "      <td>5.821374</td>\n",
              "      <td>12.098722</td>\n",
              "      <td>13.309151</td>\n",
              "      <td>4.125599</td>\n",
              "      <td>1.045386</td>\n",
              "      <td>1.832035</td>\n",
              "      <td>1.833494</td>\n",
              "      <td>0.709090</td>\n",
              "      <td>8.652883</td>\n",
              "      <td>0.102757</td>\n",
              "      <td>...</td>\n",
              "      <td>2.479789</td>\n",
              "      <td>7.795290</td>\n",
              "      <td>3.557890</td>\n",
              "      <td>17.383378</td>\n",
              "      <td>15.193423</td>\n",
              "      <td>8.263673</td>\n",
              "      <td>1.878108</td>\n",
              "      <td>0.567939</td>\n",
              "      <td>1.018818</td>\n",
              "      <td>1.416433</td>\n",
              "    </tr>\n",
              "    <tr>\n",
              "      <th>2</th>\n",
              "      <td>1.938776</td>\n",
              "      <td>7.952752</td>\n",
              "      <td>0.972671</td>\n",
              "      <td>3.459267</td>\n",
              "      <td>1.935782</td>\n",
              "      <td>0.621463</td>\n",
              "      <td>2.338139</td>\n",
              "      <td>0.344948</td>\n",
              "      <td>9.937850</td>\n",
              "      <td>11.691283</td>\n",
              "      <td>...</td>\n",
              "      <td>1.861487</td>\n",
              "      <td>6.130886</td>\n",
              "      <td>3.401064</td>\n",
              "      <td>15.850471</td>\n",
              "      <td>14.620599</td>\n",
              "      <td>6.849776</td>\n",
              "      <td>1.098210</td>\n",
              "      <td>1.959183</td>\n",
              "      <td>1.575493</td>\n",
              "      <td>1.857893</td>\n",
              "    </tr>\n",
              "    <tr>\n",
              "      <th>3</th>\n",
              "      <td>6.020690</td>\n",
              "      <td>9.900544</td>\n",
              "      <td>17.869637</td>\n",
              "      <td>4.366715</td>\n",
              "      <td>1.973693</td>\n",
              "      <td>2.026012</td>\n",
              "      <td>2.853025</td>\n",
              "      <td>0.674847</td>\n",
              "      <td>11.816859</td>\n",
              "      <td>0.011151</td>\n",
              "      <td>...</td>\n",
              "      <td>1.340944</td>\n",
              "      <td>7.240058</td>\n",
              "      <td>2.417235</td>\n",
              "      <td>15.194609</td>\n",
              "      <td>13.553772</td>\n",
              "      <td>7.229971</td>\n",
              "      <td>0.835158</td>\n",
              "      <td>2.234482</td>\n",
              "      <td>0.946170</td>\n",
              "      <td>2.700606</td>\n",
              "    </tr>\n",
              "    <tr>\n",
              "      <th>4</th>\n",
              "      <td>3.909506</td>\n",
              "      <td>10.576516</td>\n",
              "      <td>0.934191</td>\n",
              "      <td>3.419572</td>\n",
              "      <td>1.871438</td>\n",
              "      <td>3.340811</td>\n",
              "      <td>1.868282</td>\n",
              "      <td>0.439865</td>\n",
              "      <td>13.585620</td>\n",
              "      <td>1.153366</td>\n",
              "      <td>...</td>\n",
              "      <td>2.738095</td>\n",
              "      <td>6.565509</td>\n",
              "      <td>4.341414</td>\n",
              "      <td>15.893832</td>\n",
              "      <td>11.929787</td>\n",
              "      <td>6.954033</td>\n",
              "      <td>1.853364</td>\n",
              "      <td>0.511027</td>\n",
              "      <td>2.599562</td>\n",
              "      <td>0.811364</td>\n",
              "    </tr>\n",
              "  </tbody>\n",
              "</table>\n",
              "<p>5 rows × 109 columns</p>\n",
              "</div>\n",
              "      <button class=\"colab-df-convert\" onclick=\"convertToInteractive('df-ea982219-9f08-424f-8716-e2dced5d67df')\"\n",
              "              title=\"Convert this dataframe to an interactive table.\"\n",
              "              style=\"display:none;\">\n",
              "        \n",
              "  <svg xmlns=\"http://www.w3.org/2000/svg\" height=\"24px\"viewBox=\"0 0 24 24\"\n",
              "       width=\"24px\">\n",
              "    <path d=\"M0 0h24v24H0V0z\" fill=\"none\"/>\n",
              "    <path d=\"M18.56 5.44l.94 2.06.94-2.06 2.06-.94-2.06-.94-.94-2.06-.94 2.06-2.06.94zm-11 1L8.5 8.5l.94-2.06 2.06-.94-2.06-.94L8.5 2.5l-.94 2.06-2.06.94zm10 10l.94 2.06.94-2.06 2.06-.94-2.06-.94-.94-2.06-.94 2.06-2.06.94z\"/><path d=\"M17.41 7.96l-1.37-1.37c-.4-.4-.92-.59-1.43-.59-.52 0-1.04.2-1.43.59L10.3 9.45l-7.72 7.72c-.78.78-.78 2.05 0 2.83L4 21.41c.39.39.9.59 1.41.59.51 0 1.02-.2 1.41-.59l7.78-7.78 2.81-2.81c.8-.78.8-2.07 0-2.86zM5.41 20L4 18.59l7.72-7.72 1.47 1.35L5.41 20z\"/>\n",
              "  </svg>\n",
              "      </button>\n",
              "      \n",
              "  <style>\n",
              "    .colab-df-container {\n",
              "      display:flex;\n",
              "      flex-wrap:wrap;\n",
              "      gap: 12px;\n",
              "    }\n",
              "\n",
              "    .colab-df-convert {\n",
              "      background-color: #E8F0FE;\n",
              "      border: none;\n",
              "      border-radius: 50%;\n",
              "      cursor: pointer;\n",
              "      display: none;\n",
              "      fill: #1967D2;\n",
              "      height: 32px;\n",
              "      padding: 0 0 0 0;\n",
              "      width: 32px;\n",
              "    }\n",
              "\n",
              "    .colab-df-convert:hover {\n",
              "      background-color: #E2EBFA;\n",
              "      box-shadow: 0px 1px 2px rgba(60, 64, 67, 0.3), 0px 1px 3px 1px rgba(60, 64, 67, 0.15);\n",
              "      fill: #174EA6;\n",
              "    }\n",
              "\n",
              "    [theme=dark] .colab-df-convert {\n",
              "      background-color: #3B4455;\n",
              "      fill: #D2E3FC;\n",
              "    }\n",
              "\n",
              "    [theme=dark] .colab-df-convert:hover {\n",
              "      background-color: #434B5C;\n",
              "      box-shadow: 0px 1px 3px 1px rgba(0, 0, 0, 0.15);\n",
              "      filter: drop-shadow(0px 1px 2px rgba(0, 0, 0, 0.3));\n",
              "      fill: #FFFFFF;\n",
              "    }\n",
              "  </style>\n",
              "\n",
              "      <script>\n",
              "        const buttonEl =\n",
              "          document.querySelector('#df-ea982219-9f08-424f-8716-e2dced5d67df button.colab-df-convert');\n",
              "        buttonEl.style.display =\n",
              "          google.colab.kernel.accessAllowed ? 'block' : 'none';\n",
              "\n",
              "        async function convertToInteractive(key) {\n",
              "          const element = document.querySelector('#df-ea982219-9f08-424f-8716-e2dced5d67df');\n",
              "          const dataTable =\n",
              "            await google.colab.kernel.invokeFunction('convertToInteractive',\n",
              "                                                     [key], {});\n",
              "          if (!dataTable) return;\n",
              "\n",
              "          const docLinkHtml = 'Like what you see? Visit the ' +\n",
              "            '<a target=\"_blank\" href=https://colab.research.google.com/notebooks/data_table.ipynb>data table notebook</a>'\n",
              "            + ' to learn more about interactive tables.';\n",
              "          element.innerHTML = '';\n",
              "          dataTable['output_type'] = 'display_data';\n",
              "          await google.colab.output.renderOutput(dataTable, element);\n",
              "          const docLink = document.createElement('div');\n",
              "          docLink.innerHTML = docLinkHtml;\n",
              "          element.appendChild(docLink);\n",
              "        }\n",
              "      </script>\n",
              "    </div>\n",
              "  </div>\n",
              "  "
            ]
          },
          "metadata": {},
          "execution_count": 6
        }
      ],
      "source": [
        "data.head()"
      ]
    },
    {
      "cell_type": "markdown",
      "metadata": {
        "id": "iTjR1MO1ZG0C"
      },
      "source": [
        "**Important**\n",
        "\n",
        "In all feature selection procedures, it is good practice to select the features by examining only the training set. And this is to avoid overfit."
      ]
    },
    {
      "cell_type": "code",
      "execution_count": 7,
      "metadata": {
        "id": "ab5RoqVuZG0D",
        "outputId": "f272eff1-db1e-40d9-bc73-4e2cff13f32c",
        "colab": {
          "base_uri": "https://localhost:8080/"
        }
      },
      "outputs": [
        {
          "output_type": "execute_result",
          "data": {
            "text/plain": [
              "((35000, 108), (15000, 108))"
            ]
          },
          "metadata": {},
          "execution_count": 7
        }
      ],
      "source": [
        "# separate train and test sets\n",
        "X_train, X_test, y_train, y_test = train_test_split(\n",
        "    data.drop(labels=['target'], axis=1),\n",
        "    data['target'],\n",
        "    test_size=0.3,\n",
        "    random_state=0)\n",
        "\n",
        "X_train.shape, X_test.shape"
      ]
    },
    {
      "cell_type": "markdown",
      "metadata": {
        "id": "P1UbfCovZG0D"
      },
      "source": [
        "### Set up Random Forests"
      ]
    },
    {
      "cell_type": "code",
      "execution_count": 8,
      "metadata": {
        "scrolled": true,
        "id": "dwm2vrBqZG0E"
      },
      "outputs": [],
      "source": [
        "# We will use Random Forests, but remember that \n",
        "# you can use this procedure with any machine learning algorithm\n",
        "\n",
        "rf = RandomForestClassifier(\n",
        "    n_estimators=50, max_depth=2, random_state=2909, n_jobs=4)"
      ]
    },
    {
      "cell_type": "markdown",
      "metadata": {
        "id": "OGOe1DSOZG0E"
      },
      "source": [
        "### Set up Shuffle features Selector"
      ]
    },
    {
      "cell_type": "code",
      "execution_count": 9,
      "metadata": {
        "id": "U4OnljJRZG0E",
        "outputId": "bb7bdabe-4f3a-42f0-e6b7-2d853f2b87e3",
        "colab": {
          "base_uri": "https://localhost:8080/"
        }
      },
      "outputs": [
        {
          "output_type": "execute_result",
          "data": {
            "text/plain": [
              "SelectByShuffling(estimator=RandomForestClassifier(max_depth=2, n_estimators=50,\n",
              "                                                   n_jobs=4,\n",
              "                                                   random_state=2909),\n",
              "                  random_state=1, threshold=0)"
            ]
          },
          "metadata": {},
          "execution_count": 9
        }
      ],
      "source": [
        "sel = SelectByShuffling(\n",
        "    variables=None, # automatically examine all numerical variables\n",
        "    estimator=rf, # the ML model\n",
        "    scoring='roc_auc', # the metric to evaluate\n",
        "    threshold=0,# the maximum performance drop allowed to select the feature\n",
        "    cv=3, # cross validation\n",
        "    random_state=1 # seed\n",
        ")\n",
        "\n",
        "sel.fit(X_train, y_train)"
      ]
    },
    {
      "cell_type": "code",
      "execution_count": 10,
      "metadata": {
        "id": "_gbWLn3wZG0F",
        "outputId": "992f75ca-d1f1-49c9-b894-3f71244ac186",
        "colab": {
          "base_uri": "https://localhost:8080/"
        }
      },
      "outputs": [
        {
          "output_type": "execute_result",
          "data": {
            "text/plain": [
              "0.6854579498672484"
            ]
          },
          "metadata": {},
          "execution_count": 10
        }
      ],
      "source": [
        "# performance of model trained with all features\n",
        "\n",
        "sel.initial_model_performance_"
      ]
    },
    {
      "cell_type": "code",
      "execution_count": 11,
      "metadata": {
        "id": "1T86jdAIZG0F",
        "outputId": "00cabaae-99c3-492a-a084-0aadd91e5c0c",
        "colab": {
          "base_uri": "https://localhost:8080/"
        }
      },
      "outputs": [
        {
          "output_type": "execute_result",
          "data": {
            "text/plain": [
              "{'var_1': -0.0057691905141851185,\n",
              " 'var_10': -0.0057404403919636415,\n",
              " 'var_100': -0.005757216477402349,\n",
              " 'var_101': -0.005770072874708654,\n",
              " 'var_102': -0.005780605023539054,\n",
              " 'var_103': -0.0057691905141851185,\n",
              " 'var_104': -0.005839758383156646,\n",
              " 'var_105': -0.0057691905141851185,\n",
              " 'var_106': -0.005677747852826598,\n",
              " 'var_107': -0.0057691905141851185,\n",
              " 'var_108': 0.001495311390744991,\n",
              " 'var_109': -0.005886374433399233,\n",
              " 'var_11': -0.005738781284527428,\n",
              " 'var_12': -0.0057691905141851185,\n",
              " 'var_13': -0.005820731454446726,\n",
              " 'var_14': -0.005723173690104666,\n",
              " 'var_15': -0.0057691905141851185,\n",
              " 'var_16': 0.008153378442915304,\n",
              " 'var_17': -0.005829992494781,\n",
              " 'var_18': -0.0057691905141851185,\n",
              " 'var_19': -0.005822129898502393,\n",
              " 'var_2': -0.005846604542057876,\n",
              " 'var_20': -0.0057691905141851185,\n",
              " 'var_21': -0.0056212011270138085,\n",
              " 'var_22': -0.005787500618598673,\n",
              " 'var_23': -0.0057691905141851185,\n",
              " 'var_24': -0.005764745005095495,\n",
              " 'var_25': -0.0057691905141851185,\n",
              " 'var_26': -0.005761978827325209,\n",
              " 'var_27': -0.0057691905141851185,\n",
              " 'var_28': -0.0057691905141851185,\n",
              " 'var_29': -0.005736060048719183,\n",
              " 'var_3': -0.0057691905141851185,\n",
              " 'var_30': -0.007265267986469759,\n",
              " 'var_31': -0.005772075039122804,\n",
              " 'var_32': -0.00573136511173955,\n",
              " 'var_33': -0.0057691905141851185,\n",
              " 'var_34': -0.005034650845407995,\n",
              " 'var_35': -0.0057691905141851185,\n",
              " 'var_36': -0.0057691905141851185,\n",
              " 'var_37': -0.005795821622891162,\n",
              " 'var_38': -0.005495198845792637,\n",
              " 'var_39': -0.005772841299577336,\n",
              " 'var_4': -0.0057691905141851185,\n",
              " 'var_40': -0.005750007037640503,\n",
              " 'var_41': -0.0057238560588966925,\n",
              " 'var_42': -0.0057691905141851185,\n",
              " 'var_43': -0.005767883452119094,\n",
              " 'var_44': -0.0057691905141851185,\n",
              " 'var_45': -0.005805659418406273,\n",
              " 'var_46': -0.0057592508502223305,\n",
              " 'var_47': -0.0057691905141851185,\n",
              " 'var_48': -0.0037304748024810097,\n",
              " 'var_49': -0.005753586664925869,\n",
              " 'var_5': -0.005734970955169616,\n",
              " 'var_50': -0.005767463993805788,\n",
              " 'var_51': -0.005776269622256858,\n",
              " 'var_52': -0.005747732225322877,\n",
              " 'var_53': -0.0057691905141851185,\n",
              " 'var_54': -0.0057691905141851185,\n",
              " 'var_55': 0.06955572822471756,\n",
              " 'var_56': -0.0059461270191789595,\n",
              " 'var_57': -0.005934381437370351,\n",
              " 'var_58': -0.005602124013112775,\n",
              " 'var_59': -0.0057691905141851185,\n",
              " 'var_6': -0.0057704975762510324,\n",
              " 'var_60': -0.005715560521716179,\n",
              " 'var_62': -0.0057691905141851185,\n",
              " 'var_63': -0.0057925333693270575,\n",
              " 'var_64': -0.005911668518731261,\n",
              " 'var_65': -0.0057691905141851185,\n",
              " 'var_66': -0.0057678033056199896,\n",
              " 'var_67': -0.0057691905141851185,\n",
              " 'var_68': -0.005795462087193948,\n",
              " 'var_69': 0.004478265966628925,\n",
              " 'var_7': -0.005674453607000807,\n",
              " 'var_70': -0.001962902187801596,\n",
              " 'var_71': -0.005721790975735885,\n",
              " 'var_72': -0.005697405467071981,\n",
              " 'var_73': -0.0057691905141851185,\n",
              " 'var_74': -0.005786967307314428,\n",
              " 'var_75': -0.005741721237884967,\n",
              " 'var_76': -0.005771699773738703,\n",
              " 'var_77': -0.0057691905141851185,\n",
              " 'var_78': -0.0057691905141851185,\n",
              " 'var_79': -0.005650984165332051,\n",
              " 'var_8': -0.0057691905141851185,\n",
              " 'var_80': -0.005741335486043275,\n",
              " 'var_81': -0.0057691905141851185,\n",
              " 'var_82': -0.0057691905141851185,\n",
              " 'var_83': -0.005752759732822299,\n",
              " 'var_84': -0.005880316256900997,\n",
              " 'var_85': -0.0057691905141851185,\n",
              " 'var_86': -0.005725360865596052,\n",
              " 'var_87': -0.005718122213558718,\n",
              " 'var_88': -0.004862708890474798,\n",
              " 'var_89': -0.00574249723576481,\n",
              " 'var_9': -0.0057691905141851185,\n",
              " 'var_90': -0.0057385797947304695,\n",
              " 'var_91': -0.003901053517895492,\n",
              " 'var_92': -0.005685208218543791,\n",
              " 'var_93': -0.0057691905141851185,\n",
              " 'var_94': -0.005754441311239478,\n",
              " 'var_95': -0.0057691905141851185,\n",
              " 'var_96': -0.005851017842741335,\n",
              " 'var_97': -0.0057691905141851185,\n",
              " 'var_98': -0.005659833986712659,\n",
              " 'var_99': -0.005779733149473443}"
            ]
          },
          "metadata": {},
          "execution_count": 11
        }
      ],
      "source": [
        "# drop in performance caused by shuffling the feature\n",
        "\n",
        "sel.performance_drifts_"
      ]
    },
    {
      "cell_type": "code",
      "execution_count": 12,
      "metadata": {
        "id": "LRynD57lZG0F",
        "outputId": "07df266d-3919-4ec8-d787-59d31dff2a94",
        "colab": {
          "base_uri": "https://localhost:8080/",
          "height": 283
        }
      },
      "outputs": [
        {
          "output_type": "execute_result",
          "data": {
            "text/plain": [
              "<matplotlib.axes._subplots.AxesSubplot at 0x7f4da347ecd0>"
            ]
          },
          "metadata": {},
          "execution_count": 12
        },
        {
          "output_type": "display_data",
          "data": {
            "text/plain": [
              "<Figure size 432x288 with 1 Axes>"
            ],
            "image/png": "[encoded data removed]"
          },
          "metadata": {
            "needs_background": "light"
          }
        }
      ],
      "source": [
        "# histogram of the performance drops\n",
        "\n",
        "pd.Series(sel.performance_drifts_).hist(bins=50)"
      ]
    },
    {
      "cell_type": "code",
      "execution_count": 13,
      "metadata": {
        "id": "1i7YQeqMZG0F",
        "outputId": "ab67377c-a1dd-4441-c77a-da9f9c42fe36",
        "colab": {
          "base_uri": "https://localhost:8080/",
          "height": 368
        }
      },
      "outputs": [
        {
          "output_type": "execute_result",
          "data": {
            "text/plain": [
              "<matplotlib.axes._subplots.AxesSubplot at 0x7f4da3348b50>"
            ]
          },
          "metadata": {},
          "execution_count": 13
        },
        {
          "output_type": "display_data",
          "data": {
            "text/plain": [
              "<Figure size 1296x360 with 1 Axes>"
            ],
            "image/png": "[encoded data removed]"
          },
          "metadata": {
            "needs_background": "light"
          }
        }
      ],
      "source": [
        "# bar plot of the performance drops\n",
        "\n",
        "pd.Series(sel.performance_drifts_).sort_values(ascending=False).plot.bar(figsize=(18,5))"
      ]
    },
    {
      "cell_type": "code",
      "execution_count": 14,
      "metadata": {
        "id": "fC42GHMmZG0G",
        "outputId": "48f8db85-2a03-4183-98af-73185ddc378b",
        "colab": {
          "base_uri": "https://localhost:8080/"
        }
      },
      "outputs": [
        {
          "output_type": "execute_result",
          "data": {
            "text/plain": [
              "101"
            ]
          },
          "metadata": {},
          "execution_count": 14
        }
      ],
      "source": [
        "# features that will be removed\n",
        "\n",
        "len(sel.features_to_drop_)"
      ]
    },
    {
      "cell_type": "code",
      "execution_count": 15,
      "metadata": {
        "id": "qLAhXCyeZG0G",
        "outputId": "96b5c57b-3d7f-4cff-fdc1-b0f86f2b1fd3",
        "colab": {
          "base_uri": "https://localhost:8080/"
        }
      },
      "outputs": [
        {
          "output_type": "execute_result",
          "data": {
            "text/plain": [
              "((35000, 7), (15000, 7))"
            ]
          },
          "metadata": {},
          "execution_count": 15
        }
      ],
      "source": [
        "# remove features\n",
        "\n",
        "X_train = sel.transform(X_train)\n",
        "X_test = sel.transform(X_test)\n",
        "\n",
        "X_train.shape, X_test.shape"
      ]
    },
    {
      "cell_type": "code",
      "execution_count": 16,
      "metadata": {
        "id": "V5WfS2YNZG0G",
        "outputId": "0c621d8c-3775-492b-871e-a2ffc4c56dab",
        "colab": {
          "base_uri": "https://localhost:8080/"
        }
      },
      "outputs": [
        {
          "output_type": "stream",
          "name": "stdout",
          "text": [
            "train auc score:  0.7010001123593995\n",
            "test auc score:  0.6953477325844082\n"
          ]
        }
      ],
      "source": [
        "# Now let's build a random forests only with the selected features\n",
        "\n",
        "rf.fit(X_train, y_train)\n",
        "\n",
        "# print roc-auc in train and testing sets\n",
        "print(\n",
        "    'train auc score: ',\n",
        "    roc_auc_score(y_train, (rf.predict_proba(X_train))[:,1]))\n",
        "print(\n",
        "    'test auc score: ',\n",
        "    roc_auc_score(y_test, (rf.predict_proba(X_test))[:, 1]))"
      ]
    },
    {
      "cell_type": "markdown",
      "metadata": {
        "id": "C8HPBdCoZG0G"
      },
      "source": [
        "As you can see, the random forests with the selected features show a similar performance (or even slightly higher) to the random forests built using all of the features. And it provides a simpler, faster and more reliable model."
      ]
    },
    {
      "cell_type": "markdown",
      "metadata": {
        "id": "ZLi3D8y6ZG0H"
      },
      "source": [
        "## Regression"
      ]
    },
    {
      "cell_type": "code",
      "execution_count": 17,
      "metadata": {
        "id": "O22Uw-odZG0H",
        "outputId": "a485a480-744f-4cb6-b08c-b6f372f38e8d",
        "colab": {
          "base_uri": "https://localhost:8080/"
        }
      },
      "outputs": [
        {
          "output_type": "execute_result",
          "data": {
            "text/plain": [
              "(1460, 81)"
            ]
          },
          "metadata": {},
          "execution_count": 17
        }
      ],
      "source": [
        "# load dataset\n",
        "\n",
        "data = pd.read_csv('https://raw.githubusercontent.com/Venkatpandey/DataScience_ML/main/dataset/houseprice.csv')\n",
        "data.shape"
      ]
    },
    {
      "cell_type": "code",
      "execution_count": 18,
      "metadata": {
        "id": "mwK0s6V_ZG0H",
        "outputId": "c5c290b1-3424-4d9d-b522-e84eeafefedb",
        "colab": {
          "base_uri": "https://localhost:8080/"
        }
      },
      "outputs": [
        {
          "output_type": "execute_result",
          "data": {
            "text/plain": [
              "(1460, 38)"
            ]
          },
          "metadata": {},
          "execution_count": 18
        }
      ],
      "source": [
        "# here for simplicity I will use only numerical variables\n",
        "# select numerical columns:\n",
        "\n",
        "numerics = ['int16', 'int32', 'int64', 'float16', 'float32', 'float64']\n",
        "numerical_vars = list(data.select_dtypes(include=numerics).columns)\n",
        "data = data[numerical_vars]\n",
        "data.shape"
      ]
    },
    {
      "cell_type": "code",
      "execution_count": 19,
      "metadata": {
        "id": "9yZouhKSZG0H",
        "outputId": "fc534842-3fa6-44ed-843d-4bdb1501e2cd",
        "colab": {
          "base_uri": "https://localhost:8080/"
        }
      },
      "outputs": [
        {
          "output_type": "execute_result",
          "data": {
            "text/plain": [
              "((1022, 36), (438, 36))"
            ]
          },
          "metadata": {},
          "execution_count": 19
        }
      ],
      "source": [
        "# separate train and test sets\n",
        "X_train, X_test, y_train, y_test = train_test_split(\n",
        "    data.drop(labels=['Id', 'SalePrice'], axis=1),\n",
        "    data['SalePrice'],\n",
        "    test_size=0.3,\n",
        "    random_state=0)\n",
        "\n",
        "X_train.shape, X_test.shape"
      ]
    },
    {
      "cell_type": "code",
      "execution_count": 20,
      "metadata": {
        "id": "qAO_Ig1OZG0H"
      },
      "outputs": [],
      "source": [
        "# fill missing values\n",
        "\n",
        "X_train = X_train.fillna(0)\n",
        "X_test = X_test.fillna(0)"
      ]
    },
    {
      "cell_type": "markdown",
      "metadata": {
        "id": "xNF4r1GEZG0H"
      },
      "source": [
        "### Train ML algo with all features"
      ]
    },
    {
      "cell_type": "code",
      "execution_count": 21,
      "metadata": {
        "scrolled": true,
        "id": "SVwGA-gHZG0H"
      },
      "outputs": [],
      "source": [
        "# In this case, I will build Random Forests, but remember that\n",
        "# you can use this procedure for any machine learning algorithm\n",
        "\n",
        "# I build few and shallow trees to avoid overfitting\n",
        "rf = RandomForestRegressor(n_estimators=100,\n",
        "                           max_depth=3,\n",
        "                           random_state=2909,\n",
        "                           n_jobs=4)\n"
      ]
    },
    {
      "cell_type": "markdown",
      "metadata": {
        "id": "-OQLAH8_ZG0I"
      },
      "source": [
        "### Shuffle features and asses performance drift"
      ]
    },
    {
      "cell_type": "code",
      "execution_count": 22,
      "metadata": {
        "id": "xJf4OVGGZG0I",
        "outputId": "4cbce515-dc86-45f8-9cbc-cf1814bc9eb0",
        "colab": {
          "base_uri": "https://localhost:8080/"
        }
      },
      "outputs": [
        {
          "output_type": "execute_result",
          "data": {
            "text/plain": [
              "SelectByShuffling(estimator=RandomForestRegressor(max_depth=3, n_jobs=4,\n",
              "                                                  random_state=2909),\n",
              "                  random_state=1, scoring='neg_root_mean_squared_error')"
            ]
          },
          "metadata": {},
          "execution_count": 22
        }
      ],
      "source": [
        "sel = SelectByShuffling(\n",
        "    variables=None, # automatically examines all numerical variables\n",
        "    estimator=rf, # the estimator\n",
        "    scoring='neg_root_mean_squared_error', # the performance metric\n",
        "    threshold=None, # threshold will be mean value of metric accross features\n",
        "    cv=3,#  cross validation\n",
        "    random_state=1 # seed\n",
        ")\n",
        "\n",
        "sel.fit(X_train, y_train)"
      ]
    },
    {
      "cell_type": "code",
      "execution_count": 23,
      "metadata": {
        "scrolled": true,
        "id": "4MzK3iH2ZG0I",
        "outputId": "b9926a3f-3b42-4f46-df21-db380a184dfd",
        "colab": {
          "base_uri": "https://localhost:8080/"
        }
      },
      "outputs": [
        {
          "output_type": "execute_result",
          "data": {
            "text/plain": [
              "-37824.88457786946"
            ]
          },
          "metadata": {},
          "execution_count": 23
        }
      ],
      "source": [
        "# performance of model trained using all features\n",
        "\n",
        "sel.initial_model_performance_"
      ]
    },
    {
      "cell_type": "code",
      "execution_count": 24,
      "metadata": {
        "id": "m95olSDTZG0I",
        "outputId": "9d6a8dc6-4a10-43bd-d544-a4fb7a091b0d",
        "colab": {
          "base_uri": "https://localhost:8080/",
          "height": 403
        }
      },
      "outputs": [
        {
          "output_type": "execute_result",
          "data": {
            "text/plain": [
              "<matplotlib.axes._subplots.AxesSubplot at 0x7f4da1b5fa90>"
            ]
          },
          "metadata": {},
          "execution_count": 24
        },
        {
          "output_type": "display_data",
          "data": {
            "text/plain": [
              "<Figure size 1296x360 with 1 Axes>"
            ],
            "image/png": "[encoded data removed]"
          },
          "metadata": {
            "needs_background": "light"
          }
        }
      ],
      "source": [
        "# performance drifts\n",
        "\n",
        "pd.Series(sel.performance_drifts_).sort_values(ascending=False).plot.bar(figsize=(18,5))"
      ]
    },
    {
      "cell_type": "code",
      "execution_count": 25,
      "metadata": {
        "id": "nkJGnplYZG0I",
        "outputId": "2cf572f1-1097-42b9-e162-df9e49c85140",
        "colab": {
          "base_uri": "https://localhost:8080/"
        }
      },
      "outputs": [
        {
          "output_type": "execute_result",
          "data": {
            "text/plain": [
              "['MSSubClass',\n",
              " 'LotFrontage',\n",
              " 'LotArea',\n",
              " 'OverallCond',\n",
              " 'YearBuilt',\n",
              " 'YearRemodAdd',\n",
              " 'MasVnrArea',\n",
              " 'BsmtFinSF1',\n",
              " 'BsmtFinSF2',\n",
              " 'BsmtUnfSF',\n",
              " '2ndFlrSF',\n",
              " 'LowQualFinSF',\n",
              " 'BsmtFullBath',\n",
              " 'BsmtHalfBath',\n",
              " 'FullBath',\n",
              " 'HalfBath',\n",
              " 'BedroomAbvGr',\n",
              " 'KitchenAbvGr',\n",
              " 'TotRmsAbvGrd',\n",
              " 'Fireplaces',\n",
              " 'GarageYrBlt',\n",
              " 'GarageCars',\n",
              " 'GarageArea',\n",
              " 'WoodDeckSF',\n",
              " 'OpenPorchSF',\n",
              " 'EnclosedPorch',\n",
              " '3SsnPorch',\n",
              " 'ScreenPorch',\n",
              " 'PoolArea',\n",
              " 'MiscVal',\n",
              " 'MoSold',\n",
              " 'YrSold']"
            ]
          },
          "metadata": {},
          "execution_count": 25
        }
      ],
      "source": [
        "sel.features_to_drop_"
      ]
    },
    {
      "cell_type": "code",
      "execution_count": 26,
      "metadata": {
        "id": "Pl4mZ3L_ZG0I",
        "outputId": "0dfa82e1-38eb-42db-875b-2b0507b085ca",
        "colab": {
          "base_uri": "https://localhost:8080/"
        }
      },
      "outputs": [
        {
          "output_type": "execute_result",
          "data": {
            "text/plain": [
              "((1022, 4), (438, 4))"
            ]
          },
          "metadata": {},
          "execution_count": 26
        }
      ],
      "source": [
        "# select the features\n",
        "\n",
        "X_train = sel.transform(X_train)\n",
        "X_test = sel.transform(X_test)\n",
        "\n",
        "X_train.shape, X_test.shape"
      ]
    },
    {
      "cell_type": "code",
      "execution_count": 27,
      "metadata": {
        "id": "OLES0i_UZG0I",
        "outputId": "6fa12754-69f9-4689-dc79-3c335cd77e6a",
        "colab": {
          "base_uri": "https://localhost:8080/"
        }
      },
      "outputs": [
        {
          "output_type": "stream",
          "name": "stdout",
          "text": [
            "train rmse:  35958.5144285725\n",
            "train r2:  0.7880218953729026\n",
            "\n",
            "test rmse:  40006.14519421906\n",
            "test r2:  0.7642519264873466\n"
          ]
        }
      ],
      "source": [
        "# check model performance using only selected features\n",
        "rf.fit(X_train, y_train)\n",
        "\n",
        "# print performance metrics\n",
        "print('train rmse: ', mean_squared_error(y_train, rf.predict(X_train), squared=False))\n",
        "print('train r2: ', r2_score(y_train, (rf.predict(X_train))))\n",
        "print()\n",
        "print('test rmse: ', mean_squared_error(y_test, rf.predict(X_test), squared=False))\n",
        "print('test r2: ', r2_score(y_test, rf.predict(X_test)))"
      ]
    },
    {
      "cell_type": "markdown",
      "metadata": {
        "id": "QdUZH2lPZG0I"
      },
      "source": [
        "The model with less features shows similar performance to that with all features."
      ]
    },
    {
      "cell_type": "markdown",
      "metadata": {
        "id": "pvH4hzDlZG0I"
      },
      "source": [
        "That is all for this lecture, I hope you enjoyed it and see you in the next one!"
      ]
    }
  ],
  "metadata": {
    "kernelspec": {
      "display_name": "fengine",
      "language": "python",
      "name": "fengine"
    },
    "language_info": {
      "codemirror_mode": {
        "name": "ipython",
        "version": 3
      },
      "file_extension": ".py",
      "mimetype": "text/x-python",
      "name": "python",
      "nbconvert_exporter": "python",
      "pygments_lexer": "ipython3",
      "version": "3.8.2"
    },
    "toc": {
      "base_numbering": 1,
      "nav_menu": {},
      "number_sections": true,
      "sideBar": true,
      "skip_h1_title": false,
      "title_cell": "Table of Contents",
      "title_sidebar": "Contents",
      "toc_cell": false,
      "toc_position": {},
      "toc_section_display": "block",
      "toc_window_display": true
    },
    "colab": {
      "name": "11.4-Feature-shuffling-with-Feature-engine.ipynb",
      "provenance": [],
      "include_colab_link": true
    }
  },
  "nbformat": 4,
  "nbformat_minor": 0
}